{
 "cells": [
  {
   "cell_type": "code",
   "execution_count": 1,
   "id": "f7bf6e6e",
   "metadata": {},
   "outputs": [],
   "source": [
    "import numpy as np\n",
    "from scipy.stats import multivariate_normal, norm\n",
    "import matplotlib.pyplot as plt\n",
    "import seaborn as sns\n",
    "from sklearn.datasets import make_blobs\n",
    "from sklearn.mixture import GaussianMixture"
   ]
  },
  {
   "cell_type": "markdown",
   "id": "c8d4e2ea",
   "metadata": {},
   "source": [
    "## Helper Functions"
   ]
  },
  {
   "cell_type": "code",
   "execution_count": 2,
   "id": "048b19dc",
   "metadata": {},
   "outputs": [],
   "source": [
    "def initialize_parameters(X, K):\n",
    "    '''\n",
    "    X: input data\n",
    "    K: number of clusters\n",
    "    '''\n",
    "    N, D = X.shape\n",
    "    \n",
    "    # use some of the data points as mean -> random\n",
    "    # get K points from arange(N)\n",
    "    indices = np.random.choice(N, K, replace=False)\n",
    "    mu = X[indices]\n",
    "    sigma = [np.eye(D) for _ in range(K)]\n",
    "    pi = np.ones(K) / K\n",
    "    \n",
    "    return mu, sigma, pi"
   ]
  },
  {
   "cell_type": "code",
   "execution_count": 12,
   "id": "04918eab",
   "metadata": {},
   "outputs": [],
   "source": [
    "def e_step(X, mu, sigma, pi):\n",
    "    N = X.shape[0]\n",
    "    K = len(mu)\n",
    "    gamma = np.zeros((N, K))\n",
    "    \n",
    "    for i in range(K):\n",
    "        gamma[:,i] = pi[i] * multivariate_normal.pdf(X, mean=mu[i], cov=sigma[i])\n",
    "        \n",
    "    gamma /= gamma.sum(axis=1, keepdims=True)\n",
    "    \n",
    "    return gamma"
   ]
  },
  {
   "cell_type": "code",
   "execution_count": 4,
   "id": "a6159e56",
   "metadata": {},
   "outputs": [],
   "source": [
    "def m_step(X, gamma):\n",
    "    N, D = X.shape\n",
    "    K = gamma.shape[1]\n",
    "    N_i = gamma.sum(axis=0)\n",
    "    \n",
    "    mu = np.array([np.sum(gamma[:,i][:,np.newaxis] * X, axis=0) / N_i[i] for i in range(K)])\n",
    "    \n",
    "    sigma = []\n",
    "    for i in range(K):\n",
    "        diff = X - mu[i]\n",
    "        cov_i = (gamma[:,i][:,np.newaxis] * diff).T @ diff/N_i[i]\n",
    "        sigma.append(cov_i)\n",
    "        \n",
    "    pi = N_i/N\n",
    "    \n",
    "    return mu, sigma, pi"
   ]
  },
  {
   "cell_type": "code",
   "execution_count": 5,
   "id": "7716db7b",
   "metadata": {},
   "outputs": [],
   "source": [
    "def compute_log_likelihood(X, mu, sigma, pi):\n",
    "    N = X.shape[0]\n",
    "    log_likelihood = 0\n",
    "    \n",
    "    for n in range(N):\n",
    "        tmp = 0\n",
    "        \n",
    "        for i in range(len(mu)):\n",
    "            tmp += pi[i] * multivariate_normal.pdf(X[n], mean=mu[i], cov=sigma[i])\n",
    "            \n",
    "        log_likelihood += np.log(tmp)\n",
    "        \n",
    "    return log_likelihood"
   ]
  },
  {
   "cell_type": "code",
   "execution_count": 14,
   "id": "5a6e9fb0",
   "metadata": {},
   "outputs": [],
   "source": [
    "def gmm_em(X, K, max_iters=100, tolerance=1e-4):\n",
    "    mu, sigma, pi = initialize_parameters(X, K)\n",
    "    log_likelihoods = []\n",
    "    \n",
    "    for i in range(max_iters):\n",
    "        gamma = e_step(X, mu, sigma, pi)\n",
    "        mu, sigma, pi = m_step(X, gamma)\n",
    "        log_likelihood = compute_log_likelihood(X, mu, sigma, pi)\n",
    "        log_likelihoods.append(log_likelihood)\n",
    "        \n",
    "        if i > 0 and abs(np.log(log_likelihoods[-1]) - np.log(log_likelihoods[-2])) < tolerance:\n",
    "            break\n",
    "            \n",
    "    return mu, sigma, pi, gamma, log_likelihoods"
   ]
  },
  {
   "cell_type": "markdown",
   "id": "e136e61c",
   "metadata": {},
   "source": [
    "## Generate 1D data"
   ]
  },
  {
   "cell_type": "code",
   "execution_count": 17,
   "id": "212dfbf5",
   "metadata": {},
   "outputs": [
    {
     "data": {
      "text/plain": [
       "array([[ 0.45841908],\n",
       "       [ 0.10372893],\n",
       "       [-0.18766722],\n",
       "       [-0.57195704],\n",
       "       [ 0.58046314],\n",
       "       [ 0.9465719 ],\n",
       "       [ 0.7023555 ],\n",
       "       [ 0.73342935],\n",
       "       [-0.31509541],\n",
       "       [-0.96447029],\n",
       "       [-0.62957461],\n",
       "       [ 0.97295402],\n",
       "       [-1.53383485],\n",
       "       [ 0.19819937],\n",
       "       [-0.13524738],\n",
       "       [-0.22832494],\n",
       "       [-1.92771857],\n",
       "       [-0.65057943],\n",
       "       [-0.49215479],\n",
       "       [ 0.27359276],\n",
       "       [-0.55944046],\n",
       "       [ 0.35025824],\n",
       "       [-1.08075704],\n",
       "       [ 1.10972839],\n",
       "       [ 0.53673386],\n",
       "       [-0.91099523],\n",
       "       [ 0.64565077],\n",
       "       [ 0.0841198 ],\n",
       "       [-0.62270074],\n",
       "       [ 1.03671108],\n",
       "       [-0.74627439],\n",
       "       [ 1.07215536],\n",
       "       [-0.88188979],\n",
       "       [-0.29553474],\n",
       "       [-0.2669077 ],\n",
       "       [ 0.38077105],\n",
       "       [ 1.22623148],\n",
       "       [ 1.08112262],\n",
       "       [-1.31832691],\n",
       "       [ 0.14906163],\n",
       "       [-1.66809707],\n",
       "       [-0.14419264],\n",
       "       [-1.04544983],\n",
       "       [ 0.55062634],\n",
       "       [-0.3808119 ],\n",
       "       [ 1.51708848],\n",
       "       [ 0.20384576],\n",
       "       [ 1.12733683],\n",
       "       [ 0.18299461],\n",
       "       [ 0.15220205],\n",
       "       [-0.11224602],\n",
       "       [-0.33992049],\n",
       "       [ 0.1205169 ],\n",
       "       [-0.43879413],\n",
       "       [-0.76784617],\n",
       "       [ 0.48884487],\n",
       "       [-0.37168533],\n",
       "       [ 0.14453378],\n",
       "       [-1.27653718],\n",
       "       [-0.54215446],\n",
       "       [ 0.22617549],\n",
       "       [ 0.57945139],\n",
       "       [ 0.01277505],\n",
       "       [-0.89868782],\n",
       "       [-0.24306355],\n",
       "       [ 0.41650245],\n",
       "       [ 1.51346551],\n",
       "       [-0.11127442],\n",
       "       [ 1.13478868],\n",
       "       [-0.34226264],\n",
       "       [ 1.62336112],\n",
       "       [-0.4300989 ],\n",
       "       [-0.48176264],\n",
       "       [ 1.82086469],\n",
       "       [ 0.52709892],\n",
       "       [ 1.03430019],\n",
       "       [ 0.21283094],\n",
       "       [ 0.0902714 ],\n",
       "       [-0.02068678],\n",
       "       [ 0.87421564],\n",
       "       [-1.49276543],\n",
       "       [-1.55983999],\n",
       "       [-1.33379964],\n",
       "       [-1.45382284],\n",
       "       [-1.01589138],\n",
       "       [-0.52922594],\n",
       "       [ 0.63870302],\n",
       "       [-1.26320363],\n",
       "       [ 1.23173147],\n",
       "       [-0.26731602],\n",
       "       [-0.25248199],\n",
       "       [ 0.18091162],\n",
       "       [-0.38310544],\n",
       "       [-0.48506274],\n",
       "       [ 0.2707313 ],\n",
       "       [-0.18369765],\n",
       "       [-0.17688308],\n",
       "       [-0.57980762],\n",
       "       [-0.60211088],\n",
       "       [ 2.26083884],\n",
       "       [ 5.44085076],\n",
       "       [ 5.03462592],\n",
       "       [ 2.96318997],\n",
       "       [ 5.98087738],\n",
       "       [ 5.24170591],\n",
       "       [ 5.24884852],\n",
       "       [ 4.40146222],\n",
       "       [ 6.35385149],\n",
       "       [ 4.00975461],\n",
       "       [ 4.45798991],\n",
       "       [ 6.46286337],\n",
       "       [ 6.32201888],\n",
       "       [ 4.11238973],\n",
       "       [ 4.68701663],\n",
       "       [ 5.1045548 ],\n",
       "       [ 5.69684541],\n",
       "       [ 4.45139175],\n",
       "       [ 5.37481931],\n",
       "       [ 5.09992275],\n",
       "       [ 5.18173735],\n",
       "       [ 5.88410823],\n",
       "       [ 5.54804728],\n",
       "       [ 5.59552279],\n",
       "       [ 6.41850685],\n",
       "       [ 5.20835184],\n",
       "       [ 5.23620896],\n",
       "       [ 2.26834217],\n",
       "       [ 5.81610045],\n",
       "       [ 4.49792698],\n",
       "       [ 4.08892014],\n",
       "       [ 3.71413241],\n",
       "       [ 4.63017529],\n",
       "       [ 4.9752664 ],\n",
       "       [ 5.81246093],\n",
       "       [ 5.51192895],\n",
       "       [ 5.34271518],\n",
       "       [ 4.66266678],\n",
       "       [ 5.58827786],\n",
       "       [ 5.79935926],\n",
       "       [ 3.94324206],\n",
       "       [ 7.00356431],\n",
       "       [ 5.60994015],\n",
       "       [ 7.01808953],\n",
       "       [ 4.1292618 ],\n",
       "       [ 6.19853917],\n",
       "       [ 4.07977012],\n",
       "       [ 5.38885942],\n",
       "       [ 3.94199655],\n",
       "       [ 4.21409488],\n",
       "       [ 3.86345953]])"
      ]
     },
     "execution_count": 17,
     "metadata": {},
     "output_type": "execute_result"
    }
   ],
   "source": [
    "x1 = np.random.normal(0, 1, 100)\n",
    "x2 = np.random.normal(5, 1, 50)\n",
    "X = np.concatenate([x1, x2]).reshape(-1,1)\n",
    "X"
   ]
  },
  {
   "cell_type": "code",
   "execution_count": 18,
   "id": "748d384d",
   "metadata": {},
   "outputs": [
    {
     "data": {
      "image/png": "[encoded data removed]",
      "text/plain": [
       "<Figure size 640x480 with 1 Axes>"
      ]
     },
     "metadata": {},
     "output_type": "display_data"
    }
   ],
   "source": [
    "plt.hist(X, density=True, alpha=0.5, label='Actual Data')\n",
    "plt.show()"
   ]
  },
  {
   "cell_type": "code",
   "execution_count": 19,
   "id": "19a0a40f",
   "metadata": {},
   "outputs": [
    {
     "data": {
      "text/plain": [
       "(array([[-0.29553474],\n",
       "        [-0.14419264]]),\n",
       " [array([[1.]]), array([[1.]])],\n",
       " array([0.5, 0.5]))"
      ]
     },
     "execution_count": 19,
     "metadata": {},
     "output_type": "execute_result"
    }
   ],
   "source": [
    "mu, sigma, pi = initialize_parameters(X, 2)\n",
    "mu, sigma, pi"
   ]
  },
  {
   "cell_type": "code",
   "execution_count": 20,
   "id": "8134c6d0",
   "metadata": {},
   "outputs": [
    {
     "data": {
      "text/plain": [
       "-894.2602070253367"
      ]
     },
     "execution_count": 20,
     "metadata": {},
     "output_type": "execute_result"
    }
   ],
   "source": [
    "compute_log_likelihood(X, mu, sigma, pi)"
   ]
  },
  {
   "cell_type": "markdown",
   "id": "e5626178",
   "metadata": {},
   "source": [
    "## Run GMM-EM on data"
   ]
  },
  {
   "cell_type": "code",
   "execution_count": 21,
   "id": "4e582aee",
   "metadata": {},
   "outputs": [
    {
     "name": "stderr",
     "output_type": "stream",
     "text": [
      "C:\\Users\\neilb\\AppData\\Local\\Temp\\ipykernel_49704\\2171921951.py:11: RuntimeWarning: invalid value encountered in log\n",
      "  if i > 0 and abs(np.log(log_likelihoods[-1]) - np.log(log_likelihoods[-2])) < tolerance:\n"
     ]
    },
    {
     "data": {
      "text/plain": [
       "(array([[-0.01632511],\n",
       "        [ 5.12175714]]),\n",
       " [array([[0.74259625]]), array([[0.8164166]])],\n",
       " array([0.67260087, 0.32739913]))"
      ]
     },
     "execution_count": 21,
     "metadata": {},
     "output_type": "execute_result"
    }
   ],
   "source": [
    "mu, sigma, pi, gamma, log_likelihoods = gmm_em(X, 2)\n",
    "mu, sigma, pi"
   ]
  },
  {
   "cell_type": "markdown",
   "id": "69270804",
   "metadata": {},
   "source": [
    "## Plot"
   ]
  },
  {
   "cell_type": "code",
   "execution_count": 22,
   "id": "e362f1ad",
   "metadata": {},
   "outputs": [
    {
     "data": {
      "image/png": "[encoded data removed]",
      "text/plain": [
       "<Figure size 640x480 with 1 Axes>"
      ]
     },
     "metadata": {},
     "output_type": "display_data"
    }
   ],
   "source": [
    "plt.hist(X, density=True, alpha=0.5, label='Actual Data')\n",
    "x_plot = np.linspace(-5, 10, 1000)\n",
    "\n",
    "for i in range(2):\n",
    "    plt.plot(x_plot, pi[i]*norm.pdf(x_plot, loc=mu[i][0], scale=np.sqrt(sigma[i][0,0])), label=f'Cluster {i+1}')\n",
    "    \n",
    "plt.legend()\n",
    "plt.show()"
   ]
  },
  {
   "cell_type": "markdown",
   "id": "cde8bec1",
   "metadata": {},
   "source": [
    "## Sklearn"
   ]
  },
  {
   "cell_type": "code",
   "execution_count": 23,
   "id": "6fd9e053",
   "metadata": {},
   "outputs": [
    {
     "data": {
      "text/plain": [
       "GaussianMixture(n_components=2)"
      ]
     },
     "execution_count": 23,
     "metadata": {},
     "output_type": "execute_result"
    }
   ],
   "source": [
    "gmm = GaussianMixture(n_components=2, covariance_type='full')\n",
    "gmm.fit(X)"
   ]
  },
  {
   "cell_type": "code",
   "execution_count": 24,
   "id": "54274955",
   "metadata": {},
   "outputs": [
    {
     "data": {
      "text/plain": [
       "array([[-0.01602576],\n",
       "       [ 5.12243195]])"
      ]
     },
     "execution_count": 24,
     "metadata": {},
     "output_type": "execute_result"
    }
   ],
   "source": [
    "estimated_means = gmm.means_\n",
    "estimated_means"
   ]
  },
  {
   "cell_type": "code",
   "execution_count": 25,
   "id": "ed3b2265",
   "metadata": {},
   "outputs": [
    {
     "data": {
      "text/plain": [
       "array([[[0.74325631]],\n",
       "\n",
       "       [[0.81477474]]])"
      ]
     },
     "execution_count": 25,
     "metadata": {},
     "output_type": "execute_result"
    }
   ],
   "source": [
    "estimated_vars = gmm.covariances_\n",
    "estimated_vars"
   ]
  },
  {
   "cell_type": "code",
   "execution_count": 26,
   "id": "afd5f5d4",
   "metadata": {},
   "outputs": [
    {
     "data": {
      "text/plain": [
       "array([0.67268305, 0.32731695])"
      ]
     },
     "execution_count": 26,
     "metadata": {},
     "output_type": "execute_result"
    }
   ],
   "source": [
    "estimated_weights = gmm.weights_\n",
    "estimated_weights"
   ]
  },
  {
   "cell_type": "code",
   "execution_count": null,
   "id": "8742765f",
   "metadata": {},
   "outputs": [],
   "source": []
  }
 ],
 "metadata": {
  "kernelspec": {
   "display_name": "Python 3 (ipykernel)",
   "language": "python",
   "name": "python3"
  },
  "language_info": {
   "codemirror_mode": {
    "name": "ipython",
    "version": 3
   },
   "file_extension": ".py",
   "mimetype": "text/x-python",
   "name": "python",
   "nbconvert_exporter": "python",
   "pygments_lexer": "ipython3",
   "version": "3.9.13"
  }
 },
 "nbformat": 4,
 "nbformat_minor": 5
}
