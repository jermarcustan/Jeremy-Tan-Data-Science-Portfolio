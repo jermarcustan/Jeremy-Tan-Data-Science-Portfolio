{
 "cells": [
  {
   "cell_type": "markdown",
   "id": "de83938e-d3ed-46af-94b6-348f9f2e6094",
   "metadata": {},
   "source": [
    "# We have three variables: weather, lateness, traffic\n",
    "\n",
    "weather = 0 good weather, 1 bad weather\n",
    "\n",
    "traffic = 0 light traffic, 1 heavy traffic\n",
    "\n",
    "lateness = 0 not late, 1 late\n",
    "\n",
    "Directed Acyclic Graph:\n",
    "\n",
    "Weather --> Traffic --> Lateness"
   ]
  },
  {
   "cell_type": "code",
   "execution_count": 6,
   "id": "aebe7b15-e9aa-489c-9091-a34a71b74b8c",
   "metadata": {},
   "outputs": [
    {
     "name": "stderr",
     "output_type": "stream",
     "text": [
      "UsageError: Line magic function `%%matplotlib` not found.\n"
     ]
    }
   ],
   "source": [
    "import networkx\n",
    "import numpy as np\n",
    "import pandas as pd\n",
    "\n",
    "from pgmpy.estimators import HillClimbSearch, BicScore\n",
    "from pgmpy.models import BayesianNetwork\n",
    "\n",
    "import networkx as nx\n",
    "import matplotlib.pyplot as plt\n"
   ]
  },
  {
   "cell_type": "code",
   "execution_count": 7,
   "id": "fe0a84af-b3e4-43d5-81e5-7d6916bc4f28",
   "metadata": {},
   "outputs": [],
   "source": [
    "df = pd.read_csv(\"data.csv\")"
   ]
  },
  {
   "cell_type": "code",
   "execution_count": 8,
   "id": "6d2f002c-2b13-4ee1-9d85-df50f9c7a555",
   "metadata": {},
   "outputs": [
    {
     "data": {
      "application/vnd.jupyter.widget-view+json": {
       "model_id": "eac6f22ea2b14143819fe44d62d2dd22",
       "version_major": 2,
       "version_minor": 0
      },
      "text/plain": [
       "  0%|          | 0/1000000 [00:00<?, ?it/s]"
      ]
     },
     "metadata": {},
     "output_type": "display_data"
    }
   ],
   "source": [
    "## Learn the structure of the Bayesian Network (output: edges)\n",
    "\n",
    "hc = HillClimbSearch(df) # initialization of the search process\n",
    "best_model = hc.estimate(scoring_method = BicScore(df)) \n",
    "\n",
    "'''\n",
    "1. Start with an empty graph\n",
    "2. Compute initial BIC (Bayesian Information Criterion)\n",
    "3. Add first edge\n",
    "- Say the first edge is W -> T, compute the BIC, if it improved, keep the edge, otherwise, remove the edge\n",
    "4. Continue edge modifications ( at each step, evaluate the BIC)\n",
    "5. Go through all possibilities of different edge combinations\n",
    "'''"
   ]
  },
  {
   "cell_type": "code",
   "execution_count": 9,
   "id": "e424d566-bfd0-41e2-956a-522fe9fd582a",
   "metadata": {},
   "outputs": [
    {
     "data": {
      "text/plain": [
       "OutEdgeView([('Weather', 'Traffic'), ('Traffic', 'Lateness')])"
      ]
     },
     "execution_count": 9,
     "metadata": {},
     "output_type": "execute_result"
    }
   ],
   "source": [
    "best_model.edges()"
   ]
  },
  {
   "cell_type": "code",
   "execution_count": 16,
   "id": "4d714892-eab3-4e59-889b-fa292392960e",
   "metadata": {},
   "outputs": [
    {
     "data": {
      "image/png": "[encoded data removed]",
      "text/plain": [
       "<Figure size 640x480 with 1 Axes>"
      ]
     },
     "metadata": {},
     "output_type": "display_data"
    }
   ],
   "source": [
    "bn = BayesianNetwork(best_model.edges())\n",
    "\n",
    "G = nx.DiGraph()\n",
    "G.add_edges_from(bn.edges())\n",
    "\n",
    "plt.figure()\n",
    "pos = nx.spring_layout(G)\n",
    "nx.draw(G, pos, with_labels = True, node_size = 2500)\n",
    "plt.show()"
   ]
  },
  {
   "cell_type": "code",
   "execution_count": 18,
   "id": "ac51590c-e437-47ef-94ef-6248c2c94724",
   "metadata": {},
   "outputs": [
    {
     "name": "stderr",
     "output_type": "stream",
     "text": [
      "WARNING:pgmpy:Replacing existing CPD for Weather\n",
      "WARNING:pgmpy:Replacing existing CPD for Traffic\n",
      "WARNING:pgmpy:Replacing existing CPD for Lateness\n"
     ]
    }
   ],
   "source": [
    "from pgmpy.inference import VariableElimination\n",
    "\n",
    "bn.fit(df)\n",
    "\n",
    "inference = VariableElimination(bn)"
   ]
  },
  {
   "cell_type": "code",
   "execution_count": 21,
   "id": "9456cc52-1078-4917-a554-9dc67a9e6630",
   "metadata": {},
   "outputs": [
    {
     "name": "stdout",
     "output_type": "stream",
     "text": [
      "+-------------+-----------------+\n",
      "| Lateness    |   phi(Lateness) |\n",
      "+=============+=================+\n",
      "| Lateness(0) |          0.7726 |\n",
      "+-------------+-----------------+\n",
      "| Lateness(1) |          0.2274 |\n",
      "+-------------+-----------------+\n"
     ]
    }
   ],
   "source": [
    "result = inference.query(\n",
    "\n",
    "    variables = ['Lateness'],\n",
    "    evidence = {\"Weather\": 0,\n",
    "               \"Traffic\": 0}\n",
    ")\n",
    "print(result)\n",
    "\n",
    "# phi denotes the score of the model"
   ]
  },
  {
   "cell_type": "code",
   "execution_count": 32,
   "id": "f3bc3db1-f314-4b6e-ae1e-2a527a5b35da",
   "metadata": {},
   "outputs": [],
   "source": [
    "size = 1000\n",
    "\n",
    "# Generate Season data (0: winter, 1: spring, 2: summer, 3: fall)\n",
    "season = np.random.choice([0, 1, 2, 3], size=size)\n",
    "\n",
    "# Generate Rain data (0: no rain, 1: rain)\n",
    "# Rain probability depends on Season\n",
    "rain_prob = np.zeros(size)\n",
    "rain_prob[season == 0] = 0.7  # Higher probability of rain in winter\n",
    "rain_prob[season == 1] = 0.4  # Medium probability in spring\n",
    "rain_prob[season == 2] = 0.1  # Low probability in summer\n",
    "rain_prob[season == 3] = 0.5  # Medium-high probability in fall\n",
    "rain = np.random.binomial(1, rain_prob)\n",
    "\n",
    "# Generate Sprinkler data (0: off, 1: on)\n",
    "# Sprinkler probability depends on Season\n",
    "sprinkler_prob = np.zeros(size)\n",
    "sprinkler_prob[season == 0] = 0.05  # Very low probability in winter\n",
    "sprinkler_prob[season == 1] = 0.4   # Medium probability in spring\n",
    "sprinkler_prob[season == 2] = 0.8   # High probability in summer\n",
    "sprinkler_prob[season == 3] = 0.3   # Medium-low probability in fall\n",
    "sprinkler = np.random.binomial(1, sprinkler_prob)\n",
    "\n",
    "# Generate Wet Grass data (0: dry, 1: wet)\n",
    "# Wet Grass probability depends on both Rain and Sprinkler\n",
    "wet_grass_prob = np.zeros(size)\n",
    "# Neither rain nor sprinkler -> low probability of wet grass\n",
    "wet_grass_prob[(rain == 0) & (sprinkler == 0)] = 0.05\n",
    "# Only sprinkler on -> medium probability of wet grass\n",
    "wet_grass_prob[(rain == 0) & (sprinkler == 1)] = 0.7\n",
    "# Only rain -> high probability of wet grass\n",
    "wet_grass_prob[(rain == 1) & (sprinkler == 0)] = 0.8\n",
    "# Both rain and sprinkler -> very high probability of wet grass\n",
    "wet_grass_prob[(rain == 1) & (sprinkler == 1)] = 0.95\n",
    "wet_grass = np.random.binomial(1, wet_grass_prob)\n",
    "\n",
    "# Create a DataFrame with the generated data\n",
    "data = pd.DataFrame({\n",
    "    'Season': season,\n",
    "    'Rain': rain,\n",
    "    'Sprinkler': sprinkler,\n",
    "    'WetGrass': wet_grass\n",
    "})"
   ]
  },
  {
   "cell_type": "code",
   "execution_count": 34,
   "id": "35f41210-a1d6-46e4-b062-8dc563b9d352",
   "metadata": {},
   "outputs": [
    {
     "data": {
      "application/vnd.jupyter.widget-view+json": {
       "model_id": "f69dc6204c8c4145bfb960c76ef69985",
       "version_major": 2,
       "version_minor": 0
      },
      "text/plain": [
       "  0%|          | 0/1000000 [00:00<?, ?it/s]"
      ]
     },
     "metadata": {},
     "output_type": "display_data"
    }
   ],
   "source": [
    "hc = HillClimbSearch(data) # initialization of the search process\n",
    "best_model = hc.estimate(scoring_method = BicScore(data)) "
   ]
  },
  {
   "cell_type": "code",
   "execution_count": 35,
   "id": "a4dccbb7-1724-4461-988d-2ff8c95482cc",
   "metadata": {},
   "outputs": [
    {
     "data": {
      "text/plain": [
       "OutEdgeView([('Season', 'Sprinkler'), ('Season', 'Rain'), ('Rain', 'WetGrass'), ('Sprinkler', 'WetGrass')])"
      ]
     },
     "execution_count": 35,
     "metadata": {},
     "output_type": "execute_result"
    }
   ],
   "source": [
    "best_model.edges()"
   ]
  },
  {
   "cell_type": "code",
   "execution_count": 36,
   "id": "e86a07aa-319d-4b79-88ea-7fb562c19837",
   "metadata": {},
   "outputs": [
    {
     "data": {
      "image/png": "[encoded data removed]",
      "text/plain": [
       "<Figure size 640x480 with 1 Axes>"
      ]
     },
     "metadata": {},
     "output_type": "display_data"
    }
   ],
   "source": [
    "bn = BayesianNetwork(best_model.edges())\n",
    "\n",
    "G = nx.DiGraph()\n",
    "G.add_edges_from(bn.edges())\n",
    "\n",
    "plt.figure()\n",
    "pos = nx.spring_layout(G)\n",
    "nx.draw(G, pos, with_labels = True, node_size = 2500)\n",
    "plt.show()"
   ]
  },
  {
   "cell_type": "code",
   "execution_count": 38,
   "id": "05c4a1c8-fd01-4abb-8f8a-d8b990cb7405",
   "metadata": {},
   "outputs": [],
   "source": [
    "from pgmpy.inference import VariableElimination\n",
    "\n",
    "bn.fit(data)\n",
    "\n",
    "inference = VariableElimination(bn)"
   ]
  },
  {
   "cell_type": "code",
   "execution_count": 45,
   "id": "6ad1efc8-a70f-4db3-b5ae-e215753e45a2",
   "metadata": {},
   "outputs": [
    {
     "name": "stdout",
     "output_type": "stream",
     "text": [
      "+-------------+-----------------+\n",
      "| WetGrass    |   phi(WetGrass) |\n",
      "+=============+=================+\n",
      "| WetGrass(0) |          0.0374 |\n",
      "+-------------+-----------------+\n",
      "| WetGrass(1) |          0.9626 |\n",
      "+-------------+-----------------+\n"
     ]
    }
   ],
   "source": [
    "result = inference.query(\n",
    "\n",
    "    variables = ['WetGrass'],\n",
    "    evidence = {\"Rain\": 1,\n",
    "               \"Sprinkler\": 1,\n",
    "               \"Season\": 0}\n",
    ")\n",
    "print(result)\n",
    "\n",
    "# phi denotes the score of the model"
   ]
  }
 ],
 "metadata": {
  "kernelspec": {
   "display_name": "Python 3 (ipykernel)",
   "language": "python",
   "name": "python3"
  },
  "language_info": {
   "codemirror_mode": {
    "name": "ipython",
    "version": 3
   },
   "file_extension": ".py",
   "mimetype": "text/x-python",
   "name": "python",
   "nbconvert_exporter": "python",
   "pygments_lexer": "ipython3",
   "version": "3.10.7"
  }
 },
 "nbformat": 4,
 "nbformat_minor": 5
}
