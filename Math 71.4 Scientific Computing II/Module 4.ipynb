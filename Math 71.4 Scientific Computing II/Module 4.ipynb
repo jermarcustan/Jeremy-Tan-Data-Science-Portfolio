{
 "cells": [
  {
   "cell_type": "code",
   "execution_count": 5,
   "metadata": {},
   "outputs": [],
   "source": [
    "import random as rand\n",
    "import math\n",
    "\n",
    "def f(x): # y = sqrt(1-x^2)\n",
    "    return math.sqrt(1 - x*x)\n",
    "def area_method():\n",
    "    x, y = (rand.random(), rand.random())\n",
    "    if y <= f(x): # multiply by 4 to approximate pi, not pi/4\n",
    "        return 4 # 4 * 1\n",
    "    else:\n",
    "        return 0 # 4 * 0\n",
    "def average_value_method():\n",
    "    u = rand.random()\n",
    "    return 4 * f(u) # multiply by 4 to approximate pi, not pi/4\n"
   ]
  },
  {
   "cell_type": "code",
   "execution_count": 11,
   "metadata": {},
   "outputs": [],
   "source": [
    "import statistics\n",
    "def analyze(Y):\n",
    "    samp_mean = statistics.mean(Y)\n",
    "    samp_sd = statistics.stdev(Y)\n",
    "    Z = statistics.NormalDist()\n",
    "    alpha = 0.05\n",
    "    Z_alpover2 = Z.inv_cdf(1 - alpha/2)\n",
    "    margin_of_error = Z_alpover2 * samp_sd / (N**0.5)\n",
    "    print(f'point estimate: {samp_mean}')\n",
    "    print(f'95% CI: ({samp_mean - margin_of_error}, {samp_mean + margin_of_error})')\n",
    "    print(f'relative error: {samp_sd / (math.sqrt(N)*samp_mean)}')"
   ]
  },
  {
   "cell_type": "code",
   "execution_count": 28,
   "metadata": {},
   "outputs": [
    {
     "name": "stdout",
     "output_type": "stream",
     "text": [
      "point estimate: 3.1376\n",
      "95% CI: (3.092000541569278, 3.183199458430722)\n",
      "relative error: 0.007415048865320824\n"
     ]
    }
   ],
   "source": [
    "# Run N = 5000 times\n",
    "N = 5000\n",
    "method1 = []\n",
    "method2 = []\n",
    "\n",
    "for i in range(N):\n",
    "    m1 = area_method()\n",
    "    method1.append(m1)\n",
    "analyze(method1)"
   ]
  },
  {
   "cell_type": "code",
   "execution_count": 60,
   "metadata": {},
   "outputs": [
    {
     "data": {
      "text/plain": [
       "-0.5324029568577089"
      ]
     },
     "execution_count": 60,
     "metadata": {},
     "output_type": "execute_result"
    }
   ],
   "source": [
    "x = rand.normalvariate(0, 1)\n",
    "x"
   ]
  },
  {
   "cell_type": "code",
   "execution_count": null,
   "metadata": {},
   "outputs": [],
   "source": []
  }
 ],
 "metadata": {
  "kernelspec": {
   "display_name": "Python 3",
   "language": "python",
   "name": "python3"
  },
  "language_info": {
   "codemirror_mode": {
    "name": "ipython",
    "version": 3
   },
   "file_extension": ".py",
   "mimetype": "text/x-python",
   "name": "python",
   "nbconvert_exporter": "python",
   "pygments_lexer": "ipython3",
   "version": "3.8.3"
  }
 },
 "nbformat": 4,
 "nbformat_minor": 4
}
