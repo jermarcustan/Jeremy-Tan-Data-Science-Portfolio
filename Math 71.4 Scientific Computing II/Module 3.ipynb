{
 "cells": [
  {
   "cell_type": "markdown",
   "metadata": {},
   "source": [
    "## Kolmogorov-Smirnov test\n",
    "### Null Hypothesis: The two samples come from the same distribution."
   ]
  },
  {
   "cell_type": "code",
   "execution_count": 29,
   "metadata": {},
   "outputs": [
    {
     "data": {
      "text/plain": [
       "KstestResult(statistic=0.041, pvalue=0.37012017606173)"
      ]
     },
     "execution_count": 29,
     "metadata": {},
     "output_type": "execute_result"
    }
   ],
   "source": [
    "import random as rand\n",
    "import math\n",
    "from scipy import stats\n",
    "\n",
    "def boxmuller():\n",
    "    u1 = rand.random()\n",
    "    u2 = rand.random()\n",
    "    return math.cos(2*math.pi*u1)*math.sqrt(-2*math.log(u2))\n",
    "\n",
    "sample1 = [boxmuller() for i in range(1000)]\n",
    "sample2 = [rand.normalvariate(mu = 0, sigma = 1) for i in range(1000)]\n",
    "\n",
    "stats.kstest(sample1, sample2)\n",
    "\n",
    "# Since the p value is greater than 0.05, we fail to reject the null hypothesis that the two samples come from the same distribution. \n",
    "# The Box and Muller method created standard normal random variates. "
   ]
  },
  {
   "cell_type": "code",
   "execution_count": 31,
   "metadata": {},
   "outputs": [
    {
     "name": "stdout",
     "output_type": "stream",
     "text": [
      "[0.64747325 0.37942013 0.95503168 0.47005433 0.29019267 0.96068707\n",
      " 0.38950494 0.74131    0.17543067 0.6831332  0.84822858 0.35284142\n",
      " 0.32621663 0.77802659 0.01423643 0.34729889 0.13678823 0.96676719\n",
      " 0.11996612 0.45969204 0.40152026 0.44085044 0.4403018  0.80302632\n",
      " 0.26763445 0.13113564 0.29579928 0.88871934 0.67888326 0.8651704\n",
      " 0.37847973 0.36000826 0.09266895 0.57213033 0.44244605 0.87274331\n",
      " 0.71776249 0.92013275 0.77514243 0.18089676 0.44773183 0.70367303\n",
      " 0.73373984 0.25614058 0.79468585 0.74574932 0.45033118 0.41475159\n",
      " 0.83140254 0.76760438 0.59231919 0.3776365  0.62336994 0.23843123\n",
      " 0.87106648 0.87189962 0.23835028 0.08070266 0.33849428 0.52237503\n",
      " 0.66556271 0.14762352 0.17525169 0.88895413 0.62123047 0.06744176\n",
      " 0.23280932 0.464198   0.82244146 0.90362702 0.05817357 0.30408229\n",
      " 0.42838431 0.0716453  0.2696686  0.2905298  0.44142872 0.68498943\n",
      " 0.09735127 0.03525594 0.91853259 0.87465911 0.42409438 0.9978957\n",
      " 0.41373736 0.24009975 0.78553306 0.41790376 0.8023044  0.48719106\n",
      " 0.80666011 0.92739859 0.5304607  0.89277082 0.71588654 0.94260941\n",
      " 0.53759463 0.16663243 0.35445335 0.23395815]\n"
     ]
    }
   ],
   "source": []
  },
  {
   "cell_type": "code",
   "execution_count": null,
   "metadata": {},
   "outputs": [],
   "source": []
  }
 ],
 "metadata": {
  "kernelspec": {
   "display_name": "Python 3",
   "language": "python",
   "name": "python3"
  },
  "language_info": {
   "codemirror_mode": {
    "name": "ipython",
    "version": 3
   },
   "file_extension": ".py",
   "mimetype": "text/x-python",
   "name": "python",
   "nbconvert_exporter": "python",
   "pygments_lexer": "ipython3",
   "version": "3.8.3"
  }
 },
 "nbformat": 4,
 "nbformat_minor": 4
}
