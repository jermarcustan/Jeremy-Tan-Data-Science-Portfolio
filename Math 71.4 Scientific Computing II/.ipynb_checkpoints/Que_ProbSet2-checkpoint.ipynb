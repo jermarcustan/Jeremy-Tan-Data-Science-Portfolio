{
 "cells": [
  {
   "cell_type": "markdown",
   "id": "06f4174d",
   "metadata": {},
   "source": [
    "### #2"
   ]
  },
  {
   "cell_type": "code",
   "execution_count": 124,
   "id": "b0415c47",
   "metadata": {},
   "outputs": [],
   "source": [
    "# This cell contains what we need for both subitems of 2\n",
    "\n",
    "P = []\n",
    "\n",
    "# Reading inputs from the text file\n",
    "with open('seg_ls.txt', 'r') as file:\n",
    "    n = int(file.readline())\n",
    "    \n",
    "    for i in range(n):\n",
    "        x, y = [float(x) for x in (file.readline()).split()]\n",
    "        P.append((x,y))\n",
    "\n",
    "P.sort()\n",
    "        \n",
    "# Creating the prefix-sum arrays for the summations\n",
    "x_running = 0\n",
    "y_running = 0\n",
    "xy_running = 0\n",
    "x2_running = 0\n",
    "y2_running = 0\n",
    "\n",
    "# We add zeroes so arr[i] denotes the sum from 1 to i\n",
    "xs = [0]\n",
    "ys = [0]\n",
    "xys = [0]\n",
    "x2s = [0]\n",
    "y2s = [0]\n",
    "\n",
    "for p in P:\n",
    "    x_running += p[0]\n",
    "    y_running += p[1]\n",
    "    xy_running += p[0]*p[1]\n",
    "    x2_running += p[0]**2\n",
    "    y2_running += p[1]**2\n",
    "    \n",
    "    xs.append(x_running)\n",
    "    ys.append(y_running)\n",
    "    xys.append(xy_running)\n",
    "    x2s.append(x2_running)\n",
    "    y2s.append(y2_running)\n",
    "\n",
    "# Defining functions to solve for aij, bij, and Lij\n",
    "def sum_of(arr, i, j):\n",
    "    return arr[j] - arr[i-1]    \n",
    "    \n",
    "def a(i,j):\n",
    "    return (sum_of(ys,i,j) - b(i,j)*sum_of(xs,i,j))/(j-i+1)\n",
    "\n",
    "def b(i,j):\n",
    "    return ((j-i+1)*sum_of(xys,i,j) - sum_of(xs,i,j)*sum_of(ys,i,j))/((j-i+1)*sum_of(x2s,i,j) - (sum_of(xs,i,j))**2)\n",
    "\n",
    "def L(i,j):\n",
    "    return (j-i+1)*(a(i,j)**2) + 2*a(i,j)*b(i,j)*sum_of(xs,i,j) + (b(i,j)**2)*sum_of(x2s,i,j) - 2*a(i,j)*sum_of(ys,i,j) - 2*b(i,j)*sum_of(xys,i,j) + sum_of(y2s,i,j)"
   ]
  },
  {
   "cell_type": "markdown",
   "id": "0b1ce696",
   "metadata": {},
   "source": [
    "a)"
   ]
  },
  {
   "cell_type": "code",
   "execution_count": 73,
   "id": "910a91a1",
   "metadata": {
    "scrolled": true
   },
   "outputs": [
    {
     "name": "stdout",
     "output_type": "stream",
     "text": [
      "294090.4364505969\n",
      "{(4, 2): 3, (1000, 3): 677, (5, 2): 3, (6, 2): 3, (7, 2): 3, (8, 2): 3, (9, 2): 3, (10, 2): 3, (11, 2): 3, (12, 2): 3, (13, 2): 3, (14, 2): 6, (15, 2): 3, (16, 2): 3, (17, 2): 3, (18, 2): 3, (19, 2): 3, (20, 2): 3, (21, 2): 3, (22, 2): 3, (23, 2): 3, (24, 2): 3, (25, 2): 3, (26, 2): 3, (27, 2): 3, (28, 2): 3, (29, 2): 3, (30, 2): 29, (31, 2): 30, (32, 2): 30, (33, 2): 30, (34, 2): 30, (35, 2): 30, (36, 2): 30, (37, 2): 30, (38, 2): 30, (39, 2): 30, (40, 2): 30, (41, 2): 30, (42, 2): 30, (43, 2): 30, (44, 2): 30, (45, 2): 30, (46, 2): 30, (47, 2): 30, (48, 2): 30, (49, 2): 30, (50, 2): 30, (51, 2): 30, (52, 2): 30, (53, 2): 30, (54, 2): 30, (55, 2): 30, (56, 2): 30, (57, 2): 30, (58, 2): 30, (59, 2): 30, (60, 2): 30, (61, 2): 30, (62, 2): 30, (63, 2): 30, (64, 2): 30, (65, 2): 30, (66, 2): 30, (67, 2): 30, (68, 2): 30, (69, 2): 30, (70, 2): 30, (71, 2): 30, (72, 2): 30, (73, 2): 30, (74, 2): 30, (75, 2): 30, (76, 2): 30, (77, 2): 30, (78, 2): 30, (79, 2): 30, (80, 2): 30, (81, 2): 30, (82, 2): 30, (83, 2): 30, (84, 2): 30, (85, 2): 30, (86, 2): 30, (87, 2): 30, (88, 2): 30, (89, 2): 30, (90, 2): 57, (91, 2): 57, (92, 2): 57, (93, 2): 30, (94, 2): 30, (95, 2): 57, (96, 2): 30, (97, 2): 57, (98, 2): 57, (99, 2): 57, (100, 2): 57, (101, 2): 57, (102, 2): 57, (103, 2): 57, (104, 2): 57, (105, 2): 81, (106, 2): 57, (107, 2): 57, (108, 2): 57, (109, 2): 57, (110, 2): 57, (111, 2): 57, (112, 2): 57, (113, 2): 57, (114, 2): 57, (115, 2): 57, (116, 2): 57, (117, 2): 57, (118, 2): 57, (119, 2): 57, (120, 2): 57, (121, 2): 57, (122, 2): 57, (123, 2): 57, (124, 2): 57, (125, 2): 57, (126, 2): 57, (127, 2): 57, (128, 2): 57, (129, 2): 57, (130, 2): 57, (131, 2): 57, (132, 2): 57, (133, 2): 57, (134, 2): 57, (135, 2): 57, (136, 2): 57, (137, 2): 57, (138, 2): 57, (139, 2): 57, (140, 2): 57, (141, 2): 57, (142, 2): 57, (143, 2): 57, (144, 2): 57, (145, 2): 57, (146, 2): 57, (147, 2): 57, (148, 2): 57, (149, 2): 57, (150, 2): 57, (151, 2): 57, (152, 2): 57, (153, 2): 57, (154, 2): 57, (155, 2): 57, (156, 2): 57, (157, 2): 57, (158, 2): 57, (159, 2): 57, (160, 2): 57, (161, 2): 57, (162, 2): 57, (163, 2): 57, (164, 2): 57, (165, 2): 57, (166, 2): 57, (167, 2): 57, (168, 2): 57, (169, 2): 75, (170, 2): 75, (171, 2): 75, (172, 2): 75, (173, 2): 75, (174, 2): 75, (175, 2): 75, (176, 2): 75, (177, 2): 75, (178, 2): 75, (179, 2): 75, (180, 2): 75, (181, 2): 93, (182, 2): 93, (183, 2): 93, (184, 2): 93, (185, 2): 93, (186, 2): 93, (187, 2): 93, (188, 2): 93, (189, 2): 93, (190, 2): 102, (191, 2): 102, (192, 2): 102, (193, 2): 102, (194, 2): 102, (195, 2): 102, (196, 2): 102, (197, 2): 102, (198, 2): 102, (199, 2): 102, (200, 2): 102, (201, 2): 103, (202, 2): 103, (203, 2): 103, (204, 2): 103, (205, 2): 103, (206, 2): 104, (207, 2): 104, (208, 2): 104, (209, 2): 104, (210, 2): 104, (211, 2): 104, (212, 2): 106, (213, 2): 104, (214, 2): 106, (215, 2): 106, (216, 2): 106, (217, 2): 108, (218, 2): 108, (219, 2): 107, (220, 2): 108, (221, 2): 108, (222, 2): 108, (223, 2): 108, (224, 2): 108, (225, 2): 108, (226, 2): 108, (227, 2): 108, (228, 2): 108, (229, 2): 108, (230, 2): 108, (231, 2): 108, (232, 2): 108, (233, 2): 108, (234, 2): 108, (235, 2): 108, (236, 2): 108, (237, 2): 108, (238, 2): 108, (239, 2): 108, (240, 2): 108, (241, 2): 108, (242, 2): 108, (243, 2): 108, (244, 2): 108, (245, 2): 108, (246, 2): 108, (247, 2): 108, (248, 2): 108, (249, 2): 108, (250, 2): 108, (251, 2): 109, (252, 2): 109, (253, 2): 109, (254, 2): 109, (255, 2): 109, (256, 2): 109, (257, 2): 109, (258, 2): 109, (259, 2): 109, (260, 2): 109, (261, 2): 110, (262, 2): 110, (263, 2): 110, (264, 2): 110, (265, 2): 111, (266, 2): 111, (267, 2): 111, (268, 2): 111, (269, 2): 111, (270, 2): 127, (271, 2): 127, (272, 2): 127, (273, 2): 127, (274, 2): 127, (275, 2): 127, (276, 2): 127, (277, 2): 127, (278, 2): 127, (279, 2): 127, (280, 2): 127, (281, 2): 127, (282, 2): 127, (283, 2): 127, (284, 2): 127, (285, 2): 133, (286, 2): 133, (287, 2): 133, (288, 2): 133, (289, 2): 133, (290, 2): 135, (291, 2): 150, (292, 2): 150, (293, 2): 150, (294, 2): 150, (295, 2): 150, (296, 2): 150, (297, 2): 150, (298, 2): 150, (299, 2): 150, (300, 2): 153, (301, 2): 157, (302, 2): 157, (303, 2): 157, (304, 2): 157, (305, 2): 157, (306, 2): 157, (307, 2): 157, (308, 2): 157, (309, 2): 157, (310, 2): 157, (311, 2): 157, (312, 2): 157, (313, 2): 157, (314, 2): 157, (315, 2): 158, (316, 2): 157, (317, 2): 158, (318, 2): 158, (319, 2): 158, (320, 2): 158, (321, 2): 158, (322, 2): 158, (323, 2): 162, (324, 2): 162, (325, 2): 162, (326, 2): 162, (327, 2): 164, (328, 2): 164, (329, 2): 164, (330, 2): 164, (331, 2): 164, (332, 2): 167, (333, 2): 167, (334, 2): 167, (335, 2): 167, (336, 2): 167, (337, 2): 167, (338, 2): 167, (339, 2): 171, (340, 2): 171, (341, 2): 171, (342, 2): 171, (343, 2): 171, (344, 2): 171, (345, 2): 171, (346, 2): 173, (347, 2): 173, (348, 2): 173, (349, 2): 173, (350, 2): 173, (351, 2): 173, (352, 2): 173, (353, 2): 173, (354, 2): 173, (355, 2): 173, (356, 2): 173, (357, 2): 173, (358, 2): 173, (359, 2): 173, (360, 2): 173, (361, 2): 173, (362, 2): 173, (363, 2): 173, (364, 2): 173, (365, 2): 173, (366, 2): 173, (367, 2): 173, (368, 2): 173, (369, 2): 173, (370, 2): 173, (371, 2): 174, (372, 2): 174, (373, 2): 174, (374, 2): 174, (375, 2): 174, (376, 2): 174, (377, 2): 174, (378, 2): 174, (379, 2): 174, (380, 2): 174, (381, 2): 177, (382, 2): 177, (383, 2): 177, (384, 2): 177, (385, 2): 177, (386, 2): 177, (387, 2): 177, (388, 2): 177, (389, 2): 177, (390, 2): 186, (391, 2): 186, (392, 2): 186, (393, 2): 187, (394, 2): 187, (395, 2): 187, (396, 2): 187, (397, 2): 189, (398, 2): 189, (399, 2): 189, (400, 2): 189, (401, 2): 189, (402, 2): 189, (403, 2): 189, (404, 2): 189, (405, 2): 192, (406, 2): 192, (407, 2): 192, (408, 2): 192, (409, 2): 192, (410, 2): 192, (411, 2): 192, (412, 2): 192, (413, 2): 192, (414, 2): 192, (415, 2): 192, (416, 2): 192, (417, 2): 192, (418, 2): 192, (419, 2): 192, (420, 2): 192, (421, 2): 192, (422, 2): 192, (423, 2): 192, (424, 2): 192, (425, 2): 192, (426, 2): 192, (427, 2): 196, (428, 2): 196, (429, 2): 196, (430, 2): 196, (431, 2): 196, (432, 2): 196, (433, 2): 196, (434, 2): 196, (435, 2): 196, (436, 2): 196, (437, 2): 196, (438, 2): 196, (439, 2): 196, (440, 2): 200, (441, 2): 200, (442, 2): 200, (443, 2): 201, (444, 2): 201, (445, 2): 201, (446, 2): 201, (447, 2): 201, (448, 2): 201, (449, 2): 201, (450, 2): 201, (451, 2): 201, (452, 2): 207, (453, 2): 207, (454, 2): 207, (455, 2): 207, (456, 2): 210, (457, 2): 210, (458, 2): 218, (459, 2): 218, (460, 2): 218, (461, 2): 218, (462, 2): 218, (463, 2): 218, (464, 2): 218, (465, 2): 218, (466, 2): 218, (467, 2): 218, (468, 2): 218, (469, 2): 218, (470, 2): 218, (471, 2): 218, (472, 2): 218, (473, 2): 218, (474, 2): 218, (475, 2): 218, (476, 2): 218, (477, 2): 219, (478, 2): 219, (479, 2): 219, (480, 2): 220, (481, 2): 220, (482, 2): 220, (483, 2): 239, (484, 2): 239, (485, 2): 239, (486, 2): 240, (487, 2): 246, (488, 2): 246, (489, 2): 246, (490, 2): 251, (491, 2): 251, (492, 2): 251, (493, 2): 252, (494, 2): 252, (495, 2): 252, (496, 2): 252, (497, 2): 252, (498, 2): 252, (499, 2): 252, (500, 2): 252, (501, 2): 252, (502, 2): 252, (503, 2): 252, (504, 2): 252, (505, 2): 252, (506, 2): 252, (507, 2): 255, (508, 2): 255, (509, 2): 257, (510, 2): 257, (511, 2): 257, (512, 2): 257, (513, 2): 258, (514, 2): 258, (515, 2): 258, (516, 2): 259, (517, 2): 259, (518, 2): 259, (519, 2): 260, (520, 2): 260, (521, 2): 260, (522, 2): 260, (523, 2): 260, (524, 2): 260, (525, 2): 260, (526, 2): 261, (527, 2): 261, (528, 2): 261, (529, 2): 261, (530, 2): 261, (531, 2): 261, (532, 2): 261, (533, 2): 261, (534, 2): 261, (535, 2): 261, (536, 2): 261, (537, 2): 261, (538, 2): 261, (539, 2): 261, (540, 2): 262, (541, 2): 262, (542, 2): 262, (543, 2): 262, (544, 2): 262, (545, 2): 262, (546, 2): 262, (547, 2): 262, (548, 2): 262, (549, 2): 262, (550, 2): 262, (551, 2): 269, (552, 2): 269, (553, 2): 269, (554, 2): 269, (555, 2): 269, (556, 2): 269, (557, 2): 269, (558, 2): 269, (559, 2): 270, (560, 2): 270, (561, 2): 272, (562, 2): 272, (563, 2): 272, (564, 2): 272, (565, 2): 272, (566, 2): 272, (567, 2): 272, (568, 2): 272, (569, 2): 272, (570, 2): 272, (571, 2): 272, (572, 2): 272, (573, 2): 274, (574, 2): 274, (575, 2): 274, (576, 2): 274, (577, 2): 274, (578, 2): 275, (579, 2): 275, (580, 2): 275, (581, 2): 275, (582, 2): 275, (583, 2): 275, (584, 2): 275, (585, 2): 275, (586, 2): 275, (587, 2): 275, (588, 2): 275, (589, 2): 275, (590, 2): 275, (591, 2): 275, (592, 2): 275, (593, 2): 275, (594, 2): 275, (595, 2): 275, (596, 2): 276, (597, 2): 276, (598, 2): 278, (599, 2): 278, (600, 2): 278, (601, 2): 278, (602, 2): 278, (603, 2): 278, (604, 2): 278, (605, 2): 278, (606, 2): 279, (607, 2): 284, (608, 2): 284, (609, 2): 284, (610, 2): 284, (611, 2): 284, (612, 2): 285, (613, 2): 285, (614, 2): 285, (615, 2): 303, (616, 2): 303, (617, 2): 303, (618, 2): 303, (619, 2): 303, (620, 2): 303, (621, 2): 303, (622, 2): 303, (623, 2): 303, (624, 2): 303, (625, 2): 303, (626, 2): 303, (627, 2): 303, (628, 2): 303, (629, 2): 303, (630, 2): 303, (631, 2): 303, (632, 2): 303, (633, 2): 303, (634, 2): 303, (635, 2): 303, (636, 2): 303, (637, 2): 303, (638, 2): 303, (639, 2): 309, (640, 2): 309, (641, 2): 309, (642, 2): 309, (643, 2): 309, (644, 2): 313, (645, 2): 313, (646, 2): 313, (647, 2): 313, (648, 2): 313, (649, 2): 313, (650, 2): 313, (651, 2): 313, (652, 2): 313, (653, 2): 313, (654, 2): 317, (655, 2): 317, (656, 2): 317, (657, 2): 318, (658, 2): 318, (659, 2): 318, (660, 2): 318, (661, 2): 318, (662, 2): 318, (663, 2): 318, (664, 2): 318, (665, 2): 318, (666, 2): 318, (667, 2): 319, (668, 2): 319, (669, 2): 324, (670, 2): 324, (671, 2): 324, (672, 2): 324, (673, 2): 324, (674, 2): 324, (675, 2): 324, (676, 2): 324, (677, 2): 324, (678, 2): 324, (679, 2): 324, (680, 2): 324, (681, 2): 324, (682, 2): 324, (683, 2): 327, (684, 2): 327, (685, 2): 327, (686, 2): 327, (687, 2): 327, (688, 2): 327, (689, 2): 327, (690, 2): 327, (691, 2): 328, (692, 2): 328, (693, 2): 330, (694, 2): 331, (695, 2): 346, (696, 2): 346, (697, 2): 346, (698, 2): 346, (699, 2): 350, (700, 2): 350, (701, 2): 350, (702, 2): 350, (703, 2): 350, (704, 2): 351, (705, 2): 351, (706, 2): 354, (707, 2): 354, (708, 2): 355, (709, 2): 355, (710, 2): 355, (711, 2): 360, (712, 2): 362, (713, 2): 362, (714, 2): 364, (715, 2): 364, (716, 2): 364, (717, 2): 368, (718, 2): 368, (719, 2): 368, (720, 2): 368, (721, 2): 373, (722, 2): 373, (723, 2): 373, (724, 2): 373, (725, 2): 373, (726, 2): 373, (727, 2): 373, (728, 2): 373, (729, 2): 373, (730, 2): 373, (731, 2): 373, (732, 2): 373, (733, 2): 373, (734, 2): 373, (735, 2): 373, (736, 2): 373, (737, 2): 373, (738, 2): 373, (739, 2): 373, (740, 2): 373, (741, 2): 373, (742, 2): 373, (743, 2): 373, (744, 2): 374, (745, 2): 375, (746, 2): 375, (747, 2): 377, (748, 2): 377, (749, 2): 377, (750, 2): 377, (751, 2): 385, (752, 2): 385, (753, 2): 389, (754, 2): 389, (755, 2): 389, (756, 2): 389, (757, 2): 389, (758, 2): 389, (759, 2): 390, (760, 2): 390, (761, 2): 400, (762, 2): 400, (763, 2): 400, (764, 2): 400, (765, 2): 401, (766, 2): 401, (767, 2): 401, (768, 2): 402, (769, 2): 402, (770, 2): 402, (771, 2): 402, (772, 2): 402, (773, 2): 402, (774, 2): 402, (775, 2): 402, (776, 2): 403, (777, 2): 403, (778, 2): 406, (779, 2): 406, (780, 2): 406, (781, 2): 406, (782, 2): 406, (783, 2): 406, (784, 2): 407, (785, 2): 407, (786, 2): 407, (787, 2): 407, (788, 2): 407, (789, 2): 407, (790, 2): 407, (791, 2): 407, (792, 2): 407, (793, 2): 407, (794, 2): 407, (795, 2): 409, (796, 2): 409, (797, 2): 409, (798, 2): 409, (799, 2): 409, (800, 2): 409, (801, 2): 409, (802, 2): 409, (803, 2): 409, (804, 2): 409, (805, 2): 409, (806, 2): 409, (807, 2): 409, (808, 2): 410, (809, 2): 410, (810, 2): 410, (811, 2): 413, (812, 2): 413, (813, 2): 413, (814, 2): 413, (815, 2): 413, (816, 2): 413, (817, 2): 413, (818, 2): 415, (819, 2): 415, (820, 2): 415, (821, 2): 415, (822, 2): 415, (823, 2): 415, (824, 2): 415, (825, 2): 417, (826, 2): 417, (827, 2): 418, (828, 2): 418, (829, 2): 418, (830, 2): 418, (831, 2): 418, (832, 2): 418, (833, 2): 418, (834, 2): 418, (835, 2): 418, (836, 2): 418, (837, 2): 418, (838, 2): 418, (839, 2): 418, (840, 2): 418, (841, 2): 418, (842, 2): 418, (843, 2): 418, (844, 2): 418, (845, 2): 418, (846, 2): 418, (847, 2): 418, (848, 2): 419, (849, 2): 425, (850, 2): 425, (851, 2): 425, (852, 2): 425, (853, 2): 425, (854, 2): 425, (855, 2): 426, (856, 2): 426, (857, 2): 426, (858, 2): 426, (859, 2): 426, (860, 2): 426, (861, 2): 428, (862, 2): 428, (863, 2): 428, (864, 2): 428, (865, 2): 428, (866, 2): 428, (867, 2): 428, (868, 2): 428, (869, 2): 428, (870, 2): 428, (871, 2): 428, (872, 2): 428, (873, 2): 428, (874, 2): 428, (875, 2): 428, (876, 2): 428, (877, 2): 428, (878, 2): 428, (879, 2): 428, (880, 2): 428, (881, 2): 429, (882, 2): 447, (883, 2): 447, (884, 2): 447, (885, 2): 447, (886, 2): 447, (887, 2): 447, (888, 2): 447, (889, 2): 447, (890, 2): 449, (891, 2): 449, (892, 2): 449, (893, 2): 451, (894, 2): 451, (895, 2): 451, (896, 2): 452, (897, 2): 452, (898, 2): 454, (899, 2): 454, (900, 2): 454, (901, 2): 454, (902, 2): 454, (903, 2): 455, (904, 2): 455, (905, 2): 455, (906, 2): 455, (907, 2): 456, (908, 2): 463, (909, 2): 463, (910, 2): 463, (911, 2): 463, (912, 2): 463, (913, 2): 465, (914, 2): 466, (915, 2): 466, (916, 2): 466, (917, 2): 467, (918, 2): 467, (919, 2): 467, (920, 2): 467, (921, 2): 467, (922, 2): 467, (923, 2): 467, (924, 2): 468, (925, 2): 468, (926, 2): 468, (927, 2): 468, (928, 2): 485, (929, 2): 485, (930, 2): 485, (931, 2): 485, (932, 2): 485, (933, 2): 485, (934, 2): 485, (935, 2): 485, (936, 2): 486, (937, 2): 486, (938, 2): 486, (939, 2): 486, (940, 2): 487, (941, 2): 488, (942, 2): 488, (943, 2): 488, (944, 2): 488, (945, 2): 488, (946, 2): 488, (947, 2): 488, (948, 2): 489, (949, 2): 489, (950, 2): 489, (951, 2): 490, (952, 2): 490, (953, 2): 492, (954, 2): 492, (955, 2): 492, (956, 2): 492, (957, 2): 492, (958, 2): 492, (959, 2): 492, (960, 2): 492, (961, 2): 492, (962, 2): 492, (963, 2): 493, (964, 2): 493, (965, 2): 493, (966, 2): 493, (967, 2): 493, (968, 2): 494, (969, 2): 494, (970, 2): 494, (971, 2): 494, (972, 2): 494, (973, 2): 494, (974, 2): 494, (975, 2): 494, (976, 2): 495, (977, 2): 495, (978, 2): 495, (979, 2): 495, (980, 2): 496, (981, 2): 496, (982, 2): 496, (983, 2): 496, (984, 2): 496, (985, 2): 496, (986, 2): 496, (987, 2): 496, (988, 2): 496, (989, 2): 496, (990, 2): 496, (991, 2): 496, (992, 2): 496, (993, 2): 496, (994, 2): 496, (995, 2): 497, (996, 2): 497, (997, 2): 497, (998, 2): 497}\n"
     ]
    }
   ],
   "source": [
    "memo = dict()\n",
    "\n",
    "best_choice = dict()\n",
    "# Let f(j,k) be the minimum sum of squared errors obtained by using k lines to cover p_1, ..., p_j\n",
    "def f(j,k):\n",
    "    if (j,k) in memo:\n",
    "        return memo[j,k]\n",
    "    else:\n",
    "        \n",
    "        # If we have one line left, just get the error for the remaining points\n",
    "        if k == 1:\n",
    "            answer = L(1,j)\n",
    "        \n",
    "        # If not, get the minimum error when conducting linear regression on points i to j and \n",
    "        # modeling points 1,...,i-1 with k-1 lines\n",
    "        else:\n",
    "            answer = float('inf')\n",
    "            \n",
    "            for i in range(2*k-1, j):\n",
    "                penalty = L(i,j) + f(i-1, k-1)\n",
    "                \n",
    "                if penalty < answer:\n",
    "                    answer = penalty\n",
    "                    choice = i\n",
    "                \n",
    "                # best_choice will store the optimal split for each j,k\n",
    "                best_choice[j,k] = (choice, a(choice,j), b(choice,j))\n",
    "            \n",
    "        memo[j,k] = answer\n",
    "        return memo[j,k]\n",
    "    \n",
    "print(f(n, 3))\n",
    "print(best_choice)"
   ]
  },
  {
   "cell_type": "code",
   "execution_count": 74,
   "id": "7617ed71",
   "metadata": {},
   "outputs": [
    {
     "data": {
      "text/plain": [
       "677"
      ]
     },
     "execution_count": 74,
     "metadata": {},
     "output_type": "execute_result"
    }
   ],
   "source": [
    "# The best choice for splitting point when j=1000 and k=3 is stored in first_split.\n",
    "# Thus, the first line will cover points in (first_split, 1000)\n",
    "first_split = best_choice[1000,3]\n",
    "first_split"
   ]
  },
  {
   "cell_type": "code",
   "execution_count": 75,
   "id": "49905a31",
   "metadata": {},
   "outputs": [
    {
     "data": {
      "text/plain": [
       "324"
      ]
     },
     "execution_count": 75,
     "metadata": {},
     "output_type": "execute_result"
    }
   ],
   "source": [
    "# We now consider j=677-1=676 and k=3-1=2\n",
    "# The best choice for splitting point given the above j,k is stored in second_split.\n",
    "# Thus, the second line will cover points in (second_split, 676).\n",
    "# Since we only have three lines, the third will cover points in (1, second_split-1)\n",
    "second_split = best_choice[first_split-1,2]\n",
    "second_split"
   ]
  },
  {
   "cell_type": "code",
   "execution_count": 76,
   "id": "e81d252e",
   "metadata": {},
   "outputs": [
    {
     "name": "stdout",
     "output_type": "stream",
     "text": [
      "The third line has coefficients a = 1428.2028072016205, b = -2.7978472945909423\n",
      "The second line has coefficients a = 499.52630522715805, b = -0.08277141390232377\n",
      "The first line has coefficients a = 41.41697391132595, b = 2.6198719328315083\n"
     ]
    }
   ],
   "source": [
    "# Hence, to obtain the coefficients for each line:\n",
    "print(f'The third line has coefficients a = {a(677, 1000)}, b = {b(677, 1000)}')\n",
    "print(f'The second line has coefficients a = {a(324, 676)}, b = {b(324, 676)}')\n",
    "print(f'The first line has coefficients a = {a(1, 323)}, b = {b(1, 323)}')"
   ]
  },
  {
   "cell_type": "markdown",
   "id": "4c47c4c7",
   "metadata": {},
   "source": [
    "b)"
   ]
  },
  {
   "cell_type": "code",
   "execution_count": 125,
   "id": "d4147af5",
   "metadata": {},
   "outputs": [
    {
     "name": "stdout",
     "output_type": "stream",
     "text": [
      "10000\n",
      "100109.20639497414\n"
     ]
    }
   ],
   "source": [
    "# Here, we also need a cost per line C\n",
    "C = int(input())\n",
    "\n",
    "f = [None] * (n+1)\n",
    "best_choice = dict()\n",
    "    \n",
    "# base case\n",
    "f[0] = 0\n",
    "\n",
    "for j in range(1, n+1):\n",
    "    answer = float('inf')\n",
    "    \n",
    "    # Find the minimum penalty per j\n",
    "    for i in range(1,j):\n",
    "        penalty = L(i,j) + C + f[i-1]\n",
    "        \n",
    "        if penalty < answer:\n",
    "            answer = penalty\n",
    "            \n",
    "            # best_choice[j] refers to the optimal split given specific j\n",
    "            best_choice[j] = i\n",
    "    \n",
    "    f[j] = answer\n",
    "\n",
    "print(f[n])"
   ]
  },
  {
   "cell_type": "code",
   "execution_count": 90,
   "id": "8a620a26",
   "metadata": {},
   "outputs": [
    {
     "name": "stdout",
     "output_type": "stream",
     "text": [
      "841\n"
     ]
    }
   ],
   "source": [
    "print(best_choice[1000])"
   ]
  },
  {
   "cell_type": "code",
   "execution_count": 99,
   "id": "170c55aa",
   "metadata": {},
   "outputs": [
    {
     "name": "stdout",
     "output_type": "stream",
     "text": [
      "The 6th line will have coefficients a=1693.969139518941 and b=-3.3706682936738726.\n"
     ]
    }
   ],
   "source": [
    "print(f'The 6th line will have coefficients a={a(841,1000)} and b={b(841,1000)}.')"
   ]
  },
  {
   "cell_type": "code",
   "execution_count": 91,
   "id": "eb59dfa7",
   "metadata": {},
   "outputs": [
    {
     "name": "stdout",
     "output_type": "stream",
     "text": [
      "677\n"
     ]
    }
   ],
   "source": [
    "print(best_choice[840])"
   ]
  },
  {
   "cell_type": "code",
   "execution_count": 100,
   "id": "ea601720",
   "metadata": {},
   "outputs": [
    {
     "name": "stdout",
     "output_type": "stream",
     "text": [
      "The 5th line will have coefficients a=1182.461368158822 and b=-2.1598034478458956.\n"
     ]
    }
   ],
   "source": [
    "print(f'The 5th line will have coefficients a={a(677,840)} and b={b(677,840)}.')"
   ]
  },
  {
   "cell_type": "code",
   "execution_count": 92,
   "id": "37ebee1b",
   "metadata": {},
   "outputs": [
    {
     "data": {
      "text/plain": [
       "497"
      ]
     },
     "execution_count": 92,
     "metadata": {},
     "output_type": "execute_result"
    }
   ],
   "source": [
    "best_choice[676]"
   ]
  },
  {
   "cell_type": "code",
   "execution_count": 101,
   "id": "1e17e287",
   "metadata": {},
   "outputs": [
    {
     "name": "stdout",
     "output_type": "stream",
     "text": [
      "The 4th line will have coefficients a=704.0776964268915 and b=-0.767198281558675.\n"
     ]
    }
   ],
   "source": [
    "print(f'The 4th line will have coefficients a={a(497,676)} and b={b(497,676)}.')"
   ]
  },
  {
   "cell_type": "code",
   "execution_count": 93,
   "id": "ce4293e2",
   "metadata": {},
   "outputs": [
    {
     "data": {
      "text/plain": [
       "313"
      ]
     },
     "execution_count": 93,
     "metadata": {},
     "output_type": "execute_result"
    }
   ],
   "source": [
    "best_choice[496]"
   ]
  },
  {
   "cell_type": "code",
   "execution_count": 102,
   "id": "b7dc505a",
   "metadata": {},
   "outputs": [
    {
     "name": "stdout",
     "output_type": "stream",
     "text": [
      "The 3rd line will have coefficients a=334.1239676269403 and b=0.7051310552970829.\n"
     ]
    }
   ],
   "source": [
    "print(f'The 3rd line will have coefficients a={a(313,496)} and b={b(313,496)}.')"
   ]
  },
  {
   "cell_type": "code",
   "execution_count": 95,
   "id": "bb41f659",
   "metadata": {},
   "outputs": [
    {
     "data": {
      "text/plain": [
       "157"
      ]
     },
     "execution_count": 95,
     "metadata": {},
     "output_type": "execute_result"
    }
   ],
   "source": [
    "best_choice[312]"
   ]
  },
  {
   "cell_type": "code",
   "execution_count": 103,
   "id": "704f01c0",
   "metadata": {},
   "outputs": [
    {
     "name": "stdout",
     "output_type": "stream",
     "text": [
      "The 2nd line will have coefficients a=125.49428628367815 and b=1.975571957171812.\n"
     ]
    }
   ],
   "source": [
    "print(f'The 2nd line will have coefficients a={a(157,312)} and b={b(157,312)}.')"
   ]
  },
  {
   "cell_type": "code",
   "execution_count": 96,
   "id": "381f27d4",
   "metadata": {},
   "outputs": [
    {
     "data": {
      "text/plain": [
       "1"
      ]
     },
     "execution_count": 96,
     "metadata": {},
     "output_type": "execute_result"
    }
   ],
   "source": [
    "best_choice[156]"
   ]
  },
  {
   "cell_type": "code",
   "execution_count": 104,
   "id": "edfabb14",
   "metadata": {},
   "outputs": [
    {
     "name": "stdout",
     "output_type": "stream",
     "text": [
      "The 1st line will have coefficients a=11.47512592259059 and b=3.2698572772406687.\n"
     ]
    }
   ],
   "source": [
    "print(f'The 1st line will have coefficients a={a(1,156)} and b={b(1,156)}.')"
   ]
  },
  {
   "cell_type": "markdown",
   "id": "a5cb6437",
   "metadata": {},
   "source": [
    "### #3"
   ]
  },
  {
   "cell_type": "markdown",
   "id": "32bcfcf0",
   "metadata": {},
   "source": [
    "a)"
   ]
  },
  {
   "cell_type": "code",
   "execution_count": 133,
   "id": "367adee0",
   "metadata": {},
   "outputs": [
    {
     "name": "stdout",
     "output_type": "stream",
     "text": [
      "8\n",
      "3 2 12 7 1 6 2 6\n",
      "13\n",
      "True\n"
     ]
    }
   ],
   "source": [
    "n = int(input())\n",
    "w = [0] + [int(x) for x in input().split()]\n",
    "M = int(input())\n",
    "\n",
    "# Let f(i, M1, M2, M3) be whether the i-th trash bag can still fit inside one of the containers\n",
    "# given their current capacities M1, M2, and M3\n",
    "\n",
    "memo = dict()\n",
    "def f(i, M1, M2, M3):\n",
    "    if (i, M1, M2, M3) in memo:\n",
    "        return memo[i, M1, M2, M3]\n",
    "    else:\n",
    "        if i == n:\n",
    "            \n",
    "            # If the all containers still have capacity left, and if the last trash bag\n",
    "            # can fit in one of them, then we know that all trash bags will fit in all containers\n",
    "            if M1 >= 0 and M2 >= 0 and M3 >= 0 and (M1 - w[i] >= 0 or M2 - w[i] >= 0 or M3 - w[i] >= 0):\n",
    "                answer = True\n",
    "            else:\n",
    "                answer = False\n",
    "        else:\n",
    "            # We can place it in container 1, container 2, or container 3\n",
    "            # The checking of whether it fits only happens in the base case\n",
    "            answer = f(i+1, M1-w[i], M2, M3) or f(i+1, M1, M2-w[i], M3) or f(i+1, M1, M2, M3-w[i])\n",
    "        \n",
    "        memo[i,M1,M2,M3] = answer\n",
    "        return memo[i,M1,M2,M3]\n",
    "    \n",
    "print(f(1, M, M, M))"
   ]
  },
  {
   "cell_type": "markdown",
   "id": "82fc36e2",
   "metadata": {},
   "source": [
    "b)"
   ]
  },
  {
   "cell_type": "code",
   "execution_count": 78,
   "id": "9076151e",
   "metadata": {},
   "outputs": [
    {
     "name": "stdout",
     "output_type": "stream",
     "text": [
      "5\n",
      "1 2 3 4 5\n",
      "8\n",
      "True\n"
     ]
    }
   ],
   "source": [
    "n = int(input())\n",
    "w = [0] + [int(x) for x in input().split()]\n",
    "M = int(input())\n",
    "\n",
    "# We get the sum of the weights of all trash bags.\n",
    "# This denotes the total weight of trash bags not in container 1\n",
    "total_w = sum(w)\n",
    "\n",
    "# Let f(i, M1) be whether the i-th trash bag can still fit inside one of the containers\n",
    "# given that the first one has current capacity M1\n",
    "\n",
    "memo = dict()\n",
    "def f(i, M1):\n",
    "    if (i, M1) in memo:\n",
    "        return memo[i, M1]\n",
    "    else:\n",
    "        if i == n:\n",
    "            \n",
    "            # If the last trash bag fits in container 1 and\n",
    "            # the total weight of the discarded trash bags is less than or equal to M,\n",
    "            # then all trash bags fit in the two containers\n",
    "            # (we can put the \"discarded\" trash bags into container 2)\n",
    "            if M1 - w[i] >= 0 and total_w - (M - M1 + w[i]) <= M:\n",
    "                answer = True\n",
    "            \n",
    "            # We cannot place the last trash bag in container 1.\n",
    "            # If the total weight of bags outside container 1 is less than or equal` to M,\n",
    "            # then all trash bags still fit in the two containers\n",
    "            elif M1 - w[i] < 0 and total_w - (M - M1) <= M:\n",
    "                answer = True\n",
    "            else:\n",
    "                answer = False\n",
    "        else:\n",
    "            \n",
    "            # If the current trash bag fits in container 1,\n",
    "            # then we can either place it in container 1, reducing its capacity,\n",
    "            # and move to the next trash bag, or not place it in container 1.\n",
    "            if M1 - w[i] >= 0:\n",
    "                answer = f(i+1, M1-w[i]) or f(i+1, M1)\n",
    "            \n",
    "            # If the current trash bag does not fit in container 1,\n",
    "            # then we move to the next trash bag, and\n",
    "            # the total weight of bags not in container 1 remains the same\n",
    "            else:\n",
    "                answer = f(i+1, M1)\n",
    "                \n",
    "    \n",
    "        memo[i, M1] = answer\n",
    "        return memo[i, M1]\n",
    "    \n",
    "print(f(1, M))"
   ]
  },
  {
   "cell_type": "markdown",
   "id": "8679ed3c",
   "metadata": {},
   "source": [
    "### #4"
   ]
  },
  {
   "cell_type": "code",
   "execution_count": 131,
   "id": "4bb90227",
   "metadata": {},
   "outputs": [
    {
     "name": "stdout",
     "output_type": "stream",
     "text": [
      "1 2 -3 10 -4 7 2 -5\n",
      "5\n",
      "The maximum subarray sum is 15, where L = 0 and R = 6.\n"
     ]
    }
   ],
   "source": [
    "# we assume that the array is zero-indexed\n",
    "A = [int(x) for x in input().split()]\n",
    "X = int(input())\n",
    "\n",
    "# we consider the prefix-sum array of A\n",
    "P = []\n",
    "running_sum = 0\n",
    "for x in A:\n",
    "    running_sum += x\n",
    "    P.append(running_sum)\n",
    "\n",
    "memo = dict()\n",
    "\n",
    "# Ls record the left indices for the maximum subarray sum of each R\n",
    "Ls = dict()\n",
    "\n",
    "# Let f(R) be the maximum subarray sum among all subarrays ending in R\n",
    "def f(R):\n",
    "    if R in memo:\n",
    "        return memo[R]\n",
    "    else:\n",
    "        \n",
    "        # If the subarray ends before X-1, that is, if it has less than X elements,\n",
    "        # then we disregard it\n",
    "        if R < X - 1:\n",
    "            answer = 0\n",
    "            \n",
    "        # The maximum subarray sum for the subarray starting at 0 and ending at X-1\n",
    "        # is just P[R] = P[X-1].\n",
    "        # The left index is then 0\n",
    "        elif R == X - 1:\n",
    "            answer = P[R]\n",
    "            Ls[R] = 0\n",
    "        \n",
    "        \n",
    "        else:\n",
    "            \n",
    "            # Similar to the original maximum subarray sum problem, we can use f(R-1)\n",
    "            # to compute for f(R).\n",
    "            # However, in this case, A[R] is replaced by the sum of the subarray\n",
    "            # with exactly X elements and ending in R\n",
    "            old_max = A[R] + f(R-1)\n",
    "            new_val = P[R] - P[R-X]\n",
    "            \n",
    "            # If the old maximum is still the maximum, we retain its left index\n",
    "            if old_max >= new_val:\n",
    "                answer = old_max\n",
    "                Ls[R] = Ls[R-1]\n",
    "            \n",
    "            # If not, the new left index is the left index of the subarray with X elements\n",
    "            # ending in R\n",
    "            elif new_val > old_max:\n",
    "                answer = new_val\n",
    "                Ls[R] = R-X+1\n",
    "            \n",
    "        memo[R] = answer\n",
    "        return memo[R]\n",
    "    \n",
    "n = len(A)\n",
    "f(n-1)\n",
    "\n",
    "R = max(memo, key=memo.get)\n",
    "print(f'The maximum subarray sum is {max(memo.values())}, where L = {Ls[R]} and R = {R}.')"
   ]
  },
  {
   "cell_type": "markdown",
   "id": "b653e325",
   "metadata": {},
   "source": [
    "### #5"
   ]
  },
  {
   "cell_type": "code",
   "execution_count": 135,
   "id": "b8322c20",
   "metadata": {},
   "outputs": [
    {
     "name": "stdout",
     "output_type": "stream",
     "text": [
      "AB\n",
      "AB\n",
      "ABAB\n",
      "2\n"
     ]
    }
   ],
   "source": [
    "A = input()\n",
    "B = input()\n",
    "C = input()\n",
    "\n",
    "m = len(A)\n",
    "n = len(B)\n",
    "m_n = len(C)\n",
    "\n",
    "memo = dict()\n",
    "\n",
    "# Let f(a, b, c) be the number of ways that C with current length c is a shuffle \n",
    "# of A with current length a and B with current length b\n",
    "def f(a, b, c):\n",
    "    if (a,b,c) in memo:\n",
    "        return memo[a,b,c]\n",
    "    else:\n",
    "        \n",
    "        # Base case: we only have the first character of C remaining\n",
    "        if c == 1:\n",
    "            \n",
    "            # If the first character of C is not the first character of A nor B,\n",
    "            # then C is not a shuffle of A and B\n",
    "            if A[0] != C[0] and B[0] != C[0]:\n",
    "                answer = 0\n",
    "            elif A[0] == C[0] or B[0] == C[0]:\n",
    "                answer = 1\n",
    "        else:\n",
    "            \n",
    "            # We first let answer be 0.\n",
    "            # Given the two if statements below, this means that we first consider\n",
    "            # the case when the current character of C is not equal to that of A and B\n",
    "            answer = 0\n",
    "            \n",
    "            # If the current character of C is the same as the current character of A,\n",
    "            # then assign that character to A and move to the next character.\n",
    "            # We also check if the length of A is greater than 0 to make sure it does not go back to the last character\n",
    "            if a > 0 and A[a-1] == C[c-1]:\n",
    "                answer = f(a-1, b, c-1)\n",
    "                \n",
    "            # Same as the above but with B instead of A.\n",
    "            # If both are true, then we add both branches: when we assign the character to A\n",
    "            # and when we assign the character to B.\n",
    "            # We also check if the length of B is greater than 0 to make sure it does not go back to the last character\n",
    "            if b > 0 and B[b-1] == C[c-1]:\n",
    "                answer += f(a, b-1, c-1)\n",
    "        \n",
    "        memo[a,b,c] = answer\n",
    "        return memo[a,b,c]\n",
    "    \n",
    "print(f(m, n, m_n))"
   ]
  }
 ],
 "metadata": {
  "kernelspec": {
   "display_name": "Python 3 (ipykernel)",
   "language": "python",
   "name": "python3"
  },
  "language_info": {
   "codemirror_mode": {
    "name": "ipython",
    "version": 3
   },
   "file_extension": ".py",
   "mimetype": "text/x-python",
   "name": "python",
   "nbconvert_exporter": "python",
   "pygments_lexer": "ipython3",
   "version": "3.9.13"
  }
 },
 "nbformat": 4,
 "nbformat_minor": 5
}
