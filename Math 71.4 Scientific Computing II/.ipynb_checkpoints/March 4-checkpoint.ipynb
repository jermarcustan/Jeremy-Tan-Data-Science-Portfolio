{
 "cells": [
  {
   "cell_type": "markdown",
   "id": "bcebdd93-dd4f-40db-b9e7-0a68f4194d89",
   "metadata": {},
   "source": [
    "## Random Generation "
   ]
  },
  {
   "cell_type": "code",
   "execution_count": 3,
   "id": "44c68004-c0d8-40a7-9f28-f8e039ad3e7e",
   "metadata": {},
   "outputs": [
    {
     "name": "stdout",
     "output_type": "stream",
     "text": [
      "0.7732061262891277\n"
     ]
    }
   ],
   "source": [
    "import random as rand\n",
    "\n",
    "u = rand.random()\n",
    "print(u)"
   ]
  },
  {
   "cell_type": "code",
   "execution_count": 6,
   "id": "a1f3d92f-17d4-4127-804a-ba67fb5d1d8a",
   "metadata": {},
   "outputs": [
    {
     "name": "stdout",
     "output_type": "stream",
     "text": [
      "KstestResult(statistic=0.043, pvalue=0.3136800387320582, statistic_location=0.22257238628382758, statistic_sign=-1)\n"
     ]
    }
   ],
   "source": [
    "import math\n",
    "from scipy import stats\n",
    "import random\n",
    "def boxmuller():\n",
    "    u1 = random.random()\n",
    "    u2 = random.random()\n",
    "    return math.cos(2*math.pi*u1)*math.sqrt(-2*math.log(u2))\n",
    "\n",
    "sample1 = [boxmuller() for i in range(1000)]\n",
    "sample2 = [rand.normalvariate(mu = 0, sigma = 1) for i in range(1000)]\n",
    "\n",
    "print(stats.kstest(sample1, sample2))\n",
    "\n"
   ]
  },
  {
   "cell_type": "code",
   "execution_count": 1,
   "id": "d75ecfa8-bddc-4c74-865a-dd5af7b9d247",
   "metadata": {},
   "outputs": [
    {
     "name": "stdout",
     "output_type": "stream",
     "text": [
      "Requirement already satisfied: scipy in c:\\users\\jerem\\appdata\\local\\programs\\python\\python310\\lib\\site-packages (1.12.0)\n",
      "Requirement already satisfied: numpy<1.29.0,>=1.22.4 in c:\\users\\jerem\\appdata\\local\\programs\\python\\python310\\lib\\site-packages (from scipy) (1.23.3)\n"
     ]
    },
    {
     "name": "stderr",
     "output_type": "stream",
     "text": [
      "\n",
      "[notice] A new release of pip is available: 23.1.2 -> 24.0\n",
      "[notice] To update, run: python.exe -m pip install --upgrade pip\n"
     ]
    }
   ],
   "source": [
    "!pip install scipy"
   ]
  },
  {
   "cell_type": "code",
   "execution_count": 7,
   "id": "ee16387b-c349-49fe-a33f-3c8177372ecc",
   "metadata": {},
   "outputs": [
    {
     "name": "stdout",
     "output_type": "stream",
     "text": [
      "KstestResult(statistic=0.019, pvalue=0.9937026761524456, statistic_location=2.5486264853541627, statistic_sign=-1)\n"
     ]
    }
   ],
   "source": [
    "lam = 0.5\n",
    "def T(u):\n",
    "    return (-1/lam)*math.log(1-u)\n",
    "sample1 = []\n",
    "for i in range(1000):\n",
    "    u = rand.random()\n",
    "    x = T(u)\n",
    "    sample1.append(x)\n",
    "\n",
    "sample2 = [rand.expovariate(lam) for i in range(1000)]\n",
    "print(stats.kstest(sample1,sample2))\n",
    "    "
   ]
  }
 ],
 "metadata": {
  "kernelspec": {
   "display_name": "Python 3 (ipykernel)",
   "language": "python",
   "name": "python3"
  },
  "language_info": {
   "codemirror_mode": {
    "name": "ipython",
    "version": 3
   },
   "file_extension": ".py",
   "mimetype": "text/x-python",
   "name": "python",
   "nbconvert_exporter": "python",
   "pygments_lexer": "ipython3",
   "version": "3.10.7"
  }
 },
 "nbformat": 4,
 "nbformat_minor": 5
}
