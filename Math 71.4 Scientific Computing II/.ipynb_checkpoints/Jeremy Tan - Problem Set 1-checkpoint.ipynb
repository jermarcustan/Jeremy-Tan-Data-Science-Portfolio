{
 "cells": [
  {
   "cell_type": "markdown",
   "metadata": {},
   "source": [
    "# Problem Set 1\n",
    "Name: Jeremy Tan <br>\n",
    "Date: February 16, 2024"
   ]
  },
  {
   "cell_type": "markdown",
   "metadata": {},
   "source": [
    "## <b>Problem 3</b>"
   ]
  },
  {
   "cell_type": "code",
   "execution_count": 3,
   "metadata": {},
   "outputs": [
    {
     "name": "stdin",
     "output_type": "stream",
     "text": [
      " 5 5\n",
      " 6 3 1 19 0\n",
      " 5 1 3 7 8\n"
     ]
    },
    {
     "name": "stdout",
     "output_type": "stream",
     "text": [
      "0 6 19\n"
     ]
    }
   ],
   "source": [
    "n,m = input().split() \n",
    "A = {int(x) for x in input().split()}\n",
    "B = {int(x) for x in input().split()}\n",
    "C = set()\n",
    "for x in A:\n",
    "    if x not in B:\n",
    "        C.add(x)\n",
    "list_C = list(C)\n",
    "list_C.sort()\n",
    "print(*list_C)"
   ]
  },
  {
   "cell_type": "markdown",
   "metadata": {},
   "source": [
    "## <b>Problem 4</b>"
   ]
  },
  {
   "cell_type": "code",
   "execution_count": 4,
   "metadata": {},
   "outputs": [
    {
     "name": "stdin",
     "output_type": "stream",
     "text": [
      " 5\n",
      " 1 9 3 5 7\n",
      " 4 12 4 8 8\n"
     ]
    },
    {
     "name": "stdout",
     "output_type": "stream",
     "text": [
      "[9, 12] [5, 8] [1, 4]\n"
     ]
    }
   ],
   "source": [
    "# 4a. Choose activity with the latest finishing time\n",
    "\n",
    "# defining a class for each activity\n",
    "class Interval:\n",
    "    def __init__(self,start, finish):\n",
    "        self.start = start\n",
    "        self.finish = finish\n",
    "    def __str__(self):\n",
    "        return f'[{self.start}, {self.finish}]'\n",
    "    def __lt__(self, other): # order by decreasing finishing time\n",
    "        return self.finish > other.finish\n",
    "    def conflict(self, other):\n",
    "        if other.start >= self.finish:\n",
    "            return False\n",
    "        elif other.finish <= self.start:\n",
    "            return False\n",
    "        else:\n",
    "            return True\n",
    "\n",
    "# Input\n",
    "n = int(input()) # total number of available activities\n",
    "s = [int(x) for x in input().split()] # O(n)\n",
    "f = [int(x) for x in input().split()] # O(n)\n",
    "\n",
    "intervals = [Interval(s[i], f[i]) for i in range(n)]\n",
    "intervals.sort()\n",
    "solution = []\n",
    "solution.append(intervals[0]) # append the first activity in the list\n",
    "for I in intervals[1:]:\n",
    "    flag = 0 # to check if there's a conflict between the activities\n",
    "    for s in solution:\n",
    "        if s.conflict(I):\n",
    "            flag = 1 # flag = 1 means there's a conflict so we don't add the activity to the solution\n",
    "    if flag == 0:\n",
    "        solution.append(I)\n",
    "print(*solution)"
   ]
  },
  {
   "cell_type": "code",
   "execution_count": 6,
   "metadata": {},
   "outputs": [
    {
     "name": "stdin",
     "output_type": "stream",
     "text": [
      " 3\n",
      " 1 2 3\n",
      " 5 3 4\n"
     ]
    },
    {
     "name": "stdout",
     "output_type": "stream",
     "text": [
      "[1, 5]\n"
     ]
    }
   ],
   "source": [
    "# 4b. Choose activity with the earliest starting time\n",
    "\n",
    "# defining a class for each activity\n",
    "class Interval:\n",
    "    def __init__(self,start, finish):\n",
    "        self.start = start\n",
    "        self.finish = finish\n",
    "    def __str__(self):\n",
    "        return f'[{self.start}, {self.finish}]'\n",
    "    def __lt__(self, other): # order by increasing starting time\n",
    "        return self.start < other.start\n",
    "    def conflict(self, other):\n",
    "        if other.start >= self.finish:\n",
    "            return False\n",
    "        elif other.finish <= self.start:\n",
    "            return False\n",
    "        else:\n",
    "            return True\n",
    "\n",
    "# Input\n",
    "n = int(input()) # total number of available activities\n",
    "s = [int(x) for x in input().split()] # O(n)\n",
    "f = [int(x) for x in input().split()] # O(n)\n",
    "\n",
    "intervals = [Interval(s[i], f[i]) for i in range(n)]\n",
    "intervals.sort()\n",
    "solution = []\n",
    "solution.append(intervals[0]) # append the first activity in the list\n",
    "for I in intervals[1:]:\n",
    "    flag = 0 # to check if there's a conflict between the activities\n",
    "    for s in solution:\n",
    "        if s.conflict(I):\n",
    "            flag = 1 # flag = 1 means there's a conflict so we don't add the activity to the solution\n",
    "    if flag == 0:\n",
    "        solution.append(I)\n",
    "print(*solution)"
   ]
  },
  {
   "cell_type": "code",
   "execution_count": 8,
   "metadata": {},
   "outputs": [
    {
     "name": "stdin",
     "output_type": "stream",
     "text": [
      " 10\n",
      " 2 3 14 8 10 7 13 5 9 4\n",
      " 9 6 16 11 17 9 15 8 14 14\n"
     ]
    },
    {
     "name": "stdout",
     "output_type": "stream",
     "text": [
      "[14, 16] [9, 14] [7, 9] [3, 6]\n"
     ]
    }
   ],
   "source": [
    "# 4c. Choose activity with the latest starting time\n",
    "\n",
    "# defining a class for each activity\n",
    "class Interval:\n",
    "    def __init__(self,start, finish):\n",
    "        self.start = start\n",
    "        self.finish = finish\n",
    "    def __str__(self):\n",
    "        return f'[{self.start}, {self.finish}]'\n",
    "    def __lt__(self, other): # order by decreasing starting time\n",
    "        return self.start > other.start\n",
    "    def conflict(self, other):\n",
    "        if other.start >= self.finish:\n",
    "            return False\n",
    "        elif other.finish <= self.start:\n",
    "            return False\n",
    "        else:\n",
    "            return True\n",
    "\n",
    "# Input\n",
    "n = int(input()) # total number of available activities\n",
    "s = [int(x) for x in input().split()] # O(n)\n",
    "f = [int(x) for x in input().split()] # O(n)\n",
    "\n",
    "intervals = [Interval(s[i], f[i]) for i in range(n)]\n",
    "intervals.sort()\n",
    "solution = []\n",
    "solution.append(intervals[0]) # append the first activity in the list\n",
    "for I in intervals[1:]:\n",
    "    flag = 0 # to check if there's a conflict between the activities\n",
    "    for s in solution:\n",
    "        if s.conflict(I):\n",
    "            flag = 1 # flag = 1 means there's a conflict so we don't add the activity to the solution\n",
    "    if flag == 0:\n",
    "        solution.append(I)\n",
    "print(*solution)"
   ]
  },
  {
   "cell_type": "code",
   "execution_count": 33,
   "metadata": {},
   "outputs": [
    {
     "name": "stdin",
     "output_type": "stream",
     "text": [
      " 10\n",
      " 2 3 14 8 10 7 13 5 9 4\n",
      " 9 6 16 11 17 9 15 8 14 14\n"
     ]
    },
    {
     "name": "stdout",
     "output_type": "stream",
     "text": [
      "[14, 16] [7, 9] [3, 6] [9, 14]\n"
     ]
    }
   ],
   "source": [
    "# 4d. Choose activity with the shortest duration\n",
    "\n",
    "# defining a class for each activity\n",
    "class Interval:\n",
    "    def __init__(self,start, finish):\n",
    "        self.start = start\n",
    "        self.finish = finish\n",
    "    def __str__(self):\n",
    "        return f'[{self.start}, {self.finish}]'\n",
    "    def __lt__(self, other): # order by increasing duration\n",
    "        return self.finish - self.start < other.finish - other.start\n",
    "    def conflict(self, other):\n",
    "        if other.start >= self.finish:\n",
    "            return False\n",
    "        elif other.finish <= self.start:\n",
    "            return False\n",
    "        else:\n",
    "            return True\n",
    "\n",
    "# Input\n",
    "n = int(input()) # total number of available activities\n",
    "s = [int(x) for x in input().split()] # O(n)\n",
    "f = [int(x) for x in input().split()] # O(n)\n",
    "\n",
    "intervals = [Interval(s[i], f[i]) for i in range(n)]\n",
    "intervals.sort()\n",
    "solution = []\n",
    "solution.append(intervals[0]) # append the first activity in the list\n",
    "for I in intervals[1:]:\n",
    "    flag = 0 # to check if there's a conflict between the activities\n",
    "    for s in solution:\n",
    "        if s.conflict(I):\n",
    "            flag = 1 # flag = 1 means there's a conflict so we don't add the activity to the solution\n",
    "    if flag == 0:\n",
    "        solution.append(I)\n",
    "print(*solution)"
   ]
  },
  {
   "cell_type": "code",
   "execution_count": 9,
   "metadata": {},
   "outputs": [
    {
     "name": "stdin",
     "output_type": "stream",
     "text": [
      " 10 \n",
      " 2 3 14 8 10 7 13 5 9 4\n",
      " 9 6 16 11 17 9 15 8 14 14\n"
     ]
    },
    {
     "name": "stdout",
     "output_type": "stream",
     "text": [
      "[3, 6] [7, 9] [9, 14] [14, 16]\n"
     ]
    }
   ],
   "source": [
    "# Optimal Solution: choose activity with earliest finishing time (from the notes)\n",
    "class Interval:\n",
    "    def __init__(self, s, f):\n",
    "        self.start = s\n",
    "        self.finish = f\n",
    "    def __str__(self):\n",
    "        return f\"[{self.start}, {self.finish}]\"\n",
    "    def __lt__(self, other): # order by increasing finish time\n",
    "        return self.finish < other.finish\n",
    "n = int(input())\n",
    "s = [int(x) for x in input().split()]\n",
    "f = [int(x) for x in input().split()]\n",
    "intervals = [Interval(s[i], f[i]) for i in range(n)]\n",
    "intervals.sort()\n",
    "last_finishing_time = 0\n",
    "solution = []\n",
    "for I in intervals:\n",
    "    if last_finishing_time <= I.start:\n",
    "        solution.append(I)\n",
    "        last_finishing_time = I.finish\n",
    "print(*solution)\n"
   ]
  },
  {
   "cell_type": "markdown",
   "metadata": {},
   "source": [
    "## <b>Problem 5</b>"
   ]
  },
  {
   "cell_type": "code",
   "execution_count": 1,
   "metadata": {},
   "outputs": [
    {
     "name": "stdin",
     "output_type": "stream",
     "text": [
      " 4\n",
      " 3 3 2 2\n",
      " 5\n"
     ]
    },
    {
     "name": "stdout",
     "output_type": "stream",
     "text": [
      "[[3], [3, 2], [2]]\n",
      "3\n"
     ]
    }
   ],
   "source": [
    "n = int(input()) # number of containers\n",
    "W = [int(x) for x in input().split()] # containers\n",
    "K = int(input()) # max weight\n",
    "weights = []\n",
    "# We only load the weights equal to or under K into the trucks\n",
    "for weight in W:\n",
    "    if weight <= K:\n",
    "        weights.append(weight)\n",
    "trucks = []\n",
    "checker = True# to check if the weights list still has containers\n",
    "if weights == []:\n",
    "    checker = False \n",
    "while checker:\n",
    "    truck = []\n",
    "    weight = 0\n",
    "    for y in range(n):\n",
    "        w = weights[0]\n",
    "        weight += w\n",
    "        if weight > K: # check if the truck is overweight\n",
    "            break\n",
    "        truck.append(w)\n",
    "        del weights[0]\n",
    "        if len(weights) == 0: # If there are no more containers, we end the loop\n",
    "            checker = False\n",
    "            break\n",
    "    trucks.append(truck)\n",
    "\n",
    "print(trucks)\n",
    "print(len(trucks))\n",
    "        "
   ]
  },
  {
   "cell_type": "code",
   "execution_count": null,
   "metadata": {},
   "outputs": [],
   "source": []
  }
 ],
 "metadata": {
  "kernelspec": {
   "display_name": "Python 3",
   "language": "python",
   "name": "python3"
  },
  "language_info": {
   "codemirror_mode": {
    "name": "ipython",
    "version": 3
   },
   "file_extension": ".py",
   "mimetype": "text/x-python",
   "name": "python",
   "nbconvert_exporter": "python",
   "pygments_lexer": "ipython3",
   "version": "3.8.3"
  }
 },
 "nbformat": 4,
 "nbformat_minor": 5
}
