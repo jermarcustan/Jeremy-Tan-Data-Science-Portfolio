{
 "cells": [
  {
   "cell_type": "markdown",
   "metadata": {},
   "source": [
    "# Problem Set 3: Jeremy Marcus Tan"
   ]
  },
  {
   "cell_type": "markdown",
   "metadata": {},
   "source": [
    "## Problem 1"
   ]
  },
  {
   "cell_type": "code",
   "execution_count": 24,
   "metadata": {},
   "outputs": [
    {
     "data": {
      "text/plain": [
       "[<matplotlib.lines.Line2D at 0x183f859cd60>]"
      ]
     },
     "execution_count": 24,
     "metadata": {},
     "output_type": "execute_result"
    },
    {
     "data": {
      "image/png": "[encoded data removed]",
      "text/plain": [
       "<Figure size 432x288 with 1 Axes>"
      ]
     },
     "metadata": {
      "needs_background": "light"
     },
     "output_type": "display_data"
    }
   ],
   "source": [
    "import matplotlib.pyplot as plt\n",
    "import numpy as np\n",
    "from scipy import stats\n",
    "\n",
    "def generate_X(n):\n",
    "    u = stats.uniform.rvs(size = n)\n",
    "    # Note: If U is from the uniform distribution from (0,1), then 1-U is also from the same distribution. \n",
    "    x = np.sqrt(-np.log(u)) \n",
    "    return x\n",
    "\n",
    "samples = generate_X(n = 10000)\n",
    "plt.hist(samples, bins=30, density=True)\n",
    "xs = np.linspace(0, 5, 1000) \n",
    "ys = 2*xs*np.exp(-(xs)**2) \n",
    "plt.plot(xs, ys)\n",
    "\n"
   ]
  },
  {
   "cell_type": "markdown",
   "metadata": {},
   "source": [
    "## Problem 2"
   ]
  },
  {
   "cell_type": "code",
   "execution_count": 41,
   "metadata": {},
   "outputs": [],
   "source": [
    "import math\n",
    "import random as rand\n",
    "\n",
    "# target pdf\n",
    "def f(x):\n",
    "    return 2*x*math.exp(-x**2)\n",
    "\n",
    "# proposal pdf\n",
    "def g(x):\n",
    "    return math.exp(-x)\n",
    "\n",
    "def accept_reject():\n",
    "    C = 2 #optimal value for C\n",
    "    while True:\n",
    "        x = rand.expovariate(1)\n",
    "        y = rand.uniform(0, C*g(x))\n",
    "        if y <= f(x):\n",
    "            break\n",
    "    return x\n"
   ]
  },
  {
   "cell_type": "code",
   "execution_count": 43,
   "metadata": {},
   "outputs": [
    {
     "data": {
      "text/plain": [
       "[<matplotlib.lines.Line2D at 0x183fa81f370>]"
      ]
     },
     "execution_count": 43,
     "metadata": {},
     "output_type": "execute_result"
    },
    {
     "data": {
      "image/png": "[encoded data removed]",
      "text/plain": [
       "<Figure size 432x288 with 1 Axes>"
      ]
     },
     "metadata": {
      "needs_background": "light"
     },
     "output_type": "display_data"
    }
   ],
   "source": [
    "# We plot a histogram compared against the target pdf\n",
    "\n",
    "samples = [accept_reject() for _ in range(10000)]\n",
    "plt.hist(samples, bins = 50, density=True)\n",
    "xs = np.linspace(0, 5, 1000) \n",
    "ys = 2*xs*np.exp(-(xs)**2)\n",
    "plt.plot(xs, ys)\n"
   ]
  },
  {
   "cell_type": "code",
   "execution_count": 40,
   "metadata": {},
   "outputs": [
    {
     "name": "stdout",
     "output_type": "stream",
     "text": [
      "accepted 10000 points out of 20018\n",
      "observed empirical efficiency 0.4995504046358278\n"
     ]
    }
   ],
   "source": [
    "# Check the efficiency of the accept-reject method until the algorithm accepts 10,000 points\n",
    "# It should be equal to 1/C = 1/2\n",
    "\n",
    "num_accepted = 0\n",
    "num_rejected = 0\n",
    "\n",
    "def accept_reject():\n",
    "    global num_accepted, num_rejected\n",
    "    C = 2 #optimal value for C\n",
    "    while True:\n",
    "        x = rand.expovariate(1)\n",
    "        y = rand.uniform(0, C*g(x))\n",
    "        if y <= f(x):\n",
    "            num_accepted += 1\n",
    "            break\n",
    "        else:\n",
    "            num_rejected += 1\n",
    "    return x\n",
    "\n",
    "samples = [accept_reject() for i in range(10000)]\n",
    "print(f\"accepted {num_accepted} points out of {num_accepted + num_rejected}\")\n",
    "print(f\"observed empirical efficiency {num_accepted / (num_accepted + num_rejected)}\")\n"
   ]
  },
  {
   "cell_type": "markdown",
   "metadata": {},
   "source": [
    "## Problem 3"
   ]
  },
  {
   "cell_type": "code",
   "execution_count": 2,
   "metadata": {},
   "outputs": [],
   "source": [
    "import random as rand\n",
    "\n",
    "def simulate_snakes():\n",
    "    # set up initial state of the simulation\n",
    "    initial_state = 1\n",
    "    X = 0 # number of tosses\n",
    "    states = [initial_state]\n",
    "    while states[-1] != 20: # terminate once you land at tile 20\n",
    "        X += 1\n",
    "        curr_state = states[-1] # obtain the current state\n",
    "        dice_roll = rand.randint(1,6)\n",
    "        if curr_state + dice_roll <= 20:\n",
    "            next_state = curr_state + dice_roll\n",
    "\n",
    "        elif curr_state + dice_roll > 20:\n",
    "            # if you dice over 20, you go back the number of tiles you are over 20\n",
    "            bounce_back = curr_state + dice_roll - 20\n",
    "            next_state = 20 - bounce_back\n",
    "            \n",
    "        # Ladders\n",
    "        \n",
    "        if next_state == 3:\n",
    "            next_state = 11\n",
    "        if next_state == 15:\n",
    "            next_state = 19\n",
    "            \n",
    "        # Snakes\n",
    "        \n",
    "        if next_state == 13:\n",
    "            next_state = 4\n",
    "        if next_state == 17:  \n",
    "            next_state = 10\n",
    "        states.append(next_state)\n",
    "    return X, states\n",
    "\n"
   ]
  },
  {
   "cell_type": "code",
   "execution_count": 4,
   "metadata": {},
   "outputs": [
    {
     "name": "stdout",
     "output_type": "stream",
     "text": [
      "The sample mean is 13.542000000000002\n",
      "The sample variance is 86.08513685136039\n",
      "The 95% confidence interval of E(X) is (13.484493073310412,13.59950692668959)\n",
      "The absolute width of the confidence interval is 0.11501385337917967\n"
     ]
    }
   ],
   "source": [
    "import math\n",
    "N = 100000 # number of simulation runs\n",
    "samples_X = []\n",
    "rand.seed(40)\n",
    "# 95% confidence interval\n",
    "\n",
    "Z_val = 1.96 # given alpha/2 = 0.25 (for two tailed test)\n",
    "\n",
    "def mean(samples):\n",
    "    n = len(samples)\n",
    "    mean = 0\n",
    "    for i in range(n):\n",
    "        mean += samples[i]\n",
    "    mean = (1/n) * (mean)\n",
    "    return mean\n",
    "\n",
    "\n",
    "def sample_variance(samples):\n",
    "    number = len(samples)\n",
    "    m = mean(samples)\n",
    "    sv = 0\n",
    "    for i in range(number):\n",
    "        sv += (samples[i] - m)**2\n",
    "    var = (1/(number - 1))*sv\n",
    "\n",
    "    return var\n",
    "\n",
    "    \n",
    "for i in range(N):\n",
    "    X, states = simulate_snakes()\n",
    "    samples_X.append(X)\n",
    "\n",
    "# Estimate E(X) and generate a 95% confidence interval\n",
    "sample_mean = mean(samples_X)\n",
    "sample_variance = sample_variance(samples_X)\n",
    "print(f'The sample mean is {sample_mean}')\n",
    "print(f'The sample variance is {sample_variance}')\n",
    "print(f'The 95% confidence interval of E(X) is ({sample_mean - Z_val*(math.sqrt(sample_variance)/math.sqrt(N))},{sample_mean + Z_val*(math.sqrt(sample_variance)/math.sqrt(N))})')\n",
    "print(f'The absolute width of the confidence interval is {2*Z_val*(math.sqrt(sample_variance)/math.sqrt(N))}')\n"
   ]
  },
  {
   "cell_type": "markdown",
   "metadata": {},
   "source": [
    "## Problem 4"
   ]
  },
  {
   "cell_type": "code",
   "execution_count": 231,
   "metadata": {},
   "outputs": [],
   "source": [
    "# Markov Jump Process\n",
    "\n",
    "import random as rand\n",
    "def simulate_mouse(initial, end_time):\n",
    "    # We create a list T which stores the amount of time in seconds that the mouse stays in each room\n",
    "    T = [0,0,0,0,0,0,0] # T[i] is the amount of time spent in room i \n",
    "    rooms = [initial] # the sequence of rooms where the mouse is located\n",
    "    times = [0] # the associated jump times for each state (in seconds)\n",
    "    while times[-1] < end_time: # while current time < end time\n",
    "        # retrieve current state of simulation\n",
    "        curr_room = rooms[-1] \n",
    "        curr_time = times[-1] \n",
    "        # compute next room and holding time\n",
    "        if curr_room == 1:\n",
    "            next_room = rand.choices([2,3])[0]\n",
    "            # The expected value for the exponential distribution is 1/lambda\n",
    "            holding_time = rand.expovariate(1/2) # the parameter of the function is lambda so set it as 1/mean time spent\n",
    "            T[1] += holding_time\n",
    "        elif curr_room == 2:\n",
    "            next_room = 1\n",
    "            holding_time = rand.expovariate(1/4)\n",
    "            T[2] += holding_time\n",
    "        elif curr_room == 3:\n",
    "            next_room = rand.choices([1,4])[0]\n",
    "            holding_time = rand.expovariate(1/2)\n",
    "            T[3] += holding_time\n",
    "        elif curr_room == 4:\n",
    "            next_room = rand.choices([3,5,6])[0]\n",
    "            holding_time = rand.expovariate(1/2)\n",
    "            T[4] += holding_time\n",
    "        elif curr_room == 5:\n",
    "            next_room = rand.choices([4,6])[0]\n",
    "            holding_time = rand.expovariate(1/4)\n",
    "            T[5] += holding_time\n",
    "        elif curr_room == 6:\n",
    "            next_room = rand.choices([4,5])[0]\n",
    "            holding_time = rand.expovariate(1/4)  \n",
    "            T[6] += holding_time\n",
    "        # update simulation\n",
    "        curr_time += holding_time\n",
    "        times.append(curr_time)\n",
    "        rooms.append(next_room)\n",
    "    return rooms, times, T[1], T[2], T[3], T[4], T[5], T[6]"
   ]
  },
  {
   "cell_type": "code",
   "execution_count": 237,
   "metadata": {},
   "outputs": [
    {
     "name": "stdout",
     "output_type": "stream",
     "text": [
      "The sample mean for T[1] is 1274.6188219036376 seconds\n",
      "The sample variance for T[1] is 11715.582613043744 seconds\n",
      "The 95% confidence interval of T[1] is (1267.9101273833699,1281.3275164239053)\n",
      "The relative error of T[1] is 0.002685354450952806\n",
      "\n",
      "\n",
      "The sample mean for T[2] is 1278.019907385164 seconds\n",
      "The sample variance for T[2] is 19249.207810400832 seconds\n",
      "The 95% confidence interval of T[2] is (1269.4206192329716,1286.6191955373565)\n",
      "The relative error of T[2] is 0.0034329605423443553\n",
      "\n",
      "\n",
      "The sample mean for T[3] is 1272.1513338369596 seconds\n",
      "The sample variance for T[3] is 6595.518039449155 seconds\n",
      "The 95% confidence interval of T[3] is (1267.1177126652435,1277.1849550086756)\n",
      "The relative error of T[3] is 0.0020187645910460504\n",
      "\n",
      "\n",
      "The sample mean for T[4] is 1902.9002783911144 seconds\n",
      "The sample variance for T[4] is 6972.3870965428205 seconds\n",
      "The 95% confidence interval of T[4] is (1897.724843890507,1908.0757128917219)\n",
      "The relative error of T[4] is 0.0013876333071247253\n",
      "\n",
      "\n",
      "The sample mean for T[5] is 2539.946844633425 seconds\n",
      "The sample variance for T[5] is 21621.098451866408 seconds\n",
      "The 95% confidence interval of T[5] is (2530.8331400182483,2549.0605492486015)\n",
      "The relative error of T[5] is 0.0018306876394999906\n",
      "\n",
      "\n",
      "The sample mean for T[6] is 2535.520947819567 seconds\n",
      "The sample variance for T[6] is 21022.612958720674 seconds\n",
      "The 95% confidence interval of T[6] is (2526.534264897475,2544.507630741659)\n",
      "The relative error of T[6] is 0.001808323575923426\n"
     ]
    }
   ],
   "source": [
    "end_time = 10800 # the number of seconds in three hours\n",
    "N = 1000 # number of simulation runs\n",
    "rand.seed(50)\n",
    "# Create a list that stores the T values for the simulation runs\n",
    "samples_T1 = [] \n",
    "samples_T2 = []\n",
    "samples_T3 = []\n",
    "samples_T4 = []\n",
    "samples_T5 = []\n",
    "samples_T6 = []\n",
    "\n",
    "def mean(samples):\n",
    "    n = len(samples)\n",
    "    mean = 0\n",
    "    for i in range(n):\n",
    "        mean += samples[i]\n",
    "    mean = (1/n) * (mean)\n",
    "    return mean\n",
    "\n",
    "\n",
    "def sample_variance(samples):\n",
    "    number = len(samples)\n",
    "    m = mean(samples)\n",
    "    sv = 0\n",
    "    for i in range(number):\n",
    "        sv += (samples[i] - m)**2\n",
    "    var = (1/(number - 1))*sv\n",
    "\n",
    "    return var\n",
    "\n",
    "\n",
    "for i in range(N):\n",
    "    rooms, times, t1, t2, t3, t4, t5, t6 = simulate_mouse(1, end_time) # the mouse starts in compartment 1\n",
    "    samples_T1.append(t1)\n",
    "    samples_T2.append(t2)\n",
    "    samples_T3.append(t3)\n",
    "    samples_T4.append(t4)\n",
    "    samples_T5.append(t5)\n",
    "    samples_T6.append(t6)\n",
    "\n",
    "# Estimate T[i] which is the total time spent by the mouse in room i\n",
    "# Generate 95% confidence intervals for T[i]\n",
    "\n",
    "Z_val = 1.96 # given alpha/2 = 0.25 (for two tailed test)\n",
    "\n",
    "mean_t1 = mean(samples_T1)\n",
    "variance_t1 = sample_variance(samples_T1)\n",
    "print(f'The sample mean for T[1] is {mean_t1} seconds')\n",
    "print(f'The sample variance for T[1] is {variance_t1} seconds')\n",
    "print(f'The 95% confidence interval of T[1] is ({mean_t1 - Z_val*(math.sqrt(variance_t1)/math.sqrt(N))},{mean_t1 + Z_val*(math.sqrt(variance_t1)/math.sqrt(N))})')\n",
    "print(f'The relative error of T[1] is {math.sqrt(variance_t1)/(mean_t1 * math.sqrt(N))}')\n",
    "\n",
    "print('\\n')\n",
    "\n",
    "mean_t2 = mean(samples_T2)\n",
    "variance_t2 = sample_variance(samples_T2)\n",
    "print(f'The sample mean for T[2] is {mean_t2} seconds')\n",
    "print(f'The sample variance for T[2] is {variance_t2} seconds')\n",
    "print(f'The 95% confidence interval of T[2] is ({mean_t2 - Z_val*(math.sqrt(variance_t2)/math.sqrt(N))},{mean_t2 + Z_val*(math.sqrt(variance_t2)/math.sqrt(N))})')\n",
    "print(f'The relative error of T[2] is {math.sqrt(variance_t2)/(mean_t2 * math.sqrt(N))}')\n",
    "\n",
    "print('\\n')\n",
    "\n",
    "mean_t3 = mean(samples_T3)\n",
    "variance_t3 = sample_variance(samples_T3)\n",
    "print(f'The sample mean for T[3] is {mean_t3} seconds')\n",
    "print(f'The sample variance for T[3] is {variance_t3} seconds')\n",
    "print(f'The 95% confidence interval of T[3] is ({mean_t3 - Z_val*(math.sqrt(variance_t3)/math.sqrt(N))},{mean_t3 + Z_val*(math.sqrt(variance_t3)/math.sqrt(N))})')\n",
    "print(f'The relative error of T[3] is {math.sqrt(variance_t3)/(mean_t3 * math.sqrt(N))}')\n",
    "\n",
    "print('\\n')\n",
    "\n",
    "mean_t4 = mean(samples_T4)\n",
    "variance_t4 = sample_variance(samples_T4)\n",
    "print(f'The sample mean for T[4] is {mean_t4} seconds')\n",
    "print(f'The sample variance for T[4] is {variance_t4} seconds')\n",
    "print(f'The 95% confidence interval of T[4] is ({mean_t4 - Z_val*(math.sqrt(variance_t4)/math.sqrt(N))},{mean_t4 + Z_val*(math.sqrt(variance_t4)/math.sqrt(N))})')\n",
    "print(f'The relative error of T[4] is {math.sqrt(variance_t4)/(mean_t4 * math.sqrt(N))}')\n",
    "\n",
    "print('\\n')\n",
    "\n",
    "mean_t5 = mean(samples_T5)\n",
    "variance_t5 = sample_variance(samples_T5)\n",
    "print(f'The sample mean for T[5] is {mean_t5} seconds')\n",
    "print(f'The sample variance for T[5] is {variance_t5} seconds')\n",
    "print(f'The 95% confidence interval of T[5] is ({mean_t5 - Z_val*(math.sqrt(variance_t5)/math.sqrt(N))},{mean_t5 + Z_val*(math.sqrt(variance_t5)/math.sqrt(N))})')\n",
    "print(f'The relative error of T[5] is {math.sqrt(variance_t5)/(mean_t5 * math.sqrt(N))}')\n",
    "\n",
    "print('\\n')\n",
    "\n",
    "mean_t6 = mean(samples_T6)\n",
    "variance_t6 = sample_variance(samples_T6)\n",
    "print(f'The sample mean for T[6] is {mean_t6} seconds')\n",
    "print(f'The sample variance for T[6] is {variance_t6} seconds')\n",
    "print(f'The 95% confidence interval of T[6] is ({mean_t6 - Z_val*(math.sqrt(variance_t6)/math.sqrt(N))},{mean_t6 + Z_val*(math.sqrt(variance_t6)/math.sqrt(N))})')\n",
    "print(f'The relative error of T[6] is {math.sqrt(variance_t6)/(mean_t6 * math.sqrt(N))}')"
   ]
  },
  {
   "cell_type": "code",
   "execution_count": null,
   "metadata": {},
   "outputs": [],
   "source": []
  }
 ],
 "metadata": {
  "kernelspec": {
   "display_name": "Python 3",
   "language": "python",
   "name": "python3"
  },
  "language_info": {
   "codemirror_mode": {
    "name": "ipython",
    "version": 3
   },
   "file_extension": ".py",
   "mimetype": "text/x-python",
   "name": "python",
   "nbconvert_exporter": "python",
   "pygments_lexer": "ipython3",
   "version": "3.8.3"
  }
 },
 "nbformat": 4,
 "nbformat_minor": 4
}
