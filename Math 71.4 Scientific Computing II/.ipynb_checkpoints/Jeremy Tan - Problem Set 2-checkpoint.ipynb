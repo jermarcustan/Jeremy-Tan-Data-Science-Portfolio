{
 "cells": [
  {
   "cell_type": "markdown",
   "metadata": {},
   "source": [
    "# Problem Set 2\n",
    "Name: Jeremy Tan <br>\n",
    "Date: March 8, 2024"
   ]
  },
  {
   "cell_type": "markdown",
   "metadata": {},
   "source": [
    "## Problem 2A"
   ]
  },
  {
   "cell_type": "code",
   "execution_count": 1,
   "metadata": {},
   "outputs": [],
   "source": [
    "P = [] # list of points (x-coor,y-coor)\n",
    "\n",
    "with open(\"seg_ls.txt\", \"r\") as file:\n",
    "    n = file.readline()\n",
    "    for line in file:\n",
    "        x,y = line.split(\" \")\n",
    "        x = float(x)\n",
    "        y = float(y)\n",
    "        P.append([x,y])\n",
    "\n",
    "\n",
    "# We have to sort by increasing x-coordinate\n",
    "sorted_points = sorted(P, key=lambda P: P[0])"
   ]
  },
  {
   "cell_type": "code",
   "execution_count": 2,
   "metadata": {},
   "outputs": [],
   "source": [
    "n = 1000 # we have 1000 points\n",
    "points = sorted_points\n",
    "# Precompute the prefix sums\n",
    "P_sum_x = [0]\n",
    "P_sum_y = [0]\n",
    "P_sum_x2 = [0]\n",
    "P_sum_y2 = [0]\n",
    "P_sum_xy = [0]\n",
    "\n",
    "# The prefix sum arrays start at index 1 until index n\n",
    "for i in range(1, n+1):\n",
    "    P_sum_x.append(P_sum_x[i-1] + points[i-1][0])\n",
    "    P_sum_y.append(P_sum_y[i-1] + points[i-1][1])\n",
    "    P_sum_x2.append(P_sum_x2[i-1] + (points[i-1][0])**2)\n",
    "    P_sum_y2.append(P_sum_y2[i-1] + (points[i-1][1])**2)\n",
    "    P_sum_xy.append(P_sum_xy[i-1] + (points[i-1][0]*points[i-1][1]))\n",
    "    "
   ]
  },
  {
   "cell_type": "code",
   "execution_count": 4,
   "metadata": {},
   "outputs": [
    {
     "name": "stdout",
     "output_type": "stream",
     "text": [
      "294090.4364505969\n"
     ]
    }
   ],
   "source": [
    "def partial_sum(arr, i, j):\n",
    "    return arr[j] - arr[i-1]  \n",
    "\n",
    "def L(i, j):\n",
    "    \"\"\"\n",
    "  Calculates the least squares regression coefficients for a set of points.\n",
    "\n",
    "  Args:\n",
    "      i - left index \n",
    "      j - right index\n",
    "\n",
    "  Returns:\n",
    "      Slope - slope of the least squares line\n",
    "      Intercept - intercept of the least squares line\n",
    "      Error - sum of squared errors after performing simple linear regression\n",
    "    \"\"\"\n",
    "    n = j - i + 1 # number of points\n",
    "    # solve for the slope and y-intercept\n",
    "    slope = ((n*partial_sum(P_sum_xy, i, j)) - (partial_sum(P_sum_x, i,j)*partial_sum(P_sum_y, i,j))) / ((n*partial_sum(P_sum_x2, i,j)) - (partial_sum(P_sum_x,i,j))**2)\n",
    "    intercept = (partial_sum(P_sum_y, i,j) - slope*partial_sum(P_sum_x,i,j))/n\n",
    "    \n",
    "    # Calculate total error (sum of squared residuals)\n",
    "    error = n*(intercept**2) + 2*intercept*slope*partial_sum(P_sum_x,i,j) + (slope**2)*partial_sum(P_sum_x2,i,j) - 2*intercept*partial_sum(P_sum_y,i,j) - 2*slope*partial_sum(P_sum_xy,i,j) + partial_sum(P_sum_y2,i,j)\n",
    "    return slope, intercept, error\n",
    "\n",
    "def least_squares(j,k):\n",
    "    if (j,k) in memo:\n",
    "        return memo[j,k]\n",
    "    else: \n",
    "        if j == 0:\n",
    "            minimum_error = 0\n",
    "            \n",
    "        # Only one line left\n",
    "        elif k == 1:\n",
    "            slope, intercept, minimum_error = L(1,j)\n",
    "        else:\n",
    "            minimum_error = float('inf')\n",
    "            for i in range(2*k - 1, j):\n",
    "                slope, intercept, error = L(i, j)\n",
    "                penalty = error + least_squares(i-1, k-1)\n",
    "                # Get the minimum error\n",
    "                if penalty < minimum_error:\n",
    "                    minimum_error = penalty\n",
    "                    min_i = i\n",
    "                    # Save the partition of the best fitting line\n",
    "                partitions[j,k] = min_i \n",
    "\n",
    "        memo[j,k] = minimum_error\n",
    "        \n",
    "    return memo[j,k]\n",
    "                \n",
    "            \n",
    "\n",
    "\n",
    "memo = dict()\n",
    "\n",
    "partitions = dict() # used to store the \n",
    "\n",
    "print(least_squares(n,3)) # set k = 3 lines\n",
    "\n"
   ]
  },
  {
   "cell_type": "code",
   "execution_count": 5,
   "metadata": {},
   "outputs": [
    {
     "name": "stdout",
     "output_type": "stream",
     "text": [
      "677\n",
      "324\n"
     ]
    }
   ],
   "source": [
    "# We have to find the point i for the first least squares line:\n",
    "print(partitions[1000,3]) # output is i = 677\n",
    "# The first least squares line goes from i = 677 to j = 1000\n",
    "\n",
    "# For the next line, we look at partitions[i-1, k-1] = partitions[676, 2]\n",
    "print(partitions[676,2]) # output is i = 324\n",
    "\n",
    "# For the third (last) line, we already know that it is from i = 1 to j = 323\n"
   ]
  },
  {
   "cell_type": "code",
   "execution_count": 6,
   "metadata": {},
   "outputs": [
    {
     "name": "stdout",
     "output_type": "stream",
     "text": [
      "Least Squares Lines:\n",
      "The first line is y = 2.6198719328315083x + 41.41697391132595 with endpoints: [0.599, 8.2329] to [168.6967, 446.1948]\n",
      "The second line is y = -0.08277141390232377x + 499.52630522715805 with endpoints: [170.4067, 447.1715] to [341.5237, 435.9841]\n",
      "The third line is y = -2.7978472945909423x + 1428.2028072016205 with endpoints: [343.1398, 441.3405] to [498.5574, -0.9299]\n"
     ]
    }
   ],
   "source": [
    "print('Least Squares Lines:')\n",
    "slope_1, intercept_1, error_1 = L(677, 1000)\n",
    "slope_2, intercept_2, error_2 = L(324, 676)\n",
    "slope_3, intercept_3, error_3 = L(1, 323)\n",
    "\n",
    "# We reorder the line numbering so the first line starts with i = 1\n",
    "print(f'The first line is y = {slope_3}x + {intercept_3} with endpoints: {points[0]} to {points[322]}')\n",
    "print(f'The second line is y = {slope_2}x + {intercept_2} with endpoints: {points[323]} to {points[675]}')\n",
    "print(f'The third line is y = {slope_1}x + {intercept_1} with endpoints: {points[676]} to {points[999]}')"
   ]
  },
  {
   "cell_type": "markdown",
   "metadata": {},
   "source": [
    "## Problem 2b"
   ]
  },
  {
   "cell_type": "code",
   "execution_count": 149,
   "metadata": {},
   "outputs": [
    {
     "name": "stdout",
     "output_type": "stream",
     "text": [
      "100109.20639497414\n"
     ]
    }
   ],
   "source": [
    "def least_squares_arbitary(C):\n",
    "    # base case\n",
    "    f[0] = 0\n",
    "\n",
    "    for j in range(1, n+1):\n",
    "        minimum_error = float('inf')\n",
    "\n",
    "        # Find the minimum penalty per j\n",
    "        for i in range(1,j):\n",
    "            slope, intercept, error = L(i, j)\n",
    "            penalty = error + C + f[i-1]\n",
    "\n",
    "            if penalty <  minimum_error:\n",
    "                minimum_error = penalty\n",
    "\n",
    "                # Given j find the optimal i\n",
    "                partitions2[j] = i\n",
    "\n",
    "        f[j] = minimum_error\n",
    "    return f[j]\n",
    "\n",
    "f = [None] * (n+1)\n",
    "partitions2 = dict() # save the optimal i for each j\n",
    "\n",
    "C = 10000 # cost per line\n",
    "min_error = least_squares_arbitary(C)\n",
    "print(min_error)"
   ]
  },
  {
   "cell_type": "code",
   "execution_count": 157,
   "metadata": {},
   "outputs": [
    {
     "name": "stdout",
     "output_type": "stream",
     "text": [
      "841\n",
      "677\n",
      "497\n",
      "313\n",
      "157\n",
      "1\n"
     ]
    }
   ],
   "source": [
    "# Similar to 2a we check the partitions2 dictionary to find the partitions of the least squares lines\n",
    "\n",
    "print(partitions2[1000]) # First Line - output is i = 841\n",
    "print(partitions2[840]) # Second Line - output is i = 677\n",
    "print(partitions2[676]) # Third Line - output is i = 497\n",
    "print(partitions2[496]) # Fourth Line - output is i = 313\n",
    "print(partitions2[312]) # Fifth Line - output is i = 157\n",
    "print(partitions2[156]) # Sixth Line - output is i = 1\n"
   ]
  },
  {
   "cell_type": "code",
   "execution_count": 159,
   "metadata": {},
   "outputs": [
    {
     "name": "stdout",
     "output_type": "stream",
     "text": [
      "Least Squares Lines:\n",
      "The first line is y = 3.2698572772406687x + 11.47512592259059 with endpoints: [0.599, 8.2329] to [86.9667, 294.2807]\n",
      "The second line is y = 1.975571957171812x + 125.49428628367815 with endpoints: [88.7357, 287.2646] to [163.5283, 445.1173]\n",
      "The third line is y = 0.7051310552970829x + 334.1239676269403 with endpoints: [164.7958, 433.1884] to [250.3958, 499.4984]\n",
      "The fourth line is y = -0.767198281558675x + 704.0776964268915 with endpoints: [252.0358, 505.7027] to [341.5237, 435.9841]\n",
      "The fifth line is y = -2.1598034478458956x + 1182.461368158822 with endpoints: [343.1398, 441.3405] to [421.9327, 265.6377]\n",
      "The sixth line is y = -3.3706682936738726x + 1693.969139518941 with endpoints: [422.7515, 262.1774] to [498.5574, -0.9299]\n"
     ]
    }
   ],
   "source": [
    "print('Least Squares Lines:')\n",
    "slope_1, intercept_1, error_1 = L(841, 1000)\n",
    "slope_2, intercept_2, error_2 = L(677, 840)\n",
    "slope_3, intercept_3, error_3 = L(497, 676)\n",
    "slope_4, intercept_4, error_4 = L(313, 496)\n",
    "slope_5, intercept_5, error_5 = L(157, 312)\n",
    "slope_6, intercept_6, error_6 = L(1, 156)\n",
    "\n",
    "# We reorder the line numbering so the first line starts with i = 1\n",
    "print(f'The first line is y = {slope_6}x + {intercept_6} with endpoints: {points[0]} to {points[155]}')\n",
    "print(f'The second line is y = {slope_5}x + {intercept_5} with endpoints: {points[156]} to {points[311]}')\n",
    "print(f'The third line is y = {slope_4}x + {intercept_4} with endpoints: {points[312]} to {points[495]}')\n",
    "print(f'The fourth line is y = {slope_3}x + {intercept_3} with endpoints: {points[496]} to {points[675]}')\n",
    "print(f'The fifth line is y = {slope_2}x + {intercept_2} with endpoints: {points[676]} to {points[839]}')\n",
    "print(f'The sixth line is y = {slope_1}x + {intercept_1} with endpoints: {points[840]} to {points[999]}')"
   ]
  },
  {
   "cell_type": "markdown",
   "metadata": {},
   "source": [
    "## Problem 3"
   ]
  },
  {
   "cell_type": "code",
   "execution_count": 52,
   "metadata": {},
   "outputs": [
    {
     "name": "stdin",
     "output_type": "stream",
     "text": [
      " 8 \n",
      " 13\n",
      "  3 2 12 7 1 6 2 6\n"
     ]
    },
    {
     "name": "stdout",
     "output_type": "stream",
     "text": [
      "The answer is True. It is possible to fit all the trash bags into 3 containers.\n"
     ]
    }
   ],
   "source": [
    "# a) Suppose that there are 3 containers. We set k = 3. \n",
    "\n",
    "'''\n",
    "        n (int): Number of trash bags\n",
    "        M (int): Maximum weight capacity of each container\n",
    "        w (list): List of weights of trash bags\n",
    "        k (int): Number of containers available\n",
    "'''\n",
    "\n",
    "n = int(input())\n",
    "M = int(input())\n",
    "w = [0] + [int(x) for x in input().split()]\n",
    "k = 3\n",
    "\n",
    "\n",
    "# Initially, all three containers have available capacity of M.\n",
    "\n",
    "c1 = M # remaining capacity of container 1\n",
    "c2 = M # remaining capacity of container 2\n",
    "c3 = M # remaining capacity of container 3\n",
    "\n",
    "memo = dict()\n",
    "\n",
    "def top_down_dp(i, c1, c2, c3):\n",
    "# ci is the remaining capacity in the ith container\n",
    "    \n",
    "    \n",
    "    # Define three boolean variables that state if it is possible to add trash bag i to the container\n",
    "    \n",
    "    add1 = False\n",
    "    add2 = False\n",
    "    add3 = False\n",
    "    key = (i, c1, c2, c3)\n",
    "    if key in memo:\n",
    "        return memo[key]\n",
    "    else: \n",
    "        # One Trash Bag Left\n",
    "        if i == 1:\n",
    "        # The answer is true if at least one container has enough capacity to hold the last trash bag\n",
    "            if (w[i] <= c1 and c1 >= 0) or (w[i] <= c2 and c2 >= 0) or (w[i] <= c3 and c3 >= 0):\n",
    "                answer = True\n",
    "        # The answer is false if none of the containers have enough capacity to hold the last trash bag\n",
    "            else:\n",
    "                answer = False\n",
    "        # We have three different cases, if the weight of bag i is less than or equal to the available capacity in container 1, container 2, and container 3\n",
    "        else:\n",
    "            if (w[i] <= c1 and c1 >= 0) or (w[i] <= c2 and c2 >= 0) or (w[i] <= c3 and c3 >= 0):\n",
    "                \n",
    "                if (w[i] <= c1 and c1 >= 0):\n",
    "                    add1 = top_down_dp(i - 1, c1 - w[i], c2, c3)\n",
    "                \n",
    "                if (w[i] <= c2 and c2 >=0):\n",
    "                    add2 = top_down_dp(i -1 , c1, c2 - w[i], c3)\n",
    "                \n",
    "                if (w[i] <= c3 and c3 >=0):\n",
    "                    add3 = top_down_dp(i -1 , c1, c2, c3- w[i])\n",
    "                    \n",
    "                answer = add1 or add2 or add3\n",
    "        # If the weight of trash bag i is over the remaining capacity in all three containers, we output false\n",
    "            else:\n",
    "                answer = False\n",
    "    memo[key] = answer\n",
    "    return memo[key]\n",
    "\n",
    "    \n",
    "flag = 0\n",
    "for bag in w:\n",
    "    if bag > M:\n",
    "        flag = 1\n",
    "        print(False)\n",
    "\n",
    "if flag == 0:\n",
    "    answer = top_down_dp(n, c1, c2, c3)\n",
    "    if answer == True:\n",
    "        print(f'The answer is True. It is possible to fit all the trash bags into 3 containers.')\n",
    "    if answer == False:\n",
    "        print(f'The answer is False. It is not possible to fit all the trash bags into 3 containers.')\n"
   ]
  },
  {
   "cell_type": "code",
   "execution_count": 54,
   "metadata": {},
   "outputs": [
    {
     "name": "stdin",
     "output_type": "stream",
     "text": [
      " 8\n",
      " 11\n",
      " 2 3 1 2 5 3 5 1\n"
     ]
    },
    {
     "name": "stdout",
     "output_type": "stream",
     "text": [
      "The answer is True. It is possible to fit all the trash bags into 2 containers.\n"
     ]
    }
   ],
   "source": [
    "# b) Suppose that there are 2 containers. We set k = 2. \n",
    "\n",
    "'''\n",
    "        n (int): Number of trash bags\n",
    "        M (int): Maximum weight capacity of each container\n",
    "        w (list): List of weights of trash bags\n",
    "        k (int): Number of containers available\n",
    "'''\n",
    "\n",
    "n = int(input())\n",
    "M = int(input())\n",
    "w = [0] + [int(x) for x in input().split()]\n",
    "k = 2\n",
    "\n",
    "# Initially, both containers have available capacity of M.\n",
    "\n",
    "c1 = M # remaining capacity of container 1\n",
    "c2 = M # remaining capacity of container 2\n",
    "\n",
    "memo = dict()\n",
    "\n",
    "def top_down_dp(i, c1, c2):\n",
    "# ci is the remaining capacity in the ith container\n",
    "\n",
    "    # Define two boolean variables that state if it is possible to add trash bag i to the container\n",
    "    \n",
    "    add1 = False\n",
    "    add2 = False\n",
    "    \n",
    "    key = (i, c1, c2)\n",
    "    if key in memo:\n",
    "        return memo[key]\n",
    "    else: \n",
    "        # We consider the case when there is only one bag left to add to the containers\n",
    "        if i == 1:\n",
    "        # The answer is true if at least one container has enough capacity to hold the last trash bag\n",
    "            if (w[i] <= c1 and c1 >= 0) or (w[i] <= c2 and c2 >= 0):\n",
    "                answer = True\n",
    "        # The answer is false if none of the containers have enough capacity to hold the last trash bag\n",
    "            else:\n",
    "                answer = False\n",
    "        # We have two cases, if the weight of bag i is less than or equal to the available capacity in container 1 or container 2\n",
    "        else:\n",
    "            if (w[i] <= c1 and c1 >= 0) or (w[i] <= c2 and c2 >= 0):\n",
    "                if w[i] <= c1 and c1 >= 0:\n",
    "                    add1 = top_down_dp(i - 1, c1 - w[i], c2) \n",
    "                if w[i] <= c2 and c2 >= 0:\n",
    "                    add2 = top_down_dp(i - 1, c1, c2 - w[i])\n",
    "                answer = add1 or add2\n",
    "        # If the weight of trash bag i is over the remaining capacity in both containers, we output false\n",
    "            else:\n",
    "                answer = False\n",
    "    memo[key] = answer\n",
    "    return memo[key]\n",
    "    \n",
    "flag = 0\n",
    "for bag in w:\n",
    "    if bag > M:\n",
    "        flag = 1\n",
    "        print(False)\n",
    "\n",
    "if flag == 0:\n",
    "    result = top_down_dp(n, c1, c2)\n",
    "    if result == True:\n",
    "        print(f'The answer is True. It is possible to fit all the trash bags into 2 containers.')\n",
    "    if result == False:\n",
    "        print(f'The answer is False. It is not possible to fit all the trash bags into 2 containers.')\n",
    "\n"
   ]
  },
  {
   "cell_type": "markdown",
   "metadata": {},
   "source": [
    "## Problem 4"
   ]
  },
  {
   "cell_type": "code",
   "execution_count": 68,
   "metadata": {},
   "outputs": [
    {
     "name": "stdin",
     "output_type": "stream",
     "text": [
      " 8\n",
      " 5\n",
      "   1 -2 -3 10 4 -7 2 -5\n"
     ]
    },
    {
     "name": "stdout",
     "output_type": "stream",
     "text": [
      "The max sub array sum is 10 with L = 0 and R = 4\n",
      "{4: 10, 5: 3, 6: 6, 7: 4}\n"
     ]
    }
   ],
   "source": [
    "def max_subarray_sum(R):\n",
    "    \"\"\"\n",
    "    Finds the maximum subarray sum using top down Dynamic Programming.\n",
    "\n",
    "    Args:\n",
    "        R: right index \n",
    "\n",
    "    Returns:\n",
    "        answer: the maximum subarray sum.\n",
    "    \"\"\"\n",
    "    \n",
    "    if R in memo:\n",
    "        return memo[R]\n",
    "    else:\n",
    "        # If the right index is less than X-1, the sub array doesn't reach the minimum length X so it is invalid\n",
    "        if R < X-1:\n",
    "            answer = -float('inf')\n",
    "            L[R] = 0\n",
    "        # If the right index is X-1, there can only be one possible sub array, from index 0 to index X-1. \n",
    "        # The sum of the subarray is the value of the prefix-sum array at index X-1 \n",
    "        elif R == X-1:\n",
    "            answer = P[R]\n",
    "            # The left index is 0.\n",
    "            L[R] = 0\n",
    "        else:\n",
    "        # We compare the previous subarray sum from extending the previous subarray with arr[R]\n",
    "        # versus the new sub array from index R-X+1 to R (this is computed using the prefix-sum array)\n",
    "            previous_sum = arr[R] + max_subarray_sum(R-1)\n",
    "            new_sum = P[R] - P[R-X]\n",
    "            if previous_sum >= new_sum:\n",
    "                answer = previous_sum\n",
    "                L[R] = L[R-1]\n",
    "            else:\n",
    "                answer = new_sum\n",
    "                L[R] = R-X+1\n",
    "    memo[R] = answer            \n",
    "    return memo[R]\n",
    "\n",
    "# Input\n",
    "n = int(input())\n",
    "X = int(input()) # minimum length of the subarray\n",
    "arr = [int(x) for x in input().split()]\n",
    "memo = dict()\n",
    "L = dict() # the keys are the right indices and the values are the left indices\n",
    "# We procompute the prefix-sum array of A\n",
    "P = [arr[0]]\n",
    "for x in range(1,n):\n",
    "    P.append(P[x-1] + arr[x])\n",
    "  \n",
    "max_subarray_sum(n-1) # fill up the memo table from index 0 to index n-1\n",
    "\n",
    "max_sum = max(memo.values())\n",
    "R = max(memo, key = memo.get)\n",
    "\n",
    "print(f'The max sub array sum is {max_sum} with L = {L[R]} and R = {R}')\n",
    "\n",
    "print(memo)"
   ]
  },
  {
   "cell_type": "markdown",
   "metadata": {},
   "source": [
    "## Problem 5"
   ]
  },
  {
   "cell_type": "code",
   "execution_count": 93,
   "metadata": {},
   "outputs": [
    {
     "name": "stdin",
     "output_type": "stream",
     "text": [
      " BANANA\n",
      " ANANAS\n",
      " BANANAANANAS\n"
     ]
    },
    {
     "name": "stdout",
     "output_type": "stream",
     "text": [
      "The number of ways that C is a shuffle of A and B is 12.\n"
     ]
    }
   ],
   "source": [
    "def shuffles(A, B, C):\n",
    "    m = len(A)\n",
    "    n = len(B)\n",
    "    \n",
    "    # Check if the length of C is not equal to the length of A+B\n",
    "    \n",
    "    if m + n != len(C):\n",
    "        return 0\n",
    "    \n",
    "    # Initialize the DP table\n",
    "    dp = [[0] * (n + 1) for x in range(m + 1)]\n",
    "    \n",
    "    # Base Cases\n",
    "    \n",
    "    # All the characters in C up to i are from A\n",
    "    \n",
    "    for i in range(m+1):\n",
    "        if A[:i] == C[:i]:\n",
    "            dp[i][0] = 1\n",
    "        else:\n",
    "            dp[i][0] = 0\n",
    "            \n",
    "    # All the characters in C up to i are from B\n",
    "    \n",
    "    for j in range(n+1):\n",
    "        if B[:j] == C[:j]:\n",
    "            dp[0][j] = 1\n",
    "        else:\n",
    "            dp[0][j] = 0\n",
    "    \n",
    "    \n",
    "    # Fill up the DP table\n",
    "    \n",
    "    for i in range(1, m+1):\n",
    "        for j in range(1, n+1):\n",
    "            if A[i-1] == C[i+j-1] or B[j-1] == C[i+j-1]:\n",
    "                '''\n",
    "                There are two cases. \n",
    "                1. The (i+j)th character of C comes from A\n",
    "                \n",
    "                This means that the first i characters of C can be formed in \n",
    "                dp[i-1][j] ways using the first i-1 characters of A and all j characters of B.\n",
    "                \n",
    "                2. The (i+j)th character of C comes from B\n",
    "                The first i characters of C can be formed in dp[i][j-1] ways \n",
    "                using all i characters of A and the first j-1 characters of B.\n",
    "                '''\n",
    "                dp[i][j] = dp[i-1][j] + dp[i][j-1]\n",
    "            else:\n",
    "                dp[i][j] = 0\n",
    "    return dp[m][n]\n",
    "\n",
    "\n",
    "# Example usage\n",
    "A = input()\n",
    "B = input()\n",
    "C = input()\n",
    "\n",
    "print(f'The number of ways that C is a shuffle of A and B is {shuffles(A, B, C)}.')\n",
    "\n",
    "\n"
   ]
  },
  {
   "cell_type": "code",
   "execution_count": null,
   "metadata": {},
   "outputs": [],
   "source": []
  }
 ],
 "metadata": {
  "kernelspec": {
   "display_name": "Python 3",
   "language": "python",
   "name": "python3"
  },
  "language_info": {
   "codemirror_mode": {
    "name": "ipython",
    "version": 3
   },
   "file_extension": ".py",
   "mimetype": "text/x-python",
   "name": "python",
   "nbconvert_exporter": "python",
   "pygments_lexer": "ipython3",
   "version": "3.8.3"
  }
 },
 "nbformat": 4,
 "nbformat_minor": 5
}
