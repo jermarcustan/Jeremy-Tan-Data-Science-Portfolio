{
 "cells": [
  {
   "cell_type": "markdown",
   "id": "68ad53f0-2a4b-4e4c-a9e8-c3a16b1ede49",
   "metadata": {},
   "source": [
    "## Rod Cutting Problem"
   ]
  },
  {
   "cell_type": "code",
   "execution_count": 1,
   "id": "1b20020b-7afe-4def-84e7-9a4b01a58463",
   "metadata": {},
   "outputs": [
    {
     "name": "stdin",
     "output_type": "stream",
     "text": [
      " 5\n",
      " 1 3 5 7 9\n"
     ]
    },
    {
     "name": "stdout",
     "output_type": "stream",
     "text": [
      "9\n"
     ]
    }
   ],
   "source": [
    "n = int(input())\n",
    "r = [0] + [int(x) for x in input().split()]\n",
    "memo = dict()\n",
    "def f(k):\n",
    "    if k in memo:\n",
    "        return memo[k]\n",
    "    else:\n",
    "        if k == 0:\n",
    "            answer = 0\n",
    "        else:\n",
    "            answer = 0\n",
    "            for i in range(1,k+1):\n",
    "                revenue_i = r[i] + f(k-i)\n",
    "                answer = max(answer, revenue_i)\n",
    "            return answer\n",
    "        memo[k] = answer\n",
    "        return memo[k]\n",
    "print(f(n))"
   ]
  },
  {
   "cell_type": "markdown",
   "id": "95f0b634-abb4-4568-b026-ff326fde82b6",
   "metadata": {},
   "source": [
    "## Time Complexity"
   ]
  },
  {
   "cell_type": "markdown",
   "id": "4c92ce32-c07b-47ba-a493-c76278bb384c",
   "metadata": {},
   "source": [
    "We have to compute f(k) for all k from 1 to n+1. <br>\n",
    "Each time we run f(k) is O(n) and we run it n times so O(n^2)."
   ]
  },
  {
   "cell_type": "markdown",
   "id": "747527a6-0526-41ca-9ac9-5c5b5b184869",
   "metadata": {},
   "source": [
    "## Space Complexity"
   ]
  },
  {
   "cell_type": "markdown",
   "id": "2b3d5d33-3f4f-47ae-916f-daead56c44a9",
   "metadata": {},
   "source": [
    "This is just the size of the memo table so O(n)."
   ]
  },
  {
   "cell_type": "markdown",
   "id": "7327b012-4699-4fce-97c4-82c19b5a1c52",
   "metadata": {},
   "source": [
    "## Knapsack Problem"
   ]
  },
  {
   "cell_type": "code",
   "execution_count": null,
   "id": "ac5a0d77-824e-4b52-a5d6-a5d86bccb5c9",
   "metadata": {},
   "outputs": [],
   "source": [
    "# the value of each item is v_i\n",
    "# the weight of each item is w_i\n",
    "\n",
    "n = 5\n",
    "W = 10\n",
    "v = []\n",
    "w = []\n",
    "# Let f(i, c) be the maximum value in the knapsack from considering the ith item onwards \n",
    "# assuming you have capacity c\n",
    "def f(i,c):\n",
    "    if i > n:\n",
    "        return 0\n",
    "    elif w[i] > c:\n",
    "        return f(i+1, c)\n",
    "    else:\n",
    "        return max(f(i+1,c), f(i+1, c-w[i]) + v[i])\n"
   ]
  },
  {
   "cell_type": "markdown",
   "id": "73130e9a-2e88-4754-aebf-fd7f4c5213c1",
   "metadata": {},
   "source": [
    "## Fibonacci Sequence"
   ]
  },
  {
   "cell_type": "code",
   "execution_count": null,
   "id": "4ed69d03-d5a2-4bc8-8599-e11159187349",
   "metadata": {},
   "outputs": [],
   "source": [
    "import sys\n",
    "sys.setrecursionlimit(1000000)\n",
    "\n",
    "import functools\n",
    "\n",
    "@functools.cache # memoize automatically\n",
    "# Let f(k) be the kth fibnoacci number.\n",
    "def F(k):\n",
    "    if k == 1:\n",
    "        return 1\n",
    "    elif k == 2:\n",
    "        return 1\n",
    "    else:\n",
    "        return F(k-1) + F(k+2)\n",
    "print(F(100))"
   ]
  },
  {
   "cell_type": "code",
   "execution_count": null,
   "id": "6e46c8bb-bb07-43b1-82b2-fd312979c72b",
   "metadata": {},
   "outputs": [],
   "source": []
  },
  {
   "cell_type": "code",
   "execution_count": null,
   "id": "8eb233f4-75aa-4599-99ac-ab3581ae79cc",
   "metadata": {},
   "outputs": [],
   "source": []
  },
  {
   "cell_type": "code",
   "execution_count": null,
   "id": "795c2e5e-ef77-4301-b13e-10814205fcc1",
   "metadata": {},
   "outputs": [],
   "source": []
  }
 ],
 "metadata": {
  "kernelspec": {
   "display_name": "Python 3 (ipykernel)",
   "language": "python",
   "name": "python3"
  },
  "language_info": {
   "codemirror_mode": {
    "name": "ipython",
    "version": 3
   },
   "file_extension": ".py",
   "mimetype": "text/x-python",
   "name": "python",
   "nbconvert_exporter": "python",
   "pygments_lexer": "ipython3",
   "version": "3.10.7"
  }
 },
 "nbformat": 4,
 "nbformat_minor": 5
}
