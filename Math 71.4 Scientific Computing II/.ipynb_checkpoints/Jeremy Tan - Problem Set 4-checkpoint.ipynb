{
 "cells": [
  {
   "cell_type": "markdown",
   "metadata": {},
   "source": [
    "# Problem Set 4: Jeremy Marcus Tan"
   ]
  },
  {
   "cell_type": "markdown",
   "metadata": {},
   "source": [
    "## Problem 1"
   ]
  },
  {
   "cell_type": "code",
   "execution_count": 1,
   "metadata": {},
   "outputs": [],
   "source": [
    "import statistics\n",
    "import random as rand\n",
    "import math\n",
    "def analyze(Y):\n",
    "    samp_mean = statistics.mean(Y)\n",
    "    samp_sd = statistics.stdev(Y)\n",
    "    samp_var = samp_sd ** 2\n",
    "    Z = statistics.NormalDist()\n",
    "    alpha = 0.05\n",
    "    Z_alpover2 = Z.inv_cdf(1 - alpha/2)\n",
    "    margin_of_error = Z_alpover2 * samp_sd / (N**0.5)\n",
    "    print(f'point estimate: {samp_mean}')\n",
    "    print(f'variance: {samp_var}')\n",
    "    print(f'95% CI: ({samp_mean - margin_of_error}, {samp_mean + margin_of_error})')\n",
    "    print(f'relative error: {samp_sd / (math.sqrt(N)*samp_mean)}')"
   ]
  },
  {
   "cell_type": "code",
   "execution_count": 2,
   "metadata": {},
   "outputs": [],
   "source": [
    "def f(x,y): \n",
    "    return (32*x*y*math.sin(y)) / ((1 + x**4)*(1 + (math.cos(y))**2))"
   ]
  },
  {
   "cell_type": "code",
   "execution_count": 3,
   "metadata": {},
   "outputs": [],
   "source": [
    "# Problem 1a: use two independent uniform random variables\n",
    "\n",
    "def method1a():\n",
    "    u1 = rand.uniform(0, 1)\n",
    "    u2 = rand.uniform(0, math.pi)\n",
    "    return math.pi * f(u1,u2)\n",
    "\n",
    "# Problem 1b: use one uniform random variable and one normally distributed variable\n",
    "\n",
    "def method1b():\n",
    "    x = rand.uniform(0,1)\n",
    "    y = rand.normalvariate(math.pi/2, 1)\n",
    "    if 0 <= y <= math.pi:\n",
    "        return f(x,y) * math.sqrt(2*math.pi)*math.exp((1/2) * (y - (math.pi/2))**2)\n",
    "    else:\n",
    "        return 0\n",
    "    \n",
    "\n"
   ]
  },
  {
   "cell_type": "code",
   "execution_count": 4,
   "metadata": {},
   "outputs": [
    {
     "name": "stdout",
     "output_type": "stream",
     "text": [
      "Method 1a: Basic Monte Carlo Integration\n",
      "point estimate: 31.29470650114871\n",
      "variance: 830.7766885159734\n",
      "95% CI: (29.508259066118296, 33.08115393617912)\n",
      "relative error: 0.029125357715292573\n",
      "\n",
      "\n",
      "Method 1b: Monte Carlo Integration with Weighted Samples\n",
      "point estimate: 31.26920659034401\n",
      "variance: 666.1346639317858\n",
      "95% CI: (29.66954135019816, 32.86887183048986)\n",
      "relative error: 0.02610142120935858\n"
     ]
    }
   ],
   "source": [
    "N = 1000\n",
    "method1a_samples = []\n",
    "method1b_samples = []\n",
    "rand.seed(30)\n",
    "for i in range(N):\n",
    "    m1 = method1a()\n",
    "    method1a_samples.append(m1)\n",
    "    m2 = method1b()\n",
    "    method1b_samples.append(m2)\n",
    "print(\"Method 1a: Basic Monte Carlo Integration\")\n",
    "analyze(method1a_samples)\n",
    "print('\\n')\n",
    "print(\"Method 1b: Monte Carlo Integration with Weighted Samples\")\n",
    "analyze(method1b_samples)"
   ]
  },
  {
   "cell_type": "markdown",
   "metadata": {},
   "source": [
    "## Problem 2d"
   ]
  },
  {
   "cell_type": "code",
   "execution_count": 151,
   "metadata": {},
   "outputs": [
    {
     "data": {
      "image/png": "[encoded data removed]",
      "text/plain": [
       "<Figure size 432x288 with 1 Axes>"
      ]
     },
     "metadata": {
      "needs_background": "light"
     },
     "output_type": "display_data"
    }
   ],
   "source": [
    "# First define f2(x) - to differentiate from the earlier f(x)\n",
    "rand.seed(50)\n",
    "def f2(x): \n",
    "    return math.exp(-(x**2))*(2 + math.cos(2*x) + math.sin(5*x))\n",
    "\n",
    "states = [0]\n",
    "\n",
    "while len(states) <= 10000: # until T = 10000, starting from T = 0\n",
    "    i = states[-1] # i is the current state\n",
    "    # Draw the proposed state from N(i,1)\n",
    "    j = rand.normalvariate(i, 1)\n",
    "    \n",
    "    alpha = min(1, f2(j)/f2(i))\n",
    "    \n",
    "    p = rand.random()\n",
    "    \n",
    "    if p <= alpha:\n",
    "    # accept the proposed state\n",
    "        next_state = j\n",
    "    else:\n",
    "    # reject the proposed state\n",
    "        next_state = i\n",
    "    \n",
    "    states.append(next_state)\n",
    "\n",
    "import matplotlib.pyplot as plt\n",
    "import numpy as np\n",
    "\n",
    "plt.hist(states, bins = 50, density = True)\n",
    "x = np.linspace(-3,3,200)\n",
    "y = 0.2382*np.exp(-x*x)*(2+np.cos(2*x) + np.sin(5*x))\n",
    "plt.plot(x,y)\n",
    "plt.show()"
   ]
  }
 ],
 "metadata": {
  "kernelspec": {
   "display_name": "Python 3",
   "language": "python",
   "name": "python3"
  },
  "language_info": {
   "codemirror_mode": {
    "name": "ipython",
    "version": 3
   },
   "file_extension": ".py",
   "mimetype": "text/x-python",
   "name": "python",
   "nbconvert_exporter": "python",
   "pygments_lexer": "ipython3",
   "version": "3.8.3"
  }
 },
 "nbformat": 4,
 "nbformat_minor": 4
}
