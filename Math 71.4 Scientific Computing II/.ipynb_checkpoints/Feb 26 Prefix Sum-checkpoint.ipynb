{
 "cells": [
  {
   "cell_type": "markdown",
   "id": "f627c5ac-c4b3-4680-b3af-d00989afb254",
   "metadata": {},
   "source": [
    "## Prefix Sum"
   ]
  },
  {
   "cell_type": "code",
   "execution_count": 2,
   "id": "cec0d6e4-7405-4a61-95ad-61fc45376574",
   "metadata": {},
   "outputs": [
    {
     "name": "stdin",
     "output_type": "stream",
     "text": [
      " 2 4 1 6 3\n"
     ]
    },
    {
     "name": "stdout",
     "output_type": "stream",
     "text": [
      "10\n"
     ]
    }
   ],
   "source": [
    "xs = [] # array of x coordinates\n",
    "ys = [] # array of y coordinates\n",
    "\n",
    "i = 3\n",
    "j = 8\n",
    "'''\n",
    "sum_x = 0\n",
    "sum_y = 0\n",
    "sum_xy = 0\n",
    "for x in range(i, j+1):\n",
    "    sum_x += xs[x]\n",
    "    sum_y += ys[x]\n",
    "    sum_xy += xs[x]*ys[x]\n",
    "'''\n",
    "A = list(map(int, input().split()))\n",
    "P = []\n",
    "\n",
    "running_sum = 0\n",
    "for x in A:\n",
    "    running_sum += x\n",
    "    P.append(running_sum)\n",
    "\n",
    "# Get sum from index 2 to 4; list starts with index 0\n",
    "print(P[4] - P[1])\n"
   ]
  },
  {
   "cell_type": "markdown",
   "id": "44ef31a4-2d4f-47f8-9b54-19325643c484",
   "metadata": {},
   "source": [
    "## Max Subarray Sum"
   ]
  },
  {
   "cell_type": "code",
   "execution_count": 3,
   "id": "0071c54c-6cd2-4ae1-af4e-8c723bf865d3",
   "metadata": {},
   "outputs": [
    {
     "name": "stdin",
     "output_type": "stream",
     "text": [
      " 5\n",
      " 1 2 3 4 -5\n"
     ]
    },
    {
     "name": "stdout",
     "output_type": "stream",
     "text": [
      "5\n"
     ]
    }
   ],
   "source": [
    "n = int(input())\n",
    "arr = list(map(int, input().split()))\n",
    "\n",
    "memo = dict()\n",
    "# Let f(R) be the max subarray sum of all possible subarrays ending at exactly index R\n",
    "\n",
    "def f(R):\n",
    "    if R in memo:\n",
    "        return memo[R]\n",
    "    else:\n",
    "        if R == 0:\n",
    "            answer = arr[R]\n",
    "        else:\n",
    "            answer = max(arr[R], arr[R] + f(R-1))\n",
    "        memo[R] = answer\n",
    "        return memo[R]\n",
    "print(f(n-1))"
   ]
  },
  {
   "cell_type": "code",
   "execution_count": null,
   "id": "a3e5ae6f-3d0a-4a7e-8674-b37e6e32029a",
   "metadata": {},
   "outputs": [],
   "source": []
  }
 ],
 "metadata": {
  "kernelspec": {
   "display_name": "Python 3 (ipykernel)",
   "language": "python",
   "name": "python3"
  },
  "language_info": {
   "codemirror_mode": {
    "name": "ipython",
    "version": 3
   },
   "file_extension": ".py",
   "mimetype": "text/x-python",
   "name": "python",
   "nbconvert_exporter": "python",
   "pygments_lexer": "ipython3",
   "version": "3.10.7"
  }
 },
 "nbformat": 4,
 "nbformat_minor": 5
}
