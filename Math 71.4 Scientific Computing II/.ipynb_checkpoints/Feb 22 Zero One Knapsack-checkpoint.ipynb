{
 "cells": [
  {
   "cell_type": "markdown",
   "id": "61ad3142-577e-4e40-a1e3-02d08d99327c",
   "metadata": {},
   "source": [
    "## Zero One Knapsack"
   ]
  },
  {
   "cell_type": "code",
   "execution_count": null,
   "id": "ad71eb1d-a0a0-49c6-9030-9fb7c479ee0e",
   "metadata": {},
   "outputs": [],
   "source": [
    "n = int(input())\n",
    "W = int(input())\n",
    "w = [0] + [int(x) for x in input().split()]\n",
    "v = [0] + [int(x) for x in input().split()]\n",
    "memo = dict()\n",
    "best_choice = dict()\n",
    "def f(i,c):\n",
    "    if (i,c) in memo:\n",
    "        return memo[i,c]\n",
    "    else:\n",
    "        if i > n:\n",
    "            answer = 0\n",
    "        # if we do not have capacity to take item i\n",
    "    elif w[i] >c:\n",
    "        answer = f(i+1, c)\n",
    "        best_choice[i,c] = \"skip\"\n",
    "        # if we have capacity to take i, we want to choose whether to do or not\n",
    "    else:\n",
    "        take_value = v[i] + f(i+1, c - w[i]) # if we take\n",
    "        skip_value = f(i+1, c) # if we skip\n",
    "        answer = max(take_value, skip_value)\n",
    "\n",
    "        # explicit\n",
    "        if take_value > skip_value:\n",
    "            answer = take_value\n",
    "            best_choice[i,c] = \"take\"\n",
    "        else:\n",
    "            answer = skip_value\n",
    "            best_choice[i,c] = \"skip\"\n",
    "    memo[i,c] = answer\n",
    "    return memo[i,c]\n",
    "\n",
    "print(f(1, W))\n",
    "print(best_choice)\n",
    "\n",
    "taken_items = []\n",
    "\n",
    "# Start with the initial evaluation f(1,W)\n",
    "curr_i = 1\n",
    "curr_c = W\n",
    "\n",
    "while (curr_i, curr_c) in best_choice:\n",
    "    # if its better to go to state f(i+1, c-w_i), we took item i:\n",
    "    if best_choice[curr_i, curr_c] == 'take':\n",
    "        taken_items.append(curr_i)\n",
    "        curr_c = curr_c - w[curr_i]\n",
    "        curr_i = curr_i + 1\n",
    "    # if it's better to skip\n",
    "    else:\n",
    "        curr_i = curr_i + 1\n",
    "        curr_c = curr_c\n",
    "print(\"Items: \")\n",
    "print(*taken_items)"
   ]
  },
  {
   "cell_type": "markdown",
   "id": "700c32be-199c-441a-81c3-9efb3d1f6e3b",
   "metadata": {},
   "source": [
    "## Segmented Best Fitting Line"
   ]
  },
  {
   "cell_type": "code",
   "execution_count": null,
   "id": "4444a296-b6fb-4a8d-8ea1-b59c173e2536",
   "metadata": {},
   "outputs": [],
   "source": [
    "n = int(input())\n",
    "C = int(input())\n",
    "P = []\n",
    "\n",
    "for i in range(n):\n",
    "    x,y = [int(x) for x in input().split()]\n",
    "    P.append((x,y))\n",
    "print(P)\n",
    "\n",
    "def find_best_fit_error():\n",
    "    error = 1\n",
    "    return error\n",
    "memo = dict()\n",
    "best_choice = dict()\n",
    "# Let f(i) be the optimal penalty of the partition of points p_1 up to p_i\n",
    "\n",
    "def f(i):\n",
    "    if i in memo[i]:\n",
    "        return memo[i]\n",
    "    else:\n",
    "        if i == 0:\n",
    "            penalty = 0\n",
    "        else:\n",
    "            penalty = float('inf')\n",
    "            choice = i\n",
    "            for k in range(1,i+1):\n",
    "                error_k_i = find_best_fit_error(k,i)\n",
    "                penalty_k = error_k_i + C + f(k-1)\n",
    "                if penalty_k < penalty:\n",
    "                #penalty = min(error_k_im + C + f(k-1), penalty)\n",
    "                    penalty = penalty_k\n",
    "                    choice = k\n",
    "            best_choice[i] = choice\n",
    "        memo[i] = penalty\n",
    "        return memo[i]"
   ]
  }
 ],
 "metadata": {
  "kernelspec": {
   "display_name": "Python 3 (ipykernel)",
   "language": "python",
   "name": "python3"
  },
  "language_info": {
   "codemirror_mode": {
    "name": "ipython",
    "version": 3
   },
   "file_extension": ".py",
   "mimetype": "text/x-python",
   "name": "python",
   "nbconvert_exporter": "python",
   "pygments_lexer": "ipython3",
   "version": "3.10.7"
  }
 },
 "nbformat": 4,
 "nbformat_minor": 5
}
