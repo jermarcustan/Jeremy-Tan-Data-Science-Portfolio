{
 "cells": [
  {
   "cell_type": "markdown",
   "id": "12f7b2d8-3c68-4368-a22a-f1e9fd273bbf",
   "metadata": {},
   "source": [
    "## Load Balancing"
   ]
  },
  {
   "cell_type": "code",
   "execution_count": 4,
   "id": "bc1d232c-ad5c-41c1-b047-ce70c357eb7b",
   "metadata": {},
   "outputs": [
    {
     "name": "stdin",
     "output_type": "stream",
     "text": [
      " 5\n",
      " 1 1 1 2 6\n"
     ]
    }
   ],
   "source": [
    "m = int(input()) # number of machines #O(m)\n",
    "jt = [int(x) for x in input().split()] # job lengths #O(n)\n",
    "load = [0 for _ in range(m)]\n"
   ]
  },
  {
   "cell_type": "code",
   "execution_count": null,
   "id": "95ff25ae-93a2-46c1-bbbc-1183842e2531",
   "metadata": {},
   "outputs": [],
   "source": [
    "for job in jt:\n",
    "    # find mahine with minimum load\n",
    "    minimum_load = load[0]\n",
    "    min_i = 0\n",
    "    for i in range(m):\n",
    "        if load[i] < minimum_load:\n",
    "            minimum_load = load[i]\n",
    "            min_i = i\n",
    "    load[min_i] += job\n",
    "print(max(load))"
   ]
  },
  {
   "cell_type": "markdown",
   "id": "39fe0780-817a-4c60-9aca-f68075f06f7d",
   "metadata": {},
   "source": [
    "### Time Complexity\n",
    "The entire for loop goes through every machines so it is O(m).\n",
    "The entire nested for loop runs in O(mn) or quadratic time. \n",
    "\n",
    "Getting the final answer is O(m).\n",
    "\n",
    "The entire algorithm runs in O(mn). \n",
    "\n",
    "There is a data structure that allows you to easily find the minimum, the heap.\n",
    "\n",
    "import heapq"
   ]
  },
  {
   "cell_type": "code",
   "execution_count": 7,
   "id": "1ff3be82-7da7-49a6-8150-d18a6b1eb08b",
   "metadata": {},
   "outputs": [
    {
     "name": "stdout",
     "output_type": "stream",
     "text": [
      "[1, 1, 2, 2, 3, 8, 4, 3, 3, 4, 5, 9, 9, 7, 9, 3, 6, 5, 8, 5]\n"
     ]
    }
   ],
   "source": [
    "import heapq\n",
    "L = [3,1,4,1,5,9,2,6,5,3,5,8,9,7,9,3,2,3,8,4]\n",
    "heapq.heapify(L) #O(n)\n",
    "print(L)\n",
    "x = heapq.heappoop(L) # retrieves the minimum; runs in log(n) time\n",
    "print(L)\n",
    "print(x)\n",
    "heapq.heappush(L,7) # runs in log(n)\n",
    "print(L)"
   ]
  },
  {
   "cell_type": "code",
   "execution_count": null,
   "id": "9bbe247c-f3a3-4791-8140-2c82da13a6dc",
   "metadata": {},
   "outputs": [],
   "source": []
  }
 ],
 "metadata": {
  "kernelspec": {
   "display_name": "Python 3 (ipykernel)",
   "language": "python",
   "name": "python3"
  },
  "language_info": {
   "codemirror_mode": {
    "name": "ipython",
    "version": 3
   },
   "file_extension": ".py",
   "mimetype": "text/x-python",
   "name": "python",
   "nbconvert_exporter": "python",
   "pygments_lexer": "ipython3",
   "version": "3.10.7"
  }
 },
 "nbformat": 4,
 "nbformat_minor": 5
}
