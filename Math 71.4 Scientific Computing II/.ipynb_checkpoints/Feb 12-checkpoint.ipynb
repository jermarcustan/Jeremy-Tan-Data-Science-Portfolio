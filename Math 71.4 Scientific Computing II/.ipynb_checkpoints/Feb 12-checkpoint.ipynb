{
 "cells": [
  {
   "cell_type": "markdown",
   "id": "0d7dde56-f78d-45dc-98fd-ec0c82126155",
   "metadata": {},
   "source": [
    "## Activity Selection"
   ]
  },
  {
   "cell_type": "code",
   "execution_count": 1,
   "id": "a115247b-564a-42aa-ae8f-c55e183afdbd",
   "metadata": {},
   "outputs": [],
   "source": [
    "class Interval:\n",
    "    def __init__(self, start, finish):\n",
    "        self.start = start\n",
    "        self.finish = finish\n",
    "    def __str__(self):\n",
    "        return f'[{self.start} {self.finish}]'\n",
    "    def __lt__(self, other):\n",
    "        return self.finish < other.finish"
   ]
  },
  {
   "cell_type": "code",
   "execution_count": 2,
   "id": "334b8c3a-4fce-42d4-bc59-e464331308cd",
   "metadata": {},
   "outputs": [
    {
     "name": "stdin",
     "output_type": "stream",
     "text": [
      " 3\n",
      " 1\n",
      " 2\n"
     ]
    }
   ],
   "source": [
    "n = int(input())\n",
    "start_times = [int(x) for x in input().split()]\n",
    "finish_times = [int(x) for x in input().split()]\n"
   ]
  },
  {
   "cell_type": "code",
   "execution_count": null,
   "id": "44af7248-afb1-45a9-901c-45a2f945b772",
   "metadata": {},
   "outputs": [],
   "source": [
    "intervals = [Interval(start_times[i], finish_times[i]) for i in range(n)]\n",
    "intervals.sort()\n",
    "last_finishing_time = 0\n",
    "solution = []\n",
    "for I in intervals:\n",
    "    if last_finishing_time <= I.start:\n",
    "        solution.append(I)\n",
    "        last_finishing_time = I.finish\n",
    "print(*solution)"
   ]
  }
 ],
 "metadata": {
  "kernelspec": {
   "display_name": "Python 3 (ipykernel)",
   "language": "python",
   "name": "python3"
  },
  "language_info": {
   "codemirror_mode": {
    "name": "ipython",
    "version": 3
   },
   "file_extension": ".py",
   "mimetype": "text/x-python",
   "name": "python",
   "nbconvert_exporter": "python",
   "pygments_lexer": "ipython3",
   "version": "3.10.7"
  }
 },
 "nbformat": 4,
 "nbformat_minor": 5
}
