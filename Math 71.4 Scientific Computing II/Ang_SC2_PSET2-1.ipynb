{
 "cells": [
  {
   "cell_type": "markdown",
   "metadata": {},
   "source": [
    "# 2a"
   ]
  },
  {
   "cell_type": "code",
   "execution_count": null,
   "metadata": {},
   "outputs": [],
   "source": [
    "def load_and_sort_data(file_path):\n",
    "    with open(file_path, 'r') as file:\n",
    "        lines = file.readlines()\n",
    "        n = int(lines[0].strip())\n",
    "        points = [tuple(map(float, line.strip().split())) for line in lines[1:]]\n",
    "    points.sort(key=lambda x: x[0])\n",
    "    return points"
   ]
  },
  {
   "cell_type": "code",
   "execution_count": 91,
   "metadata": {},
   "outputs": [
    {
     "name": "stdout",
     "output_type": "stream",
     "text": [
      "Line segment from x = 0.599 to x = 168.6967 with equation: y = 41.4170 + 2.6199x\n",
      "Line segment from x = 170.4067 to x = 341.5237 with equation: y = 499.5263 + -0.0828x\n",
      "Line segment from x = 343.1398 to x = 498.5574 with equation: y = 1428.2028 + -2.7978x\n"
     ]
    }
   ],
   "source": [
    "def compute_prefix_sums(points):\n",
    "    # Initialize prefix sums for x, y, x^2, xy, and y^2\n",
    "    n = len(points)\n",
    "    sum_x, sum_y, sum_x2, sum_xy, sum_y2 = [0] * (n + 1), [0] * (n + 1), [0] * (n + 1), [0] * (n + 1), [0] * (n + 1)\n",
    "    \n",
    "    # Calculate prefix sums for each component\n",
    "    for i in range(1, n + 1):\n",
    "        x, y = points[i - 1]\n",
    "        sum_x[i] = sum_x[i - 1] + x\n",
    "        sum_y[i] = sum_y[i - 1] + y\n",
    "        sum_x2[i] = sum_x2[i - 1] + x**2\n",
    "        sum_xy[i] = sum_xy[i - 1] + x*y\n",
    "        sum_y2[i] = sum_y2[i - 1] + y**2\n",
    "    return sum_x, sum_y, sum_x2, sum_xy, sum_y2\n",
    "\n",
    "def compute_least_squares_error(i, j, sum_x, sum_y, sum_x2, sum_xy, sum_y2):\n",
    "    # Compute the least squares error and regression coefficients for a segment of points from i to j\n",
    "    N = j - i + 1\n",
    "    # Retrieve the required sums for the segment.\n",
    "    sx, sy, sxx, sxy, syy = sum_x[j] - sum_x[i-1], sum_y[j] - sum_y[i-1], sum_x2[j] - sum_x2[i-1], sum_xy[j] - sum_xy[i-1], sum_y2[j] - sum_y2[i-1]\n",
    "    denom = N * sxx - sx ** 2\n",
    "    if denom == 0:  # Check for division by zero\n",
    "        return float('inf'), 0, 0  \n",
    "    b = (N * sxy - sx * sy) / denom  # Slope\n",
    "    a = (sy - b * sx) / N  # Intercept\n",
    "    error = syy - 2 * a * sy - 2 * b * sxy + a**2 * N + 2 * a * b * sx + b**2 * sxx\n",
    "    return error, a, b\n",
    "\n",
    "def segmented_least_squares_with_coefficients(points, l=3):\n",
    "    # Determine the optimal way to partition points into segments with linear regression\n",
    "    n = len(points)\n",
    "    # Compute prefix sums needed for error calculations.\n",
    "    sum_x, sum_y, sum_x2, sum_xy, sum_y2 = compute_prefix_sums(points)\n",
    "    \n",
    "    # Initialize DP table for storing minimum error and backtracking information\n",
    "    dp = [[float('inf')] * (l + 1) for _ in range(n + 1)]\n",
    "    dp[0][0] = 0  # Base case: no error with 0 points.\n",
    "    backtrack = [[None] * (l + 1) for _ in range(n + 1)]\n",
    "    \n",
    "    # Fill DP table with minimum errors and update backtracking information\n",
    "    # Nested loops contribute to O(n^2*l) time complexity, as we explore all subproblems\n",
    "    for j in range(1, n + 1):\n",
    "        for k in range(1, min(l + 1, j + 1)):\n",
    "            for i in range(max(1, 2 * k - 1), j + 1):\n",
    "                error, _, _ = compute_least_squares_error(i, j, sum_x, sum_y, sum_x2, sum_xy, sum_y2)\n",
    "                if dp[i - 1][k - 1] + error < dp[j][k]:\n",
    "                    dp[j][k] = dp[i - 1][k - 1] + error\n",
    "                    backtrack[j][k] = i\n",
    "    \n",
    "    # Backtrack to construct segments and calculate their regression coefficients\n",
    "    segments = []\n",
    "    current_l = l\n",
    "    current_j = n\n",
    "    while current_l > 0 and current_j > 0:\n",
    "        start = backtrack[current_j][current_l]\n",
    "        _, a, b = compute_least_squares_error(start, current_j, sum_x, sum_y, sum_x2, sum_xy, sum_y2)\n",
    "        x_start, _ = points[start-1] if start > 0 else points[0]\n",
    "        x_end, _ = points[current_j-1]\n",
    "        segments.append((x_start, x_end, a, b))\n",
    "        current_j = start - 1\n",
    "        current_l -= 1\n",
    "    \n",
    "    segments.reverse()\n",
    "    return segments\n",
    "\n",
    "# Calculate the segments and their coefficients\n",
    "segments_with_coefficients = segmented_least_squares_with_coefficients(points, l=3)\n",
    "\n",
    "# Output the results\n",
    "for segment in segments_with_coefficients:\n",
    "    x_start, x_end, a, b = segment\n",
    "    print(f\"Line segment from x = {x_start} to x = {x_end} with equation: y = {a:.4f} + {b:.4f}x\")\n"
   ]
  },
  {
   "cell_type": "markdown",
   "metadata": {},
   "source": [
    "# 2b"
   ]
  },
  {
   "cell_type": "code",
   "execution_count": 92,
   "metadata": {},
   "outputs": [
    {
     "name": "stdout",
     "output_type": "stream",
     "text": [
      "Line segment from x = 0.599 to x = 86.9667 with equation: y = 11.4751 + 3.2699x\n",
      "Line segment from x = 88.7357 to x = 163.5283 with equation: y = 125.4943 + 1.9756x\n",
      "Line segment from x = 164.7958 to x = 250.3958 with equation: y = 334.1240 + 0.7051x\n",
      "Line segment from x = 252.0358 to x = 341.5237 with equation: y = 704.0777 + -0.7672x\n",
      "Line segment from x = 343.1398 to x = 421.9327 with equation: y = 1182.4614 + -2.1598x\n",
      "Line segment from x = 422.7515 to x = 498.5574 with equation: y = 1693.9691 + -3.3707x\n"
     ]
    }
   ],
   "source": [
    "def compute_total_cost(i, j, error, C):\n",
    "    \"\"\"\n",
    "    Computes the total cost for a segment from i to j, considering the error and the fixed cost per line, C.\n",
    "    Time Complexity: O(1), as it performs basic arithmetic operations.\n",
    "    \"\"\"\n",
    "    return error + C\n",
    "\n",
    "def bottom_up_dp_with_coefficients(points, C=10000):\n",
    "    # Computes segments with linear regression coefficients that minimize the total cost of fitting.\n",
    "    # C is the cost per line segment.\n",
    "    n = len(points)  # Length of the points array.\n",
    "\n",
    "    # Calculate prefix sums for efficient computation of linear regression errors.\n",
    "    sum_x, sum_y, sum_x2, sum_xy, sum_y2 = compute_prefix_sums(points)\n",
    "\n",
    "    # DP table initialization.\n",
    "    dp = [float('inf')] * (n + 1)  # Stores the minimum cost to fit up to the j-th point.\n",
    "    dp[0] = 0  \n",
    "    # Backtrack table to reconstruct the solution.\n",
    "    backtrack = [0] * (n + 1)  # Tracks the start index of the segment for the optimal solution.\n",
    "\n",
    "    # Iterate over all end points of segments\n",
    "    # results in O(n^2) time complexity as it explores all possible segments.\n",
    "    for j in range(1, n + 1):\n",
    "        # Iterate over all possible start points for a segment ending at j\n",
    "        for i in range(1, j + 1):\n",
    "            # Calculate the error and the total cost for segment [i, j].\n",
    "            error, a, b = compute_least_squares_error(i, j, sum_x, sum_y, sum_x2, sum_xy, sum_y2)\n",
    "            total_cost = dp[i - 1] + compute_total_cost(i, j, error, C)\n",
    "            # Update DP table if a lower cost is found.\n",
    "            if total_cost < dp[j]:\n",
    "                dp[j] = total_cost\n",
    "                backtrack[j] = i\n",
    "    \n",
    "    # Reconstruct the solution from the DP and backtrack tables\n",
    "    segments = []\n",
    "    current = n\n",
    "    while current > 0:\n",
    "        start = backtrack[current]\n",
    "        _, a, b = compute_least_squares_error(start, current, sum_x, sum_y, sum_x2, sum_xy, sum_y2)\n",
    "        x_start, _ = points[start-1] if start > 0 else points[0]\n",
    "        x_end, _ = points[current-1]\n",
    "        segments.append((x_start, x_end, a, b))\n",
    "        current = start - 1\n",
    "    \n",
    "    segments.reverse()  \n",
    "\n",
    "    return segments\n",
    "\n",
    "\n",
    "segments_with_coefficients = bottom_up_dp_with_coefficients(points, C)\n",
    "\n",
    "\n",
    "for segment in segments_with_coefficients:\n",
    "    x_start, x_end, a, b = segment\n",
    "    print(f\"Line segment from x = {x_start} to x = {x_end} with equation: y = {a:.4f} + {b:.4f}x\")\n",
    "\n",
    "\n"
   ]
  },
  {
   "cell_type": "markdown",
   "metadata": {},
   "source": [
    "# 3a"
   ]
  },
  {
   "cell_type": "code",
   "execution_count": 79,
   "metadata": {},
   "outputs": [
    {
     "name": "stdin",
     "output_type": "stream",
     "text": [
      " 5\n",
      " 2 2 3 4 5\n",
      " 5\n"
     ]
    },
    {
     "data": {
      "text/plain": [
       "False"
      ]
     },
     "execution_count": 79,
     "metadata": {},
     "output_type": "execute_result"
    }
   ],
   "source": [
    "def can_distribute_trash_bags(n, w, M):\n",
    "    # O(n*M^3) - The DP table is 4D with dimensions n+1 by M+1 by M+1 by M+1.\n",
    "    # This is because for each trash bag, we explore all possible distributions of weights across the 3 containers.\n",
    "    DP = [[[[False for _ in range(M+1)] for _ in range(M+1)] for _ in range(M+1)] for _ in range(n+1)]\n",
    "    \n",
    "    # O(1) - Base case initialization\n",
    "    DP[0][0][0][0] = True\n",
    "    \n",
    "    # O(n) - We iterate through each trash bag\n",
    "    for i in range(1, n+1):\n",
    "        # O(M^3) - For each trash bag, we explore all possible distributions of its weight across the 3 containers.\n",
    "        # The nested loops go through all combinations of weights that can be in the 3 containers.\n",
    "        for j in range(M+1):\n",
    "            for k in range(M+1):\n",
    "                for l in range(M+1):\n",
    "                    # Constant time operations within the innermost loop\n",
    "                    if not DP[i-1][j][k][l]:\n",
    "                        continue\n",
    "                    \n",
    "                    # O(1) - Updating the DP table for each possible distribution\n",
    "                    if j + w[i-1] <= M:\n",
    "                        DP[i][j + w[i-1]][k][l] = True\n",
    "                    if k + w[i-1] <= M:\n",
    "                        DP[i][j][k + w[i-1]][l] = True\n",
    "                    if l + w[i-1] <= M:\n",
    "                        DP[i][j][k][l + w[i-1]] = True\n",
    "    \n",
    "    # O(M^3) - Final check over all possible weight distributions in 3 containers.\n",
    "    # We look for any valid distribution that fits all bags.\n",
    "    for j in range(M+1):\n",
    "        for k in range(M+1):\n",
    "            for l in range(M+1):\n",
    "                if DP[n][j][k][l]:\n",
    "                    return True\n",
    "    return False\n",
    "\n",
    "n = int(input(\"Enter the number of trash bags: \"))\n",
    "w = [int(x) for x in input(\"Enter the weights of the trash bags, separated by spaces: \").split()]\n",
    "M = int(input(\"Enter the maximum weight capacity of the containers: \"))\n",
    "\n",
    "can_distribute_trash_bags(n, w, M)\n"
   ]
  },
  {
   "cell_type": "markdown",
   "metadata": {},
   "source": [
    "# 3b"
   ]
  },
  {
   "cell_type": "code",
   "execution_count": 82,
   "metadata": {},
   "outputs": [
    {
     "name": "stdin",
     "output_type": "stream",
     "text": [
      "Enter the number of trash bags:  5\n",
      "Enter the weights of the trash bags, separated by spaces:  2 2 3 4 5\n",
      "Enter the maximum weight capacity of the containers:  5\n"
     ]
    },
    {
     "data": {
      "text/plain": [
       "False"
      ]
     },
     "execution_count": 82,
     "metadata": {},
     "output_type": "execute_result"
    }
   ],
   "source": [
    "def can_fit_trash_bags_optimized(n, w, M):\n",
    "    # O(M) - Initialize the DP array with M+1 elements\n",
    "    DP = [False] * (M + 1)\n",
    "    DP[0] = True  # Base case: Achieving 0 weight is always possible\n",
    "\n",
    "    # O(nM) - Main loop: For each trash bag (n), iterate through potential weights up to M\n",
    "    for weight in w:\n",
    "        # O(M) - Update the DP array in reverse for each weight\n",
    "        for j in range(M, weight - 1, -1):\n",
    "            DP[j] = DP[j] or DP[j - weight]\n",
    "    \n",
    "    # O(M) - Find the maximum achievable weight that does not exceed M by iterating through DP array\n",
    "    for j in range(M, -1, -1):\n",
    "        if DP[j]:\n",
    "            # Constant time check - O(1)\n",
    "            if sum(w) - j <= M:\n",
    "                return True\n",
    "    return False\n",
    "\n",
    "n = int(input(\"Enter the number of trash bags: \"))\n",
    "w = [int(x) for x in input(\"Enter the weights of the trash bags, separated by spaces: \").split()]\n",
    "M = int(input(\"Enter the maximum weight capacity of the containers: \"))\n",
    "\n",
    "can_fit_trash_bags_optimized(n, w, M) \n",
    "\n"
   ]
  },
  {
   "cell_type": "markdown",
   "metadata": {},
   "source": [
    "# 4"
   ]
  },
  {
   "cell_type": "code",
   "execution_count": 86,
   "metadata": {},
   "outputs": [
    {
     "name": "stdin",
     "output_type": "stream",
     "text": [
      "Enter the elements of array A separated by space:  1 -2 -3 10 4 -7 2 -5\n",
      " 5\n"
     ]
    },
    {
     "name": "stdout",
     "output_type": "stream",
     "text": [
      "The max sub array sum is 10 with L = 0 and R = 4.\n"
     ]
    }
   ],
   "source": [
    "A = [int(x) for x in input(\"Enter the elements of array A separated by space: \").split()]\n",
    "X = int(input())\n",
    "\n",
    "def find_max_subarray_dp_optimized(A, X):\n",
    "    n = len(A)  # O(1), getting the length of the array\n",
    "    \n",
    "    # Calculate prefix sums for constant-time sum queries\n",
    "    prefix_sums = [0]  # O(1), initializing the prefix sums list\n",
    "    for num in A:\n",
    "        prefix_sums.append(prefix_sums[-1] + num)  # O(n), as appending to a list is O(1) but done n times\n",
    "    \n",
    "    # Initialize variables for tracking the maximum sum and positions\n",
    "    max_sum = float('-inf')  # O(1), initializing variables\n",
    "    L = R = 0  # O(1), initializing variables\n",
    "\n",
    "    # Dynamic Programming with Rolling Sum\n",
    "    # We iterate once through the array, using the prefix sums to quickly calculate the sum of subarrays of length >= X and updating the maximum sum and positions accordingly\n",
    "    for i in range(X, n + 1):  # O(n-X+1) which simplifies to O(n), iterating from X to n\n",
    "        current_sum = prefix_sums[i] - prefix_sums[i - X]  # O(1), calculating sum using prefix sums\n",
    "        if current_sum > max_sum:\n",
    "            max_sum = current_sum  # O(1), updating max_sum\n",
    "            L, R = i - X, i - 1  # O(1), updating L and R\n",
    "    \n",
    "    # We return L and R as the starting and ending indices of the subarray\n",
    "\n",
    "    return L, R, max_sum\n",
    "\n",
    "L, R, max_sum = find_max_subarray_dp_optimized(A, X)\n",
    "\n",
    "print(f'The max sub array sum is {max_sum} with L = {L} and R = {R}.')\n",
    "\n"
   ]
  },
  {
   "cell_type": "markdown",
   "metadata": {},
   "source": [
    "# 5"
   ]
  },
  {
   "cell_type": "code",
   "execution_count": 83,
   "metadata": {},
   "outputs": [
    {
     "name": "stdin",
     "output_type": "stream",
     "text": [
      "Enter string A:  BANANA\n",
      "Enter string B:  ANANAS\n",
      "Enter string C:  BANANAANANAS\n"
     ]
    },
    {
     "name": "stdout",
     "output_type": "stream",
     "text": [
      "The number of ways C can be a shuffle of A and B is: 12\n"
     ]
    }
   ],
   "source": [
    "def count_shuffles(A, B, C):\n",
    "    m, n = len(A), len(B)\n",
    "    if len(C) != m + n:  # Quick check\n",
    "        return 0\n",
    "    \n",
    "    dp = [[0] * (n + 1) for _ in range(m + 1)]\n",
    "    dp[0][0] = 1  # Base case: one way to form an empty string\n",
    "    \n",
    "    # Fill the DP table\n",
    "    for i in range(m + 1):\n",
    "        for j in range(n + 1):\n",
    "            if i > 0 and A[i - 1] == C[i + j - 1]:\n",
    "                dp[i][j] += dp[i - 1][j]\n",
    "            if j > 0 and B[j - 1] == C[i + j - 1]:\n",
    "                dp[i][j] += dp[i][j - 1]\n",
    "                \n",
    "    return dp[m][n]\n",
    "\n",
    "A = input(\"Enter string A: \")\n",
    "B = input(\"Enter string B: \")\n",
    "C = input(\"Enter string C: \")\n",
    "\n",
    "# Calculate and print the number of shuffles\n",
    "num_shuffles = count_shuffles(A, B, C)\n",
    "print(f\"The number of ways C can be a shuffle of A and B is: {num_shuffles}\")\n"
   ]
  },
  {
   "cell_type": "code",
   "execution_count": null,
   "metadata": {},
   "outputs": [],
   "source": []
  }
 ],
 "metadata": {
  "kernelspec": {
   "display_name": "Python 3",
   "language": "python",
   "name": "python3"
  },
  "language_info": {
   "codemirror_mode": {
    "name": "ipython",
    "version": 3
   },
   "file_extension": ".py",
   "mimetype": "text/x-python",
   "name": "python",
   "nbconvert_exporter": "python",
   "pygments_lexer": "ipython3",
   "version": "3.8.3"
  }
 },
 "nbformat": 4,
 "nbformat_minor": 5
}
