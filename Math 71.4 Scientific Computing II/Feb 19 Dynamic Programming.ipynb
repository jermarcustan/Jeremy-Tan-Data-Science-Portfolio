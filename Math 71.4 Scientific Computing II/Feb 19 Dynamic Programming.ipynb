{
 "cells": [
  {
   "cell_type": "markdown",
   "metadata": {},
   "source": [
    "## Rod Cutting Problem"
   ]
  },
  {
   "cell_type": "code",
   "execution_count": 1,
   "metadata": {},
   "outputs": [
    {
     "name": "stdin",
     "output_type": "stream",
     "text": [
      " 5\n",
      " 1 3 5 7 9\n"
     ]
    },
    {
     "name": "stdout",
     "output_type": "stream",
     "text": [
      "9\n"
     ]
    }
   ],
   "source": [
    "n = int(input())\n",
    "r = [0] + [int(x) for x in input().split()]\n",
    "memo = dict()\n",
    "def f(k):\n",
    "    if k in memo:\n",
    "        return memo[k]\n",
    "    else:\n",
    "        if k == 0:\n",
    "            answer = 0\n",
    "        else:\n",
    "            answer = 0\n",
    "            for i in range(1,k+1):\n",
    "                revenue_i = r[i] + f(k-i)\n",
    "                answer = max(answer, revenue_i)\n",
    "            return answer\n",
    "        memo[k] = answer\n",
    "        return memo[k]\n",
    "print(f(n))"
   ]
  },
  {
   "cell_type": "markdown",
   "metadata": {},
   "source": [
    "## Time Complexity"
   ]
  },
  {
   "cell_type": "markdown",
   "metadata": {},
   "source": [
    "We have to compute f(k) for all k from 1 to n+1. <br>\n",
    "Each time we run f(k) is O(n) and we run it n times so O(n^2)."
   ]
  },
  {
   "cell_type": "markdown",
   "metadata": {},
   "source": [
    "## Space Complexity"
   ]
  },
  {
   "cell_type": "markdown",
   "metadata": {},
   "source": [
    "This is just the size of the memo table so O(n)."
   ]
  },
  {
   "cell_type": "markdown",
   "metadata": {},
   "source": [
    "## Rod Cutting Problem"
   ]
  },
  {
   "cell_type": "code",
   "execution_count": 1,
   "metadata": {},
   "outputs": [
    {
     "name": "stdin",
     "output_type": "stream",
     "text": [
      " 10\n",
      " 1 5 8 9 10 17 17 20 24 30\n"
     ]
    },
    {
     "name": "stdout",
     "output_type": "stream",
     "text": [
      "30\n"
     ]
    }
   ],
   "source": [
    "n = int(input())\n",
    "r = [0] + [int(x) for x in input().split()]\n",
    "def f(k):\n",
    "    if k == 0:\n",
    "        return 0\n",
    "    else:\n",
    "        return max(r[i] + f(k-i) for i in range(1, k+1))\n",
    "    \n",
    "print(f(n))"
   ]
  },
  {
   "cell_type": "code",
   "execution_count": 2,
   "metadata": {},
   "outputs": [
    {
     "name": "stdin",
     "output_type": "stream",
     "text": [
      " 10\n",
      " 1 5 8 9 10 17 17 20 24 30\n"
     ]
    },
    {
     "name": "stdout",
     "output_type": "stream",
     "text": [
      "30\n"
     ]
    }
   ],
   "source": [
    "# We can use a memo table to make our algorithm more efficient\n",
    "\n",
    "n = int(input())\n",
    "# r[i] is the revenue from selling a rod of length i meters for i > 0\n",
    "r = [0] + [int(x) for x in input().split()]\n",
    "memo = dict() # memo[k] stores the result of f(k)\n",
    "\n",
    "def f(k):\n",
    "    if k in memo: # if we already computed f(k) before\n",
    "        return memo[k] # retrieve the stored result\n",
    "    else: # otherwise, compute f(k) from scratch\n",
    "        if k == 0:\n",
    "            answer = 0\n",
    "        else:\n",
    "            answer = max(r[i] + f(k-i) for i in range(1, k+1))\n",
    "        memo[k] = answer # then store the result for later\n",
    "        return memo[k]\n",
    "print(f(n))"
   ]
  },
  {
   "cell_type": "markdown",
   "metadata": {},
   "source": [
    "## Knapsack Problem"
   ]
  },
  {
   "cell_type": "code",
   "execution_count": null,
   "metadata": {},
   "outputs": [],
   "source": [
    "# the value of each item is v_i\n",
    "# the weight of each item is w_i\n",
    "\n",
    "n = 5\n",
    "W = 10\n",
    "v = []\n",
    "w = []\n",
    "# Let f(i, c) be the maximum value in the knapsack from considering the ith item onwards \n",
    "# assuming you have capacity c\n",
    "def f(i,c):\n",
    "    if i > n:\n",
    "        return 0\n",
    "    elif w[i] > c:\n",
    "        return f(i+1, c)\n",
    "    else:\n",
    "        return max(f(i+1,c), f(i+1, c-w[i]) + v[i])\n"
   ]
  },
  {
   "cell_type": "markdown",
   "metadata": {},
   "source": [
    "## Fibonacci Sequence"
   ]
  },
  {
   "cell_type": "code",
   "execution_count": null,
   "metadata": {},
   "outputs": [],
   "source": [
    "import sys\n",
    "sys.setrecursionlimit(1000000)\n",
    "\n",
    "import functools\n",
    "\n",
    "@functools.cache # memoize automatically\n",
    "# Let f(k) be the kth fibnoacci number.\n",
    "def F(k):\n",
    "    if k == 1:\n",
    "        return 1\n",
    "    elif k == 2:\n",
    "        return 1\n",
    "    else:\n",
    "        return F(k-1) + F(k+2)\n",
    "print(F(100))"
   ]
  },
  {
   "cell_type": "code",
   "execution_count": null,
   "metadata": {},
   "outputs": [],
   "source": []
  },
  {
   "cell_type": "code",
   "execution_count": null,
   "metadata": {},
   "outputs": [],
   "source": []
  },
  {
   "cell_type": "code",
   "execution_count": null,
   "metadata": {},
   "outputs": [],
   "source": []
  }
 ],
 "metadata": {
  "kernelspec": {
   "display_name": "Python 3",
   "language": "python",
   "name": "python3"
  },
  "language_info": {
   "codemirror_mode": {
    "name": "ipython",
    "version": 3
   },
   "file_extension": ".py",
   "mimetype": "text/x-python",
   "name": "python",
   "nbconvert_exporter": "python",
   "pygments_lexer": "ipython3",
   "version": "3.8.3"
  }
 },
 "nbformat": 4,
 "nbformat_minor": 5
}
