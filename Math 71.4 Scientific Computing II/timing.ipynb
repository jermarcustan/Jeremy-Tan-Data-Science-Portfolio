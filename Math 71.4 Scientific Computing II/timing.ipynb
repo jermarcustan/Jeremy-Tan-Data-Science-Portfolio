{
 "cells": [
  {
   "cell_type": "markdown",
   "id": "55dce177-ecdf-47ee-82f0-7d6881a6ee35",
   "metadata": {},
   "source": [
    "# MATH 71.4 - Basic timing\n",
    "\n",
    "This notebook shows how to time code using\n",
    "- Built-in timing functions\n",
    "- A function decorator\n",
    "- Built-in Jupyter cell magic"
   ]
  },
  {
   "cell_type": "markdown",
   "id": "eddf26dc-087b-4c46-ae4a-f0bb11a55faf",
   "metadata": {},
   "source": [
    "## Using built-in functions\n",
    "\n",
    "The `time` library in Python can be used to time code.\n",
    "- `time.time()`: measures wall time\n",
    "- `time.process_time()` : measures process time\n",
    "- `time.thread_time()` : measures thread time"
   ]
  },
  {
   "cell_type": "code",
   "execution_count": 6,
   "id": "fb71758f-3c4b-4f80-ae13-368676ff855c",
   "metadata": {},
   "outputs": [
    {
     "name": "stdin",
     "output_type": "stream",
     "text": [
      " 12345678\n"
     ]
    },
    {
     "name": "stdout",
     "output_type": "stream",
     "text": [
      "24\n",
      "Wall time   : 3.1262865066528320 seconds\n",
      "Process time: 3.0937500000000000 seconds\n"
     ]
    }
   ],
   "source": [
    "import time\n",
    "n = int(input())\n",
    "\n",
    "start_time_wall, start_time_proc = time.time(), time.process_time()\n",
    "\n",
    "total = 0\n",
    "for d in range(1, n+1):\n",
    "    if n % d == 0:\n",
    "        total += 1\n",
    "\n",
    "end_time_wall, end_time_proc = time.time(), time.process_time()\n",
    "wall_time = end_time_wall - start_time_wall\n",
    "proc_time = end_time_proc - start_time_proc\n",
    "\n",
    "print(total)\n",
    "print(f\"Wall time   : {wall_time:.16f} seconds\")\n",
    "print(f\"Process time: {proc_time:.16f} seconds\")"
   ]
  },
  {
   "cell_type": "markdown",
   "id": "35a41024-6e9e-4dd1-a4f2-7fc7a7362436",
   "metadata": {},
   "source": [
    "## Function decorators\n",
    "\n",
    "A cleaner approach compared to inserting timing code directly in between program code is to use a **function decorator**. A function decorator can augment an existing function by wrapping code around it."
   ]
  },
  {
   "cell_type": "code",
   "execution_count": 4,
   "id": "83c61a49-ed98-4f4f-9265-cd69ee6de836",
   "metadata": {},
   "outputs": [],
   "source": [
    "import time\n",
    "from functools import wraps\n",
    "\n",
    "def timefn(fn):\n",
    "    @wraps(fn)\n",
    "    def measure_time(*args, **kwargs):\n",
    "        start_time_wall, start_time_proc = time.time(), time.process_time()\n",
    "        \n",
    "        fn_return_val = fn(*args, **kwargs)\n",
    "        \n",
    "        end_time_wall, end_time_proc = time.time(), time.process_time()\n",
    "        wall_time = end_time_wall - start_time_wall\n",
    "        proc_time = end_time_proc - start_time_proc\n",
    "        print(f\"@timefn: info for {fn.__name__}\")\n",
    "        print(f\"Wall time   : {wall_time:.16f} seconds\")\n",
    "        print(f\"Process time: {proc_time:.16f} seconds\")\n",
    "        return fn_return_val\n",
    "    return measure_time"
   ]
  },
  {
   "cell_type": "markdown",
   "id": "fcdb2caa-b776-4649-b9bd-8e5ed6f44989",
   "metadata": {},
   "source": [
    "The decorator declared above can be used by adding the line `@timefn` above the functions you wish to time.\n",
    "\n",
    "The same decorator can be applied to multiple functions."
   ]
  },
  {
   "cell_type": "code",
   "execution_count": 5,
   "id": "94a190c6-3a30-4e1b-9664-04ea73c68380",
   "metadata": {},
   "outputs": [
    {
     "name": "stdin",
     "output_type": "stream",
     "text": [
      " 12345678\n"
     ]
    },
    {
     "name": "stdout",
     "output_type": "stream",
     "text": [
      "@timefn: info for count_divisors\n",
      "Wall time   : 2.4077334403991699 seconds\n",
      "Process time: 2.3125000000000000 seconds\n",
      "24\n"
     ]
    }
   ],
   "source": [
    "@timefn\n",
    "def count_divisors(n):\n",
    "    total = 0\n",
    "    for d in range(1, n+1):\n",
    "        if n % d == 0:\n",
    "            total += 1\n",
    "    return total\n",
    "\n",
    "n = int(input())\n",
    "print(count_divisors(n))"
   ]
  },
  {
   "cell_type": "code",
   "execution_count": 18,
   "id": "98282044-ac2f-4364-b815-8eeec0554aae",
   "metadata": {},
   "outputs": [
    {
     "name": "stdout",
     "output_type": "stream",
     "text": [
      "@timefn: info for count_divisors\n",
      "Wall time   : 0.4807145595550537 seconds\n",
      "Process time: 0.3437500000000000 seconds\n",
      "24\n",
      "@timefn: info for count_even_divisors\n",
      "Wall time   : 0.4643902778625488 seconds\n",
      "Process time: 0.3906250000000000 seconds\n",
      "12\n"
     ]
    }
   ],
   "source": [
    "@timefn\n",
    "def count_divisors(n):\n",
    "    total = 0\n",
    "    for d in range(1, n+1):\n",
    "        if n % d == 0:\n",
    "            total += 1\n",
    "    return total\n",
    "\n",
    "@timefn\n",
    "def count_even_divisors(n):\n",
    "    total = 0\n",
    "    for d in range(1, n+1):\n",
    "        if n % d == 0 and d % 2 == 0:\n",
    "            total += 1\n",
    "    return total\n",
    "\n",
    "print(count_divisors(12345678))\n",
    "print(count_even_divisors(12345678))"
   ]
  },
  {
   "cell_type": "markdown",
   "id": "bf26d70d-a34f-4ad6-8e5d-2d38f695a274",
   "metadata": {},
   "source": [
    "## IPython magic commands\n",
    "\n",
    "If using an interactive Python environment like Jupyter, cell magic can be used to obtain process and wall times.\n",
    "\n",
    "- `%%time`: measures time for the entire cell\n",
    "- `%time` : measures time for a single line"
   ]
  },
  {
   "cell_type": "code",
   "execution_count": 1,
   "id": "436b8e7e-ad90-49b3-8551-63809dd3917c",
   "metadata": {},
   "outputs": [],
   "source": [
    "def count_divisors(n):\n",
    "    total = 0\n",
    "    for d in range(1, n+1):\n",
    "        if n % d == 0:\n",
    "            total += 1\n",
    "    return total"
   ]
  },
  {
   "cell_type": "code",
   "execution_count": 2,
   "id": "3c0ad32f-83b9-4147-b5a9-b75ba17be06c",
   "metadata": {},
   "outputs": [
    {
     "name": "stdout",
     "output_type": "stream",
     "text": [
      "24\n",
      "12\n",
      "CPU times: total: 3.98 s\n",
      "Wall time: 5.05 s\n"
     ]
    }
   ],
   "source": [
    "%%time\n",
    "print(count_divisors(12345678))\n",
    "print(count_divisors(123456789))"
   ]
  },
  {
   "cell_type": "code",
   "execution_count": 3,
   "id": "9d0925dd-854a-4c9b-bdc0-78d782fb49b5",
   "metadata": {},
   "outputs": [
    {
     "name": "stdout",
     "output_type": "stream",
     "text": [
      "24\n",
      "CPU times: total: 344 ms\n",
      "Wall time: 464 ms\n",
      "12\n",
      "CPU times: total: 3.55 s\n",
      "Wall time: 4.64 s\n"
     ]
    }
   ],
   "source": [
    "%time print(count_divisors(12345678))\n",
    "%time print(count_divisors(123456789))"
   ]
  },
  {
   "cell_type": "code",
   "execution_count": null,
   "id": "7a1e8296-07ea-45b4-b6a2-259e4eb5a378",
   "metadata": {},
   "outputs": [],
   "source": []
  }
 ],
 "metadata": {
  "kernelspec": {
   "display_name": "Python 3 (ipykernel)",
   "language": "python",
   "name": "python3"
  },
  "language_info": {
   "codemirror_mode": {
    "name": "ipython",
    "version": 3
   },
   "file_extension": ".py",
   "mimetype": "text/x-python",
   "name": "python",
   "nbconvert_exporter": "python",
   "pygments_lexer": "ipython3",
   "version": "3.10.7"
  }
 },
 "nbformat": 4,
 "nbformat_minor": 5
}
