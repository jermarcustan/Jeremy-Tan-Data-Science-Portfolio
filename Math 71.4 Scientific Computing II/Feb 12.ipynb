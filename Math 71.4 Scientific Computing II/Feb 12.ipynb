{
 "cells": [
  {
   "cell_type": "markdown",
   "metadata": {},
   "source": [
    "## Activity Selection"
   ]
  },
  {
   "cell_type": "code",
   "execution_count": 1,
   "metadata": {},
   "outputs": [],
   "source": [
    "class Interval:\n",
    "    def __init__(self, start, finish):\n",
    "        self.start = start\n",
    "        self.finish = finish\n",
    "    def __str__(self):\n",
    "        return f'[{self.start} {self.finish}]'\n",
    "    def __lt__(self, other):\n",
    "        return self.finish < other.finish"
   ]
  },
  {
   "cell_type": "code",
   "execution_count": 2,
   "metadata": {},
   "outputs": [
    {
     "name": "stdin",
     "output_type": "stream",
     "text": [
      " 3\n",
      " 1\n",
      " 2\n"
     ]
    }
   ],
   "source": [
    "n = int(input())\n",
    "start_times = [int(x) for x in input().split()]\n",
    "finish_times = [int(x) for x in input().split()]\n"
   ]
  },
  {
   "cell_type": "code",
   "execution_count": null,
   "metadata": {},
   "outputs": [],
   "source": [
    "intervals = [Interval(start_times[i], finish_times[i]) for i in range(n)]\n",
    "intervals.sort()\n",
    "last_finishing_time = 0\n",
    "solution = []\n",
    "for I in intervals:\n",
    "    if last_finishing_time <= I.start:\n",
    "        solution.append(I)\n",
    "        last_finishing_time = I.finish\n",
    "print(*solution)"
   ]
  }
 ],
 "metadata": {
  "kernelspec": {
   "display_name": "Python 3",
   "language": "python",
   "name": "python3"
  },
  "language_info": {
   "codemirror_mode": {
    "name": "ipython",
    "version": 3
   },
   "file_extension": ".py",
   "mimetype": "text/x-python",
   "name": "python",
   "nbconvert_exporter": "python",
   "pygments_lexer": "ipython3",
   "version": "3.8.3"
  }
 },
 "nbformat": 4,
 "nbformat_minor": 5
}
