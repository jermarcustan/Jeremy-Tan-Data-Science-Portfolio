{
 "cells": [
  {
   "cell_type": "markdown",
   "metadata": {},
   "source": [
    "## Load Balancing"
   ]
  },
  {
   "cell_type": "code",
   "execution_count": 4,
   "metadata": {},
   "outputs": [
    {
     "name": "stdin",
     "output_type": "stream",
     "text": [
      " 5\n",
      " 1 1 1 2 6\n"
     ]
    }
   ],
   "source": [
    "m = int(input()) # number of machines #O(m)\n",
    "jt = [int(x) for x in input().split()] # job lengths #O(n)\n",
    "load = [0 for _ in range(m)]\n"
   ]
  },
  {
   "cell_type": "code",
   "execution_count": null,
   "metadata": {},
   "outputs": [],
   "source": [
    "for job in jt:\n",
    "    # find mahine with minimum load\n",
    "    minimum_load = load[0]\n",
    "    min_i = 0\n",
    "    for i in range(m):\n",
    "        if load[i] < minimum_load:\n",
    "            minimum_load = load[i]\n",
    "            min_i = i\n",
    "    load[min_i] += job\n",
    "print(max(load))"
   ]
  },
  {
   "cell_type": "markdown",
   "metadata": {},
   "source": [
    "### Time Complexity\n",
    "The entire for loop goes through every machines so it is O(m).\n",
    "The entire nested for loop runs in O(mn) or quadratic time. \n",
    "\n",
    "Getting the final answer is O(m).\n",
    "\n",
    "The entire algorithm runs in O(mn). \n",
    "\n",
    "There is a data structure that allows you to easily find the minimum, the heap.\n",
    "\n",
    "import heapq"
   ]
  },
  {
   "cell_type": "code",
   "execution_count": 7,
   "metadata": {},
   "outputs": [
    {
     "name": "stdout",
     "output_type": "stream",
     "text": [
      "[1, 1, 2, 2, 3, 8, 4, 3, 3, 4, 5, 9, 9, 7, 9, 3, 6, 5, 8, 5]\n"
     ]
    }
   ],
   "source": [
    "import heapq\n",
    "L = [3,1,4,1,5,9,2,6,5,3,5,8,9,7,9,3,2,3,8,4]\n",
    "heapq.heapify(L) #O(n)\n",
    "print(L)\n",
    "x = heapq.heappoop(L) # retrieves the minimum; runs in log(n) time\n",
    "print(L)\n",
    "print(x)\n",
    "heapq.heappush(L,7) # runs in log(n)\n",
    "print(L)"
   ]
  },
  {
   "cell_type": "code",
   "execution_count": null,
   "metadata": {},
   "outputs": [],
   "source": []
  }
 ],
 "metadata": {
  "kernelspec": {
   "display_name": "Python 3",
   "language": "python",
   "name": "python3"
  },
  "language_info": {
   "codemirror_mode": {
    "name": "ipython",
    "version": 3
   },
   "file_extension": ".py",
   "mimetype": "text/x-python",
   "name": "python",
   "nbconvert_exporter": "python",
   "pygments_lexer": "ipython3",
   "version": "3.8.3"
  }
 },
 "nbformat": 4,
 "nbformat_minor": 5
}
