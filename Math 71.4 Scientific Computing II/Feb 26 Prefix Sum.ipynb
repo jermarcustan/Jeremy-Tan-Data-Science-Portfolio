{
 "cells": [
  {
   "cell_type": "markdown",
   "metadata": {},
   "source": [
    "## Prefix Sum"
   ]
  },
  {
   "cell_type": "code",
   "execution_count": 2,
   "metadata": {},
   "outputs": [
    {
     "name": "stdin",
     "output_type": "stream",
     "text": [
      " 2 4 1 6 3\n"
     ]
    },
    {
     "name": "stdout",
     "output_type": "stream",
     "text": [
      "10\n"
     ]
    }
   ],
   "source": [
    "xs = [] # array of x coordinates\n",
    "ys = [] # array of y coordinates\n",
    "\n",
    "i = 3\n",
    "j = 8\n",
    "'''\n",
    "sum_x = 0\n",
    "sum_y = 0\n",
    "sum_xy = 0\n",
    "for x in range(i, j+1):\n",
    "    sum_x += xs[x]\n",
    "    sum_y += ys[x]\n",
    "    sum_xy += xs[x]*ys[x]\n",
    "'''\n",
    "A = list(map(int, input().split()))\n",
    "P = []\n",
    "\n",
    "running_sum = 0\n",
    "for x in A:\n",
    "    running_sum += x\n",
    "    P.append(running_sum)\n",
    "\n",
    "# Get sum from index 2 to 4; list starts with index 0\n",
    "print(P[4] - P[1])\n"
   ]
  },
  {
   "cell_type": "markdown",
   "metadata": {},
   "source": [
    "## Max Subarray Sum"
   ]
  },
  {
   "cell_type": "code",
   "execution_count": 1,
   "metadata": {},
   "outputs": [
    {
     "name": "stdin",
     "output_type": "stream",
     "text": [
      " 9\n",
      " -2 1 -3 4 -1 2 1 -5 4\n"
     ]
    },
    {
     "name": "stdout",
     "output_type": "stream",
     "text": [
      "5\n"
     ]
    }
   ],
   "source": [
    "n = int(input())\n",
    "arr = list(map(int, input().split()))\n",
    "\n",
    "memo = dict()\n",
    "# Let f(R) be the max subarray sum of all possible subarrays ending at exactly index R\n",
    "\n",
    "def f(R):\n",
    "    if R in memo:\n",
    "        return memo[R]\n",
    "    else:\n",
    "        if R == 0:\n",
    "            answer = arr[R]\n",
    "        else:\n",
    "            answer = max(arr[R], arr[R] + f(R-1))\n",
    "        memo[R] = answer\n",
    "        return memo[R]\n",
    "print(f(n-1))"
   ]
  },
  {
   "cell_type": "code",
   "execution_count": null,
   "metadata": {},
   "outputs": [],
   "source": []
  }
 ],
 "metadata": {
  "kernelspec": {
   "display_name": "Python 3",
   "language": "python",
   "name": "python3"
  },
  "language_info": {
   "codemirror_mode": {
    "name": "ipython",
    "version": 3
   },
   "file_extension": ".py",
   "mimetype": "text/x-python",
   "name": "python",
   "nbconvert_exporter": "python",
   "pygments_lexer": "ipython3",
   "version": "3.8.3"
  }
 },
 "nbformat": 4,
 "nbformat_minor": 5
}
