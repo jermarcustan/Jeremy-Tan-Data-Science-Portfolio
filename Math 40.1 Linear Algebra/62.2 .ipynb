{
 "cells": [
  {
   "cell_type": "code",
   "execution_count": 2,
   "metadata": {},
   "outputs": [
    {
     "data": {
      "text/plain": [
       "[ 2 -1]\n",
       "[-1  2]"
      ]
     },
     "execution_count": 2,
     "metadata": {},
     "output_type": "execute_result"
    }
   ],
   "source": [
    "A = Matrix([[2,-1], [-1,2]])\n",
    "A"
   ]
  },
  {
   "cell_type": "code",
   "execution_count": 4,
   "metadata": {},
   "outputs": [
    {
     "data": {
      "text/plain": [
       "[3, 1]"
      ]
     },
     "execution_count": 4,
     "metadata": {},
     "output_type": "execute_result"
    }
   ],
   "source": [
    "A.eigenvalues()"
   ]
  },
  {
   "cell_type": "code",
   "execution_count": 5,
   "metadata": {},
   "outputs": [
    {
     "data": {
      "text/html": [
       "<html><script type=\"math/tex; mode=display\">\\newcommand{\\Bold}[1]{\\mathbf{#1}}\\left[\\left(3, \\left[\\left(1,\\,-1\\right)\\right], 1\\right), \\left(1, \\left[\\left(1,\\,1\\right)\\right], 1\\right)\\right]</script></html>"
      ],
      "text/latex": [
       "$$\\newcommand{\\Bold}[1]{\\mathbf{#1}}\\left[\\left(3, \\left[\\left(1,\\,-1\\right)\\right], 1\\right), \\left(1, \\left[\\left(1,\\,1\\right)\\right], 1\\right)\\right]$$"
      ],
      "text/plain": [
       "[(3,\n",
       "  [\n",
       "  (1, -1)\n",
       "  ],\n",
       "  1),\n",
       " (1,\n",
       "  [\n",
       "  (1, 1)\n",
       "  ],\n",
       "  1)]"
      ]
     },
     "metadata": {},
     "output_type": "display_data"
    }
   ],
   "source": [
    "show(A.eigenvectors_right())"
   ]
  },
  {
   "cell_type": "code",
   "execution_count": 7,
   "metadata": {},
   "outputs": [
    {
     "data": {
      "text/plain": [
       "[   1 -1/2]\n",
       "[-1/2    1]"
      ]
     },
     "execution_count": 7,
     "metadata": {},
     "output_type": "execute_result"
    }
   ],
   "source": [
    "A^1/2"
   ]
  },
  {
   "cell_type": "code",
   "execution_count": 1,
   "metadata": {},
   "outputs": [
    {
     "data": {
      "text/html": [
       "<html><script type=\"math/tex; mode=display\">\\newcommand{\\Bold}[1]{\\mathbf{#1}}\\left[\\left(2, \\left[\\left(1,\\,3,\\,1\\right)\\right], 1\\right), \\left(1, \\left[\\left(1,\\,\\frac{2}{3},\\,\\frac{1}{3}\\right)\\right], 1\\right), \\left(-1, \\left[\\left(1,\\,0,\\,1\\right)\\right], 1\\right)\\right]</script></html>"
      ],
      "text/latex": [
       "$$\\newcommand{\\Bold}[1]{\\mathbf{#1}}\\left[\\left(2, \\left[\\left(1,\\,3,\\,1\\right)\\right], 1\\right), \\left(1, \\left[\\left(1,\\,\\frac{2}{3},\\,\\frac{1}{3}\\right)\\right], 1\\right), \\left(-1, \\left[\\left(1,\\,0,\\,1\\right)\\right], 1\\right)\\right]$$"
      ],
      "text/plain": [
       "[(2,\n",
       "  [\n",
       "  (1, 3, 1)\n",
       "  ],\n",
       "  1),\n",
       " (1,\n",
       "  [\n",
       "  (1, 2/3, 1/3)\n",
       "  ],\n",
       "  1),\n",
       " (-1,\n",
       "  [\n",
       "  (1, 0, 1)\n",
       "  ],\n",
       "  1)]"
      ]
     },
     "metadata": {},
     "output_type": "display_data"
    }
   ],
   "source": [
    "B = Matrix([[1,1,-2], [-1,2,1], [0,1,-1]])\n",
    "show(B.eigenvectors_right())"
   ]
  },
  {
   "cell_type": "code",
   "execution_count": null,
   "metadata": {},
   "outputs": [],
   "source": []
  }
 ],
 "metadata": {
  "kernelspec": {
   "display_name": "SageMath 9.3",
   "language": "sage",
   "name": "sagemath"
  },
  "language_info": {
   "codemirror_mode": {
    "name": "ipython",
    "version": 3
   },
   "file_extension": ".py",
   "mimetype": "text/x-python",
   "name": "python",
   "nbconvert_exporter": "python",
   "pygments_lexer": "ipython3",
   "version": "3.7.10"
  }
 },
 "nbformat": 4,
 "nbformat_minor": 4
}
