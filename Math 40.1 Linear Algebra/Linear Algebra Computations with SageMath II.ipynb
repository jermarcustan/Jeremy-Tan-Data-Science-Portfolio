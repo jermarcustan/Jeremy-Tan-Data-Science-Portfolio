{
 "cells": [
  {
   "cell_type": "markdown",
   "metadata": {
    "collapsed": false
   },
   "source": [
    "#### Vector Spaces"
   ]
  },
  {
   "cell_type": "code",
   "execution_count": 9,
   "metadata": {
    "collapsed": false
   },
   "outputs": [
    {
     "data": {
      "text/plain": [
       "Vector space of dimension 3 over Real Field with 53 bits of precision"
      ]
     },
     "execution_count": 9,
     "metadata": {
     },
     "output_type": "execute_result"
    }
   ],
   "source": [
    "R3 = VectorSpace(RR, 3) #constructs the vector space R^3\n",
    "v = R3.random_element() #random element of R^3\n",
    "vector([1, 2, 3]) in R3 #checks if a vector is in R^3\n",
    "R3 == RR^3 #another way to construct R^3\n",
    "v.parent() #determines where v comes from"
   ]
  },
  {
   "cell_type": "code",
   "execution_count": 12,
   "metadata": {
    "collapsed": false
   },
   "outputs": [
    {
     "data": {
      "text/plain": [
       "3"
      ]
     },
     "execution_count": 12,
     "metadata": {
     },
     "output_type": "execute_result"
    }
   ],
   "source": [
    "R3.basis() #generates a basis for R^3\n",
    "R3.dimension()"
   ]
  },
  {
   "cell_type": "code",
   "execution_count": 57,
   "metadata": {
    "collapsed": false
   },
   "outputs": [
    {
     "data": {
      "text/plain": [
       "True"
      ]
     },
     "execution_count": 57,
     "metadata": {
     },
     "output_type": "execute_result"
    }
   ],
   "source": [
    "V = VectorSpace(QQ, 3) #the fields of scalars is just Q (works only if only rational numbers are involved)\n",
    "v = vector(QQ, [1, 2, 0])\n",
    "N(pi)*v in V #N(pi), numerical value of pi, is not a rational number, so N(pi)*v is not in V"
   ]
  },
  {
   "cell_type": "code",
   "execution_count": 21,
   "metadata": {
    "collapsed": false
   },
   "outputs": [
    {
     "data": {
      "text/plain": [
       "True"
      ]
     },
     "execution_count": 21,
     "metadata": {
     },
     "output_type": "execute_result"
    }
   ],
   "source": [
    "v1 = vector(QQ, [1, 0, 0])\n",
    "v2 = vector(QQ, [0, 2, 0])\n",
    "W = V.span([v1, v2]) #subspace of V spanned by v1 and v2\n",
    "W <= V #checks if W is a subspace of V\n",
    "W.is_subspace(V) #checks if W is a subspace of V"
   ]
  },
  {
   "cell_type": "markdown",
   "metadata": {
    "collapsed": false
   },
   "source": [
    "#### Coordinates and Change of Basis"
   ]
  },
  {
   "cell_type": "code",
   "execution_count": 27,
   "metadata": {
    "collapsed": false
   },
   "outputs": [
    {
     "data": {
      "text/plain": [
       "(1, 1)"
      ]
     },
     "execution_count": 27,
     "metadata": {
     },
     "output_type": "execute_result"
    }
   ],
   "source": [
    "X = V.subspace_with_basis([v1, v2])\n",
    "X == W\n",
    "BW = W.basis()\n",
    "BX = X.basis()\n",
    "v3 = v1 + v2\n",
    "W.coordinate_vector(v3)\n",
    "X.coordinate_vector(v3)"
   ]
  },
  {
   "cell_type": "code",
   "execution_count": 36,
   "metadata": {
    "collapsed": false
   },
   "outputs": [
    {
     "data": {
      "text/plain": [
       "[1 3]\n",
       "[1 2]"
      ]
     },
     "execution_count": 36,
     "metadata": {
     },
     "output_type": "execute_result"
    }
   ],
   "source": [
    "a1 = vector(QQ, [1, 2])\n",
    "a2 = vector(QQ, [3, 4])\n",
    "b1 = vector(QQ, [1, 0])\n",
    "b2 = vector(QQ, [0, 2])\n",
    "M = matrix(QQ, [b1, b2, a1, a2]).transpose()\n",
    "P = M.rref()[:, 2:] #transition matrix from {a1, a2} to {b1, b2}"
   ]
  },
  {
   "cell_type": "markdown",
   "metadata": {
    "collapsed": false
   },
   "source": [
    "#### Row/Column Space, Null Space"
   ]
  },
  {
   "cell_type": "code",
   "execution_count": 44,
   "metadata": {
    "collapsed": false
   },
   "outputs": [
    {
     "data": {
      "text/plain": [
       "1"
      ]
     },
     "execution_count": 44,
     "metadata": {
     },
     "output_type": "execute_result"
    }
   ],
   "source": [
    "M = matrix(RR, [[1, 2, 3], [4, 5, 6], [2, 4, 6]])\n",
    "rowspaceM = M.row_space() #creates the row space of M\n",
    "colspaceM = M.column_space() #creates the column space of M\n",
    "nullspaceM = M.right_kernel() #creates the null space of M\n",
    "rowspaceM.dimension() == colspaceM.dimension()\n",
    "M.rank() #computes the rank of M\n",
    "M.nullity() #computes the nullity of M"
   ]
  },
  {
   "cell_type": "code",
   "execution_count": 0,
   "metadata": {
    "collapsed": false
   },
   "outputs": [
   ],
   "source": [
   ]
  }
 ],
 "metadata": {
  "kernelspec": {
   "display_name": "SageMath 9.4",
   "language": "sagemath",
   "metadata": {
    "cocalc": {
     "description": "Open-source mathematical software system",
     "priority": 2,
     "url": "https://www.sagemath.org/"
    }
   },
   "name": "sage-9.4",
   "resource_dir": "/ext/jupyter/kernels/sage-9.4"
  },
  "language_info": {
   "codemirror_mode": {
    "name": "ipython",
    "version": 3
   },
   "file_extension": ".py",
   "mimetype": "text/x-python",
   "name": "python",
   "nbconvert_exporter": "python",
   "pygments_lexer": "ipython3",
   "version": "3.9.5"
  }
 },
 "nbformat": 4,
 "nbformat_minor": 4
}