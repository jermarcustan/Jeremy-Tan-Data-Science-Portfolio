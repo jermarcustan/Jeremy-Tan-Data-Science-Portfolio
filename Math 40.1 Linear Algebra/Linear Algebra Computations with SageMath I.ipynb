{
 "cells": [
  {
   "cell_type": "markdown",
   "metadata": {
    "collapsed": false
   },
   "source": [
    "#### Defining Matrices"
   ]
  },
  {
   "cell_type": "code",
   "execution_count": 5,
   "metadata": {
    "collapsed": false
   },
   "outputs": [
    {
     "name": "stdout",
     "output_type": "stream",
     "text": [
      "[1 2]\n",
      "[3 4]\n"
     ]
    },
    {
     "data": {
      "text/html": [
       "<html>\\[\\newcommand{\\Bold}[1]{\\mathbf{#1}}\\left(\\begin{array}{rr}\n",
       "1 & 2 \\\\\n",
       "3 & 4\n",
       "\\end{array}\\right)\\]</html>"
      ],
      "text/latex": [
       "$$\\newcommand{\\Bold}[1]{\\mathbf{#1}}\\left(\\begin{array}{rr}\n",
       "1 & 2 \\\\\n",
       "3 & 4\n",
       "\\end{array}\\right)$$"
      ],
      "text/plain": [
       "[1 2]\n",
       "[3 4]"
      ]
     },
     "execution_count": 5,
     "metadata": {
     },
     "output_type": "execute_result"
    }
   ],
   "source": [
    "A = matrix([[1, 2], [3, 4]])\n",
    "\n",
    "print(A)\n",
    "show(A) #formatted printing"
   ]
  },
  {
   "cell_type": "code",
   "execution_count": 2,
   "metadata": {
    "collapsed": false
   },
   "outputs": [
    {
     "data": {
      "text/plain": [
       "2"
      ]
     },
     "execution_count": 2,
     "metadata": {
     },
     "output_type": "execute_result"
    }
   ],
   "source": [
    "A[0, 1] #entry in the 1st row, 2nd column (indexing begins with 0)"
   ]
  },
  {
   "cell_type": "code",
   "execution_count": 10,
   "metadata": {
    "collapsed": false
   },
   "outputs": [
    {
     "name": "stdout",
     "output_type": "stream",
     "text": [
      "[1 2 3]\n",
      "[4 5 6]\n"
     ]
    }
   ],
   "source": [
    "B = matrix(2, 3, [1, 2, 3, 4, 5, 6]) #matrix dimensions are optional\n",
    "print(B)"
   ]
  },
  {
   "cell_type": "code",
   "execution_count": 13,
   "metadata": {
    "collapsed": false
   },
   "outputs": [
    {
     "name": "stdout",
     "output_type": "stream",
     "text": [
      "[1.00000000000000 2.00000000000000 3.00000000000000]\n",
      "[4.00000000000000 5.00000000000000 6.00000000000000]\n",
      "[7.00000000000000 8.00000000000000 9.00000000000000]\n"
     ]
    }
   ],
   "source": [
    "C = matrix(RR, [[1, 2, 3], [4, 5, 6], [7, 8, 9]]) #entries from the set of real numbers (floating points)\n",
    "print(C)"
   ]
  },
  {
   "cell_type": "code",
   "execution_count": 15,
   "metadata": {
    "collapsed": false
   },
   "outputs": [
    {
     "name": "stdout",
     "output_type": "stream",
     "text": [
      "[1 2 3]\n",
      "[4 5 6]\n",
      "[7 8 9]\n"
     ]
    }
   ],
   "source": [
    "D = matrix(QQ, [[1, 2, 3], [4, 5, 6], [7, 8, 9]]) #entries from the set of rational numbers\n",
    "print(D)"
   ]
  },
  {
   "cell_type": "code",
   "execution_count": 16,
   "metadata": {
    "collapsed": false
   },
   "outputs": [
    {
     "name": "stdout",
     "output_type": "stream",
     "text": [
      "[1.00000000000000 2.00000000000000 3.00000000000000]\n",
      "[4.00000000000000 5.00000000000000 6.00000000000000]\n",
      "[7.00000000000000 8.00000000000000 9.00000000000000]\n"
     ]
    }
   ],
   "source": [
    "E = matrix([[1.0, 2, 3], [4, 5, 6], [7, 8, 9]]) #SageMath will automatically identify the field where the entries lie\n",
    "print(E)"
   ]
  },
  {
   "cell_type": "code",
   "execution_count": 16,
   "metadata": {
    "collapsed": false
   },
   "outputs": [
    {
     "data": {
      "text/plain": [
       "3"
      ]
     },
     "execution_count": 16,
     "metadata": {
     },
     "output_type": "execute_result"
    }
   ],
   "source": [
    "B.nrows() #number of rows\n",
    "B.ncols() #number of columns"
   ]
  },
  {
   "cell_type": "markdown",
   "metadata": {
    "collapsed": false
   },
   "source": [
    "#### Matrix Operations"
   ]
  },
  {
   "cell_type": "code",
   "execution_count": 25,
   "metadata": {
    "collapsed": false
   },
   "outputs": [
    {
     "data": {
      "text/plain": [
       "[2 4]\n",
       "[6 8]"
      ]
     },
     "execution_count": 25,
     "metadata": {
     },
     "output_type": "execute_result"
    }
   ],
   "source": [
    "A = matrix([[1, 2], [3, 4]])\n",
    "B = identity_matrix(2)\n",
    "C = zero_matrix(2, 3)\n",
    "\n",
    "2*A #scalar multipication"
   ]
  },
  {
   "cell_type": "code",
   "execution_count": 26,
   "metadata": {
    "collapsed": false
   },
   "outputs": [
    {
     "data": {
      "text/plain": [
       "[0 2]\n",
       "[3 3]"
      ]
     },
     "execution_count": 26,
     "metadata": {
     },
     "output_type": "execute_result"
    }
   ],
   "source": [
    "A + B #matrix addition\n",
    "A - B #matrix subtraction"
   ]
  },
  {
   "cell_type": "code",
   "execution_count": 32,
   "metadata": {
    "collapsed": false
   },
   "outputs": [
    {
     "data": {
      "text/plain": [
       "[ 37  54]\n",
       "[ 81 118]"
      ]
     },
     "execution_count": 32,
     "metadata": {
     },
     "output_type": "execute_result"
    }
   ],
   "source": [
    "A*B #matrix multiplication\n",
    "A^3 #matrix exponentiation"
   ]
  },
  {
   "cell_type": "markdown",
   "metadata": {
    "collapsed": false
   },
   "source": [
    "#### Elementary Row Operations"
   ]
  },
  {
   "cell_type": "code",
   "execution_count": 33,
   "metadata": {
    "collapsed": false
   },
   "outputs": [
    {
     "name": "stdout",
     "output_type": "stream",
     "text": [
      "[ 1  2 -1]\n",
      "[ 3  4  0]\n",
      "[ 2  0 -2]\n"
     ]
    }
   ],
   "source": [
    "A = matrix(QQ, [[1, 2, -1], [3, 4, 0], [2, 0, -2]])\n",
    "print(A)"
   ]
  },
  {
   "cell_type": "code",
   "execution_count": 34,
   "metadata": {
    "collapsed": false
   },
   "outputs": [
    {
     "name": "stdout",
     "output_type": "stream",
     "text": [
      "[ 3  4  0]\n",
      "[ 1  2 -1]\n",
      "[ 2  0 -2]\n"
     ]
    }
   ],
   "source": [
    "A.swap_rows(0, 1) #Type I\n",
    "print(A)"
   ]
  },
  {
   "cell_type": "code",
   "execution_count": 23,
   "metadata": {
    "collapsed": false
   },
   "outputs": [
    {
     "name": "stdout",
     "output_type": "stream",
     "text": [
      "[  1 4/3   0]\n",
      "[  1   2  -1]\n",
      "[  2   0  -2]\n"
     ]
    }
   ],
   "source": [
    "A.rescale_row(0, 1/3) #Type II (multiply first row by 1/3)\n",
    "print(A)"
   ]
  },
  {
   "cell_type": "code",
   "execution_count": 24,
   "metadata": {
    "collapsed": false
   },
   "outputs": [
    {
     "name": "stdout",
     "output_type": "stream",
     "text": [
      "[  1 4/3   0]\n",
      "[  0 2/3  -1]\n",
      "[  2   0  -2]\n"
     ]
    }
   ],
   "source": [
    "A.add_multiple_of_row(1, 0, -1) #Type III (add to 2nd row -1 times the 1st row)\n",
    "print(A)"
   ]
  },
  {
   "cell_type": "code",
   "execution_count": 11,
   "metadata": {
    "collapsed": false
   },
   "outputs": [
    {
     "name": "stdout",
     "output_type": "stream",
     "text": [
      "[ 1  2 -1]\n",
      "[ 3  4  0]\n",
      "[ 2  0 -2] \n",
      "\n",
      "[ 3  4  0]\n",
      "[ 1  2 -1]\n",
      "[ 2  0 -2] \n",
      "\n",
      "[  1 4/3   0]\n",
      "[  1   2  -1]\n",
      "[  2   0  -2] \n",
      "\n",
      "[  1 4/3   0]\n",
      "[  0 2/3  -1]\n",
      "[  2   0  -2] \n",
      "\n"
     ]
    }
   ],
   "source": [
    "A = matrix([[1, 2, -1], [3, 4, 0], [2, 0, -2]])\n",
    "\n",
    "A1 = A.with_swapped_rows(0, 1) #Type I (does not destroy A)\n",
    "A2 = A1.with_rescaled_row(0, 1/3) #Type II (does not destroy A)\n",
    "A3 = A2.with_added_multiple_of_row(1, 0, -1) #Type III (does not destroy A)\n",
    "\n",
    "print(A, \"\\n\")\n",
    "print(A1, \"\\n\")\n",
    "print(A2, \"\\n\")\n",
    "print(A3, \"\\n\")"
   ]
  },
  {
   "cell_type": "code",
   "execution_count": 26,
   "metadata": {
    "collapsed": false
   },
   "outputs": [
    {
     "data": {
      "text/plain": [
       "[1 0 2]\n",
       "[0 2 3]\n",
       "[0 0 6]"
      ]
     },
     "execution_count": 26,
     "metadata": {
     },
     "output_type": "execute_result"
    }
   ],
   "source": [
    "A = matrix([[1, 2, -1], [3, 4, 0], [2, 0, -2]])\n",
    "\n",
    "A.echelon_form() #row echelon form of a matrix; leading entries are not normalized"
   ]
  },
  {
   "cell_type": "code",
   "execution_count": 27,
   "metadata": {
    "collapsed": false
   },
   "outputs": [
    {
     "data": {
      "text/plain": [
       "[1 0 0]\n",
       "[0 1 0]\n",
       "[0 0 1]"
      ]
     },
     "execution_count": 27,
     "metadata": {
     },
     "output_type": "execute_result"
    }
   ],
   "source": [
    "A.rref() #reduced row echelon form of a matrix"
   ]
  },
  {
   "cell_type": "markdown",
   "metadata": {
    "collapsed": false
   },
   "source": [
    "#### Solving Linear Systems"
   ]
  },
  {
   "cell_type": "code",
   "execution_count": 37,
   "metadata": {
    "collapsed": false
   },
   "outputs": [
    {
     "name": "stdout",
     "output_type": "stream",
     "text": [
      "[ 1  2 -1  1]\n",
      "[ 3  4  0  2]\n",
      "[ 2  0 -2  3]\n"
     ]
    }
   ],
   "source": [
    "A = matrix([[1, 2, -1], [3, 4, 0], [2, 0, -2]]) #coefficient matrix\n",
    "b = matrix([[1], [2], [3]]) #constant vector\n",
    "\n",
    "Ab = A.augment(b) #augmented matrix\n",
    "print(Ab)"
   ]
  },
  {
   "cell_type": "code",
   "execution_count": 38,
   "metadata": {
    "collapsed": false
   },
   "outputs": [
    {
     "data": {
      "text/plain": [
       "[   1    0    0    1]\n",
       "[   0    1    0 -1/4]\n",
       "[   0    0    1 -1/2]"
      ]
     },
     "execution_count": 38,
     "metadata": {
     },
     "output_type": "execute_result"
    }
   ],
   "source": [
    "Ab.rref()"
   ]
  },
  {
   "cell_type": "markdown",
   "metadata": {
    "collapsed": false
   },
   "source": [
    "###### Unique solution: $\\{(1, -\\frac{1}{4}, -\\frac{1}{2})\\}$"
   ]
  },
  {
   "cell_type": "code",
   "execution_count": 39,
   "metadata": {
    "collapsed": false
   },
   "outputs": [
    {
     "name": "stdout",
     "output_type": "stream",
     "text": [
      "[ 1  2 -1  0]\n",
      "[ 4  0 -4  0]\n",
      "[ 2  0 -2  0]\n"
     ]
    },
    {
     "data": {
      "text/plain": [
       "[ 1  0 -1  0]\n",
       "[ 0  1  0  0]\n",
       "[ 0  0  0  0]"
      ]
     },
     "execution_count": 39,
     "metadata": {
     },
     "output_type": "execute_result"
    }
   ],
   "source": [
    "A = matrix([[1, 2, -1], [4, 0, -4], [2, 0, -2]])\n",
    "b = zero_matrix(3, 1)\n",
    "\n",
    "Ab = A.augment(b)\n",
    "print(Ab)\n",
    "Ab.rref()"
   ]
  },
  {
   "cell_type": "markdown",
   "metadata": {
    "collapsed": false
   },
   "source": [
    "###### Infinitely many solutions: $\\{(t, 0, t) \\mid t \\in \\mathbb{R}\\}$"
   ]
  },
  {
   "cell_type": "markdown",
   "metadata": {
    "collapsed": false
   },
   "source": [
    "#### Matrix Inverse"
   ]
  },
  {
   "cell_type": "code",
   "execution_count": 41,
   "metadata": {
    "collapsed": false
   },
   "outputs": [
    {
     "data": {
      "text/plain": [
       "[   1    0    0 -2/3  1/3  1/3]\n",
       "[   0    1    0  1/2    0 -1/4]\n",
       "[   0    0    1 -2/3  1/3 -1/6]"
      ]
     },
     "execution_count": 41,
     "metadata": {
     },
     "output_type": "execute_result"
    }
   ],
   "source": [
    "A = matrix([[1, 2, -1], [3, 4, 0], [2, 0, -2]])\n",
    "\n",
    "A.is_singular() #checks if a matrix is singular\n",
    "AI = A.augment(identity_matrix(3))\n",
    "AI.rref()"
   ]
  },
  {
   "cell_type": "code",
   "execution_count": 46,
   "metadata": {
    "collapsed": false
   },
   "outputs": [
    {
     "data": {
      "text/plain": [
       "[-2/3  1/3  1/3]\n",
       "[ 1/2    0 -1/4]\n",
       "[-2/3  1/3 -1/6]"
      ]
     },
     "execution_count": 46,
     "metadata": {
     },
     "output_type": "execute_result"
    }
   ],
   "source": [
    "A^-1 #inverse of a non-singular matrix"
   ]
  },
  {
   "cell_type": "code",
   "execution_count": 47,
   "metadata": {
    "collapsed": false
   },
   "outputs": [
    {
     "data": {
      "text/plain": [
       "True"
      ]
     },
     "execution_count": 47,
     "metadata": {
     },
     "output_type": "execute_result"
    }
   ],
   "source": [
    "(A^-1)^2 == A^-2"
   ]
  },
  {
   "cell_type": "markdown",
   "metadata": {
    "collapsed": false
   },
   "source": [
    "#### Elementary Matrices"
   ]
  },
  {
   "cell_type": "code",
   "execution_count": 10,
   "metadata": {
    "collapsed": false
   },
   "outputs": [
    {
     "name": "stdout",
     "output_type": "stream",
     "text": [
      "[0 0 1]\n",
      "[0 1 0]\n",
      "[1 0 0]\n"
     ]
    }
   ],
   "source": [
    "E1 = elementary_matrix(QQ, 3, row1 = 0, row2 = 2) #elementary matrix type I (interchange row 1 with row 3)\n",
    "print(E1)"
   ]
  },
  {
   "cell_type": "code",
   "execution_count": 34,
   "metadata": {
    "collapsed": false
   },
   "outputs": [
    {
     "name": "stdout",
     "output_type": "stream",
     "text": [
      "[-2  0  0]\n",
      "[ 0  1  0]\n",
      "[ 0  0  1]\n"
     ]
    }
   ],
   "source": [
    "E2 = elementary_matrix(QQ, 3, row1 = 0, scale = -2) #elementary matrix type II (multiply row 1 by -2)\n",
    "print(E2)"
   ]
  },
  {
   "cell_type": "code",
   "execution_count": 35,
   "metadata": {
    "collapsed": false
   },
   "outputs": [
    {
     "name": "stdout",
     "output_type": "stream",
     "text": [
      "[ 1  0  0]\n",
      "[ 0  1  0]\n",
      "[-2  0  1]\n"
     ]
    }
   ],
   "source": [
    "E3 = elementary_matrix(QQ, 3, row1 = 2, row2 = 0, scale = -2) #elementary matrix type III (multiply row 1 by -2 and add it to row 3)\n",
    "print(E3)"
   ]
  },
  {
   "cell_type": "code",
   "execution_count": 49,
   "metadata": {
    "collapsed": false
   },
   "outputs": [
    {
     "name": "stdout",
     "output_type": "stream",
     "text": [
      "[1 2 3]\n",
      "[4 5 6]\n",
      "[7 8 9]\n"
     ]
    }
   ],
   "source": [
    "A = matrix(QQ, [[1, 2, 3], [4, 5, 6], [7, 8, 9]])\n",
    "print(A)"
   ]
  },
  {
   "cell_type": "code",
   "execution_count": 50,
   "metadata": {
    "collapsed": false
   },
   "outputs": [
    {
     "name": "stdout",
     "output_type": "stream",
     "text": [
      "[ 1  2  3]\n",
      "[ 0 -3 -6]\n",
      "[ 7  8  9]\n"
     ]
    }
   ],
   "source": [
    "A1 = A.with_added_multiple_of_row(1, 0, -4)\n",
    "print(A1)"
   ]
  },
  {
   "cell_type": "code",
   "execution_count": 51,
   "metadata": {
    "collapsed": false
   },
   "outputs": [
    {
     "name": "stdout",
     "output_type": "stream",
     "text": [
      "[  1   2   3]\n",
      "[  0  -3  -6]\n",
      "[  0  -6 -12]\n"
     ]
    }
   ],
   "source": [
    "A2 = A1.with_added_multiple_of_row(2, 0, -7)\n",
    "print(A2)"
   ]
  },
  {
   "cell_type": "code",
   "execution_count": 52,
   "metadata": {
    "collapsed": false
   },
   "outputs": [
    {
     "name": "stdout",
     "output_type": "stream",
     "text": [
      "[  1   2   3]\n",
      "[  0  -6 -12]\n",
      "[  0  -3  -6]\n"
     ]
    }
   ],
   "source": [
    "B = A2.with_swapped_rows(1, 2)\n",
    "print(B)"
   ]
  },
  {
   "cell_type": "code",
   "execution_count": 40,
   "metadata": {
    "collapsed": false
   },
   "outputs": [
   ],
   "source": [
    "E1 = elementary_matrix(3, row1 = 1, row2 = 0, scale = -4)\n",
    "E2 = elementary_matrix(3, row1 = 2, row2 = 0, scale = -7)\n",
    "E3 = elementary_matrix(3, row1 = 1, row2 = 2)"
   ]
  },
  {
   "cell_type": "code",
   "execution_count": 41,
   "metadata": {
    "collapsed": false
   },
   "outputs": [
    {
     "data": {
      "text/plain": [
       "True"
      ]
     },
     "execution_count": 41,
     "metadata": {
     },
     "output_type": "execute_result"
    }
   ],
   "source": [
    "B == E3*E2*E1*A"
   ]
  },
  {
   "cell_type": "markdown",
   "metadata": {
    "collapsed": false
   },
   "source": [
    "#### Determinants"
   ]
  },
  {
   "cell_type": "code",
   "execution_count": 42,
   "metadata": {
    "collapsed": false
   },
   "outputs": [
    {
     "data": {
      "text/plain": [
       "-b*c + a*d"
      ]
     },
     "execution_count": 42,
     "metadata": {
     },
     "output_type": "execute_result"
    }
   ],
   "source": [
    "a, b, c, d = var(\"a, b, c, d\") #defining variables\n",
    "\n",
    "A = matrix([[a, b], [c, d]])\n",
    "A.det()"
   ]
  },
  {
   "cell_type": "code",
   "execution_count": 54,
   "metadata": {
    "collapsed": false
   },
   "outputs": [
    {
     "data": {
      "text/plain": [
       "cos(t)^2 + sin(t)^2"
      ]
     },
     "execution_count": 54,
     "metadata": {
     },
     "output_type": "execute_result"
    }
   ],
   "source": [
    "t = var(\"t\")\n",
    "\n",
    "A = matrix( [[sin(t), cos(t)], [-cos(t), sin(t)]] )\n",
    "detA = A.det()\n",
    "detA"
   ]
  },
  {
   "cell_type": "code",
   "execution_count": 44,
   "metadata": {
    "collapsed": false
   },
   "outputs": [
    {
     "data": {
      "text/plain": [
       "1"
      ]
     },
     "execution_count": 44,
     "metadata": {
     },
     "output_type": "execute_result"
    }
   ],
   "source": [
    "detA.simplify_trig()"
   ]
  },
  {
   "cell_type": "code",
   "execution_count": 45,
   "metadata": {
    "collapsed": false
   },
   "outputs": [
    {
     "data": {
      "text/plain": [
       "x3*(y1 - y2) - x2*(y1 - y3) + x1*(y2 - y3)"
      ]
     },
     "execution_count": 45,
     "metadata": {
     },
     "output_type": "execute_result"
    }
   ],
   "source": [
    "x1, y1, x2, y2, x3, y3 = var(\"x1, y1, x2, y2, x3, y3\")\n",
    "\n",
    "A = matrix( [[x1, y1, 1], [x2, y2, 1], [x3, y3, 1]] )\n",
    "detA = A.det()\n",
    "detA"
   ]
  },
  {
   "cell_type": "code",
   "execution_count": 46,
   "metadata": {
    "collapsed": false
   },
   "outputs": [
    {
     "data": {
      "text/plain": [
       "-x2*y1 + x3*y1 + x1*y2 - x3*y2 - x1*y3 + x2*y3"
      ]
     },
     "execution_count": 46,
     "metadata": {
     },
     "output_type": "execute_result"
    }
   ],
   "source": [
    "detA.expand()"
   ]
  },
  {
   "cell_type": "code",
   "execution_count": 47,
   "metadata": {
    "collapsed": false
   },
   "outputs": [
    {
     "data": {
      "text/plain": [
       "x^3 - 5*x^2 - 2*x + 24"
      ]
     },
     "execution_count": 47,
     "metadata": {
     },
     "output_type": "execute_result"
    }
   ],
   "source": [
    "x = var(\"x\")\n",
    "\n",
    "A = matrix( [[x - 4, 0, 0], [0, x, 2], [0, 3, x - 1]] )\n",
    "detA = A.det()\n",
    "detA.expand()"
   ]
  },
  {
   "cell_type": "code",
   "execution_count": 48,
   "metadata": {
    "collapsed": false
   },
   "outputs": [
    {
     "data": {
      "text/plain": [
       "[x == 3, x == -2, x == 4]"
      ]
     },
     "execution_count": 48,
     "metadata": {
     },
     "output_type": "execute_result"
    }
   ],
   "source": [
    "solve(detA == 0, x)"
   ]
  }
 ],
 "metadata": {
  "kernelspec": {
   "display_name": "SageMath 9.4",
   "language": "sagemath",
   "metadata": {
    "cocalc": {
     "description": "Open-source mathematical software system",
     "priority": 2,
     "url": "https://www.sagemath.org/"
    }
   },
   "name": "sage-9.4",
   "resource_dir": "/ext/jupyter/kernels/sage-9.4"
  },
  "language_info": {
   "codemirror_mode": {
    "name": "ipython",
    "version": 3
   },
   "file_extension": ".py",
   "mimetype": "text/x-python",
   "name": "python",
   "nbconvert_exporter": "python",
   "pygments_lexer": "ipython3",
   "version": "3.9.5"
  }
 },
 "nbformat": 4,
 "nbformat_minor": 4
}