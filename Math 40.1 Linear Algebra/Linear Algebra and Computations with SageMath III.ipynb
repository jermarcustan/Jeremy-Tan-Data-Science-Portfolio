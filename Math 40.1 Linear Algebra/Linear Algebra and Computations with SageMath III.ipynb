{
 "cells": [
  {
   "cell_type": "markdown",
   "metadata": {},
   "source": [
    "#### Length and Dot Product in $\\mathbb{R}^n$"
   ]
  },
  {
   "cell_type": "code",
   "execution_count": 20,
   "metadata": {},
   "outputs": [
    {
     "data": {
      "text/plain": [
       "sqrt(5)"
      ]
     },
     "execution_count": 20,
     "metadata": {},
     "output_type": "execute_result"
    }
   ],
   "source": [
    "u = vector(QQ, [1, 2, 3])\n",
    "v = vector(QQ, [2, -1, 0])\n",
    "u.dot_product(v) #dot product of u and v\n",
    "u.norm() #norm of u\n",
    "v.norm() #norm of v"
   ]
  },
  {
   "cell_type": "markdown",
   "metadata": {},
   "source": [
    "### Gram-Schmidt Orthonormalization Process"
   ]
  },
  {
   "cell_type": "code",
   "execution_count": 6,
   "metadata": {},
   "outputs": [
    {
     "data": {
      "text/plain": [
       "[(1/2, 0, -1/2, -1/2, 1/2),\n",
       " (-3/22*sqrt(11), 0, 3/22*sqrt(11), -1/22*sqrt(11), 5/22*sqrt(11)),\n",
       " (1/2*sqrt(2/11), 0, -1/2*sqrt(2/11), 2*sqrt(2/11), sqrt(2/11)),\n",
       " (1/3*sqrt(3/2), -2/3*sqrt(3/2), 1/3*sqrt(3/2), 0, 0)]"
      ]
     },
     "execution_count": 6,
     "metadata": {},
     "output_type": "execute_result"
    }
   ],
   "source": [
    "# Orthogonal Projection\n",
    "def proj(v, u):\n",
    "    return (v.dot_product(u)/u.norm()^2)*u\n",
    "\n",
    "# Gram-Schmidt Orthonormalization\n",
    "def gramSchmidt(basis):\n",
    "    if len(basis) == 1:\n",
    "        orthoBasis = basis\n",
    "    else:\n",
    "        orthoBasis = [basis[0]]\n",
    "        for i in [1..len( basis ) - 1]:\n",
    "            ui = basis[i] - sum([proj(basis[i], orthoBasis[j]) for j in [0..i - 1]] )\n",
    "            orthoBasis.append(ui)\n",
    "\n",
    "    # return orthoBasis #orthogonal basis\n",
    "    return [vec/norm(vec) for vec in orthoBasis] # orthonormal basis\n",
    "\n",
    "v1 = vector(QQ, [1,0,-1,-1,1])\n",
    "v2 = vector(QQ, [-1,0,1,0,1])\n",
    "v3 = vector(QQ, [0,0,0,1,1])\n",
    "v4 = vector(QQ, [0,-1,1,1,0])\n",
    "\n",
    "gramSchmidt([v1,v2,v3,v4])"
   ]
  },
  {
   "cell_type": "code",
   "execution_count": 3,
   "metadata": {},
   "outputs": [
    {
     "data": {
      "text/plain": [
       "[    1     0    -1    -1     1]\n",
       "[ -3/4     0   3/4  -1/4   5/4]\n",
       "[ 3/11     0 -3/11 12/11  6/11]\n",
       "[  1/2    -1   1/2     0     0]"
      ]
     },
     "execution_count": 3,
     "metadata": {},
     "output_type": "execute_result"
    }
   ],
   "source": [
    "A = matrix(QQ, [[1,0,-1,-1,1], [-1,0,1,0,1], [0,0,0,1,1], [0,-1,1,1,0]])\n",
    "A.gram_schmidt()[0] # Built-in QR decomposition, Q = orthogonal matrix (not necessarily normalized), R = upper triangular"
   ]
  },
  {
   "cell_type": "code",
   "execution_count": 12,
   "metadata": {},
   "outputs": [
    {
     "data": {
      "text/plain": [
       "[ -0.7071067811865472  -0.7071067811865475                 -0.0]\n",
       "[ 0.40824829046386296 -0.40824829046386296   0.8164965809277261]\n",
       "[ -0.5773502691896258   0.5773502691896258   0.5773502691896256]"
      ]
     },
     "execution_count": 12,
     "metadata": {},
     "output_type": "execute_result"
    }
   ],
   "source": [
    "A = matrix(RDF, [[1, 1, 0], [1, 0, 1], [0, 1, 1]]) # must be declared to be in RDF (RR for more involved computations) so that one can divide by a non-rational number\n",
    "A.gram_schmidt(orthonormal=True)[0]"
   ]
  },
  {
   "cell_type": "code",
   "execution_count": 17,
   "metadata": {},
   "outputs": [
    {
     "data": {
      "text/plain": [
       "(-4/5, 12/5)"
      ]
     },
     "execution_count": 17,
     "metadata": {},
     "output_type": "execute_result"
    }
   ],
   "source": [
    "#proj_v(u)\n",
    "def proj (v,u) :\n",
    "    a = u.dot_product ( v ) /( norm ( v ) ^2) * v\n",
    "    return ( a )\n",
    "lower = vector ([-1,3])\n",
    "higher = vector ([4,4])\n",
    "proj(lower,higher)"
   ]
  },
  {
   "cell_type": "code",
   "execution_count": null,
   "metadata": {},
   "outputs": [],
   "source": []
  }
 ],
 "metadata": {
  "kernelspec": {
   "display_name": "SageMath 9.3",
   "language": "sage",
   "name": "sagemath"
  },
  "language_info": {
   "codemirror_mode": {
    "name": "ipython",
    "version": 3
   },
   "file_extension": ".py",
   "mimetype": "text/x-python",
   "name": "python",
   "nbconvert_exporter": "python",
   "pygments_lexer": "ipython3",
   "version": "3.7.10"
  }
 },
 "nbformat": 4,
 "nbformat_minor": 4
}
