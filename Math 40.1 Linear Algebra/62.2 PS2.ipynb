{
 "cells": [
  {
   "cell_type": "code",
   "execution_count": 2,
   "metadata": {},
   "outputs": [
    {
     "data": {
      "text/plain": [
       "[21/13]"
      ]
     },
     "execution_count": 2,
     "metadata": {},
     "output_type": "execute_result"
    }
   ],
   "source": [
    "a = Matrix([1,-1,1,-1,1])\n",
    "sigma = Matrix([[8/13,-2/13,1/13,2/13,1/13], [-2/13,7/13,3/13,-2/13,3/13], [1/13,3/13,5/13,4/13,2/13], [2/13,-2/13,4/13,10/13,1/13], [1/13,3/13,2/13,1/13,9/13]])\n",
    "\n",
    "a*sigma*a.transpose()"
   ]
  },
  {
   "cell_type": "code",
   "execution_count": 3,
   "metadata": {},
   "outputs": [
    {
     "data": {
      "text/plain": [
       "[-4]"
      ]
     },
     "execution_count": 3,
     "metadata": {},
     "output_type": "execute_result"
    }
   ],
   "source": [
    "mu = Matrix([[1], [0], [-1], [2], [-2]])\n",
    "a*mu"
   ]
  },
  {
   "cell_type": "code",
   "execution_count": 4,
   "metadata": {},
   "outputs": [
    {
     "data": {
      "text/plain": [
       "[ 8/13 -2/13  1/13  2/13  1/13]\n",
       "[-2/13  7/13  3/13 -2/13  3/13]\n",
       "[ 1/13  3/13  5/13  4/13  2/13]\n",
       "[ 2/13 -2/13  4/13 10/13  1/13]\n",
       "[ 1/13  3/13  2/13  1/13  9/13]"
      ]
     },
     "execution_count": 4,
     "metadata": {},
     "output_type": "execute_result"
    }
   ],
   "source": [
    "sigma"
   ]
  },
  {
   "cell_type": "code",
   "execution_count": 5,
   "metadata": {},
   "outputs": [
    {
     "data": {
      "text/plain": [
       "[1]\n",
       "[0]"
      ]
     },
     "execution_count": 5,
     "metadata": {},
     "output_type": "execute_result"
    }
   ],
   "source": [
    "A = Matrix([[1,0,0,0,0], [0,1,0,0,0]])\n",
    "A*mu"
   ]
  },
  {
   "cell_type": "code",
   "execution_count": 6,
   "metadata": {},
   "outputs": [
    {
     "data": {
      "text/plain": [
       "[ 8/13 -2/13]\n",
       "[-2/13  7/13]"
      ]
     },
     "execution_count": 6,
     "metadata": {},
     "output_type": "execute_result"
    }
   ],
   "source": [
    "A*sigma*A.transpose()"
   ]
  },
  {
   "cell_type": "code",
   "execution_count": 54,
   "metadata": {},
   "outputs": [
    {
     "data": {
      "text/plain": [
       "[   5/277   51/277   24/277]\n",
       "[ 287/277 -175/277   48/277]"
      ]
     },
     "execution_count": 54,
     "metadata": {},
     "output_type": "execute_result"
    }
   ],
   "source": [
    "A = Matrix([[1/13,2/13,1/13], [3/13,-2/13,3/13]])\n",
    "B = Matrix([[5/13,4/13,2/13], [4/13,10/13,1/13], [2/13,1/13,9/13]])\n",
    "A*B.inverse()"
   ]
  },
  {
   "cell_type": "code",
   "execution_count": 36,
   "metadata": {},
   "outputs": [],
   "source": [
    "A = Matrix([[1/13,2/13,1/13], [3/13,-2/13,3/13]])\n",
    "B = Matrix([[5/13,4/13,2/13], [4/13,10/13,1/13], [2/13,1/13,9/13]])\n",
    "C = Matrix([[1/13,3/13], [2/13,-2/13], [1/13,3/13]])"
   ]
  },
  {
   "cell_type": "code",
   "execution_count": 37,
   "metadata": {},
   "outputs": [
    {
     "data": {
      "text/plain": [
       "[ 1/13  2/13  1/13]\n",
       "[ 3/13 -2/13  3/13]"
      ]
     },
     "execution_count": 37,
     "metadata": {},
     "output_type": "execute_result"
    }
   ],
   "source": [
    "A"
   ]
  },
  {
   "cell_type": "code",
   "execution_count": 38,
   "metadata": {},
   "outputs": [
    {
     "data": {
      "text/plain": [
       "[ 5/13  4/13  2/13]\n",
       "[ 4/13 10/13  1/13]\n",
       "[ 2/13  1/13  9/13]"
      ]
     },
     "execution_count": 38,
     "metadata": {},
     "output_type": "execute_result"
    }
   ],
   "source": [
    "B"
   ]
  },
  {
   "cell_type": "code",
   "execution_count": 39,
   "metadata": {},
   "outputs": [
    {
     "data": {
      "text/plain": [
       "[ 1/13  3/13]\n",
       "[ 2/13 -2/13]\n",
       "[ 1/13  3/13]"
      ]
     },
     "execution_count": 39,
     "metadata": {},
     "output_type": "execute_result"
    }
   ],
   "source": [
    "C"
   ]
  },
  {
   "cell_type": "code",
   "execution_count": 40,
   "metadata": {},
   "outputs": [
    {
     "data": {
      "text/plain": [
       "[1157/277 -442/277 -208/277]\n",
       "[-442/277  533/277   39/277]\n",
       "[-208/277   39/277  442/277]"
      ]
     },
     "execution_count": 40,
     "metadata": {},
     "output_type": "execute_result"
    }
   ],
   "source": [
    "D = B.inverse()\n",
    "D"
   ]
  },
  {
   "cell_type": "code",
   "execution_count": 41,
   "metadata": {},
   "outputs": [
    {
     "data": {
      "text/plain": [
       "[ 131/3601  -15/3601]\n",
       "[ -15/3601 1355/3601]"
      ]
     },
     "execution_count": 41,
     "metadata": {},
     "output_type": "execute_result"
    }
   ],
   "source": [
    "E = A*D*C\n",
    "E"
   ]
  },
  {
   "cell_type": "code",
   "execution_count": 42,
   "metadata": {},
   "outputs": [
    {
     "data": {
      "text/plain": [
       "[ 8/13 -2/13]\n",
       "[-2/13  7/13]"
      ]
     },
     "execution_count": 42,
     "metadata": {},
     "output_type": "execute_result"
    }
   ],
   "source": [
    "D = Matrix([[8/13, -2/13], [-2/13,7/13]])\n",
    "D"
   ]
  },
  {
   "cell_type": "code",
   "execution_count": 43,
   "metadata": {},
   "outputs": [
    {
     "data": {
      "text/plain": [
       "[2085/3601 -539/3601]\n",
       "[-539/3601  584/3601]"
      ]
     },
     "execution_count": 43,
     "metadata": {},
     "output_type": "execute_result"
    }
   ],
   "source": [
    "D - E"
   ]
  },
  {
   "cell_type": "code",
   "execution_count": 48,
   "metadata": {},
   "outputs": [
    {
     "data": {
      "text/plain": [
       "[ 131/3601  -15/3601]\n",
       "[ -15/3601 1355/3601]"
      ]
     },
     "execution_count": 48,
     "metadata": {},
     "output_type": "execute_result"
    }
   ],
   "source": [
    "A = Matrix([[1/13,2/13,1/13], [3/13,-2/13,3/13]])\n",
    "B = Matrix([[5/13,4/13,2/13], [4/13,10/13,1/13], [2/13,1/13,9/13]])\n",
    "C = B.inverse()\n",
    "D = Matrix([[1/13,3/13], [2/13,-2/13], [1/13,3/13]])\n",
    "E = A*C*D\n",
    "E"
   ]
  },
  {
   "cell_type": "code",
   "execution_count": 52,
   "metadata": {},
   "outputs": [],
   "source": [
    "F = Matrix([[8,-2], [-2,7]])\n",
    "G = 1/13*F"
   ]
  },
  {
   "cell_type": "code",
   "execution_count": 53,
   "metadata": {},
   "outputs": [
    {
     "data": {
      "text/plain": [
       "[2085/3601 -539/3601]\n",
       "[-539/3601  584/3601]"
      ]
     },
     "execution_count": 53,
     "metadata": {},
     "output_type": "execute_result"
    }
   ],
   "source": [
    "G - E"
   ]
  },
  {
   "cell_type": "code",
   "execution_count": 1,
   "metadata": {},
   "outputs": [
    {
     "data": {
      "text/plain": [
       "[   5/277   51/277   24/277]\n",
       "[ 287/277 -175/277   48/277]"
      ]
     },
     "execution_count": 1,
     "metadata": {},
     "output_type": "execute_result"
    }
   ],
   "source": [
    "A = Matrix([[1/13,2/13,1/13], [3/13,-2/13,3/13]])\n",
    "B = Matrix([[5/13,4/13,2/13], [4/13,10/13,1/13], [2/13,1/13,9/13]])\n",
    "A*B.inverse()"
   ]
  },
  {
   "cell_type": "code",
   "execution_count": 2,
   "metadata": {},
   "outputs": [
    {
     "data": {
      "text/plain": [
       "[1157/277 -442/277 -208/277]\n",
       "[-442/277  533/277   39/277]\n",
       "[-208/277   39/277  442/277]"
      ]
     },
     "execution_count": 2,
     "metadata": {},
     "output_type": "execute_result"
    }
   ],
   "source": [
    "B.inverse()"
   ]
  },
  {
   "cell_type": "code",
   "execution_count": null,
   "metadata": {},
   "outputs": [],
   "source": []
  }
 ],
 "metadata": {
  "kernelspec": {
   "display_name": "SageMath 9.3",
   "language": "sage",
   "name": "sagemath"
  },
  "language_info": {
   "codemirror_mode": {
    "name": "ipython",
    "version": 3
   },
   "file_extension": ".py",
   "mimetype": "text/x-python",
   "name": "python",
   "nbconvert_exporter": "python",
   "pygments_lexer": "ipython3",
   "version": "3.7.10"
  }
 },
 "nbformat": 4,
 "nbformat_minor": 4
}
