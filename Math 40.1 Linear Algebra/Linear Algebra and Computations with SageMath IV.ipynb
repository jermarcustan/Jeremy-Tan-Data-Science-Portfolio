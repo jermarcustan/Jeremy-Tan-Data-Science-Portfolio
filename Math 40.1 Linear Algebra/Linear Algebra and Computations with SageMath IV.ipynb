{
 "cells": [
  {
   "cell_type": "code",
   "execution_count": 9,
   "metadata": {},
   "outputs": [
    {
     "data": {
      "text/plain": [
       "(x - 3) * x * (x + 4)"
      ]
     },
     "execution_count": 9,
     "metadata": {},
     "output_type": "execute_result"
    }
   ],
   "source": [
    "A = matrix([[1,2,1], [6,-1,0], [-1,-2,-1]])\n",
    "#A.charpoly() #characteristic polynomial\n",
    "A.charpoly().factor()\n",
    "#A.eigenvalues() #list of eigenvalues\n",
    "#[evalue.radical_expression() for evalue in A.eigenvalues()] #converts eigenvalues to radicals"
   ]
  },
  {
   "cell_type": "code",
   "execution_count": 10,
   "metadata": {},
   "outputs": [
    {
     "data": {
      "text/html": [
       "<html><script type=\"math/tex; mode=display\">\\newcommand{\\Bold}[1]{\\mathbf{#1}}\\left[\\left(3, \\left[\\left(1,\\,\\frac{3}{2},\\,-1\\right)\\right], 1\\right), \\left(0, \\left[\\left(1,\\,6,\\,-13\\right)\\right], 1\\right), \\left(-4, \\left[\\left(1,\\,-2,\\,-1\\right)\\right], 1\\right)\\right]</script></html>"
      ],
      "text/latex": [
       "$$\\newcommand{\\Bold}[1]{\\mathbf{#1}}\\left[\\left(3, \\left[\\left(1,\\,\\frac{3}{2},\\,-1\\right)\\right], 1\\right), \\left(0, \\left[\\left(1,\\,6,\\,-13\\right)\\right], 1\\right), \\left(-4, \\left[\\left(1,\\,-2,\\,-1\\right)\\right], 1\\right)\\right]$$"
      ],
      "text/plain": [
       "[(3,\n",
       "  [\n",
       "  (1, 3/2, -1)\n",
       "  ],\n",
       "  1),\n",
       " (0,\n",
       "  [\n",
       "  (1, 6, -13)\n",
       "  ],\n",
       "  1),\n",
       " (-4,\n",
       "  [\n",
       "  (1, -2, -1)\n",
       "  ],\n",
       "  1)]"
      ]
     },
     "metadata": {},
     "output_type": "display_data"
    },
    {
     "data": {
      "text/plain": [
       "(\n",
       "[ 3  0  0]  [  1   1   1]\n",
       "[ 0  0  0]  [3/2   6  -2]\n",
       "[ 0  0 -4], [ -1 -13  -1]\n",
       ")"
      ]
     },
     "execution_count": 10,
     "metadata": {},
     "output_type": "execute_result"
    }
   ],
   "source": [
    "B = matrix([[1,2,1], [6,-1,0], [-1,-2,-1]])\n",
    "show(B.eigenvectors_right()) #triple: (eigenvalue, eigenspace, algebraic multiplicity)\n",
    "B.eigenmatrix_right() #pair: (D, P^-1)"
   ]
  },
  {
   "cell_type": "code",
   "execution_count": 29,
   "metadata": {},
   "outputs": [
    {
     "data": {
      "text/html": [
       "<html><script type=\"math/tex; mode=display\">\\newcommand{\\Bold}[1]{\\mathbf{#1}}\\left[\\left(4, \\left[\\left(1,\\,0,\\,0\\right)\\right], 1\\right), \\left(-2, \\left[\\left(0,\\,1,\\,0\\right), \\left(0,\\,0,\\,1\\right)\\right], 2\\right)\\right]</script></html>"
      ],
      "text/latex": [
       "$$\\newcommand{\\Bold}[1]{\\mathbf{#1}}\\left[\\left(4, \\left[\\left(1,\\,0,\\,0\\right)\\right], 1\\right), \\left(-2, \\left[\\left(0,\\,1,\\,0\\right), \\left(0,\\,0,\\,1\\right)\\right], 2\\right)\\right]$$"
      ],
      "text/plain": [
       "[(4,\n",
       "  [\n",
       "  (1, 0, 0)\n",
       "  ],\n",
       "  1),\n",
       " (-2,\n",
       "  [\n",
       "  (0, 1, 0),\n",
       "  (0, 0, 1)\n",
       "  ],\n",
       "  2)]"
      ]
     },
     "metadata": {},
     "output_type": "display_data"
    },
    {
     "data": {
      "text/plain": [
       "(\n",
       "[ 4  0  0]  [1 0 0]\n",
       "[ 0 -2  0]  [0 1 0]\n",
       "[ 0  0 -2], [0 0 1]\n",
       ")"
      ]
     },
     "execution_count": 29,
     "metadata": {},
     "output_type": "execute_result"
    }
   ],
   "source": [
    "C = matrix(QQ, [[4,0,0], [0,-2,0], [0,0,-2]])\n",
    "show(C.eigenvectors_right()) #triple: (eigenvalue, eigenspace, algebraic multiplicity)\n",
    "C.eigenmatrix_right() #pair: (D, P^-1)"
   ]
  },
  {
   "cell_type": "code",
   "execution_count": 5,
   "metadata": {},
   "outputs": [
    {
     "data": {
      "text/plain": [
       "[ 0]\n",
       "[ 0]\n",
       "[-2]"
      ]
     },
     "execution_count": 5,
     "metadata": {},
     "output_type": "execute_result"
    }
   ],
   "source": [
    "P = Matrix([[1/2,1/2,0], [-1/2,1/2,0], [0,0,-2]])\n",
    "v = Matrix([[0],[0],[1]])\n",
    "P*v"
   ]
  },
  {
   "cell_type": "code",
   "execution_count": 14,
   "metadata": {},
   "outputs": [],
   "source": [
    "A = Matrix([[1,1,1], [-1,0,-1], [-1,-1,4]])"
   ]
  },
  {
   "cell_type": "code",
   "execution_count": 15,
   "metadata": {},
   "outputs": [
    {
     "data": {
      "text/plain": [
       "[1 0 0]\n",
       "[0 1 0]\n",
       "[0 0 1]"
      ]
     },
     "execution_count": 15,
     "metadata": {},
     "output_type": "execute_result"
    }
   ],
   "source": [
    "A.rref()"
   ]
  },
  {
   "cell_type": "code",
   "execution_count": 6,
   "metadata": {},
   "outputs": [
    {
     "data": {
      "text/plain": [
       "[ 0  0  0]\n",
       "[ 0  3  0]\n",
       "[ 0  0 -4]"
      ]
     },
     "execution_count": 6,
     "metadata": {},
     "output_type": "execute_result"
    }
   ],
   "source": [
    "P = Matrix([[1,1,1], [6,3/2,-2], [-13,-1,-1]])\n",
    "A = Matrix([[1,2,1], [6,-1,0], [-1,-2,-1]])\n",
    "P^-1*A*P"
   ]
  },
  {
   "cell_type": "code",
   "execution_count": null,
   "metadata": {},
   "outputs": [],
   "source": [
    "1,"
   ]
  }
 ],
 "metadata": {
  "kernelspec": {
   "display_name": "SageMath 9.3",
   "language": "sage",
   "name": "sagemath"
  },
  "language_info": {
   "codemirror_mode": {
    "name": "ipython",
    "version": 3
   },
   "file_extension": ".py",
   "mimetype": "text/x-python",
   "name": "python",
   "nbconvert_exporter": "python",
   "pygments_lexer": "ipython3",
   "version": "3.7.10"
  }
 },
 "nbformat": 4,
 "nbformat_minor": 4
}
