{
 "cells": [
  {
   "cell_type": "code",
   "execution_count": 1,
   "id": "4d0f3db0",
   "metadata": {},
   "outputs": [],
   "source": [
    "import tensorflow as tf\n",
    "import pandas as pd\n",
    "import os\n",
    "import numpy as np\n",
    "import datetime as dt\n",
    "from random import seed\n",
    "from tensorflow.keras import models\n",
    "from tensorflow.keras import layers\n",
    "from tensorflow.keras import backend as K\n",
    "tf.compat.v1.experimental.output_all_intermediates(True)"
   ]
  },
  {
   "cell_type": "code",
   "execution_count": 2,
   "id": "f5ed6145",
   "metadata": {},
   "outputs": [],
   "source": [
    "tf.random.set_seed(36)"
   ]
  },
  {
   "cell_type": "markdown",
   "id": "c78d63a9",
   "metadata": {},
   "source": [
    "## Dataset"
   ]
  },
  {
   "cell_type": "code",
   "execution_count": 3,
   "id": "e9cdedb4",
   "metadata": {},
   "outputs": [],
   "source": [
    "BASE_DIR_PATH = '/Users/neilb/Documents/dsci_thesis/Datasets'\n",
    "DATASET_FILE = os.path.join(BASE_DIR_PATH, 'compiled_data_2016_2017.csv')"
   ]
  },
  {
   "cell_type": "code",
   "execution_count": 4,
   "id": "79477837",
   "metadata": {},
   "outputs": [
    {
     "data": {
      "text/html": [
       "<div>\n",
       "<style scoped>\n",
       "    .dataframe tbody tr th:only-of-type {\n",
       "        vertical-align: middle;\n",
       "    }\n",
       "\n",
       "    .dataframe tbody tr th {\n",
       "        vertical-align: top;\n",
       "    }\n",
       "\n",
       "    .dataframe thead th {\n",
       "        text-align: right;\n",
       "    }\n",
       "</style>\n",
       "<table border=\"1\" class=\"dataframe\">\n",
       "  <thead>\n",
       "    <tr style=\"text-align: right;\">\n",
       "      <th></th>\n",
       "      <th>Unnamed: 0</th>\n",
       "      <th>index</th>\n",
       "      <th>Rainfall_Aries</th>\n",
       "      <th>Rainfall_Boso</th>\n",
       "      <th>Rainfall_Campana</th>\n",
       "      <th>Rainfall_Nangka</th>\n",
       "      <th>Rainfall_Oro</th>\n",
       "      <th>Waterlevel_Sto_Nino</th>\n",
       "      <th>Waterlevel_Montalban</th>\n",
       "      <th>Discharge_Sto_Nino</th>\n",
       "      <th>Discharge_San_Jose</th>\n",
       "      <th>Cross_Section_Sto_Nino</th>\n",
       "      <th>Cross_Section_Montalban</th>\n",
       "      <th>Velocity_Sto_Nino</th>\n",
       "      <th>Velocity_Montalban</th>\n",
       "      <th>datetime</th>\n",
       "      <th>t</th>\n",
       "      <th>x</th>\n",
       "    </tr>\n",
       "  </thead>\n",
       "  <tbody>\n",
       "    <tr>\n",
       "      <th>0</th>\n",
       "      <td>0</td>\n",
       "      <td>0</td>\n",
       "      <td>0</td>\n",
       "      <td>1</td>\n",
       "      <td>2</td>\n",
       "      <td>0</td>\n",
       "      <td>0</td>\n",
       "      <td>12.18</td>\n",
       "      <td>21.03</td>\n",
       "      <td>21.033407</td>\n",
       "      <td>14.842428</td>\n",
       "      <td>803.88</td>\n",
       "      <td>630.9</td>\n",
       "      <td>0.026165</td>\n",
       "      <td>0.023526</td>\n",
       "      <td>2016-01-01 00:00:00</td>\n",
       "      <td>0.0</td>\n",
       "      <td>14420</td>\n",
       "    </tr>\n",
       "    <tr>\n",
       "      <th>1</th>\n",
       "      <td>1</td>\n",
       "      <td>1</td>\n",
       "      <td>0</td>\n",
       "      <td>1</td>\n",
       "      <td>1</td>\n",
       "      <td>1</td>\n",
       "      <td>0</td>\n",
       "      <td>12.19</td>\n",
       "      <td>21.03</td>\n",
       "      <td>21.280072</td>\n",
       "      <td>14.842428</td>\n",
       "      <td>804.54</td>\n",
       "      <td>630.9</td>\n",
       "      <td>0.026450</td>\n",
       "      <td>0.023526</td>\n",
       "      <td>2016-01-01 01:00:00</td>\n",
       "      <td>3600.0</td>\n",
       "      <td>14420</td>\n",
       "    </tr>\n",
       "    <tr>\n",
       "      <th>2</th>\n",
       "      <td>2</td>\n",
       "      <td>2</td>\n",
       "      <td>1</td>\n",
       "      <td>1</td>\n",
       "      <td>1</td>\n",
       "      <td>0</td>\n",
       "      <td>1</td>\n",
       "      <td>12.19</td>\n",
       "      <td>21.03</td>\n",
       "      <td>21.280072</td>\n",
       "      <td>14.842428</td>\n",
       "      <td>804.54</td>\n",
       "      <td>630.9</td>\n",
       "      <td>0.026450</td>\n",
       "      <td>0.023526</td>\n",
       "      <td>2016-01-01 02:00:00</td>\n",
       "      <td>7200.0</td>\n",
       "      <td>14420</td>\n",
       "    </tr>\n",
       "    <tr>\n",
       "      <th>3</th>\n",
       "      <td>3</td>\n",
       "      <td>3</td>\n",
       "      <td>0</td>\n",
       "      <td>0</td>\n",
       "      <td>0</td>\n",
       "      <td>1</td>\n",
       "      <td>0</td>\n",
       "      <td>12.20</td>\n",
       "      <td>21.03</td>\n",
       "      <td>21.529056</td>\n",
       "      <td>14.842428</td>\n",
       "      <td>805.20</td>\n",
       "      <td>630.9</td>\n",
       "      <td>0.026738</td>\n",
       "      <td>0.023526</td>\n",
       "      <td>2016-01-01 03:00:00</td>\n",
       "      <td>10800.0</td>\n",
       "      <td>14420</td>\n",
       "    </tr>\n",
       "    <tr>\n",
       "      <th>4</th>\n",
       "      <td>4</td>\n",
       "      <td>4</td>\n",
       "      <td>1</td>\n",
       "      <td>1</td>\n",
       "      <td>1</td>\n",
       "      <td>0</td>\n",
       "      <td>0</td>\n",
       "      <td>12.20</td>\n",
       "      <td>21.03</td>\n",
       "      <td>21.529056</td>\n",
       "      <td>14.842428</td>\n",
       "      <td>805.20</td>\n",
       "      <td>630.9</td>\n",
       "      <td>0.026738</td>\n",
       "      <td>0.023526</td>\n",
       "      <td>2016-01-01 04:00:00</td>\n",
       "      <td>14400.0</td>\n",
       "      <td>14420</td>\n",
       "    </tr>\n",
       "    <tr>\n",
       "      <th>...</th>\n",
       "      <td>...</td>\n",
       "      <td>...</td>\n",
       "      <td>...</td>\n",
       "      <td>...</td>\n",
       "      <td>...</td>\n",
       "      <td>...</td>\n",
       "      <td>...</td>\n",
       "      <td>...</td>\n",
       "      <td>...</td>\n",
       "      <td>...</td>\n",
       "      <td>...</td>\n",
       "      <td>...</td>\n",
       "      <td>...</td>\n",
       "      <td>...</td>\n",
       "      <td>...</td>\n",
       "      <td>...</td>\n",
       "      <td>...</td>\n",
       "      <td>...</td>\n",
       "    </tr>\n",
       "    <tr>\n",
       "      <th>17515</th>\n",
       "      <td>17515</td>\n",
       "      <td>16059</td>\n",
       "      <td>0</td>\n",
       "      <td>0</td>\n",
       "      <td>0</td>\n",
       "      <td>0</td>\n",
       "      <td>0</td>\n",
       "      <td>12.44</td>\n",
       "      <td>21.18</td>\n",
       "      <td>28.244204</td>\n",
       "      <td>17.224575</td>\n",
       "      <td>821.04</td>\n",
       "      <td>635.4</td>\n",
       "      <td>0.034401</td>\n",
       "      <td>0.027108</td>\n",
       "      <td>2017-12-31 19:00:00</td>\n",
       "      <td>63140400.0</td>\n",
       "      <td>14420</td>\n",
       "    </tr>\n",
       "    <tr>\n",
       "      <th>17516</th>\n",
       "      <td>17516</td>\n",
       "      <td>16424</td>\n",
       "      <td>0</td>\n",
       "      <td>0</td>\n",
       "      <td>0</td>\n",
       "      <td>0</td>\n",
       "      <td>0</td>\n",
       "      <td>12.44</td>\n",
       "      <td>21.18</td>\n",
       "      <td>28.244204</td>\n",
       "      <td>17.224575</td>\n",
       "      <td>821.04</td>\n",
       "      <td>635.4</td>\n",
       "      <td>0.034401</td>\n",
       "      <td>0.027108</td>\n",
       "      <td>2017-12-31 20:00:00</td>\n",
       "      <td>63144000.0</td>\n",
       "      <td>14420</td>\n",
       "    </tr>\n",
       "    <tr>\n",
       "      <th>17517</th>\n",
       "      <td>17517</td>\n",
       "      <td>16789</td>\n",
       "      <td>0</td>\n",
       "      <td>0</td>\n",
       "      <td>0</td>\n",
       "      <td>0</td>\n",
       "      <td>0</td>\n",
       "      <td>12.44</td>\n",
       "      <td>21.18</td>\n",
       "      <td>28.244204</td>\n",
       "      <td>17.224575</td>\n",
       "      <td>821.04</td>\n",
       "      <td>635.4</td>\n",
       "      <td>0.034401</td>\n",
       "      <td>0.027108</td>\n",
       "      <td>2017-12-31 21:00:00</td>\n",
       "      <td>63147600.0</td>\n",
       "      <td>14420</td>\n",
       "    </tr>\n",
       "    <tr>\n",
       "      <th>17518</th>\n",
       "      <td>17518</td>\n",
       "      <td>17154</td>\n",
       "      <td>0</td>\n",
       "      <td>0</td>\n",
       "      <td>0</td>\n",
       "      <td>0</td>\n",
       "      <td>0</td>\n",
       "      <td>12.44</td>\n",
       "      <td>21.18</td>\n",
       "      <td>28.244204</td>\n",
       "      <td>17.224575</td>\n",
       "      <td>821.04</td>\n",
       "      <td>635.4</td>\n",
       "      <td>0.034401</td>\n",
       "      <td>0.027108</td>\n",
       "      <td>2017-12-31 22:00:00</td>\n",
       "      <td>63151200.0</td>\n",
       "      <td>14420</td>\n",
       "    </tr>\n",
       "    <tr>\n",
       "      <th>17519</th>\n",
       "      <td>17519</td>\n",
       "      <td>17519</td>\n",
       "      <td>0</td>\n",
       "      <td>0</td>\n",
       "      <td>0</td>\n",
       "      <td>0</td>\n",
       "      <td>0</td>\n",
       "      <td>12.44</td>\n",
       "      <td>21.18</td>\n",
       "      <td>28.244204</td>\n",
       "      <td>17.224575</td>\n",
       "      <td>821.04</td>\n",
       "      <td>635.4</td>\n",
       "      <td>0.034401</td>\n",
       "      <td>0.027108</td>\n",
       "      <td>2017-12-31 23:00:00</td>\n",
       "      <td>63154800.0</td>\n",
       "      <td>14420</td>\n",
       "    </tr>\n",
       "  </tbody>\n",
       "</table>\n",
       "<p>17520 rows × 18 columns</p>\n",
       "</div>"
      ],
      "text/plain": [
       "       Unnamed: 0  index  Rainfall_Aries  Rainfall_Boso  Rainfall_Campana  \\\n",
       "0               0      0               0              1                 2   \n",
       "1               1      1               0              1                 1   \n",
       "2               2      2               1              1                 1   \n",
       "3               3      3               0              0                 0   \n",
       "4               4      4               1              1                 1   \n",
       "...           ...    ...             ...            ...               ...   \n",
       "17515       17515  16059               0              0                 0   \n",
       "17516       17516  16424               0              0                 0   \n",
       "17517       17517  16789               0              0                 0   \n",
       "17518       17518  17154               0              0                 0   \n",
       "17519       17519  17519               0              0                 0   \n",
       "\n",
       "       Rainfall_Nangka  Rainfall_Oro  Waterlevel_Sto_Nino  \\\n",
       "0                    0             0                12.18   \n",
       "1                    1             0                12.19   \n",
       "2                    0             1                12.19   \n",
       "3                    1             0                12.20   \n",
       "4                    0             0                12.20   \n",
       "...                ...           ...                  ...   \n",
       "17515                0             0                12.44   \n",
       "17516                0             0                12.44   \n",
       "17517                0             0                12.44   \n",
       "17518                0             0                12.44   \n",
       "17519                0             0                12.44   \n",
       "\n",
       "       Waterlevel_Montalban  Discharge_Sto_Nino  Discharge_San_Jose  \\\n",
       "0                     21.03           21.033407           14.842428   \n",
       "1                     21.03           21.280072           14.842428   \n",
       "2                     21.03           21.280072           14.842428   \n",
       "3                     21.03           21.529056           14.842428   \n",
       "4                     21.03           21.529056           14.842428   \n",
       "...                     ...                 ...                 ...   \n",
       "17515                 21.18           28.244204           17.224575   \n",
       "17516                 21.18           28.244204           17.224575   \n",
       "17517                 21.18           28.244204           17.224575   \n",
       "17518                 21.18           28.244204           17.224575   \n",
       "17519                 21.18           28.244204           17.224575   \n",
       "\n",
       "       Cross_Section_Sto_Nino  Cross_Section_Montalban  Velocity_Sto_Nino  \\\n",
       "0                      803.88                    630.9           0.026165   \n",
       "1                      804.54                    630.9           0.026450   \n",
       "2                      804.54                    630.9           0.026450   \n",
       "3                      805.20                    630.9           0.026738   \n",
       "4                      805.20                    630.9           0.026738   \n",
       "...                       ...                      ...                ...   \n",
       "17515                  821.04                    635.4           0.034401   \n",
       "17516                  821.04                    635.4           0.034401   \n",
       "17517                  821.04                    635.4           0.034401   \n",
       "17518                  821.04                    635.4           0.034401   \n",
       "17519                  821.04                    635.4           0.034401   \n",
       "\n",
       "       Velocity_Montalban             datetime           t      x  \n",
       "0                0.023526  2016-01-01 00:00:00         0.0  14420  \n",
       "1                0.023526  2016-01-01 01:00:00      3600.0  14420  \n",
       "2                0.023526  2016-01-01 02:00:00      7200.0  14420  \n",
       "3                0.023526  2016-01-01 03:00:00     10800.0  14420  \n",
       "4                0.023526  2016-01-01 04:00:00     14400.0  14420  \n",
       "...                   ...                  ...         ...    ...  \n",
       "17515            0.027108  2017-12-31 19:00:00  63140400.0  14420  \n",
       "17516            0.027108  2017-12-31 20:00:00  63144000.0  14420  \n",
       "17517            0.027108  2017-12-31 21:00:00  63147600.0  14420  \n",
       "17518            0.027108  2017-12-31 22:00:00  63151200.0  14420  \n",
       "17519            0.027108  2017-12-31 23:00:00  63154800.0  14420  \n",
       "\n",
       "[17520 rows x 18 columns]"
      ]
     },
     "execution_count": 4,
     "metadata": {},
     "output_type": "execute_result"
    }
   ],
   "source": [
    "df_2016_2017 = pd.read_csv(DATASET_FILE)\n",
    "df_2016_2017"
   ]
  },
  {
   "cell_type": "code",
   "execution_count": 5,
   "id": "78281807",
   "metadata": {},
   "outputs": [
    {
     "data": {
      "text/html": [
       "<div>\n",
       "<style scoped>\n",
       "    .dataframe tbody tr th:only-of-type {\n",
       "        vertical-align: middle;\n",
       "    }\n",
       "\n",
       "    .dataframe tbody tr th {\n",
       "        vertical-align: top;\n",
       "    }\n",
       "\n",
       "    .dataframe thead th {\n",
       "        text-align: right;\n",
       "    }\n",
       "</style>\n",
       "<table border=\"1\" class=\"dataframe\">\n",
       "  <thead>\n",
       "    <tr style=\"text-align: right;\">\n",
       "      <th></th>\n",
       "      <th>Unnamed: 0</th>\n",
       "      <th>index</th>\n",
       "      <th>Rainfall_Aries</th>\n",
       "      <th>Rainfall_Boso</th>\n",
       "      <th>Rainfall_Campana</th>\n",
       "      <th>Rainfall_Nangka</th>\n",
       "      <th>Rainfall_Oro</th>\n",
       "      <th>Waterlevel_Sto_Nino</th>\n",
       "      <th>Waterlevel_Montalban</th>\n",
       "      <th>Discharge_Sto_Nino</th>\n",
       "      <th>Discharge_San_Jose</th>\n",
       "      <th>Cross_Section_Sto_Nino</th>\n",
       "      <th>Cross_Section_Montalban</th>\n",
       "      <th>Velocity_Sto_Nino</th>\n",
       "      <th>Velocity_Montalban</th>\n",
       "      <th>datetime</th>\n",
       "      <th>t</th>\n",
       "      <th>x</th>\n",
       "      <th>friction_coeff</th>\n",
       "      <th>slope</th>\n",
       "    </tr>\n",
       "  </thead>\n",
       "  <tbody>\n",
       "    <tr>\n",
       "      <th>0</th>\n",
       "      <td>0</td>\n",
       "      <td>0</td>\n",
       "      <td>0</td>\n",
       "      <td>1</td>\n",
       "      <td>2</td>\n",
       "      <td>0</td>\n",
       "      <td>0</td>\n",
       "      <td>12.18</td>\n",
       "      <td>21.03</td>\n",
       "      <td>21.033407</td>\n",
       "      <td>14.842428</td>\n",
       "      <td>803.88</td>\n",
       "      <td>630.9</td>\n",
       "      <td>0.026165</td>\n",
       "      <td>0.023526</td>\n",
       "      <td>2016-01-01 00:00:00</td>\n",
       "      <td>0.0</td>\n",
       "      <td>14420</td>\n",
       "      <td>0.033</td>\n",
       "      <td>0.000667</td>\n",
       "    </tr>\n",
       "    <tr>\n",
       "      <th>1</th>\n",
       "      <td>1</td>\n",
       "      <td>1</td>\n",
       "      <td>0</td>\n",
       "      <td>1</td>\n",
       "      <td>1</td>\n",
       "      <td>1</td>\n",
       "      <td>0</td>\n",
       "      <td>12.19</td>\n",
       "      <td>21.03</td>\n",
       "      <td>21.280072</td>\n",
       "      <td>14.842428</td>\n",
       "      <td>804.54</td>\n",
       "      <td>630.9</td>\n",
       "      <td>0.026450</td>\n",
       "      <td>0.023526</td>\n",
       "      <td>2016-01-01 01:00:00</td>\n",
       "      <td>3600.0</td>\n",
       "      <td>14420</td>\n",
       "      <td>0.033</td>\n",
       "      <td>0.000667</td>\n",
       "    </tr>\n",
       "    <tr>\n",
       "      <th>2</th>\n",
       "      <td>2</td>\n",
       "      <td>2</td>\n",
       "      <td>1</td>\n",
       "      <td>1</td>\n",
       "      <td>1</td>\n",
       "      <td>0</td>\n",
       "      <td>1</td>\n",
       "      <td>12.19</td>\n",
       "      <td>21.03</td>\n",
       "      <td>21.280072</td>\n",
       "      <td>14.842428</td>\n",
       "      <td>804.54</td>\n",
       "      <td>630.9</td>\n",
       "      <td>0.026450</td>\n",
       "      <td>0.023526</td>\n",
       "      <td>2016-01-01 02:00:00</td>\n",
       "      <td>7200.0</td>\n",
       "      <td>14420</td>\n",
       "      <td>0.033</td>\n",
       "      <td>0.000667</td>\n",
       "    </tr>\n",
       "    <tr>\n",
       "      <th>3</th>\n",
       "      <td>3</td>\n",
       "      <td>3</td>\n",
       "      <td>0</td>\n",
       "      <td>0</td>\n",
       "      <td>0</td>\n",
       "      <td>1</td>\n",
       "      <td>0</td>\n",
       "      <td>12.20</td>\n",
       "      <td>21.03</td>\n",
       "      <td>21.529056</td>\n",
       "      <td>14.842428</td>\n",
       "      <td>805.20</td>\n",
       "      <td>630.9</td>\n",
       "      <td>0.026738</td>\n",
       "      <td>0.023526</td>\n",
       "      <td>2016-01-01 03:00:00</td>\n",
       "      <td>10800.0</td>\n",
       "      <td>14420</td>\n",
       "      <td>0.033</td>\n",
       "      <td>0.000667</td>\n",
       "    </tr>\n",
       "    <tr>\n",
       "      <th>4</th>\n",
       "      <td>4</td>\n",
       "      <td>4</td>\n",
       "      <td>1</td>\n",
       "      <td>1</td>\n",
       "      <td>1</td>\n",
       "      <td>0</td>\n",
       "      <td>0</td>\n",
       "      <td>12.20</td>\n",
       "      <td>21.03</td>\n",
       "      <td>21.529056</td>\n",
       "      <td>14.842428</td>\n",
       "      <td>805.20</td>\n",
       "      <td>630.9</td>\n",
       "      <td>0.026738</td>\n",
       "      <td>0.023526</td>\n",
       "      <td>2016-01-01 04:00:00</td>\n",
       "      <td>14400.0</td>\n",
       "      <td>14420</td>\n",
       "      <td>0.033</td>\n",
       "      <td>0.000667</td>\n",
       "    </tr>\n",
       "    <tr>\n",
       "      <th>...</th>\n",
       "      <td>...</td>\n",
       "      <td>...</td>\n",
       "      <td>...</td>\n",
       "      <td>...</td>\n",
       "      <td>...</td>\n",
       "      <td>...</td>\n",
       "      <td>...</td>\n",
       "      <td>...</td>\n",
       "      <td>...</td>\n",
       "      <td>...</td>\n",
       "      <td>...</td>\n",
       "      <td>...</td>\n",
       "      <td>...</td>\n",
       "      <td>...</td>\n",
       "      <td>...</td>\n",
       "      <td>...</td>\n",
       "      <td>...</td>\n",
       "      <td>...</td>\n",
       "      <td>...</td>\n",
       "      <td>...</td>\n",
       "    </tr>\n",
       "    <tr>\n",
       "      <th>17515</th>\n",
       "      <td>17515</td>\n",
       "      <td>16059</td>\n",
       "      <td>0</td>\n",
       "      <td>0</td>\n",
       "      <td>0</td>\n",
       "      <td>0</td>\n",
       "      <td>0</td>\n",
       "      <td>12.44</td>\n",
       "      <td>21.18</td>\n",
       "      <td>28.244204</td>\n",
       "      <td>17.224575</td>\n",
       "      <td>821.04</td>\n",
       "      <td>635.4</td>\n",
       "      <td>0.034401</td>\n",
       "      <td>0.027108</td>\n",
       "      <td>2017-12-31 19:00:00</td>\n",
       "      <td>63140400.0</td>\n",
       "      <td>14420</td>\n",
       "      <td>0.033</td>\n",
       "      <td>0.000667</td>\n",
       "    </tr>\n",
       "    <tr>\n",
       "      <th>17516</th>\n",
       "      <td>17516</td>\n",
       "      <td>16424</td>\n",
       "      <td>0</td>\n",
       "      <td>0</td>\n",
       "      <td>0</td>\n",
       "      <td>0</td>\n",
       "      <td>0</td>\n",
       "      <td>12.44</td>\n",
       "      <td>21.18</td>\n",
       "      <td>28.244204</td>\n",
       "      <td>17.224575</td>\n",
       "      <td>821.04</td>\n",
       "      <td>635.4</td>\n",
       "      <td>0.034401</td>\n",
       "      <td>0.027108</td>\n",
       "      <td>2017-12-31 20:00:00</td>\n",
       "      <td>63144000.0</td>\n",
       "      <td>14420</td>\n",
       "      <td>0.033</td>\n",
       "      <td>0.000667</td>\n",
       "    </tr>\n",
       "    <tr>\n",
       "      <th>17517</th>\n",
       "      <td>17517</td>\n",
       "      <td>16789</td>\n",
       "      <td>0</td>\n",
       "      <td>0</td>\n",
       "      <td>0</td>\n",
       "      <td>0</td>\n",
       "      <td>0</td>\n",
       "      <td>12.44</td>\n",
       "      <td>21.18</td>\n",
       "      <td>28.244204</td>\n",
       "      <td>17.224575</td>\n",
       "      <td>821.04</td>\n",
       "      <td>635.4</td>\n",
       "      <td>0.034401</td>\n",
       "      <td>0.027108</td>\n",
       "      <td>2017-12-31 21:00:00</td>\n",
       "      <td>63147600.0</td>\n",
       "      <td>14420</td>\n",
       "      <td>0.033</td>\n",
       "      <td>0.000667</td>\n",
       "    </tr>\n",
       "    <tr>\n",
       "      <th>17518</th>\n",
       "      <td>17518</td>\n",
       "      <td>17154</td>\n",
       "      <td>0</td>\n",
       "      <td>0</td>\n",
       "      <td>0</td>\n",
       "      <td>0</td>\n",
       "      <td>0</td>\n",
       "      <td>12.44</td>\n",
       "      <td>21.18</td>\n",
       "      <td>28.244204</td>\n",
       "      <td>17.224575</td>\n",
       "      <td>821.04</td>\n",
       "      <td>635.4</td>\n",
       "      <td>0.034401</td>\n",
       "      <td>0.027108</td>\n",
       "      <td>2017-12-31 22:00:00</td>\n",
       "      <td>63151200.0</td>\n",
       "      <td>14420</td>\n",
       "      <td>0.033</td>\n",
       "      <td>0.000667</td>\n",
       "    </tr>\n",
       "    <tr>\n",
       "      <th>17519</th>\n",
       "      <td>17519</td>\n",
       "      <td>17519</td>\n",
       "      <td>0</td>\n",
       "      <td>0</td>\n",
       "      <td>0</td>\n",
       "      <td>0</td>\n",
       "      <td>0</td>\n",
       "      <td>12.44</td>\n",
       "      <td>21.18</td>\n",
       "      <td>28.244204</td>\n",
       "      <td>17.224575</td>\n",
       "      <td>821.04</td>\n",
       "      <td>635.4</td>\n",
       "      <td>0.034401</td>\n",
       "      <td>0.027108</td>\n",
       "      <td>2017-12-31 23:00:00</td>\n",
       "      <td>63154800.0</td>\n",
       "      <td>14420</td>\n",
       "      <td>0.033</td>\n",
       "      <td>0.000667</td>\n",
       "    </tr>\n",
       "  </tbody>\n",
       "</table>\n",
       "<p>17520 rows × 20 columns</p>\n",
       "</div>"
      ],
      "text/plain": [
       "       Unnamed: 0  index  Rainfall_Aries  Rainfall_Boso  Rainfall_Campana  \\\n",
       "0               0      0               0              1                 2   \n",
       "1               1      1               0              1                 1   \n",
       "2               2      2               1              1                 1   \n",
       "3               3      3               0              0                 0   \n",
       "4               4      4               1              1                 1   \n",
       "...           ...    ...             ...            ...               ...   \n",
       "17515       17515  16059               0              0                 0   \n",
       "17516       17516  16424               0              0                 0   \n",
       "17517       17517  16789               0              0                 0   \n",
       "17518       17518  17154               0              0                 0   \n",
       "17519       17519  17519               0              0                 0   \n",
       "\n",
       "       Rainfall_Nangka  Rainfall_Oro  Waterlevel_Sto_Nino  \\\n",
       "0                    0             0                12.18   \n",
       "1                    1             0                12.19   \n",
       "2                    0             1                12.19   \n",
       "3                    1             0                12.20   \n",
       "4                    0             0                12.20   \n",
       "...                ...           ...                  ...   \n",
       "17515                0             0                12.44   \n",
       "17516                0             0                12.44   \n",
       "17517                0             0                12.44   \n",
       "17518                0             0                12.44   \n",
       "17519                0             0                12.44   \n",
       "\n",
       "       Waterlevel_Montalban  Discharge_Sto_Nino  Discharge_San_Jose  \\\n",
       "0                     21.03           21.033407           14.842428   \n",
       "1                     21.03           21.280072           14.842428   \n",
       "2                     21.03           21.280072           14.842428   \n",
       "3                     21.03           21.529056           14.842428   \n",
       "4                     21.03           21.529056           14.842428   \n",
       "...                     ...                 ...                 ...   \n",
       "17515                 21.18           28.244204           17.224575   \n",
       "17516                 21.18           28.244204           17.224575   \n",
       "17517                 21.18           28.244204           17.224575   \n",
       "17518                 21.18           28.244204           17.224575   \n",
       "17519                 21.18           28.244204           17.224575   \n",
       "\n",
       "       Cross_Section_Sto_Nino  Cross_Section_Montalban  Velocity_Sto_Nino  \\\n",
       "0                      803.88                    630.9           0.026165   \n",
       "1                      804.54                    630.9           0.026450   \n",
       "2                      804.54                    630.9           0.026450   \n",
       "3                      805.20                    630.9           0.026738   \n",
       "4                      805.20                    630.9           0.026738   \n",
       "...                       ...                      ...                ...   \n",
       "17515                  821.04                    635.4           0.034401   \n",
       "17516                  821.04                    635.4           0.034401   \n",
       "17517                  821.04                    635.4           0.034401   \n",
       "17518                  821.04                    635.4           0.034401   \n",
       "17519                  821.04                    635.4           0.034401   \n",
       "\n",
       "       Velocity_Montalban             datetime           t      x  \\\n",
       "0                0.023526  2016-01-01 00:00:00         0.0  14420   \n",
       "1                0.023526  2016-01-01 01:00:00      3600.0  14420   \n",
       "2                0.023526  2016-01-01 02:00:00      7200.0  14420   \n",
       "3                0.023526  2016-01-01 03:00:00     10800.0  14420   \n",
       "4                0.023526  2016-01-01 04:00:00     14400.0  14420   \n",
       "...                   ...                  ...         ...    ...   \n",
       "17515            0.027108  2017-12-31 19:00:00  63140400.0  14420   \n",
       "17516            0.027108  2017-12-31 20:00:00  63144000.0  14420   \n",
       "17517            0.027108  2017-12-31 21:00:00  63147600.0  14420   \n",
       "17518            0.027108  2017-12-31 22:00:00  63151200.0  14420   \n",
       "17519            0.027108  2017-12-31 23:00:00  63154800.0  14420   \n",
       "\n",
       "       friction_coeff     slope  \n",
       "0               0.033  0.000667  \n",
       "1               0.033  0.000667  \n",
       "2               0.033  0.000667  \n",
       "3               0.033  0.000667  \n",
       "4               0.033  0.000667  \n",
       "...               ...       ...  \n",
       "17515           0.033  0.000667  \n",
       "17516           0.033  0.000667  \n",
       "17517           0.033  0.000667  \n",
       "17518           0.033  0.000667  \n",
       "17519           0.033  0.000667  \n",
       "\n",
       "[17520 rows x 20 columns]"
      ]
     },
     "execution_count": 5,
     "metadata": {},
     "output_type": "execute_result"
    }
   ],
   "source": [
    "df_2016_2017['friction_coeff'] = [0.033 for i in range(len(df_2016_2017))]\n",
    "df_2016_2017['slope'] = [1/1500 for i in range(len(df_2016_2017))]\n",
    "\n",
    "df_2016_2017"
   ]
  },
  {
   "cell_type": "code",
   "execution_count": 6,
   "id": "93c80a27",
   "metadata": {},
   "outputs": [],
   "source": [
    "train_2016_2017 = df_2016_2017[:int(0.50*len(df_2016_2017))]\n",
    "val_2016_2017 = df_2016_2017[int(0.50*len(df_2016_2017)):int(0.75*len(df_2016_2017))]\n",
    "test_2016_2017 = df_2016_2017[int(0.75*len(df_2016_2017)):]"
   ]
  },
  {
   "cell_type": "code",
   "execution_count": 7,
   "id": "95aabaaf",
   "metadata": {},
   "outputs": [],
   "source": [
    "# all inputs\n",
    "X_train_2016_2017 = np.array(train_2016_2017[['Rainfall_Aries', 'Rainfall_Boso', 'Rainfall_Campana', 'Rainfall_Nangka', 'Rainfall_Oro', 'x' ,'t', 'Discharge_Sto_Nino', 'friction_coeff', 'slope']].values.tolist())\n",
    "X_val_2016_2017 = np.array(val_2016_2017[['Rainfall_Aries', 'Rainfall_Boso', 'Rainfall_Campana', 'Rainfall_Nangka', 'Rainfall_Oro', 'x','t', 'Discharge_Sto_Nino', 'friction_coeff', 'slope']].values.tolist())\n",
    "X_test_2016_2017 = np.array(test_2016_2017[['Rainfall_Aries', 'Rainfall_Boso', 'Rainfall_Campana', 'Rainfall_Nangka', 'Rainfall_Oro', 'x','t', 'Discharge_Sto_Nino', 'friction_coeff', 'slope']].values.tolist())\n",
    "Y_train_2016_2017 = np.array(train_2016_2017[['Velocity_Sto_Nino','Waterlevel_Sto_Nino']].values.tolist())\n",
    "Y_val_2016_2017 = np.array(val_2016_2017[['Velocity_Sto_Nino','Waterlevel_Sto_Nino']].values.tolist())\n",
    "Y_test_2016_2017 = np.array(test_2016_2017[['Velocity_Sto_Nino','Waterlevel_Sto_Nino']].values.tolist())"
   ]
  },
  {
   "cell_type": "code",
   "execution_count": 8,
   "id": "7a6c44ee",
   "metadata": {},
   "outputs": [
    {
     "data": {
      "text/plain": [
       "(8760, 10)"
      ]
     },
     "execution_count": 8,
     "metadata": {},
     "output_type": "execute_result"
    }
   ],
   "source": [
    "X_train_2016_2017.shape"
   ]
  },
  {
   "cell_type": "markdown",
   "id": "267965c2",
   "metadata": {},
   "source": [
    "## Metrics"
   ]
  },
  {
   "cell_type": "code",
   "execution_count": 9,
   "id": "e96c2117",
   "metadata": {},
   "outputs": [],
   "source": [
    "def r_square(y_true, y_pred):\n",
    "    x = y_true\n",
    "    y = y_pred\n",
    "    mx = K.mean(x, axis=0)\n",
    "    my = K.mean(y, axis=0)\n",
    "    xm, ym = x - mx, y - my\n",
    "    r_num = K.square(K.sum(xm * ym))\n",
    "    x_square_sum = K.sum(xm * xm)\n",
    "    y_square_sum = K.sum(ym * ym)\n",
    "    r_den = (x_square_sum * y_square_sum) + K.epsilon()\n",
    "    \n",
    "    r = r_num / r_den\n",
    "    return r"
   ]
  },
  {
   "cell_type": "code",
   "execution_count": 10,
   "id": "fa68973a",
   "metadata": {},
   "outputs": [],
   "source": [
    "def NSE(y_true, y_pred):\n",
    "    '''\n",
    "    This is the Nash-Sutcliffe Efficiency Coefficient\n",
    "    '''\n",
    "    y_pred = K.flatten(y_pred)\n",
    "    y_true = K.flatten(y_true)\n",
    "\n",
    "    \n",
    "    SS_res =  K.sum(K.square(y_true - y_pred)) \n",
    "    SS_tot = K.sum(K.square(y_true - K.mean(y_true))) \n",
    "    \n",
    "    return ( 1 - SS_res/(SS_tot + K.epsilon()) )"
   ]
  },
  {
   "cell_type": "markdown",
   "id": "2eebd0b4",
   "metadata": {},
   "source": [
    "## Models and Training Loops"
   ]
  },
  {
   "cell_type": "code",
   "execution_count": 11,
   "id": "12ba6be0",
   "metadata": {},
   "outputs": [],
   "source": [
    "def create_train_dnn_model(X_train, y_train, X_val, y_val, max_epochs=20, patience=2):\n",
    "    # Create the model\n",
    "    model = models.Sequential([\n",
    "        layers.Dense(64, activation='relu', input_shape=(X_train.shape[1],)),\n",
    "        layers.Dense(64, activation='relu'),\n",
    "        layers.Dense(64, activation='relu'),\n",
    "        layers.Dense(2, activation='linear')  # 2 outputs: velocity and water level\n",
    "    ])\n",
    "    \n",
    "    # Define early stopping callback\n",
    "    early_stopping = tf.keras.callbacks.EarlyStopping(\n",
    "        monitor='val_loss',\n",
    "        patience=patience,\n",
    "        mode='min'\n",
    "    )\n",
    "    \n",
    "    # Compile the model\n",
    "    model.compile(\n",
    "        optimizer='adam',\n",
    "        loss=tf.keras.losses.MeanSquaredError(),\n",
    "        metrics=[tf.keras.metrics.MeanSquaredError(), NSE, r_square]\n",
    "    )\n",
    "    \n",
    "    # Train the model\n",
    "    history = model.fit(\n",
    "        X_train, y_train,\n",
    "        validation_data=(X_val, y_val),\n",
    "        epochs=max_epochs,\n",
    "        callbacks=[early_stopping]\n",
    "    )\n",
    "    \n",
    "    return model, history"
   ]
  },
  {
   "cell_type": "code",
   "execution_count": 12,
   "id": "547e617a",
   "metadata": {},
   "outputs": [],
   "source": [
    "def create_train_cnn_model(X_train, y_train, X_val, y_val, max_epochs=20, patience=2):\n",
    "    # Reshape input for 1D CNN\n",
    "    X_train = X_train.reshape(X_train.shape[0], X_train.shape[1], 1)\n",
    "    X_val = X_val.reshape(X_val.shape[0], X_val.shape[1], 1)\n",
    "    \n",
    "    conv_model = tf.keras.Sequential([\n",
    "        tf.keras.layers.Input(shape=(X_train.shape[1], 1)),\n",
    "        tf.keras.layers.Conv1D(filters=64, kernel_size=6, activation='relu'),\n",
    "        tf.keras.layers.MaxPooling1D(pool_size=2),\n",
    "        tf.keras.layers.Flatten(),\n",
    "        tf.keras.layers.Dense(units=64, activation='relu'),\n",
    "        tf.keras.layers.Dense(units=64, activation='relu'),\n",
    "        tf.keras.layers.Dense(units=2)\n",
    "    ])\n",
    "    \n",
    "    early_stopping = tf.keras.callbacks.EarlyStopping(\n",
    "        monitor='val_loss',\n",
    "        patience=patience,\n",
    "        mode='min'\n",
    "    )\n",
    "    \n",
    "    conv_model.compile(\n",
    "        optimizer='adam',\n",
    "        loss=tf.keras.losses.MeanSquaredError(),\n",
    "        metrics=[tf.keras.metrics.MeanSquaredError(), NSE, r_square]\n",
    "    )\n",
    "    \n",
    "    conv_history = conv_model.fit(\n",
    "        X_train, y_train,\n",
    "        validation_data=(X_val, y_val),\n",
    "        epochs=max_epochs,\n",
    "        callbacks=[early_stopping]\n",
    "    )\n",
    "    \n",
    "    return conv_model, conv_history"
   ]
  },
  {
   "cell_type": "code",
   "execution_count": 13,
   "id": "9723b52a",
   "metadata": {},
   "outputs": [],
   "source": [
    "def create_train_lstm_model(X_train, y_train, X_val, y_val, max_epochs=20, patience=2):\n",
    "    if len(X_train.shape) == 2:\n",
    "        X_train = X_train.reshape((X_train.shape[0], 1, X_train.shape[1]))\n",
    "    if len(X_val.shape) == 2:\n",
    "        X_val = X_val.reshape((X_val.shape[0], 1, X_val.shape[1]))\n",
    "            \n",
    "    lstm_model = tf.keras.models.Sequential([\n",
    "        tf.keras.layers.LSTM(64, input_shape=(X_train.shape[1], X_train.shape[2]), return_sequences=True),\n",
    "        tf.keras.layers.Flatten(),  # Add Flatten layer to handle dimension mismatch\n",
    "        tf.keras.layers.Dense(units=64, activation='relu'),\n",
    "        tf.keras.layers.Dense(units=64, activation='relu'),\n",
    "        tf.keras.layers.Dense(units=2)\n",
    "    ])\n",
    "    \n",
    "    # Define early stopping callback\n",
    "    early_stopping = tf.keras.callbacks.EarlyStopping(\n",
    "        monitor='val_loss',\n",
    "        patience=patience,\n",
    "        mode='min'\n",
    "    )\n",
    "    \n",
    "    # Compile the model\n",
    "    lstm_model.compile(\n",
    "        optimizer='adam',\n",
    "        loss=tf.keras.losses.MeanSquaredError(),\n",
    "        metrics=[tf.keras.metrics.MeanSquaredError(), NSE, r_square]\n",
    "    )\n",
    "    \n",
    "    # Train the model\n",
    "    lstm_history = lstm_model.fit(\n",
    "        X_train, y_train,\n",
    "        validation_data=(X_val, y_val),\n",
    "        epochs=max_epochs,\n",
    "        callbacks=[early_stopping]\n",
    "    )\n",
    "    \n",
    "    return lstm_model, lstm_history"
   ]
  },
  {
   "cell_type": "markdown",
   "id": "11a81259",
   "metadata": {},
   "source": [
    "## Training"
   ]
  },
  {
   "cell_type": "code",
   "execution_count": 14,
   "id": "2eae6209",
   "metadata": {},
   "outputs": [
    {
     "name": "stdout",
     "output_type": "stream",
     "text": [
      "Epoch 1/20\n",
      "274/274 [==============================] - 3s 5ms/step - loss: 8845185024.0000 - mean_squared_error: 8845185024.0000 - NSE: -225301280.0000 - r_square: 0.2178 - val_loss: 1824797.0000 - val_mean_squared_error: 1824797.0000 - val_NSE: -51787.5664 - val_r_square: 0.0413\n",
      "Epoch 2/20\n",
      "274/274 [==============================] - 1s 4ms/step - loss: 477088.4688 - mean_squared_error: 477088.4688 - NSE: -12445.5469 - r_square: 0.1711 - val_loss: 2494621.2500 - val_mean_squared_error: 2494621.2500 - val_NSE: -70746.3828 - val_r_square: 0.0386\n",
      "Epoch 3/20\n",
      "274/274 [==============================] - 1s 3ms/step - loss: 397406.1250 - mean_squared_error: 397406.1250 - NSE: -10383.0693 - r_square: 0.1766 - val_loss: 914386.0625 - val_mean_squared_error: 914386.0625 - val_NSE: -25973.2598 - val_r_square: 0.0442\n",
      "Epoch 4/20\n",
      "274/274 [==============================] - 1s 3ms/step - loss: 347223.9375 - mean_squared_error: 347223.9375 - NSE: -9063.6992 - r_square: 0.1887 - val_loss: 1302215.6250 - val_mean_squared_error: 1302215.6250 - val_NSE: -36953.3125 - val_r_square: 0.0580\n",
      "Epoch 5/20\n",
      "274/274 [==============================] - 1s 3ms/step - loss: 547188.0000 - mean_squared_error: 547188.0000 - NSE: -14287.7197 - r_square: 0.1984 - val_loss: 360973.4062 - val_mean_squared_error: 360973.4062 - val_NSE: -10265.5020 - val_r_square: 0.0678\n",
      "Epoch 6/20\n",
      "274/274 [==============================] - 1s 3ms/step - loss: 252374.7344 - mean_squared_error: 252374.7344 - NSE: -6589.5513 - r_square: 0.2222 - val_loss: 381437.0312 - val_mean_squared_error: 381437.0312 - val_NSE: -10831.1621 - val_r_square: 0.0849\n",
      "Epoch 7/20\n",
      "274/274 [==============================] - 1s 4ms/step - loss: 308030.9688 - mean_squared_error: 308030.9688 - NSE: -8035.5830 - r_square: 0.2359 - val_loss: 221000.3594 - val_mean_squared_error: 221000.3594 - val_NSE: -6268.4795 - val_r_square: 0.0957\n",
      "Epoch 8/20\n",
      "274/274 [==============================] - 1s 3ms/step - loss: 189444.8438 - mean_squared_error: 189444.8438 - NSE: -4940.3638 - r_square: 0.2612 - val_loss: 281124.6562 - val_mean_squared_error: 281124.6562 - val_NSE: -7984.5830 - val_r_square: 0.0883\n",
      "Epoch 9/20\n",
      "274/274 [==============================] - 1s 3ms/step - loss: 126378.8984 - mean_squared_error: 126378.8984 - NSE: -3299.2800 - r_square: 0.2890 - val_loss: 796013.0625 - val_mean_squared_error: 796013.0625 - val_NSE: -22556.3789 - val_r_square: 0.0638\n"
     ]
    }
   ],
   "source": [
    "dnn_model, dnn_history = create_train_dnn_model(\n",
    "    X_train=X_train_2016_2017,\n",
    "    y_train=Y_train_2016_2017,\n",
    "    X_val=X_val_2016_2017,\n",
    "    y_val=Y_val_2016_2017,\n",
    "    max_epochs=20,\n",
    "    patience=2\n",
    ")"
   ]
  },
  {
   "cell_type": "code",
   "execution_count": 15,
   "id": "b563a5c1",
   "metadata": {},
   "outputs": [
    {
     "name": "stdout",
     "output_type": "stream",
     "text": [
      "Epoch 1/20\n",
      "274/274 [==============================] - 2s 4ms/step - loss: 5384750592.0000 - mean_squared_error: 5384750592.0000 - NSE: -137010448.0000 - r_square: 0.1887 - val_loss: 78528.4141 - val_mean_squared_error: 78528.4141 - val_NSE: -2228.5242 - val_r_square: 0.0201\n",
      "Epoch 2/20\n",
      "274/274 [==============================] - 1s 4ms/step - loss: 2516240.0000 - mean_squared_error: 2516240.0000 - NSE: -65621.8672 - r_square: 0.1012 - val_loss: 95016.5547 - val_mean_squared_error: 95016.5547 - val_NSE: -2695.1912 - val_r_square: 0.0162\n",
      "Epoch 3/20\n",
      "274/274 [==============================] - 1s 4ms/step - loss: 21644.5723 - mean_squared_error: 21644.5723 - NSE: -564.5762 - r_square: 0.0942 - val_loss: 46492.3906 - val_mean_squared_error: 46492.3906 - val_NSE: -1319.9396 - val_r_square: 0.0197\n",
      "Epoch 4/20\n",
      "274/274 [==============================] - 1s 4ms/step - loss: 19769.4805 - mean_squared_error: 19769.4805 - NSE: -515.0973 - r_square: 0.1032 - val_loss: 81369.2969 - val_mean_squared_error: 81369.2969 - val_NSE: -2307.9233 - val_r_square: 0.0270\n",
      "Epoch 5/20\n",
      "274/274 [==============================] - 1s 4ms/step - loss: 223596.9531 - mean_squared_error: 223596.9531 - NSE: -5834.7236 - r_square: 0.1112 - val_loss: 103355.6406 - val_mean_squared_error: 103355.6406 - val_NSE: -2927.5935 - val_r_square: 0.0065\n"
     ]
    }
   ],
   "source": [
    "cnn_model, cnn_history = create_train_cnn_model(\n",
    "    X_train=X_train_2016_2017,\n",
    "    y_train=Y_train_2016_2017,\n",
    "    X_val=X_val_2016_2017,\n",
    "    y_val=Y_val_2016_2017,\n",
    "    max_epochs=20,\n",
    "    patience=2 )"
   ]
  },
  {
   "cell_type": "code",
   "execution_count": 16,
   "id": "d33ce17f",
   "metadata": {},
   "outputs": [
    {
     "name": "stdout",
     "output_type": "stream",
     "text": [
      "Epoch 1/20\n",
      "274/274 [==============================] - 4s 6ms/step - loss: 10.2996 - mean_squared_error: 10.2996 - NSE: 0.7319 - r_square: 0.0016 - val_loss: 0.1403 - val_mean_squared_error: 0.1403 - val_NSE: 0.9960 - val_r_square: 5.5984e-13\n",
      "Epoch 2/20\n",
      "274/274 [==============================] - 1s 4ms/step - loss: 0.2356 - mean_squared_error: 0.2356 - NSE: 0.9939 - r_square: 2.9790e-04 - val_loss: 0.0907 - val_mean_squared_error: 0.0907 - val_NSE: 0.9974 - val_r_square: 9.9480e-13\n",
      "Epoch 3/20\n",
      "274/274 [==============================] - 1s 5ms/step - loss: 0.2306 - mean_squared_error: 0.2306 - NSE: 0.9940 - r_square: 3.3428e-04 - val_loss: 0.1752 - val_mean_squared_error: 0.1752 - val_NSE: 0.9950 - val_r_square: 6.2257e-14\n",
      "Epoch 4/20\n",
      "274/274 [==============================] - 1s 4ms/step - loss: 0.2308 - mean_squared_error: 0.2308 - NSE: 0.9940 - r_square: 3.2968e-04 - val_loss: 0.0747 - val_mean_squared_error: 0.0747 - val_NSE: 0.9979 - val_r_square: 6.2258e-14\n",
      "Epoch 5/20\n",
      "274/274 [==============================] - 1s 4ms/step - loss: 0.2294 - mean_squared_error: 0.2294 - NSE: 0.9941 - r_square: 3.3300e-04 - val_loss: 0.1244 - val_mean_squared_error: 0.1244 - val_NSE: 0.9964 - val_r_square: 5.5997e-13\n",
      "Epoch 6/20\n",
      "274/274 [==============================] - 1s 5ms/step - loss: 0.2302 - mean_squared_error: 0.2302 - NSE: 0.9940 - r_square: 3.4018e-04 - val_loss: 0.0935 - val_mean_squared_error: 0.0935 - val_NSE: 0.9973 - val_r_square: 5.5984e-13\n"
     ]
    }
   ],
   "source": [
    "# Train the model\n",
    "lstm_model, lstm_history = create_train_lstm_model(\n",
    "    X_train=X_train_2016_2017,\n",
    "    y_train=Y_train_2016_2017,\n",
    "    X_val=X_val_2016_2017,\n",
    "    y_val=Y_val_2016_2017,\n",
    "    max_epochs=20,\n",
    "    patience=2\n",
    ")"
   ]
  },
  {
   "cell_type": "markdown",
   "id": "9865604a",
   "metadata": {},
   "source": [
    "## Predictions"
   ]
  },
  {
   "cell_type": "code",
   "execution_count": 17,
   "id": "d9a524d8",
   "metadata": {},
   "outputs": [
    {
     "data": {
      "text/plain": [
       "array([[0.00000000e+00, 0.00000000e+00, 0.00000000e+00, ...,\n",
       "        1.48177362e+01, 3.30000000e-02, 6.66666667e-04],\n",
       "       [0.00000000e+00, 0.00000000e+00, 0.00000000e+00, ...,\n",
       "        1.44508667e+01, 3.30000000e-02, 6.66666667e-04],\n",
       "       [0.00000000e+00, 0.00000000e+00, 0.00000000e+00, ...,\n",
       "        1.40913310e+01, 3.30000000e-02, 6.66666667e-04],\n",
       "       ...,\n",
       "       [0.00000000e+00, 0.00000000e+00, 0.00000000e+00, ...,\n",
       "        2.82442037e+01, 3.30000000e-02, 6.66666667e-04],\n",
       "       [0.00000000e+00, 0.00000000e+00, 0.00000000e+00, ...,\n",
       "        2.82442037e+01, 3.30000000e-02, 6.66666667e-04],\n",
       "       [0.00000000e+00, 0.00000000e+00, 0.00000000e+00, ...,\n",
       "        2.82442037e+01, 3.30000000e-02, 6.66666667e-04]])"
      ]
     },
     "execution_count": 17,
     "metadata": {},
     "output_type": "execute_result"
    }
   ],
   "source": [
    "X_test_2016_2017"
   ]
  },
  {
   "cell_type": "code",
   "execution_count": 19,
   "id": "fbb66969",
   "metadata": {},
   "outputs": [
    {
     "data": {
      "text/plain": [
       "(4380, 10)"
      ]
     },
     "execution_count": 19,
     "metadata": {},
     "output_type": "execute_result"
    }
   ],
   "source": [
    "X_test_2016_2017.shape"
   ]
  },
  {
   "cell_type": "code",
   "execution_count": 18,
   "id": "dbce774c",
   "metadata": {},
   "outputs": [
    {
     "data": {
      "text/plain": [
       "array([[[0.00000000e+00, 0.00000000e+00, 0.00000000e+00, ...,\n",
       "         1.48177362e+01, 3.30000000e-02, 6.66666667e-04]],\n",
       "\n",
       "       [[0.00000000e+00, 0.00000000e+00, 0.00000000e+00, ...,\n",
       "         1.44508667e+01, 3.30000000e-02, 6.66666667e-04]],\n",
       "\n",
       "       [[0.00000000e+00, 0.00000000e+00, 0.00000000e+00, ...,\n",
       "         1.40913310e+01, 3.30000000e-02, 6.66666667e-04]],\n",
       "\n",
       "       ...,\n",
       "\n",
       "       [[0.00000000e+00, 0.00000000e+00, 0.00000000e+00, ...,\n",
       "         2.82442037e+01, 3.30000000e-02, 6.66666667e-04]],\n",
       "\n",
       "       [[0.00000000e+00, 0.00000000e+00, 0.00000000e+00, ...,\n",
       "         2.82442037e+01, 3.30000000e-02, 6.66666667e-04]],\n",
       "\n",
       "       [[0.00000000e+00, 0.00000000e+00, 0.00000000e+00, ...,\n",
       "         2.82442037e+01, 3.30000000e-02, 6.66666667e-04]]])"
      ]
     },
     "execution_count": 18,
     "metadata": {},
     "output_type": "execute_result"
    }
   ],
   "source": [
    "X_test_2016_2017_lstm = X_test_2016_2017.reshape((X_test_2016_2017.shape[0], 1, X_test_2016_2017.shape[1]))\n",
    "\n",
    "X_test_2016_2017_lstm"
   ]
  },
  {
   "cell_type": "code",
   "execution_count": 20,
   "id": "a0668f44",
   "metadata": {},
   "outputs": [
    {
     "data": {
      "text/plain": [
       "(4380, 1, 10)"
      ]
     },
     "execution_count": 20,
     "metadata": {},
     "output_type": "execute_result"
    }
   ],
   "source": [
    "# (batch size, time steps, features)\n",
    "X_test_2016_2017_lstm.shape"
   ]
  },
  {
   "cell_type": "code",
   "execution_count": 22,
   "id": "0bc5ecfb",
   "metadata": {},
   "outputs": [],
   "source": [
    "# LSTM predictions\n",
    "\n",
    "lstm_predictions_without_window_all_variables = lstm_model(X_test_2016_2017_lstm) "
   ]
  },
  {
   "cell_type": "code",
   "execution_count": 23,
   "id": "09afbf44",
   "metadata": {},
   "outputs": [
    {
     "data": {
      "text/plain": [
       "<tf.Tensor: shape=(4380, 2), dtype=float32, numpy=\n",
       "array([[ 0.01346623, 12.292316  ],\n",
       "       [ 0.01346623, 12.292316  ],\n",
       "       [ 0.01346623, 12.292316  ],\n",
       "       ...,\n",
       "       [ 0.01346623, 12.292316  ],\n",
       "       [ 0.01346623, 12.292316  ],\n",
       "       [ 0.01346623, 12.292316  ]], dtype=float32)>"
      ]
     },
     "execution_count": 23,
     "metadata": {},
     "output_type": "execute_result"
    }
   ],
   "source": [
    "lstm_predictions_without_window_all_variables"
   ]
  },
  {
   "cell_type": "code",
   "execution_count": 24,
   "id": "335cf82c",
   "metadata": {},
   "outputs": [],
   "source": [
    "y_pred_h = lstm_predictions_without_window_all_variables[:,1]\n",
    "y_pred_v = lstm_predictions_without_window_all_variables[:,0]"
   ]
  },
  {
   "cell_type": "code",
   "execution_count": 25,
   "id": "92b7e464",
   "metadata": {},
   "outputs": [
    {
     "data": {
      "text/plain": [
       "<tf.Tensor: shape=(4380,), dtype=float32, numpy=\n",
       "array([12.292316, 12.292316, 12.292316, ..., 12.292316, 12.292316,\n",
       "       12.292316], dtype=float32)>"
      ]
     },
     "execution_count": 25,
     "metadata": {},
     "output_type": "execute_result"
    }
   ],
   "source": [
    "y_pred_h"
   ]
  },
  {
   "cell_type": "code",
   "execution_count": 26,
   "id": "6213d5e5",
   "metadata": {},
   "outputs": [
    {
     "data": {
      "text/plain": [
       "<tf.Tensor: shape=(4380,), dtype=float32, numpy=\n",
       "array([0.01346623, 0.01346623, 0.01346623, ..., 0.01346623, 0.01346623,\n",
       "       0.01346623], dtype=float32)>"
      ]
     },
     "execution_count": 26,
     "metadata": {},
     "output_type": "execute_result"
    }
   ],
   "source": [
    "y_pred_v"
   ]
  },
  {
   "cell_type": "code",
   "execution_count": 27,
   "id": "49bc3660",
   "metadata": {},
   "outputs": [
    {
     "data": {
      "text/plain": [
       "array([[ 0.01888235, 11.89      ],\n",
       "       [ 0.01844587, 11.87      ],\n",
       "       [ 0.0180173 , 11.85      ],\n",
       "       ...,\n",
       "       [ 0.03440052, 12.44      ],\n",
       "       [ 0.03440052, 12.44      ],\n",
       "       [ 0.03440052, 12.44      ]])"
      ]
     },
     "execution_count": 27,
     "metadata": {},
     "output_type": "execute_result"
    }
   ],
   "source": [
    "Y_test_2016_2017"
   ]
  },
  {
   "cell_type": "code",
   "execution_count": 28,
   "id": "e2e94132",
   "metadata": {},
   "outputs": [],
   "source": [
    "y_true_h = Y_test_2016_2017[:,1]\n",
    "y_true_v = Y_test_2016_2017[:,0]"
   ]
  },
  {
   "cell_type": "code",
   "execution_count": 29,
   "id": "fa532784",
   "metadata": {},
   "outputs": [
    {
     "data": {
      "text/plain": [
       "array([11.89, 11.87, 11.85, ..., 12.44, 12.44, 12.44])"
      ]
     },
     "execution_count": 29,
     "metadata": {},
     "output_type": "execute_result"
    }
   ],
   "source": [
    "y_true_h"
   ]
  },
  {
   "cell_type": "code",
   "execution_count": 30,
   "id": "9f42c553",
   "metadata": {},
   "outputs": [
    {
     "data": {
      "text/plain": [
       "array([0.01888235, 0.01844587, 0.0180173 , ..., 0.03440052, 0.03440052,\n",
       "       0.03440052])"
      ]
     },
     "execution_count": 30,
     "metadata": {},
     "output_type": "execute_result"
    }
   ],
   "source": [
    "y_true_v"
   ]
  },
  {
   "cell_type": "code",
   "execution_count": 31,
   "id": "3760e478",
   "metadata": {},
   "outputs": [
    {
     "data": {
      "text/plain": [
       "(0.42879322, 0.0028713248)"
      ]
     },
     "execution_count": 31,
     "metadata": {},
     "output_type": "execute_result"
    }
   ],
   "source": [
    "n = len(Y_test_2016_2017)\n",
    "mse_h = np.mean(np.square(y_true_h - y_pred_h))\n",
    "mse_v = np.mean(np.square(y_true_v - y_pred_v))\n",
    "\n",
    "mse_h, mse_v"
   ]
  },
  {
   "cell_type": "code",
   "execution_count": 33,
   "id": "5c273609",
   "metadata": {},
   "outputs": [
    {
     "data": {
      "text/plain": [
       "0.21583227813243866"
      ]
     },
     "execution_count": 33,
     "metadata": {},
     "output_type": "execute_result"
    }
   ],
   "source": [
    "(mse_h + mse_v)/2"
   ]
  },
  {
   "cell_type": "code",
   "execution_count": 34,
   "id": "e761bd1d",
   "metadata": {},
   "outputs": [
    {
     "data": {
      "text/plain": [
       "-0.38106958070518515"
      ]
     },
     "execution_count": 34,
     "metadata": {},
     "output_type": "execute_result"
    }
   ],
   "source": [
    "SS_res_h = np.sum(np.square(y_true_h - y_pred_h)) \n",
    "SS_tot_h = np.sum(np.square(y_true_h - np.mean(y_true_h)))\n",
    "\n",
    "NSE_h = 1 - SS_res_h/(SS_tot_h)\n",
    "NSE_h"
   ]
  },
  {
   "cell_type": "code",
   "execution_count": 35,
   "id": "8ee27288",
   "metadata": {},
   "outputs": [
    {
     "data": {
      "text/plain": [
       "-0.7006108458891884"
      ]
     },
     "execution_count": 35,
     "metadata": {},
     "output_type": "execute_result"
    }
   ],
   "source": [
    "SS_res_v = np.sum(np.square(y_true_v - y_pred_v)) \n",
    "SS_tot_v = np.sum(np.square(y_true_v - np.mean(y_true_v)))\n",
    "\n",
    "NSE_v = 1 - SS_res_v/(SS_tot_v)\n",
    "NSE_v"
   ]
  },
  {
   "cell_type": "code",
   "execution_count": null,
   "id": "69514de6",
   "metadata": {},
   "outputs": [],
   "source": []
  }
 ],
 "metadata": {
  "kernelspec": {
   "display_name": "Python 3 (ipykernel)",
   "language": "python",
   "name": "python3"
  },
  "language_info": {
   "codemirror_mode": {
    "name": "ipython",
    "version": 3
   },
   "file_extension": ".py",
   "mimetype": "text/x-python",
   "name": "python",
   "nbconvert_exporter": "python",
   "pygments_lexer": "ipython3",
   "version": "3.9.13"
  }
 },
 "nbformat": 4,
 "nbformat_minor": 5
}
