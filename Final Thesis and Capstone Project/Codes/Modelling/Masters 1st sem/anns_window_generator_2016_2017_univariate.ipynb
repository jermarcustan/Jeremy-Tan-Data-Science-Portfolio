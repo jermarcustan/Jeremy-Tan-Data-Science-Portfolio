{
 "cells": [
  {
   "cell_type": "code",
   "execution_count": 28,
   "id": "5d0c35d5",
   "metadata": {},
   "outputs": [],
   "source": [
    "import tensorflow as tf\n",
    "import pandas as pd\n",
    "import os\n",
    "import numpy as np\n",
    "import matplotlib.pyplot as plt\n",
    "import datetime as dt\n",
    "from random import seed\n",
    "from tensorflow.keras import models\n",
    "from tensorflow.keras import layers\n",
    "from tensorflow.keras import backend as K\n",
    "tf.compat.v1.experimental.output_all_intermediates(True)"
   ]
  },
  {
   "cell_type": "code",
   "execution_count": 2,
   "id": "24a6ea5d",
   "metadata": {},
   "outputs": [],
   "source": [
    "tf.random.set_seed(36)"
   ]
  },
  {
   "cell_type": "markdown",
   "id": "e7742024",
   "metadata": {},
   "source": [
    "## Dataset"
   ]
  },
  {
   "cell_type": "code",
   "execution_count": 3,
   "id": "7fa8d193",
   "metadata": {},
   "outputs": [],
   "source": [
    "BASE_DIR_PATH = '../../Datasets'\n",
    "DATASET_FILE = os.path.join(BASE_DIR_PATH, 'compiled_data_2016_2017.csv')"
   ]
  },
  {
   "cell_type": "code",
   "execution_count": 4,
   "id": "3b6763cf",
   "metadata": {},
   "outputs": [
    {
     "data": {
      "text/html": [
       "<div>\n",
       "<style scoped>\n",
       "    .dataframe tbody tr th:only-of-type {\n",
       "        vertical-align: middle;\n",
       "    }\n",
       "\n",
       "    .dataframe tbody tr th {\n",
       "        vertical-align: top;\n",
       "    }\n",
       "\n",
       "    .dataframe thead th {\n",
       "        text-align: right;\n",
       "    }\n",
       "</style>\n",
       "<table border=\"1\" class=\"dataframe\">\n",
       "  <thead>\n",
       "    <tr style=\"text-align: right;\">\n",
       "      <th></th>\n",
       "      <th>Unnamed: 0</th>\n",
       "      <th>index</th>\n",
       "      <th>Rainfall_Aries</th>\n",
       "      <th>Rainfall_Boso</th>\n",
       "      <th>Rainfall_Campana</th>\n",
       "      <th>Rainfall_Nangka</th>\n",
       "      <th>Rainfall_Oro</th>\n",
       "      <th>Waterlevel_Sto_Nino</th>\n",
       "      <th>Waterlevel_Montalban</th>\n",
       "      <th>Discharge_Sto_Nino</th>\n",
       "      <th>Discharge_San_Jose</th>\n",
       "      <th>Cross_Section_Sto_Nino</th>\n",
       "      <th>Cross_Section_Montalban</th>\n",
       "      <th>Velocity_Sto_Nino</th>\n",
       "      <th>Velocity_Montalban</th>\n",
       "      <th>datetime</th>\n",
       "      <th>t</th>\n",
       "      <th>x</th>\n",
       "    </tr>\n",
       "  </thead>\n",
       "  <tbody>\n",
       "    <tr>\n",
       "      <th>0</th>\n",
       "      <td>0</td>\n",
       "      <td>0</td>\n",
       "      <td>0</td>\n",
       "      <td>1</td>\n",
       "      <td>2</td>\n",
       "      <td>0</td>\n",
       "      <td>0</td>\n",
       "      <td>12.18</td>\n",
       "      <td>21.03</td>\n",
       "      <td>21.033407</td>\n",
       "      <td>14.842428</td>\n",
       "      <td>803.88</td>\n",
       "      <td>630.9</td>\n",
       "      <td>0.026165</td>\n",
       "      <td>0.023526</td>\n",
       "      <td>2016-01-01 00:00:00</td>\n",
       "      <td>0.0</td>\n",
       "      <td>14420</td>\n",
       "    </tr>\n",
       "    <tr>\n",
       "      <th>1</th>\n",
       "      <td>1</td>\n",
       "      <td>1</td>\n",
       "      <td>0</td>\n",
       "      <td>1</td>\n",
       "      <td>1</td>\n",
       "      <td>1</td>\n",
       "      <td>0</td>\n",
       "      <td>12.19</td>\n",
       "      <td>21.03</td>\n",
       "      <td>21.280072</td>\n",
       "      <td>14.842428</td>\n",
       "      <td>804.54</td>\n",
       "      <td>630.9</td>\n",
       "      <td>0.026450</td>\n",
       "      <td>0.023526</td>\n",
       "      <td>2016-01-01 01:00:00</td>\n",
       "      <td>3600.0</td>\n",
       "      <td>14420</td>\n",
       "    </tr>\n",
       "    <tr>\n",
       "      <th>2</th>\n",
       "      <td>2</td>\n",
       "      <td>2</td>\n",
       "      <td>1</td>\n",
       "      <td>1</td>\n",
       "      <td>1</td>\n",
       "      <td>0</td>\n",
       "      <td>1</td>\n",
       "      <td>12.19</td>\n",
       "      <td>21.03</td>\n",
       "      <td>21.280072</td>\n",
       "      <td>14.842428</td>\n",
       "      <td>804.54</td>\n",
       "      <td>630.9</td>\n",
       "      <td>0.026450</td>\n",
       "      <td>0.023526</td>\n",
       "      <td>2016-01-01 02:00:00</td>\n",
       "      <td>7200.0</td>\n",
       "      <td>14420</td>\n",
       "    </tr>\n",
       "    <tr>\n",
       "      <th>3</th>\n",
       "      <td>3</td>\n",
       "      <td>3</td>\n",
       "      <td>0</td>\n",
       "      <td>0</td>\n",
       "      <td>0</td>\n",
       "      <td>1</td>\n",
       "      <td>0</td>\n",
       "      <td>12.20</td>\n",
       "      <td>21.03</td>\n",
       "      <td>21.529056</td>\n",
       "      <td>14.842428</td>\n",
       "      <td>805.20</td>\n",
       "      <td>630.9</td>\n",
       "      <td>0.026738</td>\n",
       "      <td>0.023526</td>\n",
       "      <td>2016-01-01 03:00:00</td>\n",
       "      <td>10800.0</td>\n",
       "      <td>14420</td>\n",
       "    </tr>\n",
       "    <tr>\n",
       "      <th>4</th>\n",
       "      <td>4</td>\n",
       "      <td>4</td>\n",
       "      <td>1</td>\n",
       "      <td>1</td>\n",
       "      <td>1</td>\n",
       "      <td>0</td>\n",
       "      <td>0</td>\n",
       "      <td>12.20</td>\n",
       "      <td>21.03</td>\n",
       "      <td>21.529056</td>\n",
       "      <td>14.842428</td>\n",
       "      <td>805.20</td>\n",
       "      <td>630.9</td>\n",
       "      <td>0.026738</td>\n",
       "      <td>0.023526</td>\n",
       "      <td>2016-01-01 04:00:00</td>\n",
       "      <td>14400.0</td>\n",
       "      <td>14420</td>\n",
       "    </tr>\n",
       "    <tr>\n",
       "      <th>...</th>\n",
       "      <td>...</td>\n",
       "      <td>...</td>\n",
       "      <td>...</td>\n",
       "      <td>...</td>\n",
       "      <td>...</td>\n",
       "      <td>...</td>\n",
       "      <td>...</td>\n",
       "      <td>...</td>\n",
       "      <td>...</td>\n",
       "      <td>...</td>\n",
       "      <td>...</td>\n",
       "      <td>...</td>\n",
       "      <td>...</td>\n",
       "      <td>...</td>\n",
       "      <td>...</td>\n",
       "      <td>...</td>\n",
       "      <td>...</td>\n",
       "      <td>...</td>\n",
       "    </tr>\n",
       "    <tr>\n",
       "      <th>17515</th>\n",
       "      <td>17515</td>\n",
       "      <td>16059</td>\n",
       "      <td>0</td>\n",
       "      <td>0</td>\n",
       "      <td>0</td>\n",
       "      <td>0</td>\n",
       "      <td>0</td>\n",
       "      <td>12.44</td>\n",
       "      <td>21.18</td>\n",
       "      <td>28.244204</td>\n",
       "      <td>17.224575</td>\n",
       "      <td>821.04</td>\n",
       "      <td>635.4</td>\n",
       "      <td>0.034401</td>\n",
       "      <td>0.027108</td>\n",
       "      <td>2017-12-31 19:00:00</td>\n",
       "      <td>63140400.0</td>\n",
       "      <td>14420</td>\n",
       "    </tr>\n",
       "    <tr>\n",
       "      <th>17516</th>\n",
       "      <td>17516</td>\n",
       "      <td>16424</td>\n",
       "      <td>0</td>\n",
       "      <td>0</td>\n",
       "      <td>0</td>\n",
       "      <td>0</td>\n",
       "      <td>0</td>\n",
       "      <td>12.44</td>\n",
       "      <td>21.18</td>\n",
       "      <td>28.244204</td>\n",
       "      <td>17.224575</td>\n",
       "      <td>821.04</td>\n",
       "      <td>635.4</td>\n",
       "      <td>0.034401</td>\n",
       "      <td>0.027108</td>\n",
       "      <td>2017-12-31 20:00:00</td>\n",
       "      <td>63144000.0</td>\n",
       "      <td>14420</td>\n",
       "    </tr>\n",
       "    <tr>\n",
       "      <th>17517</th>\n",
       "      <td>17517</td>\n",
       "      <td>16789</td>\n",
       "      <td>0</td>\n",
       "      <td>0</td>\n",
       "      <td>0</td>\n",
       "      <td>0</td>\n",
       "      <td>0</td>\n",
       "      <td>12.44</td>\n",
       "      <td>21.18</td>\n",
       "      <td>28.244204</td>\n",
       "      <td>17.224575</td>\n",
       "      <td>821.04</td>\n",
       "      <td>635.4</td>\n",
       "      <td>0.034401</td>\n",
       "      <td>0.027108</td>\n",
       "      <td>2017-12-31 21:00:00</td>\n",
       "      <td>63147600.0</td>\n",
       "      <td>14420</td>\n",
       "    </tr>\n",
       "    <tr>\n",
       "      <th>17518</th>\n",
       "      <td>17518</td>\n",
       "      <td>17154</td>\n",
       "      <td>0</td>\n",
       "      <td>0</td>\n",
       "      <td>0</td>\n",
       "      <td>0</td>\n",
       "      <td>0</td>\n",
       "      <td>12.44</td>\n",
       "      <td>21.18</td>\n",
       "      <td>28.244204</td>\n",
       "      <td>17.224575</td>\n",
       "      <td>821.04</td>\n",
       "      <td>635.4</td>\n",
       "      <td>0.034401</td>\n",
       "      <td>0.027108</td>\n",
       "      <td>2017-12-31 22:00:00</td>\n",
       "      <td>63151200.0</td>\n",
       "      <td>14420</td>\n",
       "    </tr>\n",
       "    <tr>\n",
       "      <th>17519</th>\n",
       "      <td>17519</td>\n",
       "      <td>17519</td>\n",
       "      <td>0</td>\n",
       "      <td>0</td>\n",
       "      <td>0</td>\n",
       "      <td>0</td>\n",
       "      <td>0</td>\n",
       "      <td>12.44</td>\n",
       "      <td>21.18</td>\n",
       "      <td>28.244204</td>\n",
       "      <td>17.224575</td>\n",
       "      <td>821.04</td>\n",
       "      <td>635.4</td>\n",
       "      <td>0.034401</td>\n",
       "      <td>0.027108</td>\n",
       "      <td>2017-12-31 23:00:00</td>\n",
       "      <td>63154800.0</td>\n",
       "      <td>14420</td>\n",
       "    </tr>\n",
       "  </tbody>\n",
       "</table>\n",
       "<p>17520 rows × 18 columns</p>\n",
       "</div>"
      ],
      "text/plain": [
       "       Unnamed: 0  index  Rainfall_Aries  Rainfall_Boso  Rainfall_Campana  \\\n",
       "0               0      0               0              1                 2   \n",
       "1               1      1               0              1                 1   \n",
       "2               2      2               1              1                 1   \n",
       "3               3      3               0              0                 0   \n",
       "4               4      4               1              1                 1   \n",
       "...           ...    ...             ...            ...               ...   \n",
       "17515       17515  16059               0              0                 0   \n",
       "17516       17516  16424               0              0                 0   \n",
       "17517       17517  16789               0              0                 0   \n",
       "17518       17518  17154               0              0                 0   \n",
       "17519       17519  17519               0              0                 0   \n",
       "\n",
       "       Rainfall_Nangka  Rainfall_Oro  Waterlevel_Sto_Nino  \\\n",
       "0                    0             0                12.18   \n",
       "1                    1             0                12.19   \n",
       "2                    0             1                12.19   \n",
       "3                    1             0                12.20   \n",
       "4                    0             0                12.20   \n",
       "...                ...           ...                  ...   \n",
       "17515                0             0                12.44   \n",
       "17516                0             0                12.44   \n",
       "17517                0             0                12.44   \n",
       "17518                0             0                12.44   \n",
       "17519                0             0                12.44   \n",
       "\n",
       "       Waterlevel_Montalban  Discharge_Sto_Nino  Discharge_San_Jose  \\\n",
       "0                     21.03           21.033407           14.842428   \n",
       "1                     21.03           21.280072           14.842428   \n",
       "2                     21.03           21.280072           14.842428   \n",
       "3                     21.03           21.529056           14.842428   \n",
       "4                     21.03           21.529056           14.842428   \n",
       "...                     ...                 ...                 ...   \n",
       "17515                 21.18           28.244204           17.224575   \n",
       "17516                 21.18           28.244204           17.224575   \n",
       "17517                 21.18           28.244204           17.224575   \n",
       "17518                 21.18           28.244204           17.224575   \n",
       "17519                 21.18           28.244204           17.224575   \n",
       "\n",
       "       Cross_Section_Sto_Nino  Cross_Section_Montalban  Velocity_Sto_Nino  \\\n",
       "0                      803.88                    630.9           0.026165   \n",
       "1                      804.54                    630.9           0.026450   \n",
       "2                      804.54                    630.9           0.026450   \n",
       "3                      805.20                    630.9           0.026738   \n",
       "4                      805.20                    630.9           0.026738   \n",
       "...                       ...                      ...                ...   \n",
       "17515                  821.04                    635.4           0.034401   \n",
       "17516                  821.04                    635.4           0.034401   \n",
       "17517                  821.04                    635.4           0.034401   \n",
       "17518                  821.04                    635.4           0.034401   \n",
       "17519                  821.04                    635.4           0.034401   \n",
       "\n",
       "       Velocity_Montalban             datetime           t      x  \n",
       "0                0.023526  2016-01-01 00:00:00         0.0  14420  \n",
       "1                0.023526  2016-01-01 01:00:00      3600.0  14420  \n",
       "2                0.023526  2016-01-01 02:00:00      7200.0  14420  \n",
       "3                0.023526  2016-01-01 03:00:00     10800.0  14420  \n",
       "4                0.023526  2016-01-01 04:00:00     14400.0  14420  \n",
       "...                   ...                  ...         ...    ...  \n",
       "17515            0.027108  2017-12-31 19:00:00  63140400.0  14420  \n",
       "17516            0.027108  2017-12-31 20:00:00  63144000.0  14420  \n",
       "17517            0.027108  2017-12-31 21:00:00  63147600.0  14420  \n",
       "17518            0.027108  2017-12-31 22:00:00  63151200.0  14420  \n",
       "17519            0.027108  2017-12-31 23:00:00  63154800.0  14420  \n",
       "\n",
       "[17520 rows x 18 columns]"
      ]
     },
     "execution_count": 4,
     "metadata": {},
     "output_type": "execute_result"
    }
   ],
   "source": [
    "df = pd.read_csv(DATASET_FILE)\n",
    "df"
   ]
  },
  {
   "cell_type": "code",
   "execution_count": 5,
   "id": "c5cbf07c",
   "metadata": {},
   "outputs": [
    {
     "data": {
      "text/html": [
       "<div>\n",
       "<style scoped>\n",
       "    .dataframe tbody tr th:only-of-type {\n",
       "        vertical-align: middle;\n",
       "    }\n",
       "\n",
       "    .dataframe tbody tr th {\n",
       "        vertical-align: top;\n",
       "    }\n",
       "\n",
       "    .dataframe thead th {\n",
       "        text-align: right;\n",
       "    }\n",
       "</style>\n",
       "<table border=\"1\" class=\"dataframe\">\n",
       "  <thead>\n",
       "    <tr style=\"text-align: right;\">\n",
       "      <th></th>\n",
       "      <th>Waterlevel_Sto_Nino</th>\n",
       "    </tr>\n",
       "  </thead>\n",
       "  <tbody>\n",
       "    <tr>\n",
       "      <th>0</th>\n",
       "      <td>12.18</td>\n",
       "    </tr>\n",
       "    <tr>\n",
       "      <th>1</th>\n",
       "      <td>12.19</td>\n",
       "    </tr>\n",
       "    <tr>\n",
       "      <th>2</th>\n",
       "      <td>12.19</td>\n",
       "    </tr>\n",
       "    <tr>\n",
       "      <th>3</th>\n",
       "      <td>12.20</td>\n",
       "    </tr>\n",
       "    <tr>\n",
       "      <th>4</th>\n",
       "      <td>12.20</td>\n",
       "    </tr>\n",
       "  </tbody>\n",
       "</table>\n",
       "</div>"
      ],
      "text/plain": [
       "   Waterlevel_Sto_Nino\n",
       "0                12.18\n",
       "1                12.19\n",
       "2                12.19\n",
       "3                12.20\n",
       "4                12.20"
      ]
     },
     "execution_count": 5,
     "metadata": {},
     "output_type": "execute_result"
    }
   ],
   "source": [
    "df = df[['Waterlevel_Sto_Nino']]\n",
    "df.head()"
   ]
  },
  {
   "cell_type": "code",
   "execution_count": 6,
   "id": "92ef67d9",
   "metadata": {},
   "outputs": [],
   "source": [
    "# Splitting for time series: split into 50-25-25\n",
    "n = len(df)\n",
    "train_df = df[0:int(n*0.5)]\n",
    "val_df = df[int(n*0.5):int(n*0.75)]\n",
    "test_df = df[int(n*0.75):]"
   ]
  },
  {
   "cell_type": "markdown",
   "id": "501e62e4",
   "metadata": {},
   "source": [
    "## Window Generator"
   ]
  },
  {
   "cell_type": "code",
   "execution_count": 7,
   "id": "5f97f88b",
   "metadata": {},
   "outputs": [],
   "source": [
    "BATCH_SIZE = 32"
   ]
  },
  {
   "cell_type": "code",
   "execution_count": 8,
   "id": "2f00f2ce",
   "metadata": {},
   "outputs": [],
   "source": [
    "class WindowGenerator():\n",
    "    def __init__(self, input_width, label_width, shift, train_df=train_df, val_df=val_df, test_df=test_df, label_columns=None, batch_size=BATCH_SIZE):\n",
    "        # Store the raw data.\n",
    "        self.train_df = train_df\n",
    "        self.val_df = val_df\n",
    "        self.test_df = test_df\n",
    "\n",
    "        # Work out the label column indices.\n",
    "        self.label_columns = label_columns\n",
    "        if label_columns is not None:\n",
    "            self.label_columns_indices = {name: i for i, name in enumerate(label_columns)}\n",
    "        self.column_indices = {name: i for i, name in enumerate(train_df.columns)}\n",
    "\n",
    "        # Work out the window parameters.\n",
    "        self.input_width = input_width\n",
    "        self.label_width = label_width\n",
    "        self.shift = shift\n",
    "\n",
    "        self.total_window_size = input_width + shift\n",
    "\n",
    "        self.input_slice = slice(0, input_width)\n",
    "        self.input_indices = np.arange(self.total_window_size)[self.input_slice]\n",
    "\n",
    "        self.label_start = self.total_window_size - self.label_width\n",
    "        self.labels_slice = slice(self.label_start, None)\n",
    "        self.label_indices = np.arange(self.total_window_size)[self.labels_slice]\n",
    "        \n",
    "        self.batch_size = batch_size\n",
    "\n",
    "    def __repr__(self):\n",
    "        return '\\n'.join([\n",
    "            f'Total window size: {self.total_window_size}',\n",
    "            f'Input indices: {self.input_indices}',\n",
    "            f'Label indices: {self.label_indices}',\n",
    "            f'Label column name(s): {self.label_columns}'])\n",
    "\n",
    "    def split_window(self, features):\n",
    "        inputs = features[:, self.input_slice, :]\n",
    "        labels = features[:, self.labels_slice, :]\n",
    "        if self.label_columns is not None:\n",
    "            labels = tf.stack([labels[:, :, self.column_indices[name]] for name in self.label_columns], axis=-1)\n",
    "\n",
    "        # Slicing doesn't preserve static shape information, so set the shapes\n",
    "        # manually. This way the `tf.data.Datasets` are easier to inspect.\n",
    "        inputs.set_shape([None, self.input_width, None])\n",
    "        labels.set_shape([None, self.label_width, None])\n",
    "\n",
    "        return inputs, labels\n",
    "    \n",
    "    # Creating tf datasets for more convenient use and integration into model in the future\n",
    "    def make_dataset(self, data, shuffle=True):\n",
    "        data = np.array(data, dtype=np.float32)\n",
    "        ds = tf.keras.utils.timeseries_dataset_from_array(\n",
    "            data=data,\n",
    "            targets=None,\n",
    "            sequence_length=self.total_window_size,\n",
    "            sequence_stride=1,\n",
    "            shuffle=shuffle,\n",
    "            batch_size=self.batch_size,)\n",
    "\n",
    "        ds = ds.map(self.split_window)\n",
    "\n",
    "        return ds\n",
    "    \n",
    "    # properties to access them as tf datasets\n",
    "    @property\n",
    "    def train(self):\n",
    "        return self.make_dataset(self.train_df)\n",
    "\n",
    "    @property\n",
    "    def val(self):\n",
    "        return self.make_dataset(self.val_df)\n",
    "\n",
    "    @property\n",
    "    def test(self):\n",
    "        return self.make_dataset(self.test_df, False)\n",
    "\n",
    "    @property\n",
    "    def example(self):\n",
    "        \"\"\"Get and cache an example batch of `inputs, labels` for plotting.\"\"\"\n",
    "        result = getattr(self, '_example', None)\n",
    "        if result is None:\n",
    "            # No example batch was found, so get one from the `.train` dataset\n",
    "            result = next(iter(self.train))\n",
    "            # And cache it for next time\n",
    "            self._example = result\n",
    "        return result"
   ]
  },
  {
   "cell_type": "code",
   "execution_count": 9,
   "id": "cb3ddf14",
   "metadata": {},
   "outputs": [
    {
     "data": {
      "text/plain": [
       "Total window size: 7\n",
       "Input indices: [0 1 2 3 4 5]\n",
       "Label indices: [6]\n",
       "Label column name(s): ['Waterlevel_Sto_Nino']"
      ]
     },
     "execution_count": 9,
     "metadata": {},
     "output_type": "execute_result"
    }
   ],
   "source": [
    "window = WindowGenerator(\n",
    "        input_width=6, label_width=1, shift=1,\n",
    "        label_columns=['Waterlevel_Sto_Nino']\n",
    "    )\n",
    "\n",
    "window"
   ]
  },
  {
   "cell_type": "code",
   "execution_count": 10,
   "id": "1e21e8d5",
   "metadata": {},
   "outputs": [
    {
     "name": "stdout",
     "output_type": "stream",
     "text": [
      "Inputs shape (batch, time, features): (32, 6, 1)\n",
      "Labels shape (batch, time, features): (32, 1, 1)\n"
     ]
    }
   ],
   "source": [
    "for example_inputs, example_labels in window.train.take(1):\n",
    "    print(f'Inputs shape (batch, time, features): {example_inputs.shape}')\n",
    "    print(f'Labels shape (batch, time, features): {example_labels.shape}')"
   ]
  },
  {
   "cell_type": "code",
   "execution_count": 11,
   "id": "2cb8385e",
   "metadata": {
    "scrolled": true
   },
   "outputs": [
    {
     "data": {
      "text/plain": [
       "(<tf.Tensor: shape=(32, 6, 1), dtype=float32, numpy=\n",
       " array([[[11.89],\n",
       "         [11.89],\n",
       "         [11.89],\n",
       "         [11.89],\n",
       "         [11.89],\n",
       "         [11.89]],\n",
       " \n",
       "        [[11.31],\n",
       "         [11.31],\n",
       "         [11.31],\n",
       "         [11.31],\n",
       "         [11.31],\n",
       "         [11.31]],\n",
       " \n",
       "        [[11.9 ],\n",
       "         [11.9 ],\n",
       "         [11.9 ],\n",
       "         [11.9 ],\n",
       "         [11.9 ],\n",
       "         [11.9 ]],\n",
       " \n",
       "        [[13.03],\n",
       "         [13.03],\n",
       "         [13.02],\n",
       "         [13.02],\n",
       "         [13.01],\n",
       "         [13.  ]],\n",
       " \n",
       "        [[17.39],\n",
       "         [17.26],\n",
       "         [16.77],\n",
       "         [16.37],\n",
       "         [15.99],\n",
       "         [15.66]],\n",
       " \n",
       "        [[12.13],\n",
       "         [12.14],\n",
       "         [12.14],\n",
       "         [12.14],\n",
       "         [12.12],\n",
       "         [12.11]],\n",
       " \n",
       "        [[11.87],\n",
       "         [11.87],\n",
       "         [11.87],\n",
       "         [11.87],\n",
       "         [11.87],\n",
       "         [11.87]],\n",
       " \n",
       "        [[11.9 ],\n",
       "         [11.9 ],\n",
       "         [11.9 ],\n",
       "         [11.9 ],\n",
       "         [11.9 ],\n",
       "         [11.9 ]],\n",
       " \n",
       "        [[11.9 ],\n",
       "         [11.9 ],\n",
       "         [11.9 ],\n",
       "         [11.9 ],\n",
       "         [11.9 ],\n",
       "         [11.9 ]],\n",
       " \n",
       "        [[12.5 ],\n",
       "         [12.6 ],\n",
       "         [13.19],\n",
       "         [13.26],\n",
       "         [13.34],\n",
       "         [13.78]],\n",
       " \n",
       "        [[12.91],\n",
       "         [12.91],\n",
       "         [12.91],\n",
       "         [12.91],\n",
       "         [12.88],\n",
       "         [12.86]],\n",
       " \n",
       "        [[11.96],\n",
       "         [11.96],\n",
       "         [11.95],\n",
       "         [11.95],\n",
       "         [11.94],\n",
       "         [11.94]],\n",
       " \n",
       "        [[11.98],\n",
       "         [11.98],\n",
       "         [11.98],\n",
       "         [11.97],\n",
       "         [11.97],\n",
       "         [11.97]],\n",
       " \n",
       "        [[12.18],\n",
       "         [12.18],\n",
       "         [12.18],\n",
       "         [12.22],\n",
       "         [12.25],\n",
       "         [12.26]],\n",
       " \n",
       "        [[12.08],\n",
       "         [12.08],\n",
       "         [12.08],\n",
       "         [12.08],\n",
       "         [12.08],\n",
       "         [12.08]],\n",
       " \n",
       "        [[12.05],\n",
       "         [12.06],\n",
       "         [12.06],\n",
       "         [12.06],\n",
       "         [12.06],\n",
       "         [12.06]],\n",
       " \n",
       "        [[12.43],\n",
       "         [12.41],\n",
       "         [12.38],\n",
       "         [12.36],\n",
       "         [12.33],\n",
       "         [12.3 ]],\n",
       " \n",
       "        [[11.9 ],\n",
       "         [11.9 ],\n",
       "         [11.9 ],\n",
       "         [11.9 ],\n",
       "         [11.9 ],\n",
       "         [11.9 ]],\n",
       " \n",
       "        [[11.87],\n",
       "         [11.87],\n",
       "         [11.87],\n",
       "         [11.87],\n",
       "         [11.87],\n",
       "         [11.87]],\n",
       " \n",
       "        [[11.87],\n",
       "         [11.87],\n",
       "         [11.87],\n",
       "         [11.87],\n",
       "         [11.87],\n",
       "         [11.87]],\n",
       " \n",
       "        [[12.02],\n",
       "         [12.02],\n",
       "         [12.02],\n",
       "         [12.02],\n",
       "         [12.02],\n",
       "         [12.02]],\n",
       " \n",
       "        [[11.99],\n",
       "         [11.99],\n",
       "         [11.99],\n",
       "         [11.99],\n",
       "         [11.99],\n",
       "         [11.99]],\n",
       " \n",
       "        [[12.48],\n",
       "         [12.48],\n",
       "         [12.48],\n",
       "         [12.48],\n",
       "         [12.48],\n",
       "         [12.48]],\n",
       " \n",
       "        [[11.9 ],\n",
       "         [11.9 ],\n",
       "         [11.9 ],\n",
       "         [11.9 ],\n",
       "         [11.89],\n",
       "         [11.89]],\n",
       " \n",
       "        [[12.04],\n",
       "         [12.04],\n",
       "         [12.04],\n",
       "         [12.03],\n",
       "         [12.03],\n",
       "         [12.03]],\n",
       " \n",
       "        [[12.23],\n",
       "         [12.23],\n",
       "         [12.45],\n",
       "         [13.06],\n",
       "         [13.28],\n",
       "         [13.43]],\n",
       " \n",
       "        [[11.89],\n",
       "         [11.89],\n",
       "         [11.89],\n",
       "         [11.89],\n",
       "         [11.89],\n",
       "         [11.89]],\n",
       " \n",
       "        [[13.65],\n",
       "         [13.7 ],\n",
       "         [13.43],\n",
       "         [13.12],\n",
       "         [12.89],\n",
       "         [12.89]],\n",
       " \n",
       "        [[11.92],\n",
       "         [11.92],\n",
       "         [11.92],\n",
       "         [11.92],\n",
       "         [11.92],\n",
       "         [11.92]],\n",
       " \n",
       "        [[11.89],\n",
       "         [11.89],\n",
       "         [11.89],\n",
       "         [11.89],\n",
       "         [11.89],\n",
       "         [11.89]],\n",
       " \n",
       "        [[13.06],\n",
       "         [13.06],\n",
       "         [13.06],\n",
       "         [13.05],\n",
       "         [13.05],\n",
       "         [13.05]],\n",
       " \n",
       "        [[11.9 ],\n",
       "         [11.9 ],\n",
       "         [11.9 ],\n",
       "         [11.9 ],\n",
       "         [11.9 ],\n",
       "         [11.9 ]]], dtype=float32)>,\n",
       " <tf.Tensor: shape=(32, 1, 1), dtype=float32, numpy=\n",
       " array([[[11.89]],\n",
       " \n",
       "        [[11.31]],\n",
       " \n",
       "        [[11.9 ]],\n",
       " \n",
       "        [[13.  ]],\n",
       " \n",
       "        [[15.37]],\n",
       " \n",
       "        [[12.1 ]],\n",
       " \n",
       "        [[11.87]],\n",
       " \n",
       "        [[11.9 ]],\n",
       " \n",
       "        [[11.9 ]],\n",
       " \n",
       "        [[13.9 ]],\n",
       " \n",
       "        [[12.85]],\n",
       " \n",
       "        [[11.94]],\n",
       " \n",
       "        [[11.97]],\n",
       " \n",
       "        [[12.26]],\n",
       " \n",
       "        [[12.07]],\n",
       " \n",
       "        [[12.06]],\n",
       " \n",
       "        [[12.28]],\n",
       " \n",
       "        [[11.9 ]],\n",
       " \n",
       "        [[11.87]],\n",
       " \n",
       "        [[11.87]],\n",
       " \n",
       "        [[12.02]],\n",
       " \n",
       "        [[11.99]],\n",
       " \n",
       "        [[12.48]],\n",
       " \n",
       "        [[11.89]],\n",
       " \n",
       "        [[12.03]],\n",
       " \n",
       "        [[13.51]],\n",
       " \n",
       "        [[11.89]],\n",
       " \n",
       "        [[12.99]],\n",
       " \n",
       "        [[11.92]],\n",
       " \n",
       "        [[11.89]],\n",
       " \n",
       "        [[13.05]],\n",
       " \n",
       "        [[11.9 ]]], dtype=float32)>)"
      ]
     },
     "execution_count": 11,
     "metadata": {},
     "output_type": "execute_result"
    }
   ],
   "source": [
    "window.example"
   ]
  },
  {
   "cell_type": "markdown",
   "id": "9d9665f4",
   "metadata": {},
   "source": [
    "## Metrics"
   ]
  },
  {
   "cell_type": "code",
   "execution_count": 12,
   "id": "ab90ccf5",
   "metadata": {},
   "outputs": [],
   "source": [
    "def r_square(y_true, y_pred):\n",
    "    x = y_true\n",
    "    y = y_pred\n",
    "    mx = K.mean(x, axis=0)\n",
    "    my = K.mean(y, axis=0)\n",
    "    xm, ym = x - mx, y - my\n",
    "    r_num = K.square(K.sum(xm * ym))\n",
    "    x_square_sum = K.sum(xm * xm)\n",
    "    y_square_sum = K.sum(ym * ym)\n",
    "    r_den = (x_square_sum * y_square_sum) + K.epsilon()\n",
    "    \n",
    "    r = r_num / r_den\n",
    "    return r"
   ]
  },
  {
   "cell_type": "code",
   "execution_count": 13,
   "id": "84a05b90",
   "metadata": {},
   "outputs": [],
   "source": [
    "def NSE(y_true, y_pred):\n",
    "    '''\n",
    "    This is the Nash-Sutcliffe Efficiency Coefficient\n",
    "    '''\n",
    "    y_pred = K.flatten(y_pred)\n",
    "    y_true = K.flatten(y_true)\n",
    "\n",
    "    \n",
    "    SS_res =  K.sum(K.square(y_true - y_pred)) \n",
    "    SS_tot = K.sum(K.square(y_true - K.mean(y_true))) \n",
    "    \n",
    "    return ( 1 - SS_res/(SS_tot + K.epsilon()) )"
   ]
  },
  {
   "cell_type": "markdown",
   "id": "b8b4601f",
   "metadata": {},
   "source": [
    "## Training Loop"
   ]
  },
  {
   "cell_type": "code",
   "execution_count": 14,
   "id": "ffc2cf09",
   "metadata": {},
   "outputs": [],
   "source": [
    "# For easy compiling and fitting of different models\n",
    "MAX_EPOCHS = 20\n",
    "\n",
    "def compile_and_fit(model, window, patience=2):\n",
    "    early_stopping = tf.keras.callbacks.EarlyStopping(monitor='val_loss', patience=patience, mode='min', restore_best_weights=True)\n",
    "\n",
    "    model.compile(\n",
    "        loss=tf.keras.losses.MeanSquaredError(), \n",
    "        optimizer='adam', \n",
    "        metrics=[tf.keras.metrics.MeanSquaredError(), NSE, r_square]\n",
    "    )\n",
    "\n",
    "    history = model.fit(\n",
    "        window.train, \n",
    "        epochs=MAX_EPOCHS,\n",
    "        validation_data=window.val,\n",
    "        callbacks=[early_stopping]\n",
    "    )\n",
    "\n",
    "    return history"
   ]
  },
  {
   "cell_type": "markdown",
   "id": "4d4e46ac",
   "metadata": {},
   "source": [
    "## Models"
   ]
  },
  {
   "cell_type": "code",
   "execution_count": 15,
   "id": "f5939c99",
   "metadata": {},
   "outputs": [],
   "source": [
    "# Dense Neural Network\n",
    "dense = tf.keras.Sequential([\n",
    "    tf.keras.layers.Flatten(),\n",
    "    tf.keras.layers.Dense(units=64, activation='relu'),\n",
    "    tf.keras.layers.Dense(units=64, activation='relu'),\n",
    "    tf.keras.layers.Dense(units=64, activation='relu'),\n",
    "    tf.keras.layers.Dense(units=1),\n",
    "    tf.keras.layers.Reshape([1,-1])\n",
    "])\n",
    "\n",
    "# Convolution Neural Network\n",
    "conv_model = tf.keras.Sequential([\n",
    "    tf.keras.layers.Conv1D(filters=64, kernel_size=(6,), activation='relu'),\n",
    "    tf.keras.layers.Dense(units=64, activation='relu'),\n",
    "    tf.keras.layers.Dense(units=64, activation='relu'),\n",
    "    tf.keras.layers.Dense(units=1),\n",
    "])\n",
    "\n",
    "# LSTM\n",
    "lstm_model = tf.keras.models.Sequential([\n",
    "    tf.keras.layers.LSTM(64, return_sequences=False),\n",
    "    tf.keras.layers.Dense(units=64, activation='relu'),\n",
    "    tf.keras.layers.Dense(units=64, activation='relu'),\n",
    "    tf.keras.layers.Dense(units=1)\n",
    "])"
   ]
  },
  {
   "cell_type": "markdown",
   "id": "cc97ffee",
   "metadata": {},
   "source": [
    "## Training"
   ]
  },
  {
   "cell_type": "code",
   "execution_count": 16,
   "id": "cc031733",
   "metadata": {},
   "outputs": [
    {
     "name": "stdout",
     "output_type": "stream",
     "text": [
      "Epoch 1/20\n",
      "274/274 [==============================] - 6s 12ms/step - loss: 2.5699 - mean_squared_error: 2.5699 - NSE: -6.9617 - r_square: 0.9413 - val_loss: 0.0100 - val_mean_squared_error: 0.0100 - val_NSE: 0.8541 - val_r_square: 0.8795\n",
      "Epoch 2/20\n",
      "274/274 [==============================] - 3s 9ms/step - loss: 0.0289 - mean_squared_error: 0.0289 - NSE: 0.9346 - r_square: 0.9464 - val_loss: 0.0098 - val_mean_squared_error: 0.0098 - val_NSE: 0.8711 - val_r_square: 0.8889\n",
      "Epoch 3/20\n",
      "274/274 [==============================] - 2s 8ms/step - loss: 0.0282 - mean_squared_error: 0.0282 - NSE: 0.9339 - r_square: 0.9451 - val_loss: 0.0108 - val_mean_squared_error: 0.0108 - val_NSE: 0.8409 - val_r_square: 0.8923\n",
      "Epoch 4/20\n",
      "274/274 [==============================] - 2s 9ms/step - loss: 0.0273 - mean_squared_error: 0.0273 - NSE: 0.9360 - r_square: 0.9474 - val_loss: 0.0105 - val_mean_squared_error: 0.0105 - val_NSE: 0.8472 - val_r_square: 0.8889\n"
     ]
    }
   ],
   "source": [
    "dense_history = compile_and_fit(dense, window)"
   ]
  },
  {
   "cell_type": "code",
   "execution_count": 17,
   "id": "311c0a3e",
   "metadata": {},
   "outputs": [
    {
     "data": {
      "text/plain": [
       "{'loss': [2.5698728561401367,\n",
       "  0.02891743741929531,\n",
       "  0.0281574297696352,\n",
       "  0.027257487177848816],\n",
       " 'mean_squared_error': [2.5698728561401367,\n",
       "  0.02891743741929531,\n",
       "  0.0281574297696352,\n",
       "  0.027257487177848816],\n",
       " 'NSE': [-6.961652755737305,\n",
       "  0.9345622658729553,\n",
       "  0.9338537454605103,\n",
       "  0.9360226988792419],\n",
       " 'r_square': [0.9413199424743652,\n",
       "  0.9463950991630554,\n",
       "  0.9451232552528381,\n",
       "  0.947352409362793],\n",
       " 'val_loss': [0.010035503655672073,\n",
       "  0.009826233610510826,\n",
       "  0.010842646472156048,\n",
       "  0.010496877133846283],\n",
       " 'val_mean_squared_error': [0.010035503655672073,\n",
       "  0.009826233610510826,\n",
       "  0.010842646472156048,\n",
       "  0.010496877133846283],\n",
       " 'val_NSE': [0.8541247844696045,\n",
       "  0.8711241483688354,\n",
       "  0.8409463167190552,\n",
       "  0.8471547961235046],\n",
       " 'val_r_square': [0.8795366287231445,\n",
       "  0.8888722658157349,\n",
       "  0.8923184871673584,\n",
       "  0.8889378905296326]}"
      ]
     },
     "execution_count": 17,
     "metadata": {},
     "output_type": "execute_result"
    }
   ],
   "source": [
    "dense_history.history"
   ]
  },
  {
   "cell_type": "code",
   "execution_count": 18,
   "id": "40d87599",
   "metadata": {},
   "outputs": [
    {
     "name": "stdout",
     "output_type": "stream",
     "text": [
      "Epoch 1/20\n",
      "274/274 [==============================] - 7s 14ms/step - loss: 6.5669 - mean_squared_error: 6.5669 - NSE: -15.2507 - r_square: 0.9471 - val_loss: 0.0097 - val_mean_squared_error: 0.0097 - val_NSE: 0.8720 - val_r_square: 0.8911\n",
      "Epoch 2/20\n",
      "274/274 [==============================] - 3s 11ms/step - loss: 0.0263 - mean_squared_error: 0.0263 - NSE: 0.9387 - r_square: 0.9497 - val_loss: 0.0093 - val_mean_squared_error: 0.0093 - val_NSE: 0.8698 - val_r_square: 0.8907\n",
      "Epoch 3/20\n",
      "274/274 [==============================] - 3s 11ms/step - loss: 0.0256 - mean_squared_error: 0.0256 - NSE: 0.9409 - r_square: 0.9492 - val_loss: 0.0108 - val_mean_squared_error: 0.0108 - val_NSE: 0.8488 - val_r_square: 0.8945\n",
      "Epoch 4/20\n",
      "274/274 [==============================] - 3s 11ms/step - loss: 0.0255 - mean_squared_error: 0.0255 - NSE: 0.9396 - r_square: 0.9490 - val_loss: 0.0098 - val_mean_squared_error: 0.0098 - val_NSE: 0.8659 - val_r_square: 0.8952\n"
     ]
    }
   ],
   "source": [
    "conv_history = compile_and_fit(conv_model, window)"
   ]
  },
  {
   "cell_type": "code",
   "execution_count": 19,
   "id": "e6c9b3f5",
   "metadata": {},
   "outputs": [
    {
     "name": "stdout",
     "output_type": "stream",
     "text": [
      "Epoch 1/20\n",
      "274/274 [==============================] - 20s 33ms/step - loss: 13.0301 - mean_squared_error: 13.0301 - NSE: -29.3034 - r_square: 0.7425 - val_loss: 0.3308 - val_mean_squared_error: 0.3308 - val_NSE: -4.6469 - val_r_square: 0.9708\n",
      "Epoch 2/20\n",
      "274/274 [==============================] - 5s 19ms/step - loss: 0.3686 - mean_squared_error: 0.3686 - NSE: 0.1579 - r_square: 0.9622 - val_loss: 0.0472 - val_mean_squared_error: 0.0472 - val_NSE: 0.1424 - val_r_square: 0.9313\n",
      "Epoch 3/20\n",
      "274/274 [==============================] - 5s 16ms/step - loss: 0.0283 - mean_squared_error: 0.0283 - NSE: 0.9385 - r_square: 0.9640 - val_loss: 0.0073 - val_mean_squared_error: 0.0073 - val_NSE: 0.9029 - val_r_square: 0.9330\n",
      "Epoch 4/20\n",
      "274/274 [==============================] - 4s 16ms/step - loss: 0.0183 - mean_squared_error: 0.0183 - NSE: 0.9569 - r_square: 0.9711 - val_loss: 0.0066 - val_mean_squared_error: 0.0066 - val_NSE: 0.9113 - val_r_square: 0.9388\n",
      "Epoch 5/20\n",
      "274/274 [==============================] - 5s 17ms/step - loss: 0.0150 - mean_squared_error: 0.0150 - NSE: 0.9657 - r_square: 0.9756 - val_loss: 0.0064 - val_mean_squared_error: 0.0064 - val_NSE: 0.9139 - val_r_square: 0.9450\n",
      "Epoch 6/20\n",
      "274/274 [==============================] - 5s 18ms/step - loss: 0.0147 - mean_squared_error: 0.0147 - NSE: 0.9643 - r_square: 0.9770 - val_loss: 0.0104 - val_mean_squared_error: 0.0104 - val_NSE: 0.8515 - val_r_square: 0.9496\n",
      "Epoch 7/20\n",
      "274/274 [==============================] - 5s 18ms/step - loss: 0.0132 - mean_squared_error: 0.0132 - NSE: 0.9677 - r_square: 0.9793 - val_loss: 0.0063 - val_mean_squared_error: 0.0063 - val_NSE: 0.9060 - val_r_square: 0.9502\n",
      "Epoch 8/20\n",
      "274/274 [==============================] - 6s 20ms/step - loss: 0.0120 - mean_squared_error: 0.0120 - NSE: 0.9709 - r_square: 0.9820 - val_loss: 0.0046 - val_mean_squared_error: 0.0046 - val_NSE: 0.9377 - val_r_square: 0.9546\n",
      "Epoch 9/20\n",
      "274/274 [==============================] - 6s 20ms/step - loss: 0.0103 - mean_squared_error: 0.0103 - NSE: 0.9752 - r_square: 0.9837 - val_loss: 0.0097 - val_mean_squared_error: 0.0097 - val_NSE: 0.8553 - val_r_square: 0.9592\n",
      "Epoch 10/20\n",
      "274/274 [==============================] - 6s 20ms/step - loss: 0.0090 - mean_squared_error: 0.0090 - NSE: 0.9787 - r_square: 0.9862 - val_loss: 0.0031 - val_mean_squared_error: 0.0031 - val_NSE: 0.9561 - val_r_square: 0.9611\n",
      "Epoch 11/20\n",
      "274/274 [==============================] - 6s 20ms/step - loss: 0.0084 - mean_squared_error: 0.0084 - NSE: 0.9796 - r_square: 0.9874 - val_loss: 0.0029 - val_mean_squared_error: 0.0029 - val_NSE: 0.9629 - val_r_square: 0.9673\n",
      "Epoch 12/20\n",
      "274/274 [==============================] - 6s 20ms/step - loss: 0.0073 - mean_squared_error: 0.0073 - NSE: 0.9824 - r_square: 0.9887 - val_loss: 0.0057 - val_mean_squared_error: 0.0057 - val_NSE: 0.9186 - val_r_square: 0.9714\n",
      "Epoch 13/20\n",
      "274/274 [==============================] - 6s 20ms/step - loss: 0.0071 - mean_squared_error: 0.0071 - NSE: 0.9823 - r_square: 0.9895 - val_loss: 0.0037 - val_mean_squared_error: 0.0037 - val_NSE: 0.9490 - val_r_square: 0.9723\n"
     ]
    }
   ],
   "source": [
    "lstm_history = compile_and_fit(lstm_model, window)"
   ]
  },
  {
   "cell_type": "markdown",
   "id": "2bc092df",
   "metadata": {},
   "source": [
    "## Predictions"
   ]
  },
  {
   "cell_type": "code",
   "execution_count": 20,
   "id": "ffdead40",
   "metadata": {},
   "outputs": [],
   "source": [
    "def get_predictions(model, test_set):\n",
    "    y_pred = []\n",
    "    \n",
    "    for x, _ in test_set:\n",
    "        predictions = model(x)\n",
    "        for y in predictions:\n",
    "            y_pred.append(y)\n",
    "    \n",
    "    y_pred = np.array(y_pred)\n",
    "    y_pred = y_pred.reshape(-1)\n",
    "    \n",
    "    return y_pred"
   ]
  },
  {
   "cell_type": "code",
   "execution_count": 32,
   "id": "67dfef40",
   "metadata": {},
   "outputs": [],
   "source": [
    "def plot_graph(true, pred):\n",
    "    plt.plot(true, label='Observed Values')\n",
    "    plt.plot(pred, label='Predicted Values', alpha=0.5)\n",
    "    plt.legend()\n",
    "    plt.show()"
   ]
  },
  {
   "cell_type": "code",
   "execution_count": 22,
   "id": "d3d29c3a",
   "metadata": {},
   "outputs": [],
   "source": [
    "def calc_nse(true, pred):\n",
    "    SS_res = np.sum(np.square(true-pred))\n",
    "    SS_tot = np.sum(np.square(true-np.mean(true)))\n",
    "    \n",
    "    return 1 - SS_res/SS_tot"
   ]
  },
  {
   "cell_type": "code",
   "execution_count": 23,
   "id": "c5684ecf",
   "metadata": {},
   "outputs": [],
   "source": [
    "def calc_mse(true, pred):\n",
    "    return np.mean(np.square(true-pred))"
   ]
  },
  {
   "cell_type": "code",
   "execution_count": 24,
   "id": "c783e555",
   "metadata": {},
   "outputs": [
    {
     "data": {
      "text/html": [
       "<div>\n",
       "<style scoped>\n",
       "    .dataframe tbody tr th:only-of-type {\n",
       "        vertical-align: middle;\n",
       "    }\n",
       "\n",
       "    .dataframe tbody tr th {\n",
       "        vertical-align: top;\n",
       "    }\n",
       "\n",
       "    .dataframe thead th {\n",
       "        text-align: right;\n",
       "    }\n",
       "</style>\n",
       "<table border=\"1\" class=\"dataframe\">\n",
       "  <thead>\n",
       "    <tr style=\"text-align: right;\">\n",
       "      <th></th>\n",
       "      <th>Waterlevel_Sto_Nino</th>\n",
       "    </tr>\n",
       "  </thead>\n",
       "  <tbody>\n",
       "    <tr>\n",
       "      <th>13140</th>\n",
       "      <td>11.89</td>\n",
       "    </tr>\n",
       "    <tr>\n",
       "      <th>13141</th>\n",
       "      <td>11.87</td>\n",
       "    </tr>\n",
       "    <tr>\n",
       "      <th>13142</th>\n",
       "      <td>11.85</td>\n",
       "    </tr>\n",
       "    <tr>\n",
       "      <th>13143</th>\n",
       "      <td>11.84</td>\n",
       "    </tr>\n",
       "    <tr>\n",
       "      <th>13144</th>\n",
       "      <td>11.84</td>\n",
       "    </tr>\n",
       "    <tr>\n",
       "      <th>...</th>\n",
       "      <td>...</td>\n",
       "    </tr>\n",
       "    <tr>\n",
       "      <th>17515</th>\n",
       "      <td>12.44</td>\n",
       "    </tr>\n",
       "    <tr>\n",
       "      <th>17516</th>\n",
       "      <td>12.44</td>\n",
       "    </tr>\n",
       "    <tr>\n",
       "      <th>17517</th>\n",
       "      <td>12.44</td>\n",
       "    </tr>\n",
       "    <tr>\n",
       "      <th>17518</th>\n",
       "      <td>12.44</td>\n",
       "    </tr>\n",
       "    <tr>\n",
       "      <th>17519</th>\n",
       "      <td>12.44</td>\n",
       "    </tr>\n",
       "  </tbody>\n",
       "</table>\n",
       "<p>4380 rows × 1 columns</p>\n",
       "</div>"
      ],
      "text/plain": [
       "       Waterlevel_Sto_Nino\n",
       "13140                11.89\n",
       "13141                11.87\n",
       "13142                11.85\n",
       "13143                11.84\n",
       "13144                11.84\n",
       "...                    ...\n",
       "17515                12.44\n",
       "17516                12.44\n",
       "17517                12.44\n",
       "17518                12.44\n",
       "17519                12.44\n",
       "\n",
       "[4380 rows x 1 columns]"
      ]
     },
     "execution_count": 24,
     "metadata": {},
     "output_type": "execute_result"
    }
   ],
   "source": [
    "test_df"
   ]
  },
  {
   "cell_type": "code",
   "execution_count": 25,
   "id": "4cfdfb8d",
   "metadata": {},
   "outputs": [
    {
     "data": {
      "text/plain": [
       "array([12.63, 12.81, 12.8 , ..., 12.44, 12.44, 12.44])"
      ]
     },
     "execution_count": 25,
     "metadata": {},
     "output_type": "execute_result"
    }
   ],
   "source": [
    "test_vals = test_df.values\n",
    "y_true = test_vals[6:]\n",
    "y_true = y_true.reshape(-1)\n",
    "y_true"
   ]
  },
  {
   "cell_type": "markdown",
   "id": "1adad88f",
   "metadata": {},
   "source": [
    "DNN"
   ]
  },
  {
   "cell_type": "code",
   "execution_count": 26,
   "id": "a09db971",
   "metadata": {},
   "outputs": [
    {
     "data": {
      "text/plain": [
       "array([11.888952, 11.974639, 12.095265, ..., 12.445394, 12.445394,\n",
       "       12.445394], dtype=float32)"
      ]
     },
     "execution_count": 26,
     "metadata": {},
     "output_type": "execute_result"
    }
   ],
   "source": [
    "dnn_pred = get_predictions(dense, window.test)\n",
    "dnn_pred"
   ]
  },
  {
   "cell_type": "code",
   "execution_count": 33,
   "id": "aaa4b124",
   "metadata": {},
   "outputs": [
    {
     "data": {
      "image/png": "[encoded data removed]",
      "text/plain": [
       "<Figure size 640x480 with 1 Axes>"
      ]
     },
     "metadata": {},
     "output_type": "display_data"
    }
   ],
   "source": [
    "plot_graph(y_true, dnn_pred)"
   ]
  },
  {
   "cell_type": "code",
   "execution_count": 30,
   "id": "e9c09348",
   "metadata": {},
   "outputs": [
    {
     "data": {
      "text/plain": [
       "0.8511023823412354"
      ]
     },
     "execution_count": 30,
     "metadata": {},
     "output_type": "execute_result"
    }
   ],
   "source": [
    "calc_nse(y_true, dnn_pred)"
   ]
  },
  {
   "cell_type": "code",
   "execution_count": 31,
   "id": "9d656ef6",
   "metadata": {},
   "outputs": [
    {
     "data": {
      "text/plain": [
       "0.046184885021909254"
      ]
     },
     "execution_count": 31,
     "metadata": {},
     "output_type": "execute_result"
    }
   ],
   "source": [
    "calc_mse(y_true, dnn_pred)"
   ]
  },
  {
   "cell_type": "markdown",
   "id": "9e45f8d3",
   "metadata": {},
   "source": [
    "CNN"
   ]
  },
  {
   "cell_type": "code",
   "execution_count": 34,
   "id": "bc7554d6",
   "metadata": {},
   "outputs": [
    {
     "data": {
      "text/plain": [
       "array([11.880107, 11.957189, 12.062867, ..., 12.421964, 12.421964,\n",
       "       12.421964], dtype=float32)"
      ]
     },
     "execution_count": 34,
     "metadata": {},
     "output_type": "execute_result"
    }
   ],
   "source": [
    "cnn_pred = get_predictions(conv_model, window.test)\n",
    "cnn_pred"
   ]
  },
  {
   "cell_type": "code",
   "execution_count": 35,
   "id": "1cee1516",
   "metadata": {},
   "outputs": [
    {
     "data": {
      "image/png": "[encoded data removed]",
      "text/plain": [
       "<Figure size 640x480 with 1 Axes>"
      ]
     },
     "metadata": {},
     "output_type": "display_data"
    }
   ],
   "source": [
    "plot_graph(y_true, cnn_pred)"
   ]
  },
  {
   "cell_type": "code",
   "execution_count": 36,
   "id": "c915af5c",
   "metadata": {},
   "outputs": [
    {
     "data": {
      "text/plain": [
       "0.8617260239117328"
      ]
     },
     "execution_count": 36,
     "metadata": {},
     "output_type": "execute_result"
    }
   ],
   "source": [
    "calc_nse(y_true, cnn_pred)"
   ]
  },
  {
   "cell_type": "code",
   "execution_count": 37,
   "id": "68d83461",
   "metadata": {},
   "outputs": [
    {
     "data": {
      "text/plain": [
       "0.04288965658130484"
      ]
     },
     "execution_count": 37,
     "metadata": {},
     "output_type": "execute_result"
    }
   ],
   "source": [
    "calc_mse(y_true, cnn_pred)"
   ]
  },
  {
   "cell_type": "markdown",
   "id": "ffaa12e6",
   "metadata": {},
   "source": [
    "LSTM"
   ]
  },
  {
   "cell_type": "code",
   "execution_count": 38,
   "id": "3e0976a5",
   "metadata": {},
   "outputs": [
    {
     "data": {
      "text/plain": [
       "array([12.124246, 12.481522, 12.718819, ..., 12.447784, 12.447784,\n",
       "       12.447784], dtype=float32)"
      ]
     },
     "execution_count": 38,
     "metadata": {},
     "output_type": "execute_result"
    }
   ],
   "source": [
    "lstm_pred = get_predictions(lstm_model, window.test)\n",
    "lstm_pred"
   ]
  },
  {
   "cell_type": "code",
   "execution_count": 39,
   "id": "4c4de31f",
   "metadata": {},
   "outputs": [
    {
     "data": {
      "image/png": "[encoded data removed]",
      "text/plain": [
       "<Figure size 640x480 with 1 Axes>"
      ]
     },
     "metadata": {},
     "output_type": "display_data"
    }
   ],
   "source": [
    "plot_graph(y_true, lstm_pred)"
   ]
  },
  {
   "cell_type": "code",
   "execution_count": 40,
   "id": "a3f65e13",
   "metadata": {},
   "outputs": [
    {
     "data": {
      "text/plain": [
       "0.9693838353379521"
      ]
     },
     "execution_count": 40,
     "metadata": {},
     "output_type": "execute_result"
    }
   ],
   "source": [
    "calc_nse(y_true, lstm_pred)"
   ]
  },
  {
   "cell_type": "code",
   "execution_count": 41,
   "id": "7c16ad6c",
   "metadata": {},
   "outputs": [
    {
     "data": {
      "text/plain": [
       "0.009496485349880204"
      ]
     },
     "execution_count": 41,
     "metadata": {},
     "output_type": "execute_result"
    }
   ],
   "source": [
    "calc_mse(y_true, lstm_pred)"
   ]
  },
  {
   "cell_type": "code",
   "execution_count": 42,
   "id": "a6433b30",
   "metadata": {},
   "outputs": [],
   "source": [
    "np.savetxt('../results/univariate_dnn_predictions.csv', dnn_pred, delimiter=',', fmt='%.4f')"
   ]
  },
  {
   "cell_type": "code",
   "execution_count": 43,
   "id": "418a295b",
   "metadata": {},
   "outputs": [],
   "source": [
    "np.savetxt('../results/univariate_cnn_predictions.csv', cnn_pred, delimiter=',', fmt='%.4f')"
   ]
  },
  {
   "cell_type": "code",
   "execution_count": 44,
   "id": "0ebccab2",
   "metadata": {},
   "outputs": [],
   "source": [
    "np.savetxt('../results/univariate_lstm_predictions.csv', lstm_pred, delimiter=',', fmt='%.4f')"
   ]
  },
  {
   "cell_type": "code",
   "execution_count": null,
   "id": "0091388f",
   "metadata": {},
   "outputs": [],
   "source": []
  }
 ],
 "metadata": {
  "kernelspec": {
   "display_name": "Python 3 (ipykernel)",
   "language": "python",
   "name": "python3"
  },
  "language_info": {
   "codemirror_mode": {
    "name": "ipython",
    "version": 3
   },
   "file_extension": ".py",
   "mimetype": "text/x-python",
   "name": "python",
   "nbconvert_exporter": "python",
   "pygments_lexer": "ipython3",
   "version": "3.9.13"
  }
 },
 "nbformat": 4,
 "nbformat_minor": 5
}
