{
 "cells": [
  {
   "cell_type": "code",
   "execution_count": 1,
   "id": "ce131c1b",
   "metadata": {},
   "outputs": [],
   "source": [
    "#import libraries\n",
    "import pandas as pd\n",
    "import numpy as np\n",
    "import matplotlib.pyplot as plt\n",
    "from tensorflow.keras.models import Sequential\n",
    "from tensorflow.keras.layers import Dense\n",
    "from tensorflow.keras.callbacks import EarlyStopping, TensorBoard\n",
    "from tensorflow.keras.regularizers import l2\n",
    "from tensorflow.keras import backend as K\n",
    "import tensorflow as tf\n",
    "import os"
   ]
  },
  {
   "cell_type": "code",
   "execution_count": 2,
   "id": "be66fed2",
   "metadata": {},
   "outputs": [],
   "source": [
    "from datetime import datetime\n",
    "from tensorflow.python.framework.ops import disable_eager_execution\n",
    "\n",
    "disable_eager_execution()"
   ]
  },
  {
   "cell_type": "code",
   "execution_count": 3,
   "id": "617376d1",
   "metadata": {},
   "outputs": [],
   "source": [
    "tf.random.set_seed(36)"
   ]
  },
  {
   "cell_type": "markdown",
   "id": "92ec490c",
   "metadata": {},
   "source": [
    "### Dataset"
   ]
  },
  {
   "cell_type": "code",
   "execution_count": 4,
   "id": "277a87aa",
   "metadata": {},
   "outputs": [],
   "source": [
    "BASE_DIR_PATH = '/Users/neilb/Documents/dsci_thesis/Datasets'\n",
    "DATASET_FILE = os.path.join(BASE_DIR_PATH, 'compiled_data_2016_2017.csv')"
   ]
  },
  {
   "cell_type": "code",
   "execution_count": 5,
   "id": "51f39c94",
   "metadata": {},
   "outputs": [
    {
     "data": {
      "text/html": [
       "<div>\n",
       "<style scoped>\n",
       "    .dataframe tbody tr th:only-of-type {\n",
       "        vertical-align: middle;\n",
       "    }\n",
       "\n",
       "    .dataframe tbody tr th {\n",
       "        vertical-align: top;\n",
       "    }\n",
       "\n",
       "    .dataframe thead th {\n",
       "        text-align: right;\n",
       "    }\n",
       "</style>\n",
       "<table border=\"1\" class=\"dataframe\">\n",
       "  <thead>\n",
       "    <tr style=\"text-align: right;\">\n",
       "      <th></th>\n",
       "      <th>Unnamed: 0</th>\n",
       "      <th>index</th>\n",
       "      <th>Rainfall_Aries</th>\n",
       "      <th>Rainfall_Boso</th>\n",
       "      <th>Rainfall_Campana</th>\n",
       "      <th>Rainfall_Nangka</th>\n",
       "      <th>Rainfall_Oro</th>\n",
       "      <th>Waterlevel_Sto_Nino</th>\n",
       "      <th>Waterlevel_Montalban</th>\n",
       "      <th>Discharge_Sto_Nino</th>\n",
       "      <th>Discharge_San_Jose</th>\n",
       "      <th>Cross_Section_Sto_Nino</th>\n",
       "      <th>Cross_Section_Montalban</th>\n",
       "      <th>Velocity_Sto_Nino</th>\n",
       "      <th>Velocity_Montalban</th>\n",
       "      <th>datetime</th>\n",
       "      <th>t</th>\n",
       "      <th>x</th>\n",
       "    </tr>\n",
       "  </thead>\n",
       "  <tbody>\n",
       "    <tr>\n",
       "      <th>0</th>\n",
       "      <td>0</td>\n",
       "      <td>0</td>\n",
       "      <td>0</td>\n",
       "      <td>1</td>\n",
       "      <td>2</td>\n",
       "      <td>0</td>\n",
       "      <td>0</td>\n",
       "      <td>12.18</td>\n",
       "      <td>21.03</td>\n",
       "      <td>21.033407</td>\n",
       "      <td>14.842428</td>\n",
       "      <td>803.88</td>\n",
       "      <td>630.9</td>\n",
       "      <td>0.026165</td>\n",
       "      <td>0.023526</td>\n",
       "      <td>2016-01-01 00:00:00</td>\n",
       "      <td>0.0</td>\n",
       "      <td>14420</td>\n",
       "    </tr>\n",
       "    <tr>\n",
       "      <th>1</th>\n",
       "      <td>1</td>\n",
       "      <td>1</td>\n",
       "      <td>0</td>\n",
       "      <td>1</td>\n",
       "      <td>1</td>\n",
       "      <td>1</td>\n",
       "      <td>0</td>\n",
       "      <td>12.19</td>\n",
       "      <td>21.03</td>\n",
       "      <td>21.280072</td>\n",
       "      <td>14.842428</td>\n",
       "      <td>804.54</td>\n",
       "      <td>630.9</td>\n",
       "      <td>0.026450</td>\n",
       "      <td>0.023526</td>\n",
       "      <td>2016-01-01 01:00:00</td>\n",
       "      <td>3600.0</td>\n",
       "      <td>14420</td>\n",
       "    </tr>\n",
       "    <tr>\n",
       "      <th>2</th>\n",
       "      <td>2</td>\n",
       "      <td>2</td>\n",
       "      <td>1</td>\n",
       "      <td>1</td>\n",
       "      <td>1</td>\n",
       "      <td>0</td>\n",
       "      <td>1</td>\n",
       "      <td>12.19</td>\n",
       "      <td>21.03</td>\n",
       "      <td>21.280072</td>\n",
       "      <td>14.842428</td>\n",
       "      <td>804.54</td>\n",
       "      <td>630.9</td>\n",
       "      <td>0.026450</td>\n",
       "      <td>0.023526</td>\n",
       "      <td>2016-01-01 02:00:00</td>\n",
       "      <td>7200.0</td>\n",
       "      <td>14420</td>\n",
       "    </tr>\n",
       "    <tr>\n",
       "      <th>3</th>\n",
       "      <td>3</td>\n",
       "      <td>3</td>\n",
       "      <td>0</td>\n",
       "      <td>0</td>\n",
       "      <td>0</td>\n",
       "      <td>1</td>\n",
       "      <td>0</td>\n",
       "      <td>12.20</td>\n",
       "      <td>21.03</td>\n",
       "      <td>21.529056</td>\n",
       "      <td>14.842428</td>\n",
       "      <td>805.20</td>\n",
       "      <td>630.9</td>\n",
       "      <td>0.026738</td>\n",
       "      <td>0.023526</td>\n",
       "      <td>2016-01-01 03:00:00</td>\n",
       "      <td>10800.0</td>\n",
       "      <td>14420</td>\n",
       "    </tr>\n",
       "    <tr>\n",
       "      <th>4</th>\n",
       "      <td>4</td>\n",
       "      <td>4</td>\n",
       "      <td>1</td>\n",
       "      <td>1</td>\n",
       "      <td>1</td>\n",
       "      <td>0</td>\n",
       "      <td>0</td>\n",
       "      <td>12.20</td>\n",
       "      <td>21.03</td>\n",
       "      <td>21.529056</td>\n",
       "      <td>14.842428</td>\n",
       "      <td>805.20</td>\n",
       "      <td>630.9</td>\n",
       "      <td>0.026738</td>\n",
       "      <td>0.023526</td>\n",
       "      <td>2016-01-01 04:00:00</td>\n",
       "      <td>14400.0</td>\n",
       "      <td>14420</td>\n",
       "    </tr>\n",
       "  </tbody>\n",
       "</table>\n",
       "</div>"
      ],
      "text/plain": [
       "   Unnamed: 0  index  Rainfall_Aries  Rainfall_Boso  Rainfall_Campana  \\\n",
       "0           0      0               0              1                 2   \n",
       "1           1      1               0              1                 1   \n",
       "2           2      2               1              1                 1   \n",
       "3           3      3               0              0                 0   \n",
       "4           4      4               1              1                 1   \n",
       "\n",
       "   Rainfall_Nangka  Rainfall_Oro  Waterlevel_Sto_Nino  Waterlevel_Montalban  \\\n",
       "0                0             0                12.18                 21.03   \n",
       "1                1             0                12.19                 21.03   \n",
       "2                0             1                12.19                 21.03   \n",
       "3                1             0                12.20                 21.03   \n",
       "4                0             0                12.20                 21.03   \n",
       "\n",
       "   Discharge_Sto_Nino  Discharge_San_Jose  Cross_Section_Sto_Nino  \\\n",
       "0           21.033407           14.842428                  803.88   \n",
       "1           21.280072           14.842428                  804.54   \n",
       "2           21.280072           14.842428                  804.54   \n",
       "3           21.529056           14.842428                  805.20   \n",
       "4           21.529056           14.842428                  805.20   \n",
       "\n",
       "   Cross_Section_Montalban  Velocity_Sto_Nino  Velocity_Montalban  \\\n",
       "0                    630.9           0.026165            0.023526   \n",
       "1                    630.9           0.026450            0.023526   \n",
       "2                    630.9           0.026450            0.023526   \n",
       "3                    630.9           0.026738            0.023526   \n",
       "4                    630.9           0.026738            0.023526   \n",
       "\n",
       "              datetime        t      x  \n",
       "0  2016-01-01 00:00:00      0.0  14420  \n",
       "1  2016-01-01 01:00:00   3600.0  14420  \n",
       "2  2016-01-01 02:00:00   7200.0  14420  \n",
       "3  2016-01-01 03:00:00  10800.0  14420  \n",
       "4  2016-01-01 04:00:00  14400.0  14420  "
      ]
     },
     "execution_count": 5,
     "metadata": {},
     "output_type": "execute_result"
    }
   ],
   "source": [
    "df = pd.read_csv(DATASET_FILE)\n",
    "df.head()"
   ]
  },
  {
   "cell_type": "code",
   "execution_count": 6,
   "id": "4b287404",
   "metadata": {},
   "outputs": [],
   "source": [
    "n = len(df)"
   ]
  },
  {
   "cell_type": "code",
   "execution_count": 7,
   "id": "e0dc0a46",
   "metadata": {},
   "outputs": [
    {
     "data": {
      "text/html": [
       "<div>\n",
       "<style scoped>\n",
       "    .dataframe tbody tr th:only-of-type {\n",
       "        vertical-align: middle;\n",
       "    }\n",
       "\n",
       "    .dataframe tbody tr th {\n",
       "        vertical-align: top;\n",
       "    }\n",
       "\n",
       "    .dataframe thead th {\n",
       "        text-align: right;\n",
       "    }\n",
       "</style>\n",
       "<table border=\"1\" class=\"dataframe\">\n",
       "  <thead>\n",
       "    <tr style=\"text-align: right;\">\n",
       "      <th></th>\n",
       "      <th>Unnamed: 0</th>\n",
       "      <th>index</th>\n",
       "      <th>Rainfall_Aries</th>\n",
       "      <th>Rainfall_Boso</th>\n",
       "      <th>Rainfall_Campana</th>\n",
       "      <th>Rainfall_Nangka</th>\n",
       "      <th>Rainfall_Oro</th>\n",
       "      <th>Waterlevel_Sto_Nino</th>\n",
       "      <th>Waterlevel_Montalban</th>\n",
       "      <th>Discharge_Sto_Nino</th>\n",
       "      <th>Discharge_San_Jose</th>\n",
       "      <th>Cross_Section_Sto_Nino</th>\n",
       "      <th>Cross_Section_Montalban</th>\n",
       "      <th>Velocity_Sto_Nino</th>\n",
       "      <th>Velocity_Montalban</th>\n",
       "      <th>datetime</th>\n",
       "      <th>t</th>\n",
       "      <th>x</th>\n",
       "      <th>friction_coeff</th>\n",
       "      <th>slope</th>\n",
       "    </tr>\n",
       "  </thead>\n",
       "  <tbody>\n",
       "    <tr>\n",
       "      <th>0</th>\n",
       "      <td>0</td>\n",
       "      <td>0</td>\n",
       "      <td>0</td>\n",
       "      <td>1</td>\n",
       "      <td>2</td>\n",
       "      <td>0</td>\n",
       "      <td>0</td>\n",
       "      <td>12.18</td>\n",
       "      <td>21.03</td>\n",
       "      <td>21.033407</td>\n",
       "      <td>14.842428</td>\n",
       "      <td>803.88</td>\n",
       "      <td>630.9</td>\n",
       "      <td>0.026165</td>\n",
       "      <td>0.023526</td>\n",
       "      <td>2016-01-01 00:00:00</td>\n",
       "      <td>0.0</td>\n",
       "      <td>14420</td>\n",
       "      <td>0.033</td>\n",
       "      <td>0.000667</td>\n",
       "    </tr>\n",
       "    <tr>\n",
       "      <th>1</th>\n",
       "      <td>1</td>\n",
       "      <td>1</td>\n",
       "      <td>0</td>\n",
       "      <td>1</td>\n",
       "      <td>1</td>\n",
       "      <td>1</td>\n",
       "      <td>0</td>\n",
       "      <td>12.19</td>\n",
       "      <td>21.03</td>\n",
       "      <td>21.280072</td>\n",
       "      <td>14.842428</td>\n",
       "      <td>804.54</td>\n",
       "      <td>630.9</td>\n",
       "      <td>0.026450</td>\n",
       "      <td>0.023526</td>\n",
       "      <td>2016-01-01 01:00:00</td>\n",
       "      <td>3600.0</td>\n",
       "      <td>14420</td>\n",
       "      <td>0.033</td>\n",
       "      <td>0.000667</td>\n",
       "    </tr>\n",
       "    <tr>\n",
       "      <th>2</th>\n",
       "      <td>2</td>\n",
       "      <td>2</td>\n",
       "      <td>1</td>\n",
       "      <td>1</td>\n",
       "      <td>1</td>\n",
       "      <td>0</td>\n",
       "      <td>1</td>\n",
       "      <td>12.19</td>\n",
       "      <td>21.03</td>\n",
       "      <td>21.280072</td>\n",
       "      <td>14.842428</td>\n",
       "      <td>804.54</td>\n",
       "      <td>630.9</td>\n",
       "      <td>0.026450</td>\n",
       "      <td>0.023526</td>\n",
       "      <td>2016-01-01 02:00:00</td>\n",
       "      <td>7200.0</td>\n",
       "      <td>14420</td>\n",
       "      <td>0.033</td>\n",
       "      <td>0.000667</td>\n",
       "    </tr>\n",
       "    <tr>\n",
       "      <th>3</th>\n",
       "      <td>3</td>\n",
       "      <td>3</td>\n",
       "      <td>0</td>\n",
       "      <td>0</td>\n",
       "      <td>0</td>\n",
       "      <td>1</td>\n",
       "      <td>0</td>\n",
       "      <td>12.20</td>\n",
       "      <td>21.03</td>\n",
       "      <td>21.529056</td>\n",
       "      <td>14.842428</td>\n",
       "      <td>805.20</td>\n",
       "      <td>630.9</td>\n",
       "      <td>0.026738</td>\n",
       "      <td>0.023526</td>\n",
       "      <td>2016-01-01 03:00:00</td>\n",
       "      <td>10800.0</td>\n",
       "      <td>14420</td>\n",
       "      <td>0.033</td>\n",
       "      <td>0.000667</td>\n",
       "    </tr>\n",
       "    <tr>\n",
       "      <th>4</th>\n",
       "      <td>4</td>\n",
       "      <td>4</td>\n",
       "      <td>1</td>\n",
       "      <td>1</td>\n",
       "      <td>1</td>\n",
       "      <td>0</td>\n",
       "      <td>0</td>\n",
       "      <td>12.20</td>\n",
       "      <td>21.03</td>\n",
       "      <td>21.529056</td>\n",
       "      <td>14.842428</td>\n",
       "      <td>805.20</td>\n",
       "      <td>630.9</td>\n",
       "      <td>0.026738</td>\n",
       "      <td>0.023526</td>\n",
       "      <td>2016-01-01 04:00:00</td>\n",
       "      <td>14400.0</td>\n",
       "      <td>14420</td>\n",
       "      <td>0.033</td>\n",
       "      <td>0.000667</td>\n",
       "    </tr>\n",
       "  </tbody>\n",
       "</table>\n",
       "</div>"
      ],
      "text/plain": [
       "   Unnamed: 0  index  Rainfall_Aries  Rainfall_Boso  Rainfall_Campana  \\\n",
       "0           0      0               0              1                 2   \n",
       "1           1      1               0              1                 1   \n",
       "2           2      2               1              1                 1   \n",
       "3           3      3               0              0                 0   \n",
       "4           4      4               1              1                 1   \n",
       "\n",
       "   Rainfall_Nangka  Rainfall_Oro  Waterlevel_Sto_Nino  Waterlevel_Montalban  \\\n",
       "0                0             0                12.18                 21.03   \n",
       "1                1             0                12.19                 21.03   \n",
       "2                0             1                12.19                 21.03   \n",
       "3                1             0                12.20                 21.03   \n",
       "4                0             0                12.20                 21.03   \n",
       "\n",
       "   Discharge_Sto_Nino  Discharge_San_Jose  Cross_Section_Sto_Nino  \\\n",
       "0           21.033407           14.842428                  803.88   \n",
       "1           21.280072           14.842428                  804.54   \n",
       "2           21.280072           14.842428                  804.54   \n",
       "3           21.529056           14.842428                  805.20   \n",
       "4           21.529056           14.842428                  805.20   \n",
       "\n",
       "   Cross_Section_Montalban  Velocity_Sto_Nino  Velocity_Montalban  \\\n",
       "0                    630.9           0.026165            0.023526   \n",
       "1                    630.9           0.026450            0.023526   \n",
       "2                    630.9           0.026450            0.023526   \n",
       "3                    630.9           0.026738            0.023526   \n",
       "4                    630.9           0.026738            0.023526   \n",
       "\n",
       "              datetime        t      x  friction_coeff     slope  \n",
       "0  2016-01-01 00:00:00      0.0  14420           0.033  0.000667  \n",
       "1  2016-01-01 01:00:00   3600.0  14420           0.033  0.000667  \n",
       "2  2016-01-01 02:00:00   7200.0  14420           0.033  0.000667  \n",
       "3  2016-01-01 03:00:00  10800.0  14420           0.033  0.000667  \n",
       "4  2016-01-01 04:00:00  14400.0  14420           0.033  0.000667  "
      ]
     },
     "execution_count": 7,
     "metadata": {},
     "output_type": "execute_result"
    }
   ],
   "source": [
    "df['friction_coeff'] = [0.033 for i in range(n)]\n",
    "df['slope'] = [1/1500 for i in range(n)]\n",
    "df.head()"
   ]
  },
  {
   "cell_type": "code",
   "execution_count": 8,
   "id": "f60a4c7b",
   "metadata": {},
   "outputs": [],
   "source": [
    "train_2016_2017 = df[:int(0.50*n)]\n",
    "val_2016_2017 = df[int(0.50*n):int(0.75*n)]\n",
    "test_2016_2017 = df[int(0.75*n):]"
   ]
  },
  {
   "cell_type": "code",
   "execution_count": 9,
   "id": "d1ae5e52",
   "metadata": {},
   "outputs": [],
   "source": [
    "X_train_2016_2017 = np.array(train_2016_2017[['x','t', 'Discharge_Sto_Nino', 'friction_coeff', 'slope', 'Rainfall_Aries', 'Rainfall_Boso', 'Rainfall_Campana', 'Rainfall_Nangka', 'Rainfall_Oro']].values.tolist())\n",
    "X_val_2016_2017 = np.array(val_2016_2017[['x','t', 'Discharge_Sto_Nino', 'friction_coeff', 'slope', 'Rainfall_Aries', 'Rainfall_Boso', 'Rainfall_Campana', 'Rainfall_Nangka', 'Rainfall_Oro']].values.tolist())\n",
    "X_test_2016_2017 = np.array(test_2016_2017[['x','t', 'Discharge_Sto_Nino', 'friction_coeff', 'slope', 'Rainfall_Aries', 'Rainfall_Boso', 'Rainfall_Campana', 'Rainfall_Nangka', 'Rainfall_Oro']].values.tolist())\n",
    "Y_train_2016_2017 = np.array(train_2016_2017[['Velocity_Sto_Nino','Waterlevel_Sto_Nino']].values.tolist())\n",
    "Y_val_2016_2017 = np.array(val_2016_2017[['Velocity_Sto_Nino','Waterlevel_Sto_Nino']].values.tolist())\n",
    "Y_test_2016_2017 = np.array(test_2016_2017[['Velocity_Sto_Nino','Waterlevel_Sto_Nino']].values.tolist())"
   ]
  },
  {
   "cell_type": "markdown",
   "id": "f1726e77",
   "metadata": {},
   "source": [
    "### Defining evaluation metrics"
   ]
  },
  {
   "cell_type": "code",
   "execution_count": 10,
   "id": "9260239c",
   "metadata": {},
   "outputs": [],
   "source": [
    "def r_square(y_true, y_pred):\n",
    "    x = y_true\n",
    "    y = y_pred\n",
    "    mx = K.mean(x, axis=0)\n",
    "    my = K.mean(y, axis=0)\n",
    "    xm, ym = x - mx, y - my\n",
    "    r_num = K.square(K.sum(xm * ym))\n",
    "    x_square_sum = K.sum(xm * xm)\n",
    "    y_square_sum = K.sum(ym * ym)\n",
    "    r_den = (x_square_sum * y_square_sum) + K.epsilon()\n",
    "    \n",
    "    r = r_num / r_den\n",
    "    return r"
   ]
  },
  {
   "cell_type": "code",
   "execution_count": 11,
   "id": "a5dab9e5",
   "metadata": {},
   "outputs": [],
   "source": [
    "def NSE(y_true, y_pred):\n",
    "\n",
    "    y_pred = K.flatten(y_pred)\n",
    "    y_true = K.flatten(y_true)\n",
    "\n",
    "    \n",
    "    SS_res =  K.sum(K.square(y_true - y_pred)) \n",
    "    SS_tot = K.sum(K.square(y_true - K.mean(y_true))) \n",
    "    \n",
    "    return ( 1 - SS_res/(SS_tot + K.epsilon()) )"
   ]
  },
  {
   "cell_type": "code",
   "execution_count": 12,
   "id": "bce69dee",
   "metadata": {},
   "outputs": [],
   "source": [
    "def custom_loss(grads_inputs, physics_weight=1.0):\n",
    "    \"\"\"Modified loss function with adjustable physics weight and improved numerical stability\"\"\"\n",
    "    du_dx, du_dt, dh_dx, fric_coeff, slope = (grads_inputs[:,i] for i in range(5))\n",
    "    g = K.constant(9.81)  # More precise gravity constant\n",
    "    \n",
    "    def loss(y_true, y_pred):\n",
    "        # Data loss\n",
    "        mse_loss = K.mean(K.square(y_pred - y_true), axis=0)\n",
    "        data_loss = K.sum(mse_loss)\n",
    "        \n",
    "        # Physics loss with improved numerical stability\n",
    "        u = y_pred[:,0]  # velocity\n",
    "        h = y_pred[:,1]  # water level\n",
    "        \n",
    "        # Saint-Venant equation terms\n",
    "        momentum_eq = (\n",
    "            du_dt +                                         # ∂u/∂t\n",
    "            u * du_dx +                                     # u∂u/∂x\n",
    "            g * dh_dx +                                     # g∂h/∂x\n",
    "            g * slope +                                     # gS₀\n",
    "            g * K.square(fric_coeff) * K.square(y_true[:,0]) /       # gn²u²/h^(4/3)\n",
    "            (K.pow(y_true[:,1], 4/3) + K.epsilon())\n",
    "        )\n",
    "        \n",
    "        physics_loss = K.mean(K.square(momentum_eq))\n",
    "        \n",
    "        # Combined loss with weighting\n",
    "        return data_loss + physics_weight * physics_loss\n",
    "    \n",
    "    return loss"
   ]
  },
  {
   "cell_type": "markdown",
   "id": "35ffa990",
   "metadata": {},
   "source": [
    "### Defining model"
   ]
  },
  {
   "cell_type": "code",
   "execution_count": 13,
   "id": "a4c68f9d-ded5-42d4-be69-f279ac7dbaed",
   "metadata": {},
   "outputs": [],
   "source": [
    "def create_pinn_model(n1, n2, n3):\n",
    "    lstm_model = tf.keras.models.Sequential([\n",
    "        tf.keras.layers.Reshape((1, 10), input_shape=(10,)),  # Reshape to 3D\n",
    "        tf.keras.layers.LSTM(n1, return_sequences=True),\n",
    "        tf.keras.layers.Flatten(),  # Add Flatten layer to handle dimension mismatch\n",
    "        tf.keras.layers.Dense(units=n2, activation='relu'),\n",
    "        tf.keras.layers.Dense(units=n3, activation='relu'),\n",
    "        tf.keras.layers.Dense(units=2)\n",
    "    ])\n",
    "\n",
    "    return lstm_model"
   ]
  },
  {
   "cell_type": "markdown",
   "id": "f2565e4e",
   "metadata": {},
   "source": [
    "## Training Loop"
   ]
  },
  {
   "cell_type": "code",
   "execution_count": 14,
   "id": "830d35e6",
   "metadata": {},
   "outputs": [],
   "source": [
    "def train_pinn(X_train, Y_train, X_val, Y_val, n1=64, n2=64, n3=64, \n",
    "               reg_const=0, physics_weight=1.0, epochs=20, \n",
    "               batch_size=32, patience=2):\n",
    "    \n",
    "    # Create and compile model\n",
    "    model = create_pinn_model(n1, n2, n3)\n",
    "    \n",
    "    # Calculate gradients for physics loss\n",
    "    grads_u = K.gradients(model.output[:,0], model.input)[0]\n",
    "    grads_h = K.gradients(model.output[:,1], model.input)[0]\n",
    "    du_dx, du_dt, dh_dx = grads_u[:,0], grads_u[:,1], grads_h[:,0]\n",
    "    calc_grads_inputs = K.stack(\n",
    "        (du_dx, du_dt, dh_dx, model.input[:,3], model.input[:,4]), \n",
    "        axis=1\n",
    "    )\n",
    "    \n",
    "    # Compile with custom loss\n",
    "    model.compile(\n",
    "        optimizer='adam',\n",
    "        loss=custom_loss(calc_grads_inputs),\n",
    "        metrics=['mse', NSE, r_square]\n",
    "    )\n",
    "    \n",
    "    # Train with early stopping\n",
    "    early_stopping = EarlyStopping(\n",
    "        monitor='val_loss',\n",
    "        patience=patience\n",
    "    )\n",
    "    \n",
    "    history = model.fit(\n",
    "        X_train, Y_train,\n",
    "        epochs=epochs,\n",
    "        batch_size=batch_size,\n",
    "        validation_data=(X_val, Y_val),\n",
    "        callbacks=[early_stopping],\n",
    "        verbose=1\n",
    "    )\n",
    "\n",
    "    return model, history"
   ]
  },
  {
   "cell_type": "code",
   "execution_count": 15,
   "id": "4e170ad9",
   "metadata": {},
   "outputs": [
    {
     "name": "stdout",
     "output_type": "stream",
     "text": [
      "Train on 8760 samples, validate on 4380 samples\n",
      "Epoch 1/20\n",
      "8736/8760 [============================>.] - ETA: 0s - loss: 19.3062 - mse: 9.6531 - NSE: 0.7493 - r_square: 9.6466e-04"
     ]
    },
    {
     "name": "stderr",
     "output_type": "stream",
     "text": [
      "C:\\Users\\neilb\\anaconda3\\lib\\site-packages\\keras\\src\\engine\\training_v1.py:2335: UserWarning: `Model.state_updates` will be removed in a future version. This property should not be used in TensorFlow 2.0, as `updates` are applied automatically.\n",
      "  updates = self.state_updates\n"
     ]
    },
    {
     "name": "stdout",
     "output_type": "stream",
     "text": [
      "8760/8760 [==============================] - 5s 597us/sample - loss: 19.2550 - mse: 9.6275 - NSE: 0.7502 - r_square: 9.6114e-04 - val_loss: 0.2749 - val_mse: 0.1374 - val_NSE: 0.9961 - val_r_square: 1.2683e-14\n",
      "Epoch 2/20\n",
      "8760/8760 [==============================] - 2s 223us/sample - loss: 0.4726 - mse: 0.2363 - NSE: 0.9939 - r_square: 1.5217e-04 - val_loss: 0.2708 - val_mse: 0.1354 - val_NSE: 0.9962 - val_r_square: 8.9338e-14\n",
      "Epoch 3/20\n",
      "8760/8760 [==============================] - 2s 226us/sample - loss: 0.4611 - mse: 0.2306 - NSE: 0.9940 - r_square: 2.6768e-04 - val_loss: 0.2718 - val_mse: 0.1359 - val_NSE: 0.9962 - val_r_square: 1.4625e-14\n",
      "Epoch 4/20\n",
      "8760/8760 [==============================] - 2s 226us/sample - loss: 0.4600 - mse: 0.2300 - NSE: 0.9940 - r_square: 2.3840e-04 - val_loss: 0.3736 - val_mse: 0.1868 - val_NSE: 0.9948 - val_r_square: 1.2150e-13\n"
     ]
    }
   ],
   "source": [
    "model, history = train_pinn(X_train_2016_2017, Y_train_2016_2017, X_val_2016_2017, Y_val_2016_2017)"
   ]
  },
  {
   "cell_type": "markdown",
   "id": "38d00e5b",
   "metadata": {},
   "source": [
    "## Testing"
   ]
  },
  {
   "cell_type": "code",
   "execution_count": 16,
   "id": "ad7dd14d",
   "metadata": {},
   "outputs": [
    {
     "data": {
      "text/plain": [
       "(4380, 10)"
      ]
     },
     "execution_count": 16,
     "metadata": {},
     "output_type": "execute_result"
    }
   ],
   "source": [
    "X_test_2016_2017.shape"
   ]
  },
  {
   "cell_type": "code",
   "execution_count": 17,
   "id": "a733c271",
   "metadata": {},
   "outputs": [
    {
     "name": "stderr",
     "output_type": "stream",
     "text": [
      "C:\\Users\\neilb\\anaconda3\\lib\\site-packages\\keras\\src\\engine\\training_v1.py:2359: UserWarning: `Model.state_updates` will be removed in a future version. This property should not be used in TensorFlow 2.0, as `updates` are applied automatically.\n",
      "  updates=self.state_updates,\n"
     ]
    },
    {
     "data": {
      "text/plain": [
       "array([[ 0.05704231, 12.502163  ],\n",
       "       [ 0.05704231, 12.502163  ],\n",
       "       [ 0.05704231, 12.502163  ],\n",
       "       ...,\n",
       "       [ 0.05704231, 12.502163  ],\n",
       "       [ 0.05704231, 12.502163  ],\n",
       "       [ 0.05704231, 12.502163  ]], dtype=float32)"
      ]
     },
     "execution_count": 17,
     "metadata": {},
     "output_type": "execute_result"
    }
   ],
   "source": [
    "predictions = model.predict(X_test_2016_2017)\n",
    "predictions"
   ]
  },
  {
   "cell_type": "code",
   "execution_count": 18,
   "id": "51eec9db",
   "metadata": {},
   "outputs": [],
   "source": [
    "y_pred_h = predictions[:,1]\n",
    "y_pred_v = predictions[:,0]"
   ]
  },
  {
   "cell_type": "code",
   "execution_count": 19,
   "id": "d1cacefa",
   "metadata": {},
   "outputs": [
    {
     "data": {
      "text/plain": [
       "array([[ 0.01888235, 11.89      ],\n",
       "       [ 0.01844587, 11.87      ],\n",
       "       [ 0.0180173 , 11.85      ],\n",
       "       ...,\n",
       "       [ 0.03440052, 12.44      ],\n",
       "       [ 0.03440052, 12.44      ],\n",
       "       [ 0.03440052, 12.44      ]])"
      ]
     },
     "execution_count": 19,
     "metadata": {},
     "output_type": "execute_result"
    }
   ],
   "source": [
    "Y_test_2016_2017"
   ]
  },
  {
   "cell_type": "code",
   "execution_count": 20,
   "id": "8b7da8a2",
   "metadata": {},
   "outputs": [],
   "source": [
    "y_true_h = Y_test_2016_2017[:,1]\n",
    "y_true_v = Y_test_2016_2017[:,0]"
   ]
  },
  {
   "cell_type": "code",
   "execution_count": 21,
   "id": "e4d83096",
   "metadata": {},
   "outputs": [
    {
     "data": {
      "text/plain": [
       "(0.32846772676671043, 0.0017727264578701)"
      ]
     },
     "execution_count": 21,
     "metadata": {},
     "output_type": "execute_result"
    }
   ],
   "source": [
    "mse_h = np.mean(np.square(y_true_h - y_pred_h))\n",
    "mse_v = np.mean(np.square(y_true_v - y_pred_v))\n",
    "\n",
    "mse_h, mse_v"
   ]
  },
  {
   "cell_type": "code",
   "execution_count": 22,
   "id": "1cc2713f",
   "metadata": {},
   "outputs": [
    {
     "data": {
      "text/plain": [
       "0.16512022661229026"
      ]
     },
     "execution_count": 22,
     "metadata": {},
     "output_type": "execute_result"
    }
   ],
   "source": [
    "(mse_h + mse_v)/2"
   ]
  },
  {
   "cell_type": "code",
   "execution_count": 23,
   "id": "810316c6",
   "metadata": {},
   "outputs": [
    {
     "data": {
      "text/plain": [
       "-0.0579383618526601"
      ]
     },
     "execution_count": 23,
     "metadata": {},
     "output_type": "execute_result"
    }
   ],
   "source": [
    "SS_res_h = np.sum(np.square(y_true_h - y_pred_h)) \n",
    "SS_tot_h = np.sum(np.square(y_true_h - np.mean(y_true_h)))\n",
    "\n",
    "NSE_h = 1 - SS_res_h/(SS_tot_h)\n",
    "NSE_h"
   ]
  },
  {
   "cell_type": "code",
   "execution_count": 24,
   "id": "c2b5d1fa",
   "metadata": {},
   "outputs": [
    {
     "data": {
      "text/plain": [
       "-0.04993967642249375"
      ]
     },
     "execution_count": 24,
     "metadata": {},
     "output_type": "execute_result"
    }
   ],
   "source": [
    "SS_res_v = np.sum(np.square(y_true_v - y_pred_v)) \n",
    "SS_tot_v = np.sum(np.square(y_true_v - np.mean(y_true_v)))\n",
    "\n",
    "NSE_v = 1 - SS_res_v/(SS_tot_v)\n",
    "NSE_v"
   ]
  },
  {
   "cell_type": "code",
   "execution_count": 25,
   "id": "49d876ee",
   "metadata": {},
   "outputs": [],
   "source": [
    "np.savetxt('pinn_predictions.csv', y_pred_h, delimiter=',', fmt='%.4f')"
   ]
  },
  {
   "cell_type": "code",
   "execution_count": null,
   "id": "4e748344",
   "metadata": {},
   "outputs": [],
   "source": []
  }
 ],
 "metadata": {
  "kernelspec": {
   "display_name": "Python 3 (ipykernel)",
   "language": "python",
   "name": "python3"
  },
  "language_info": {
   "codemirror_mode": {
    "name": "ipython",
    "version": 3
   },
   "file_extension": ".py",
   "mimetype": "text/x-python",
   "name": "python",
   "nbconvert_exporter": "python",
   "pygments_lexer": "ipython3",
   "version": "3.9.13"
  }
 },
 "nbformat": 4,
 "nbformat_minor": 5
}
