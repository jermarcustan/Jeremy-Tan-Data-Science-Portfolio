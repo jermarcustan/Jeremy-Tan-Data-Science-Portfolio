{
 "cells": [
  {
   "cell_type": "code",
   "execution_count": 1,
   "id": "5d0c35d5",
   "metadata": {},
   "outputs": [],
   "source": [
    "import tensorflow as tf\n",
    "import pandas as pd\n",
    "import os\n",
    "import numpy as np\n",
    "import matplotlib.pyplot as plt\n",
    "import datetime as dt\n",
    "from random import seed\n",
    "from tensorflow.keras import models\n",
    "from tensorflow.keras import layers\n",
    "from tensorflow.keras import backend as K\n",
    "tf.compat.v1.experimental.output_all_intermediates(True)"
   ]
  },
  {
   "cell_type": "code",
   "execution_count": 2,
   "id": "24a6ea5d",
   "metadata": {},
   "outputs": [],
   "source": [
    "tf.random.set_seed(36)"
   ]
  },
  {
   "cell_type": "code",
   "execution_count": 3,
   "id": "7fa8d193",
   "metadata": {},
   "outputs": [],
   "source": [
    "BASE_DIR_PATH = '../../Datasets'\n",
    "DATASET_FILE = os.path.join(BASE_DIR_PATH, 'compiled_data_2016_2017.csv')"
   ]
  },
  {
   "cell_type": "code",
   "execution_count": 4,
   "id": "3b6763cf",
   "metadata": {},
   "outputs": [
    {
     "data": {
      "text/html": [
       "<div>\n",
       "<style scoped>\n",
       "    .dataframe tbody tr th:only-of-type {\n",
       "        vertical-align: middle;\n",
       "    }\n",
       "\n",
       "    .dataframe tbody tr th {\n",
       "        vertical-align: top;\n",
       "    }\n",
       "\n",
       "    .dataframe thead th {\n",
       "        text-align: right;\n",
       "    }\n",
       "</style>\n",
       "<table border=\"1\" class=\"dataframe\">\n",
       "  <thead>\n",
       "    <tr style=\"text-align: right;\">\n",
       "      <th></th>\n",
       "      <th>Unnamed: 0</th>\n",
       "      <th>index</th>\n",
       "      <th>Rainfall_Aries</th>\n",
       "      <th>Rainfall_Boso</th>\n",
       "      <th>Rainfall_Campana</th>\n",
       "      <th>Rainfall_Nangka</th>\n",
       "      <th>Rainfall_Oro</th>\n",
       "      <th>Waterlevel_Sto_Nino</th>\n",
       "      <th>Waterlevel_Montalban</th>\n",
       "      <th>Discharge_Sto_Nino</th>\n",
       "      <th>Discharge_San_Jose</th>\n",
       "      <th>Cross_Section_Sto_Nino</th>\n",
       "      <th>Cross_Section_Montalban</th>\n",
       "      <th>Velocity_Sto_Nino</th>\n",
       "      <th>Velocity_Montalban</th>\n",
       "      <th>datetime</th>\n",
       "      <th>t</th>\n",
       "      <th>x</th>\n",
       "    </tr>\n",
       "  </thead>\n",
       "  <tbody>\n",
       "    <tr>\n",
       "      <th>0</th>\n",
       "      <td>0</td>\n",
       "      <td>0</td>\n",
       "      <td>0</td>\n",
       "      <td>1</td>\n",
       "      <td>2</td>\n",
       "      <td>0</td>\n",
       "      <td>0</td>\n",
       "      <td>12.18</td>\n",
       "      <td>21.03</td>\n",
       "      <td>21.033407</td>\n",
       "      <td>14.842428</td>\n",
       "      <td>803.88</td>\n",
       "      <td>630.9</td>\n",
       "      <td>0.026165</td>\n",
       "      <td>0.023526</td>\n",
       "      <td>2016-01-01 00:00:00</td>\n",
       "      <td>0.0</td>\n",
       "      <td>14420</td>\n",
       "    </tr>\n",
       "    <tr>\n",
       "      <th>1</th>\n",
       "      <td>1</td>\n",
       "      <td>1</td>\n",
       "      <td>0</td>\n",
       "      <td>1</td>\n",
       "      <td>1</td>\n",
       "      <td>1</td>\n",
       "      <td>0</td>\n",
       "      <td>12.19</td>\n",
       "      <td>21.03</td>\n",
       "      <td>21.280072</td>\n",
       "      <td>14.842428</td>\n",
       "      <td>804.54</td>\n",
       "      <td>630.9</td>\n",
       "      <td>0.026450</td>\n",
       "      <td>0.023526</td>\n",
       "      <td>2016-01-01 01:00:00</td>\n",
       "      <td>3600.0</td>\n",
       "      <td>14420</td>\n",
       "    </tr>\n",
       "    <tr>\n",
       "      <th>2</th>\n",
       "      <td>2</td>\n",
       "      <td>2</td>\n",
       "      <td>1</td>\n",
       "      <td>1</td>\n",
       "      <td>1</td>\n",
       "      <td>0</td>\n",
       "      <td>1</td>\n",
       "      <td>12.19</td>\n",
       "      <td>21.03</td>\n",
       "      <td>21.280072</td>\n",
       "      <td>14.842428</td>\n",
       "      <td>804.54</td>\n",
       "      <td>630.9</td>\n",
       "      <td>0.026450</td>\n",
       "      <td>0.023526</td>\n",
       "      <td>2016-01-01 02:00:00</td>\n",
       "      <td>7200.0</td>\n",
       "      <td>14420</td>\n",
       "    </tr>\n",
       "    <tr>\n",
       "      <th>3</th>\n",
       "      <td>3</td>\n",
       "      <td>3</td>\n",
       "      <td>0</td>\n",
       "      <td>0</td>\n",
       "      <td>0</td>\n",
       "      <td>1</td>\n",
       "      <td>0</td>\n",
       "      <td>12.20</td>\n",
       "      <td>21.03</td>\n",
       "      <td>21.529056</td>\n",
       "      <td>14.842428</td>\n",
       "      <td>805.20</td>\n",
       "      <td>630.9</td>\n",
       "      <td>0.026738</td>\n",
       "      <td>0.023526</td>\n",
       "      <td>2016-01-01 03:00:00</td>\n",
       "      <td>10800.0</td>\n",
       "      <td>14420</td>\n",
       "    </tr>\n",
       "    <tr>\n",
       "      <th>4</th>\n",
       "      <td>4</td>\n",
       "      <td>4</td>\n",
       "      <td>1</td>\n",
       "      <td>1</td>\n",
       "      <td>1</td>\n",
       "      <td>0</td>\n",
       "      <td>0</td>\n",
       "      <td>12.20</td>\n",
       "      <td>21.03</td>\n",
       "      <td>21.529056</td>\n",
       "      <td>14.842428</td>\n",
       "      <td>805.20</td>\n",
       "      <td>630.9</td>\n",
       "      <td>0.026738</td>\n",
       "      <td>0.023526</td>\n",
       "      <td>2016-01-01 04:00:00</td>\n",
       "      <td>14400.0</td>\n",
       "      <td>14420</td>\n",
       "    </tr>\n",
       "    <tr>\n",
       "      <th>...</th>\n",
       "      <td>...</td>\n",
       "      <td>...</td>\n",
       "      <td>...</td>\n",
       "      <td>...</td>\n",
       "      <td>...</td>\n",
       "      <td>...</td>\n",
       "      <td>...</td>\n",
       "      <td>...</td>\n",
       "      <td>...</td>\n",
       "      <td>...</td>\n",
       "      <td>...</td>\n",
       "      <td>...</td>\n",
       "      <td>...</td>\n",
       "      <td>...</td>\n",
       "      <td>...</td>\n",
       "      <td>...</td>\n",
       "      <td>...</td>\n",
       "      <td>...</td>\n",
       "    </tr>\n",
       "    <tr>\n",
       "      <th>17515</th>\n",
       "      <td>17515</td>\n",
       "      <td>16059</td>\n",
       "      <td>0</td>\n",
       "      <td>0</td>\n",
       "      <td>0</td>\n",
       "      <td>0</td>\n",
       "      <td>0</td>\n",
       "      <td>12.44</td>\n",
       "      <td>21.18</td>\n",
       "      <td>28.244204</td>\n",
       "      <td>17.224575</td>\n",
       "      <td>821.04</td>\n",
       "      <td>635.4</td>\n",
       "      <td>0.034401</td>\n",
       "      <td>0.027108</td>\n",
       "      <td>2017-12-31 19:00:00</td>\n",
       "      <td>63140400.0</td>\n",
       "      <td>14420</td>\n",
       "    </tr>\n",
       "    <tr>\n",
       "      <th>17516</th>\n",
       "      <td>17516</td>\n",
       "      <td>16424</td>\n",
       "      <td>0</td>\n",
       "      <td>0</td>\n",
       "      <td>0</td>\n",
       "      <td>0</td>\n",
       "      <td>0</td>\n",
       "      <td>12.44</td>\n",
       "      <td>21.18</td>\n",
       "      <td>28.244204</td>\n",
       "      <td>17.224575</td>\n",
       "      <td>821.04</td>\n",
       "      <td>635.4</td>\n",
       "      <td>0.034401</td>\n",
       "      <td>0.027108</td>\n",
       "      <td>2017-12-31 20:00:00</td>\n",
       "      <td>63144000.0</td>\n",
       "      <td>14420</td>\n",
       "    </tr>\n",
       "    <tr>\n",
       "      <th>17517</th>\n",
       "      <td>17517</td>\n",
       "      <td>16789</td>\n",
       "      <td>0</td>\n",
       "      <td>0</td>\n",
       "      <td>0</td>\n",
       "      <td>0</td>\n",
       "      <td>0</td>\n",
       "      <td>12.44</td>\n",
       "      <td>21.18</td>\n",
       "      <td>28.244204</td>\n",
       "      <td>17.224575</td>\n",
       "      <td>821.04</td>\n",
       "      <td>635.4</td>\n",
       "      <td>0.034401</td>\n",
       "      <td>0.027108</td>\n",
       "      <td>2017-12-31 21:00:00</td>\n",
       "      <td>63147600.0</td>\n",
       "      <td>14420</td>\n",
       "    </tr>\n",
       "    <tr>\n",
       "      <th>17518</th>\n",
       "      <td>17518</td>\n",
       "      <td>17154</td>\n",
       "      <td>0</td>\n",
       "      <td>0</td>\n",
       "      <td>0</td>\n",
       "      <td>0</td>\n",
       "      <td>0</td>\n",
       "      <td>12.44</td>\n",
       "      <td>21.18</td>\n",
       "      <td>28.244204</td>\n",
       "      <td>17.224575</td>\n",
       "      <td>821.04</td>\n",
       "      <td>635.4</td>\n",
       "      <td>0.034401</td>\n",
       "      <td>0.027108</td>\n",
       "      <td>2017-12-31 22:00:00</td>\n",
       "      <td>63151200.0</td>\n",
       "      <td>14420</td>\n",
       "    </tr>\n",
       "    <tr>\n",
       "      <th>17519</th>\n",
       "      <td>17519</td>\n",
       "      <td>17519</td>\n",
       "      <td>0</td>\n",
       "      <td>0</td>\n",
       "      <td>0</td>\n",
       "      <td>0</td>\n",
       "      <td>0</td>\n",
       "      <td>12.44</td>\n",
       "      <td>21.18</td>\n",
       "      <td>28.244204</td>\n",
       "      <td>17.224575</td>\n",
       "      <td>821.04</td>\n",
       "      <td>635.4</td>\n",
       "      <td>0.034401</td>\n",
       "      <td>0.027108</td>\n",
       "      <td>2017-12-31 23:00:00</td>\n",
       "      <td>63154800.0</td>\n",
       "      <td>14420</td>\n",
       "    </tr>\n",
       "  </tbody>\n",
       "</table>\n",
       "<p>17520 rows × 18 columns</p>\n",
       "</div>"
      ],
      "text/plain": [
       "       Unnamed: 0  index  Rainfall_Aries  Rainfall_Boso  Rainfall_Campana  \\\n",
       "0               0      0               0              1                 2   \n",
       "1               1      1               0              1                 1   \n",
       "2               2      2               1              1                 1   \n",
       "3               3      3               0              0                 0   \n",
       "4               4      4               1              1                 1   \n",
       "...           ...    ...             ...            ...               ...   \n",
       "17515       17515  16059               0              0                 0   \n",
       "17516       17516  16424               0              0                 0   \n",
       "17517       17517  16789               0              0                 0   \n",
       "17518       17518  17154               0              0                 0   \n",
       "17519       17519  17519               0              0                 0   \n",
       "\n",
       "       Rainfall_Nangka  Rainfall_Oro  Waterlevel_Sto_Nino  \\\n",
       "0                    0             0                12.18   \n",
       "1                    1             0                12.19   \n",
       "2                    0             1                12.19   \n",
       "3                    1             0                12.20   \n",
       "4                    0             0                12.20   \n",
       "...                ...           ...                  ...   \n",
       "17515                0             0                12.44   \n",
       "17516                0             0                12.44   \n",
       "17517                0             0                12.44   \n",
       "17518                0             0                12.44   \n",
       "17519                0             0                12.44   \n",
       "\n",
       "       Waterlevel_Montalban  Discharge_Sto_Nino  Discharge_San_Jose  \\\n",
       "0                     21.03           21.033407           14.842428   \n",
       "1                     21.03           21.280072           14.842428   \n",
       "2                     21.03           21.280072           14.842428   \n",
       "3                     21.03           21.529056           14.842428   \n",
       "4                     21.03           21.529056           14.842428   \n",
       "...                     ...                 ...                 ...   \n",
       "17515                 21.18           28.244204           17.224575   \n",
       "17516                 21.18           28.244204           17.224575   \n",
       "17517                 21.18           28.244204           17.224575   \n",
       "17518                 21.18           28.244204           17.224575   \n",
       "17519                 21.18           28.244204           17.224575   \n",
       "\n",
       "       Cross_Section_Sto_Nino  Cross_Section_Montalban  Velocity_Sto_Nino  \\\n",
       "0                      803.88                    630.9           0.026165   \n",
       "1                      804.54                    630.9           0.026450   \n",
       "2                      804.54                    630.9           0.026450   \n",
       "3                      805.20                    630.9           0.026738   \n",
       "4                      805.20                    630.9           0.026738   \n",
       "...                       ...                      ...                ...   \n",
       "17515                  821.04                    635.4           0.034401   \n",
       "17516                  821.04                    635.4           0.034401   \n",
       "17517                  821.04                    635.4           0.034401   \n",
       "17518                  821.04                    635.4           0.034401   \n",
       "17519                  821.04                    635.4           0.034401   \n",
       "\n",
       "       Velocity_Montalban             datetime           t      x  \n",
       "0                0.023526  2016-01-01 00:00:00         0.0  14420  \n",
       "1                0.023526  2016-01-01 01:00:00      3600.0  14420  \n",
       "2                0.023526  2016-01-01 02:00:00      7200.0  14420  \n",
       "3                0.023526  2016-01-01 03:00:00     10800.0  14420  \n",
       "4                0.023526  2016-01-01 04:00:00     14400.0  14420  \n",
       "...                   ...                  ...         ...    ...  \n",
       "17515            0.027108  2017-12-31 19:00:00  63140400.0  14420  \n",
       "17516            0.027108  2017-12-31 20:00:00  63144000.0  14420  \n",
       "17517            0.027108  2017-12-31 21:00:00  63147600.0  14420  \n",
       "17518            0.027108  2017-12-31 22:00:00  63151200.0  14420  \n",
       "17519            0.027108  2017-12-31 23:00:00  63154800.0  14420  \n",
       "\n",
       "[17520 rows x 18 columns]"
      ]
     },
     "execution_count": 4,
     "metadata": {},
     "output_type": "execute_result"
    }
   ],
   "source": [
    "df = pd.read_csv(DATASET_FILE)\n",
    "df"
   ]
  },
  {
   "cell_type": "code",
   "execution_count": 5,
   "id": "c5cbf07c",
   "metadata": {},
   "outputs": [
    {
     "data": {
      "text/html": [
       "<div>\n",
       "<style scoped>\n",
       "    .dataframe tbody tr th:only-of-type {\n",
       "        vertical-align: middle;\n",
       "    }\n",
       "\n",
       "    .dataframe tbody tr th {\n",
       "        vertical-align: top;\n",
       "    }\n",
       "\n",
       "    .dataframe thead th {\n",
       "        text-align: right;\n",
       "    }\n",
       "</style>\n",
       "<table border=\"1\" class=\"dataframe\">\n",
       "  <thead>\n",
       "    <tr style=\"text-align: right;\">\n",
       "      <th></th>\n",
       "      <th>Rainfall_Aries</th>\n",
       "      <th>Rainfall_Boso</th>\n",
       "      <th>Rainfall_Campana</th>\n",
       "      <th>Rainfall_Nangka</th>\n",
       "      <th>Rainfall_Oro</th>\n",
       "      <th>Waterlevel_Sto_Nino</th>\n",
       "    </tr>\n",
       "  </thead>\n",
       "  <tbody>\n",
       "    <tr>\n",
       "      <th>0</th>\n",
       "      <td>0</td>\n",
       "      <td>1</td>\n",
       "      <td>2</td>\n",
       "      <td>0</td>\n",
       "      <td>0</td>\n",
       "      <td>12.18</td>\n",
       "    </tr>\n",
       "    <tr>\n",
       "      <th>1</th>\n",
       "      <td>0</td>\n",
       "      <td>1</td>\n",
       "      <td>1</td>\n",
       "      <td>1</td>\n",
       "      <td>0</td>\n",
       "      <td>12.19</td>\n",
       "    </tr>\n",
       "    <tr>\n",
       "      <th>2</th>\n",
       "      <td>1</td>\n",
       "      <td>1</td>\n",
       "      <td>1</td>\n",
       "      <td>0</td>\n",
       "      <td>1</td>\n",
       "      <td>12.19</td>\n",
       "    </tr>\n",
       "    <tr>\n",
       "      <th>3</th>\n",
       "      <td>0</td>\n",
       "      <td>0</td>\n",
       "      <td>0</td>\n",
       "      <td>1</td>\n",
       "      <td>0</td>\n",
       "      <td>12.20</td>\n",
       "    </tr>\n",
       "    <tr>\n",
       "      <th>4</th>\n",
       "      <td>1</td>\n",
       "      <td>1</td>\n",
       "      <td>1</td>\n",
       "      <td>0</td>\n",
       "      <td>0</td>\n",
       "      <td>12.20</td>\n",
       "    </tr>\n",
       "    <tr>\n",
       "      <th>5</th>\n",
       "      <td>0</td>\n",
       "      <td>0</td>\n",
       "      <td>1</td>\n",
       "      <td>0</td>\n",
       "      <td>0</td>\n",
       "      <td>12.20</td>\n",
       "    </tr>\n",
       "    <tr>\n",
       "      <th>6</th>\n",
       "      <td>0</td>\n",
       "      <td>1</td>\n",
       "      <td>1</td>\n",
       "      <td>0</td>\n",
       "      <td>0</td>\n",
       "      <td>12.21</td>\n",
       "    </tr>\n",
       "    <tr>\n",
       "      <th>7</th>\n",
       "      <td>0</td>\n",
       "      <td>0</td>\n",
       "      <td>0</td>\n",
       "      <td>0</td>\n",
       "      <td>0</td>\n",
       "      <td>12.21</td>\n",
       "    </tr>\n",
       "    <tr>\n",
       "      <th>8</th>\n",
       "      <td>1</td>\n",
       "      <td>0</td>\n",
       "      <td>1</td>\n",
       "      <td>0</td>\n",
       "      <td>0</td>\n",
       "      <td>12.21</td>\n",
       "    </tr>\n",
       "    <tr>\n",
       "      <th>9</th>\n",
       "      <td>0</td>\n",
       "      <td>0</td>\n",
       "      <td>0</td>\n",
       "      <td>0</td>\n",
       "      <td>0</td>\n",
       "      <td>12.21</td>\n",
       "    </tr>\n",
       "  </tbody>\n",
       "</table>\n",
       "</div>"
      ],
      "text/plain": [
       "   Rainfall_Aries  Rainfall_Boso  Rainfall_Campana  Rainfall_Nangka  \\\n",
       "0               0              1                 2                0   \n",
       "1               0              1                 1                1   \n",
       "2               1              1                 1                0   \n",
       "3               0              0                 0                1   \n",
       "4               1              1                 1                0   \n",
       "5               0              0                 1                0   \n",
       "6               0              1                 1                0   \n",
       "7               0              0                 0                0   \n",
       "8               1              0                 1                0   \n",
       "9               0              0                 0                0   \n",
       "\n",
       "   Rainfall_Oro  Waterlevel_Sto_Nino  \n",
       "0             0                12.18  \n",
       "1             0                12.19  \n",
       "2             1                12.19  \n",
       "3             0                12.20  \n",
       "4             0                12.20  \n",
       "5             0                12.20  \n",
       "6             0                12.21  \n",
       "7             0                12.21  \n",
       "8             0                12.21  \n",
       "9             0                12.21  "
      ]
     },
     "execution_count": 5,
     "metadata": {},
     "output_type": "execute_result"
    }
   ],
   "source": [
    "df = df[['Rainfall_Aries', 'Rainfall_Boso', 'Rainfall_Campana', 'Rainfall_Nangka', 'Rainfall_Oro', 'Waterlevel_Sto_Nino']]\n",
    "df.head(10)"
   ]
  },
  {
   "cell_type": "code",
   "execution_count": 6,
   "id": "92ef67d9",
   "metadata": {},
   "outputs": [],
   "source": [
    "# Splitting for time series: split into 50-25-25\n",
    "n = len(df)\n",
    "train_df = df[0:int(n*0.5)]\n",
    "val_df = df[int(n*0.5):int(n*0.75)]\n",
    "test_df = df[int(n*0.75):]"
   ]
  },
  {
   "cell_type": "code",
   "execution_count": 7,
   "id": "2f00f2ce",
   "metadata": {},
   "outputs": [],
   "source": [
    "class WindowGenerator():\n",
    "    def __init__(self, input_width, label_width, shift, train_df=train_df, val_df=val_df, test_df=test_df, label_columns=None):\n",
    "        # Store the raw data.\n",
    "        self.train_df = train_df\n",
    "        self.val_df = val_df\n",
    "        self.test_df = test_df\n",
    "\n",
    "        # Work out the label column indices.\n",
    "        self.label_columns = label_columns\n",
    "        if label_columns is not None:\n",
    "            self.label_columns_indices = {name: i for i, name in enumerate(label_columns)}\n",
    "        self.column_indices = {name: i for i, name in enumerate(train_df.columns)}\n",
    "\n",
    "        # Work out the window parameters.\n",
    "        self.input_width = input_width\n",
    "        self.label_width = label_width\n",
    "        self.shift = shift\n",
    "\n",
    "        self.total_window_size = input_width + shift\n",
    "\n",
    "        self.input_slice = slice(0, input_width)\n",
    "        self.input_indices = np.arange(self.total_window_size)[self.input_slice]\n",
    "\n",
    "        self.label_start = self.total_window_size - self.label_width\n",
    "        self.labels_slice = slice(self.label_start, None)\n",
    "        self.label_indices = np.arange(self.total_window_size)[self.labels_slice]\n",
    "\n",
    "    def __repr__(self):\n",
    "        return '\\n'.join([\n",
    "            f'Total window size: {self.total_window_size}',\n",
    "            f'Input indices: {self.input_indices}',\n",
    "            f'Label indices: {self.label_indices}',\n",
    "            f'Label column name(s): {self.label_columns}'])\n",
    "\n",
    "    def split_window(self, features):\n",
    "        inputs = features[:, self.input_slice, :]\n",
    "        labels = features[:, self.labels_slice, :]\n",
    "        if self.label_columns is not None:\n",
    "            labels = tf.stack([labels[:, :, self.column_indices[name]] for name in self.label_columns], axis=-1)\n",
    "\n",
    "        # Slicing doesn't preserve static shape information, so set the shapes\n",
    "        # manually. This way the `tf.data.Datasets` are easier to inspect.\n",
    "        inputs.set_shape([None, self.input_width, None])\n",
    "        labels.set_shape([None, self.label_width, None])\n",
    "\n",
    "        return inputs, labels\n",
    "    \n",
    "    # Creating tf datasets for more convenient use and integration into model in the future\n",
    "    def make_dataset(self, data, shuffle=True):\n",
    "        data = np.array(data, dtype=np.float32)\n",
    "        ds = tf.keras.utils.timeseries_dataset_from_array(\n",
    "            data=data,\n",
    "            targets=None,\n",
    "            sequence_length=self.total_window_size,\n",
    "            sequence_stride=1,\n",
    "            shuffle=shuffle,\n",
    "            batch_size=32,)\n",
    "\n",
    "        ds = ds.map(self.split_window)\n",
    "\n",
    "        return ds\n",
    "    \n",
    "    # properties to access them as tf datasets\n",
    "    @property\n",
    "    def train(self):\n",
    "        return self.make_dataset(self.train_df)\n",
    "\n",
    "    @property\n",
    "    def val(self):\n",
    "        return self.make_dataset(self.val_df)\n",
    "\n",
    "    @property\n",
    "    def test(self):\n",
    "        return self.make_dataset(self.test_df, shuffle=False)\n",
    "\n",
    "    @property\n",
    "    def example(self):\n",
    "        \"\"\"Get and cache an example batch of `inputs, labels` for plotting.\"\"\"\n",
    "        result = getattr(self, '_example', None)\n",
    "        if result is None:\n",
    "            # No example batch was found, so get one from the `.train` dataset\n",
    "            result = next(iter(self.train))\n",
    "            # And cache it for next time\n",
    "            self._example = result\n",
    "        return result"
   ]
  },
  {
   "cell_type": "code",
   "execution_count": 8,
   "id": "cb3ddf14",
   "metadata": {},
   "outputs": [
    {
     "data": {
      "text/plain": [
       "Total window size: 7\n",
       "Input indices: [0 1 2 3 4 5]\n",
       "Label indices: [6]\n",
       "Label column name(s): ['Waterlevel_Sto_Nino']"
      ]
     },
     "execution_count": 8,
     "metadata": {},
     "output_type": "execute_result"
    }
   ],
   "source": [
    "window = WindowGenerator(\n",
    "        input_width=6, label_width=1, shift=1,\n",
    "        label_columns=['Waterlevel_Sto_Nino']\n",
    "    )\n",
    "\n",
    "window"
   ]
  },
  {
   "cell_type": "code",
   "execution_count": 9,
   "id": "1e21e8d5",
   "metadata": {},
   "outputs": [
    {
     "name": "stdout",
     "output_type": "stream",
     "text": [
      "Inputs shape (batch, time, features): (32, 6, 6)\n",
      "Labels shape (batch, time, features): (32, 1, 1)\n"
     ]
    }
   ],
   "source": [
    "for example_inputs, example_labels in window.train.take(1):\n",
    "    print(f'Inputs shape (batch, time, features): {example_inputs.shape}')\n",
    "    print(f'Labels shape (batch, time, features): {example_labels.shape}')"
   ]
  },
  {
   "cell_type": "code",
   "execution_count": 10,
   "id": "2cb8385e",
   "metadata": {
    "scrolled": true
   },
   "outputs": [
    {
     "data": {
      "text/plain": [
       "(<tf.Tensor: shape=(32, 6, 6), dtype=float32, numpy=\n",
       " array([[[ 0.  ,  0.  ,  0.  ,  0.  ,  0.  , 12.59],\n",
       "         [ 0.  ,  0.  ,  0.  ,  0.  ,  0.  , 12.59],\n",
       "         [ 0.  ,  0.  ,  0.  ,  0.  ,  0.  , 12.58],\n",
       "         [ 0.  ,  0.  ,  0.  ,  0.  ,  0.  , 12.58],\n",
       "         [ 1.  ,  0.  ,  0.  ,  0.  ,  0.  , 12.58],\n",
       "         [ 0.  ,  0.  ,  0.  ,  0.  ,  0.  , 12.57]],\n",
       " \n",
       "        [[ 0.  ,  0.  ,  0.  ,  0.  ,  0.  , 11.9 ],\n",
       "         [ 0.  ,  0.  ,  0.  ,  0.  ,  0.  , 11.9 ],\n",
       "         [ 0.  ,  0.  ,  0.  ,  0.  ,  0.  , 11.9 ],\n",
       "         [ 0.  ,  0.  ,  0.  ,  0.  ,  0.  , 11.9 ],\n",
       "         [ 0.  ,  0.  ,  0.  ,  0.  ,  0.  , 11.9 ],\n",
       "         [ 0.  ,  0.  ,  0.  ,  0.  ,  0.  , 11.9 ]],\n",
       " \n",
       "        [[ 0.  ,  0.  ,  0.  ,  0.  ,  0.  , 13.39],\n",
       "         [ 0.  ,  0.  ,  0.  ,  0.  ,  0.  , 13.4 ],\n",
       "         [ 7.  ,  0.  ,  0.  ,  2.  ,  4.  , 13.46],\n",
       "         [ 2.  , 10.  ,  5.  ,  1.  ,  1.  , 13.45],\n",
       "         [ 0.  ,  0.  ,  0.  ,  0.  ,  0.  , 13.47],\n",
       "         [ 0.  ,  0.  ,  0.  ,  0.  ,  0.  , 13.41]],\n",
       " \n",
       "        ...,\n",
       " \n",
       "        [[ 0.  ,  0.  ,  0.  ,  0.  ,  0.  , 11.39],\n",
       "         [ 0.  ,  0.  ,  0.  ,  0.  ,  0.  , 11.39],\n",
       "         [ 0.  ,  0.  ,  0.  ,  0.  ,  0.  , 11.39],\n",
       "         [ 0.  ,  0.  ,  0.  ,  0.  ,  0.  , 11.39],\n",
       "         [ 0.  ,  0.  ,  0.  ,  0.  ,  0.  , 11.39],\n",
       "         [ 0.  ,  0.  ,  0.  ,  0.  ,  0.  , 11.39]],\n",
       " \n",
       "        [[ 0.  ,  0.  ,  0.  ,  0.  ,  0.  , 11.89],\n",
       "         [ 0.  ,  0.  ,  0.  ,  0.  ,  0.  , 11.89],\n",
       "         [ 0.  ,  0.  ,  0.  ,  0.  ,  0.  , 11.89],\n",
       "         [ 0.  ,  0.  ,  0.  ,  0.  ,  0.  , 11.89],\n",
       "         [ 0.  ,  0.  ,  0.  ,  0.  ,  0.  , 11.89],\n",
       "         [ 0.  ,  0.  ,  0.  ,  0.  ,  0.  , 11.89]],\n",
       " \n",
       "        [[ 0.  ,  0.  ,  0.  ,  0.  ,  0.  , 11.39],\n",
       "         [ 0.  ,  0.  ,  0.  ,  0.  ,  0.  , 11.39],\n",
       "         [ 0.  ,  0.  ,  0.  ,  0.  ,  0.  , 11.39],\n",
       "         [ 0.  ,  0.  ,  0.  ,  0.  ,  0.  , 11.39],\n",
       "         [ 0.  ,  0.  ,  0.  ,  0.  ,  0.  , 11.39],\n",
       "         [ 0.  ,  0.  ,  0.  ,  0.  ,  0.  , 11.39]]], dtype=float32)>,\n",
       " <tf.Tensor: shape=(32, 1, 1), dtype=float32, numpy=\n",
       " array([[[12.57]],\n",
       " \n",
       "        [[11.9 ]],\n",
       " \n",
       "        [[13.34]],\n",
       " \n",
       "        [[11.87]],\n",
       " \n",
       "        [[11.92]],\n",
       " \n",
       "        [[13.12]],\n",
       " \n",
       "        [[12.07]],\n",
       " \n",
       "        [[11.9 ]],\n",
       " \n",
       "        [[11.92]],\n",
       " \n",
       "        [[11.91]],\n",
       " \n",
       "        [[12.7 ]],\n",
       " \n",
       "        [[11.83]],\n",
       " \n",
       "        [[13.07]],\n",
       " \n",
       "        [[11.91]],\n",
       " \n",
       "        [[12.54]],\n",
       " \n",
       "        [[13.7 ]],\n",
       " \n",
       "        [[12.53]],\n",
       " \n",
       "        [[11.87]],\n",
       " \n",
       "        [[12.52]],\n",
       " \n",
       "        [[12.04]],\n",
       " \n",
       "        [[12.24]],\n",
       " \n",
       "        [[12.02]],\n",
       " \n",
       "        [[11.87]],\n",
       " \n",
       "        [[13.34]],\n",
       " \n",
       "        [[12.89]],\n",
       " \n",
       "        [[11.87]],\n",
       " \n",
       "        [[13.46]],\n",
       " \n",
       "        [[13.43]],\n",
       " \n",
       "        [[11.98]],\n",
       " \n",
       "        [[11.39]],\n",
       " \n",
       "        [[11.89]],\n",
       " \n",
       "        [[11.39]]], dtype=float32)>)"
      ]
     },
     "execution_count": 10,
     "metadata": {},
     "output_type": "execute_result"
    }
   ],
   "source": [
    "window.example"
   ]
  },
  {
   "cell_type": "markdown",
   "id": "9d9665f4",
   "metadata": {},
   "source": [
    "## Metrics"
   ]
  },
  {
   "cell_type": "code",
   "execution_count": 11,
   "id": "ab90ccf5",
   "metadata": {},
   "outputs": [],
   "source": [
    "def r_square(y_true, y_pred):\n",
    "    x = y_true\n",
    "    y = y_pred\n",
    "    mx = K.mean(x, axis=0)\n",
    "    my = K.mean(y, axis=0)\n",
    "    xm, ym = x - mx, y - my\n",
    "    r_num = K.square(K.sum(xm * ym))\n",
    "    x_square_sum = K.sum(xm * xm)\n",
    "    y_square_sum = K.sum(ym * ym)\n",
    "    r_den = (x_square_sum * y_square_sum) + K.epsilon()\n",
    "    \n",
    "    r = r_num / r_den\n",
    "    return r"
   ]
  },
  {
   "cell_type": "code",
   "execution_count": 12,
   "id": "84a05b90",
   "metadata": {},
   "outputs": [],
   "source": [
    "def NSE(y_true, y_pred):\n",
    "    '''\n",
    "    This is the Nash-Sutcliffe Efficiency Coefficient\n",
    "    '''\n",
    "    y_pred = K.flatten(y_pred)\n",
    "    y_true = K.flatten(y_true)\n",
    "\n",
    "    \n",
    "    SS_res =  K.sum(K.square(y_true - y_pred)) \n",
    "    SS_tot = K.sum(K.square(y_true - K.mean(y_true))) \n",
    "    \n",
    "    return ( 1 - SS_res/(SS_tot + K.epsilon()) )"
   ]
  },
  {
   "cell_type": "markdown",
   "id": "b8b4601f",
   "metadata": {},
   "source": [
    "## Training Loop"
   ]
  },
  {
   "cell_type": "code",
   "execution_count": 13,
   "id": "ffc2cf09",
   "metadata": {},
   "outputs": [],
   "source": [
    "# For easy compiling and fitting of different models\n",
    "MAX_EPOCHS = 20\n",
    "\n",
    "def compile_and_fit(model, window, patience=2):\n",
    "    early_stopping = tf.keras.callbacks.EarlyStopping(monitor='val_loss', patience=patience, mode='min', restore_best_weights=True)\n",
    "\n",
    "    model.compile(\n",
    "        loss=tf.keras.losses.MeanSquaredError(), \n",
    "        optimizer='adam', \n",
    "        metrics=[tf.keras.metrics.MeanSquaredError(), NSE, r_square]\n",
    "    )\n",
    "\n",
    "    history = model.fit(\n",
    "        window.train, \n",
    "        epochs=MAX_EPOCHS,\n",
    "        validation_data=window.val,\n",
    "        callbacks=[early_stopping]\n",
    "    )\n",
    "\n",
    "    return history"
   ]
  },
  {
   "cell_type": "markdown",
   "id": "4d4e46ac",
   "metadata": {},
   "source": [
    "## Models"
   ]
  },
  {
   "cell_type": "code",
   "execution_count": 14,
   "id": "f5939c99",
   "metadata": {},
   "outputs": [],
   "source": [
    "# Dense Neural Network\n",
    "dense = tf.keras.Sequential([\n",
    "    tf.keras.layers.Flatten(),\n",
    "    tf.keras.layers.Dense(units=64, activation='relu'),\n",
    "    tf.keras.layers.Dense(units=64, activation='relu'),\n",
    "    tf.keras.layers.Dense(units=64, activation='relu'),\n",
    "    tf.keras.layers.Dense(units=1),\n",
    "    tf.keras.layers.Reshape([1,-1])\n",
    "])\n",
    "\n",
    "# Convolution Neural Network\n",
    "conv_model = tf.keras.Sequential([\n",
    "    tf.keras.layers.Conv1D(filters=64, kernel_size=(6,), activation='relu'),\n",
    "    tf.keras.layers.Dense(units=64, activation='relu'),\n",
    "    tf.keras.layers.Dense(units=64, activation='relu'),\n",
    "    tf.keras.layers.Dense(units=1),\n",
    "])\n",
    "\n",
    "# LSTM\n",
    "lstm_model = tf.keras.models.Sequential([\n",
    "    tf.keras.layers.LSTM(64, return_sequences=False),\n",
    "    tf.keras.layers.Dense(units=64, activation='relu'),\n",
    "    tf.keras.layers.Dense(units=64, activation='relu'),\n",
    "    tf.keras.layers.Dense(units=1)\n",
    "])"
   ]
  },
  {
   "cell_type": "markdown",
   "id": "cc97ffee",
   "metadata": {},
   "source": [
    "## Training"
   ]
  },
  {
   "cell_type": "code",
   "execution_count": 15,
   "id": "cc031733",
   "metadata": {},
   "outputs": [
    {
     "name": "stdout",
     "output_type": "stream",
     "text": [
      "Epoch 1/20\n",
      "274/274 [==============================] - 6s 12ms/step - loss: 3.2882 - mean_squared_error: 3.2882 - NSE: -6.7374 - r_square: 0.6802 - val_loss: 0.0692 - val_mean_squared_error: 0.0692 - val_NSE: 0.0059 - val_r_square: 0.6691\n",
      "Epoch 2/20\n",
      "274/274 [==============================] - 3s 10ms/step - loss: 0.0697 - mean_squared_error: 0.0697 - NSE: 0.8262 - r_square: 0.8851 - val_loss: 0.0473 - val_mean_squared_error: 0.0473 - val_NSE: 0.2707 - val_r_square: 0.7268\n",
      "Epoch 3/20\n",
      "274/274 [==============================] - 2s 9ms/step - loss: 0.0465 - mean_squared_error: 0.0465 - NSE: 0.8778 - r_square: 0.9132 - val_loss: 0.0396 - val_mean_squared_error: 0.0396 - val_NSE: 0.4561 - val_r_square: 0.7539\n",
      "Epoch 4/20\n",
      "274/274 [==============================] - 2s 8ms/step - loss: 0.0394 - mean_squared_error: 0.0394 - NSE: 0.9045 - r_square: 0.9316 - val_loss: 0.0385 - val_mean_squared_error: 0.0385 - val_NSE: 0.4436 - val_r_square: 0.7773\n",
      "Epoch 5/20\n",
      "274/274 [==============================] - 2s 8ms/step - loss: 0.0330 - mean_squared_error: 0.0330 - NSE: 0.9162 - r_square: 0.9394 - val_loss: 0.0353 - val_mean_squared_error: 0.0353 - val_NSE: 0.4420 - val_r_square: 0.7772\n",
      "Epoch 6/20\n",
      "274/274 [==============================] - 2s 8ms/step - loss: 0.0392 - mean_squared_error: 0.0392 - NSE: 0.9029 - r_square: 0.9337 - val_loss: 0.0472 - val_mean_squared_error: 0.0472 - val_NSE: 0.3056 - val_r_square: 0.7658\n",
      "Epoch 7/20\n",
      "274/274 [==============================] - 2s 9ms/step - loss: 0.0325 - mean_squared_error: 0.0325 - NSE: 0.9190 - r_square: 0.9440 - val_loss: 0.0261 - val_mean_squared_error: 0.0261 - val_NSE: 0.6220 - val_r_square: 0.8147\n",
      "Epoch 8/20\n",
      "274/274 [==============================] - 2s 9ms/step - loss: 0.0224 - mean_squared_error: 0.0224 - NSE: 0.9411 - r_square: 0.9585 - val_loss: 0.0229 - val_mean_squared_error: 0.0229 - val_NSE: 0.6544 - val_r_square: 0.8169\n",
      "Epoch 9/20\n",
      "274/274 [==============================] - 2s 8ms/step - loss: 0.0254 - mean_squared_error: 0.0254 - NSE: 0.9370 - r_square: 0.9558 - val_loss: 0.0271 - val_mean_squared_error: 0.0271 - val_NSE: 0.6155 - val_r_square: 0.8061\n",
      "Epoch 10/20\n",
      "274/274 [==============================] - 2s 9ms/step - loss: 0.0312 - mean_squared_error: 0.0312 - NSE: 0.9174 - r_square: 0.9456 - val_loss: 0.0303 - val_mean_squared_error: 0.0303 - val_NSE: 0.5556 - val_r_square: 0.7390\n"
     ]
    }
   ],
   "source": [
    "dense_history = compile_and_fit(dense, window)"
   ]
  },
  {
   "cell_type": "code",
   "execution_count": 16,
   "id": "311c0a3e",
   "metadata": {},
   "outputs": [
    {
     "data": {
      "text/plain": [
       "{'loss': [3.2881600856781006,\n",
       "  0.06966462731361389,\n",
       "  0.04646735638380051,\n",
       "  0.03940794989466667,\n",
       "  0.03303134813904762,\n",
       "  0.039190202951431274,\n",
       "  0.03254517540335655,\n",
       "  0.02242407016456127,\n",
       "  0.025440428406000137,\n",
       "  0.03117644600570202],\n",
       " 'mean_squared_error': [3.2881600856781006,\n",
       "  0.06966462731361389,\n",
       "  0.04646735638380051,\n",
       "  0.03940794989466667,\n",
       "  0.03303134813904762,\n",
       "  0.039190202951431274,\n",
       "  0.03254517540335655,\n",
       "  0.02242407016456127,\n",
       "  0.025440428406000137,\n",
       "  0.03117644600570202],\n",
       " 'NSE': [-6.737372875213623,\n",
       "  0.8262125253677368,\n",
       "  0.8778225779533386,\n",
       "  0.9044537544250488,\n",
       "  0.9162060618400574,\n",
       "  0.9029176235198975,\n",
       "  0.9190429449081421,\n",
       "  0.9410582184791565,\n",
       "  0.9370189309120178,\n",
       "  0.9173919558525085],\n",
       " 'r_square': [0.6802442073822021,\n",
       "  0.8851096630096436,\n",
       "  0.9131625890731812,\n",
       "  0.9316368699073792,\n",
       "  0.9393827319145203,\n",
       "  0.9336923956871033,\n",
       "  0.9440024495124817,\n",
       "  0.958534300327301,\n",
       "  0.9558082222938538,\n",
       "  0.9456372857093811],\n",
       " 'val_loss': [0.06922190636396408,\n",
       "  0.04729075729846954,\n",
       "  0.039579838514328,\n",
       "  0.03845281898975372,\n",
       "  0.035280805081129074,\n",
       "  0.047224197536706924,\n",
       "  0.02613484486937523,\n",
       "  0.02286653406918049,\n",
       "  0.027072275057435036,\n",
       "  0.030307739973068237],\n",
       " 'val_mean_squared_error': [0.06922190636396408,\n",
       "  0.04729075729846954,\n",
       "  0.039579838514328,\n",
       "  0.03845281898975372,\n",
       "  0.035280805081129074,\n",
       "  0.047224197536706924,\n",
       "  0.02613484486937523,\n",
       "  0.02286653406918049,\n",
       "  0.027072275057435036,\n",
       "  0.030307739973068237],\n",
       " 'val_NSE': [0.005875797476619482,\n",
       "  0.27068865299224854,\n",
       "  0.4560648798942566,\n",
       "  0.44363170862197876,\n",
       "  0.4420115053653717,\n",
       "  0.3055819869041443,\n",
       "  0.6220424771308899,\n",
       "  0.65438312292099,\n",
       "  0.6155199408531189,\n",
       "  0.5555698275566101],\n",
       " 'val_r_square': [0.6691160202026367,\n",
       "  0.7268497347831726,\n",
       "  0.7538633346557617,\n",
       "  0.7772827744483948,\n",
       "  0.7772179841995239,\n",
       "  0.7658154964447021,\n",
       "  0.8146955966949463,\n",
       "  0.8168729543685913,\n",
       "  0.8061404824256897,\n",
       "  0.738988995552063]}"
      ]
     },
     "execution_count": 16,
     "metadata": {},
     "output_type": "execute_result"
    }
   ],
   "source": [
    "dense_history.history"
   ]
  },
  {
   "cell_type": "code",
   "execution_count": 17,
   "id": "40d87599",
   "metadata": {},
   "outputs": [
    {
     "name": "stdout",
     "output_type": "stream",
     "text": [
      "Epoch 1/20\n",
      "274/274 [==============================] - 5s 12ms/step - loss: 5.3864 - mean_squared_error: 5.3864 - NSE: -13.3973 - r_square: 0.7827 - val_loss: 0.0334 - val_mean_squared_error: 0.0334 - val_NSE: 0.5328 - val_r_square: 0.7948\n",
      "Epoch 2/20\n",
      "274/274 [==============================] - 3s 9ms/step - loss: 0.0392 - mean_squared_error: 0.0392 - NSE: 0.9010 - r_square: 0.9340 - val_loss: 0.0204 - val_mean_squared_error: 0.0204 - val_NSE: 0.6982 - val_r_square: 0.8322\n",
      "Epoch 3/20\n",
      "274/274 [==============================] - 2s 9ms/step - loss: 0.0213 - mean_squared_error: 0.0213 - NSE: 0.9459 - r_square: 0.9573 - val_loss: 0.0157 - val_mean_squared_error: 0.0157 - val_NSE: 0.7727 - val_r_square: 0.8507\n",
      "Epoch 4/20\n",
      "274/274 [==============================] - 3s 9ms/step - loss: 0.0181 - mean_squared_error: 0.0181 - NSE: 0.9554 - r_square: 0.9647 - val_loss: 0.0149 - val_mean_squared_error: 0.0149 - val_NSE: 0.7683 - val_r_square: 0.8628\n",
      "Epoch 5/20\n",
      "274/274 [==============================] - 2s 9ms/step - loss: 0.0147 - mean_squared_error: 0.0147 - NSE: 0.9644 - r_square: 0.9718 - val_loss: 0.0174 - val_mean_squared_error: 0.0174 - val_NSE: 0.7378 - val_r_square: 0.8704\n",
      "Epoch 6/20\n",
      "274/274 [==============================] - 3s 10ms/step - loss: 0.0193 - mean_squared_error: 0.0193 - NSE: 0.9502 - r_square: 0.9635 - val_loss: 0.0144 - val_mean_squared_error: 0.0144 - val_NSE: 0.7653 - val_r_square: 0.8675\n",
      "Epoch 7/20\n",
      "274/274 [==============================] - 3s 10ms/step - loss: 0.0193 - mean_squared_error: 0.0193 - NSE: 0.9506 - r_square: 0.9639 - val_loss: 0.0179 - val_mean_squared_error: 0.0179 - val_NSE: 0.7434 - val_r_square: 0.8489\n",
      "Epoch 8/20\n",
      "274/274 [==============================] - 3s 9ms/step - loss: 0.0303 - mean_squared_error: 0.0303 - NSE: 0.9253 - r_square: 0.9470 - val_loss: 0.0148 - val_mean_squared_error: 0.0148 - val_NSE: 0.7817 - val_r_square: 0.8580\n"
     ]
    }
   ],
   "source": [
    "conv_history = compile_and_fit(conv_model, window)"
   ]
  },
  {
   "cell_type": "code",
   "execution_count": 18,
   "id": "e6c9b3f5",
   "metadata": {},
   "outputs": [
    {
     "name": "stdout",
     "output_type": "stream",
     "text": [
      "Epoch 1/20\n",
      "274/274 [==============================] - 13s 23ms/step - loss: 8.0611 - mean_squared_error: 8.0611 - NSE: -19.9218 - r_square: 0.1799 - val_loss: 0.2366 - val_mean_squared_error: 0.2366 - val_NSE: -2.9627 - val_r_square: 0.0920\n",
      "Epoch 2/20\n",
      "274/274 [==============================] - 5s 17ms/step - loss: 0.1894 - mean_squared_error: 0.1894 - NSE: 0.5308 - r_square: 0.6319 - val_loss: 0.0283 - val_mean_squared_error: 0.0283 - val_NSE: 0.5435 - val_r_square: 0.7748\n",
      "Epoch 3/20\n",
      "274/274 [==============================] - 5s 16ms/step - loss: 0.0276 - mean_squared_error: 0.0276 - NSE: 0.9382 - r_square: 0.9577 - val_loss: 0.0141 - val_mean_squared_error: 0.0141 - val_NSE: 0.7763 - val_r_square: 0.8530\n",
      "Epoch 4/20\n",
      "274/274 [==============================] - 5s 17ms/step - loss: 0.0209 - mean_squared_error: 0.0209 - NSE: 0.9519 - r_square: 0.9686 - val_loss: 0.0123 - val_mean_squared_error: 0.0123 - val_NSE: 0.8136 - val_r_square: 0.8708\n",
      "Epoch 5/20\n",
      "274/274 [==============================] - 5s 16ms/step - loss: 0.0148 - mean_squared_error: 0.0148 - NSE: 0.9646 - r_square: 0.9729 - val_loss: 0.0205 - val_mean_squared_error: 0.0205 - val_NSE: 0.6540 - val_r_square: 0.8408\n",
      "Epoch 6/20\n",
      "274/274 [==============================] - 4s 16ms/step - loss: 0.0157 - mean_squared_error: 0.0157 - NSE: 0.9620 - r_square: 0.9760 - val_loss: 0.0121 - val_mean_squared_error: 0.0121 - val_NSE: 0.7667 - val_r_square: 0.8751\n",
      "Epoch 7/20\n",
      "274/274 [==============================] - 5s 16ms/step - loss: 0.0130 - mean_squared_error: 0.0130 - NSE: 0.9677 - r_square: 0.9794 - val_loss: 0.0096 - val_mean_squared_error: 0.0096 - val_NSE: 0.8455 - val_r_square: 0.8989\n",
      "Epoch 8/20\n",
      "274/274 [==============================] - 5s 16ms/step - loss: 0.0115 - mean_squared_error: 0.0115 - NSE: 0.9706 - r_square: 0.9813 - val_loss: 0.0112 - val_mean_squared_error: 0.0112 - val_NSE: 0.8276 - val_r_square: 0.8842\n",
      "Epoch 9/20\n",
      "274/274 [==============================] - 5s 16ms/step - loss: 0.0116 - mean_squared_error: 0.0116 - NSE: 0.9717 - r_square: 0.9835 - val_loss: 0.0220 - val_mean_squared_error: 0.0220 - val_NSE: 0.6468 - val_r_square: 0.9075\n"
     ]
    }
   ],
   "source": [
    "lstm_history = compile_and_fit(lstm_model, window)"
   ]
  },
  {
   "cell_type": "markdown",
   "id": "2bc092df",
   "metadata": {},
   "source": [
    "## Predictions"
   ]
  },
  {
   "cell_type": "code",
   "execution_count": 19,
   "id": "6211975f",
   "metadata": {},
   "outputs": [],
   "source": [
    "def get_predictions(model, test_set):\n",
    "    y_pred = []\n",
    "    \n",
    "    for x, _ in test_set:\n",
    "        predictions = model(x)\n",
    "        for y in predictions:\n",
    "            y_pred.append(y)\n",
    "    \n",
    "    y_pred = np.array(y_pred)\n",
    "    y_pred = y_pred.reshape(-1)\n",
    "    \n",
    "    return y_pred"
   ]
  },
  {
   "cell_type": "code",
   "execution_count": 20,
   "id": "377a07bc",
   "metadata": {},
   "outputs": [],
   "source": [
    "def plot_graph(true, pred):\n",
    "    plt.plot(true, label='Observed Values')\n",
    "    plt.plot(pred, label='Predicted Values', alpha=0.5)\n",
    "    plt.legend()\n",
    "    plt.show()"
   ]
  },
  {
   "cell_type": "code",
   "execution_count": 21,
   "id": "4f63635e",
   "metadata": {},
   "outputs": [],
   "source": [
    "def calc_nse(true, pred):\n",
    "    SS_res = np.sum(np.square(true-pred))\n",
    "    SS_tot = np.sum(np.square(true-np.mean(true)))\n",
    "    \n",
    "    return 1 - SS_res/SS_tot"
   ]
  },
  {
   "cell_type": "code",
   "execution_count": 22,
   "id": "8633bae2",
   "metadata": {},
   "outputs": [],
   "source": [
    "def calc_mse(true, pred):\n",
    "    return np.mean(np.square(true-pred))"
   ]
  },
  {
   "cell_type": "code",
   "execution_count": 23,
   "id": "c783e555",
   "metadata": {},
   "outputs": [
    {
     "data": {
      "text/html": [
       "<div>\n",
       "<style scoped>\n",
       "    .dataframe tbody tr th:only-of-type {\n",
       "        vertical-align: middle;\n",
       "    }\n",
       "\n",
       "    .dataframe tbody tr th {\n",
       "        vertical-align: top;\n",
       "    }\n",
       "\n",
       "    .dataframe thead th {\n",
       "        text-align: right;\n",
       "    }\n",
       "</style>\n",
       "<table border=\"1\" class=\"dataframe\">\n",
       "  <thead>\n",
       "    <tr style=\"text-align: right;\">\n",
       "      <th></th>\n",
       "      <th>Rainfall_Aries</th>\n",
       "      <th>Rainfall_Boso</th>\n",
       "      <th>Rainfall_Campana</th>\n",
       "      <th>Rainfall_Nangka</th>\n",
       "      <th>Rainfall_Oro</th>\n",
       "      <th>Waterlevel_Sto_Nino</th>\n",
       "    </tr>\n",
       "  </thead>\n",
       "  <tbody>\n",
       "    <tr>\n",
       "      <th>13140</th>\n",
       "      <td>0</td>\n",
       "      <td>0</td>\n",
       "      <td>0</td>\n",
       "      <td>0</td>\n",
       "      <td>0</td>\n",
       "      <td>11.89</td>\n",
       "    </tr>\n",
       "    <tr>\n",
       "      <th>13141</th>\n",
       "      <td>0</td>\n",
       "      <td>0</td>\n",
       "      <td>0</td>\n",
       "      <td>0</td>\n",
       "      <td>0</td>\n",
       "      <td>11.87</td>\n",
       "    </tr>\n",
       "    <tr>\n",
       "      <th>13142</th>\n",
       "      <td>0</td>\n",
       "      <td>0</td>\n",
       "      <td>0</td>\n",
       "      <td>0</td>\n",
       "      <td>0</td>\n",
       "      <td>11.85</td>\n",
       "    </tr>\n",
       "    <tr>\n",
       "      <th>13143</th>\n",
       "      <td>0</td>\n",
       "      <td>4</td>\n",
       "      <td>0</td>\n",
       "      <td>0</td>\n",
       "      <td>0</td>\n",
       "      <td>11.84</td>\n",
       "    </tr>\n",
       "    <tr>\n",
       "      <th>13144</th>\n",
       "      <td>11</td>\n",
       "      <td>19</td>\n",
       "      <td>0</td>\n",
       "      <td>22</td>\n",
       "      <td>0</td>\n",
       "      <td>11.84</td>\n",
       "    </tr>\n",
       "    <tr>\n",
       "      <th>...</th>\n",
       "      <td>...</td>\n",
       "      <td>...</td>\n",
       "      <td>...</td>\n",
       "      <td>...</td>\n",
       "      <td>...</td>\n",
       "      <td>...</td>\n",
       "    </tr>\n",
       "    <tr>\n",
       "      <th>17515</th>\n",
       "      <td>0</td>\n",
       "      <td>0</td>\n",
       "      <td>0</td>\n",
       "      <td>0</td>\n",
       "      <td>0</td>\n",
       "      <td>12.44</td>\n",
       "    </tr>\n",
       "    <tr>\n",
       "      <th>17516</th>\n",
       "      <td>0</td>\n",
       "      <td>0</td>\n",
       "      <td>0</td>\n",
       "      <td>0</td>\n",
       "      <td>0</td>\n",
       "      <td>12.44</td>\n",
       "    </tr>\n",
       "    <tr>\n",
       "      <th>17517</th>\n",
       "      <td>0</td>\n",
       "      <td>0</td>\n",
       "      <td>0</td>\n",
       "      <td>0</td>\n",
       "      <td>0</td>\n",
       "      <td>12.44</td>\n",
       "    </tr>\n",
       "    <tr>\n",
       "      <th>17518</th>\n",
       "      <td>0</td>\n",
       "      <td>0</td>\n",
       "      <td>0</td>\n",
       "      <td>0</td>\n",
       "      <td>0</td>\n",
       "      <td>12.44</td>\n",
       "    </tr>\n",
       "    <tr>\n",
       "      <th>17519</th>\n",
       "      <td>0</td>\n",
       "      <td>0</td>\n",
       "      <td>0</td>\n",
       "      <td>0</td>\n",
       "      <td>0</td>\n",
       "      <td>12.44</td>\n",
       "    </tr>\n",
       "  </tbody>\n",
       "</table>\n",
       "<p>4380 rows × 6 columns</p>\n",
       "</div>"
      ],
      "text/plain": [
       "       Rainfall_Aries  Rainfall_Boso  Rainfall_Campana  Rainfall_Nangka  \\\n",
       "13140               0              0                 0                0   \n",
       "13141               0              0                 0                0   \n",
       "13142               0              0                 0                0   \n",
       "13143               0              4                 0                0   \n",
       "13144              11             19                 0               22   \n",
       "...               ...            ...               ...              ...   \n",
       "17515               0              0                 0                0   \n",
       "17516               0              0                 0                0   \n",
       "17517               0              0                 0                0   \n",
       "17518               0              0                 0                0   \n",
       "17519               0              0                 0                0   \n",
       "\n",
       "       Rainfall_Oro  Waterlevel_Sto_Nino  \n",
       "13140             0                11.89  \n",
       "13141             0                11.87  \n",
       "13142             0                11.85  \n",
       "13143             0                11.84  \n",
       "13144             0                11.84  \n",
       "...             ...                  ...  \n",
       "17515             0                12.44  \n",
       "17516             0                12.44  \n",
       "17517             0                12.44  \n",
       "17518             0                12.44  \n",
       "17519             0                12.44  \n",
       "\n",
       "[4380 rows x 6 columns]"
      ]
     },
     "execution_count": 23,
     "metadata": {},
     "output_type": "execute_result"
    }
   ],
   "source": [
    "test_df"
   ]
  },
  {
   "cell_type": "code",
   "execution_count": 24,
   "id": "4cfdfb8d",
   "metadata": {},
   "outputs": [
    {
     "data": {
      "text/plain": [
       "array([12.63, 12.81, 12.8 , ..., 12.44, 12.44, 12.44])"
      ]
     },
     "execution_count": 24,
     "metadata": {},
     "output_type": "execute_result"
    }
   ],
   "source": [
    "test_vals = test_df['Waterlevel_Sto_Nino'].values\n",
    "y_true = test_vals[6:]\n",
    "y_true = y_true.reshape(-1)\n",
    "y_true"
   ]
  },
  {
   "cell_type": "markdown",
   "id": "8972bd8e",
   "metadata": {},
   "source": [
    "DNN"
   ]
  },
  {
   "cell_type": "code",
   "execution_count": 25,
   "id": "f6867644",
   "metadata": {},
   "outputs": [
    {
     "data": {
      "text/plain": [
       "array([12.895578, 11.317832, 11.841884, ..., 12.391186, 12.391186,\n",
       "       12.391186], dtype=float32)"
      ]
     },
     "execution_count": 25,
     "metadata": {},
     "output_type": "execute_result"
    }
   ],
   "source": [
    "dnn_pred = get_predictions(dense, window.test)\n",
    "dnn_pred"
   ]
  },
  {
   "cell_type": "code",
   "execution_count": 26,
   "id": "50f697b4",
   "metadata": {},
   "outputs": [
    {
     "data": {
      "image/png": "[encoded data removed]",
      "text/plain": [
       "<Figure size 640x480 with 1 Axes>"
      ]
     },
     "metadata": {},
     "output_type": "display_data"
    }
   ],
   "source": [
    "plot_graph(y_true, dnn_pred)"
   ]
  },
  {
   "cell_type": "code",
   "execution_count": 27,
   "id": "4a562e37",
   "metadata": {},
   "outputs": [
    {
     "data": {
      "text/plain": [
       "(4374,)"
      ]
     },
     "execution_count": 27,
     "metadata": {},
     "output_type": "execute_result"
    }
   ],
   "source": [
    "dnn_pred.shape"
   ]
  },
  {
   "cell_type": "code",
   "execution_count": 28,
   "id": "3e45f9f0",
   "metadata": {},
   "outputs": [
    {
     "data": {
      "text/plain": [
       "0.6556119281123653"
      ]
     },
     "execution_count": 28,
     "metadata": {},
     "output_type": "execute_result"
    }
   ],
   "source": [
    "calc_nse(y_true, dnn_pred)"
   ]
  },
  {
   "cell_type": "code",
   "execution_count": 29,
   "id": "1c40ca43",
   "metadata": {},
   "outputs": [
    {
     "data": {
      "text/plain": [
       "0.10682188038427064"
      ]
     },
     "execution_count": 29,
     "metadata": {},
     "output_type": "execute_result"
    }
   ],
   "source": [
    "calc_mse(y_true, dnn_pred)"
   ]
  },
  {
   "cell_type": "markdown",
   "id": "bed4c1be",
   "metadata": {},
   "source": [
    "CNN"
   ]
  },
  {
   "cell_type": "code",
   "execution_count": 30,
   "id": "9d56efe1",
   "metadata": {},
   "outputs": [
    {
     "data": {
      "text/plain": [
       "array([12.5001745, 12.598481 , 12.050708 , ..., 12.428866 , 12.428866 ,\n",
       "       12.428866 ], dtype=float32)"
      ]
     },
     "execution_count": 30,
     "metadata": {},
     "output_type": "execute_result"
    }
   ],
   "source": [
    "cnn_pred = get_predictions(conv_model, window.test)\n",
    "cnn_pred"
   ]
  },
  {
   "cell_type": "code",
   "execution_count": 31,
   "id": "b289d931",
   "metadata": {},
   "outputs": [
    {
     "data": {
      "image/png": "[encoded data removed]",
      "text/plain": [
       "<Figure size 640x480 with 1 Axes>"
      ]
     },
     "metadata": {},
     "output_type": "display_data"
    }
   ],
   "source": [
    "plot_graph(y_true, cnn_pred)"
   ]
  },
  {
   "cell_type": "code",
   "execution_count": 32,
   "id": "4e18af00",
   "metadata": {},
   "outputs": [
    {
     "data": {
      "text/plain": [
       "0.6198237343025388"
      ]
     },
     "execution_count": 32,
     "metadata": {},
     "output_type": "execute_result"
    }
   ],
   "source": [
    "calc_nse(y_true, cnn_pred)"
   ]
  },
  {
   "cell_type": "code",
   "execution_count": 33,
   "id": "3d05f521",
   "metadata": {},
   "outputs": [
    {
     "data": {
      "text/plain": [
       "0.11792261955147887"
      ]
     },
     "execution_count": 33,
     "metadata": {},
     "output_type": "execute_result"
    }
   ],
   "source": [
    "calc_mse(y_true, cnn_pred)"
   ]
  },
  {
   "cell_type": "markdown",
   "id": "7c3bae27",
   "metadata": {},
   "source": [
    "LSTM"
   ]
  },
  {
   "cell_type": "code",
   "execution_count": 34,
   "id": "8fd40bca",
   "metadata": {},
   "outputs": [
    {
     "data": {
      "text/plain": [
       "array([12.826229, 12.514668, 12.497249, ..., 12.40375 , 12.40375 ,\n",
       "       12.40375 ], dtype=float32)"
      ]
     },
     "execution_count": 34,
     "metadata": {},
     "output_type": "execute_result"
    }
   ],
   "source": [
    "lstm_pred = get_predictions(lstm_model, window.test)\n",
    "lstm_pred"
   ]
  },
  {
   "cell_type": "code",
   "execution_count": 35,
   "id": "cc3126af",
   "metadata": {},
   "outputs": [
    {
     "data": {
      "image/png": "[encoded data removed]",
      "text/plain": [
       "<Figure size 640x480 with 1 Axes>"
      ]
     },
     "metadata": {},
     "output_type": "display_data"
    }
   ],
   "source": [
    "plot_graph(y_true, lstm_pred)"
   ]
  },
  {
   "cell_type": "code",
   "execution_count": 36,
   "id": "1ff1d311",
   "metadata": {},
   "outputs": [
    {
     "data": {
      "text/plain": [
       "0.9187724509555573"
      ]
     },
     "execution_count": 36,
     "metadata": {},
     "output_type": "execute_result"
    }
   ],
   "source": [
    "calc_nse(y_true, lstm_pred)"
   ]
  },
  {
   "cell_type": "code",
   "execution_count": 37,
   "id": "4ebaa1fb",
   "metadata": {},
   "outputs": [
    {
     "data": {
      "text/plain": [
       "0.025195064046132202"
      ]
     },
     "execution_count": 37,
     "metadata": {},
     "output_type": "execute_result"
    }
   ],
   "source": [
    "calc_mse(y_true, lstm_pred)"
   ]
  },
  {
   "cell_type": "code",
   "execution_count": 38,
   "id": "a6433b30",
   "metadata": {},
   "outputs": [],
   "source": [
    "np.savetxt('../results/multivariate_dnn_predictions.csv', dnn_pred, delimiter=',', fmt='%.4f')"
   ]
  },
  {
   "cell_type": "code",
   "execution_count": 39,
   "id": "705d6dbe",
   "metadata": {},
   "outputs": [],
   "source": [
    "np.savetxt('../results/multivariate_cnn_predictions.csv', cnn_pred, delimiter=',', fmt='%.4f')"
   ]
  },
  {
   "cell_type": "code",
   "execution_count": 40,
   "id": "bc50a766",
   "metadata": {},
   "outputs": [],
   "source": [
    "np.savetxt('../results/multivariate_lstm_predictions.csv', lstm_pred, delimiter=',', fmt='%.4f')"
   ]
  },
  {
   "cell_type": "code",
   "execution_count": null,
   "id": "c15686a7",
   "metadata": {},
   "outputs": [],
   "source": []
  }
 ],
 "metadata": {
  "kernelspec": {
   "display_name": "Python 3 (ipykernel)",
   "language": "python",
   "name": "python3"
  },
  "language_info": {
   "codemirror_mode": {
    "name": "ipython",
    "version": 3
   },
   "file_extension": ".py",
   "mimetype": "text/x-python",
   "name": "python",
   "nbconvert_exporter": "python",
   "pygments_lexer": "ipython3",
   "version": "3.9.13"
  }
 },
 "nbformat": 4,
 "nbformat_minor": 5
}
