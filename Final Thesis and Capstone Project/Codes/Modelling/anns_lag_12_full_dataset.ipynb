{
 "cells": [
  {
   "cell_type": "code",
   "execution_count": 136,
   "metadata": {},
   "outputs": [],
   "source": [
    "import tensorflow as tf\n",
    "import pandas as pd\n",
    "import os\n",
    "import numpy as np\n",
    "import matplotlib.pyplot as plt\n",
    "from random import seed\n",
    "from tensorflow.keras import models\n",
    "from tensorflow.keras import layers\n",
    "from tensorflow.keras import backend as K\n",
    "tf.compat.v1.experimental.output_all_intermediates(True)"
   ]
  },
  {
   "cell_type": "code",
   "execution_count": 137,
   "metadata": {},
   "outputs": [],
   "source": [
    "tf.random.set_seed(36)"
   ]
  },
  {
   "cell_type": "markdown",
   "metadata": {},
   "source": [
    "## Dataset"
   ]
  },
  {
   "cell_type": "code",
   "execution_count": 138,
   "metadata": {},
   "outputs": [],
   "source": [
    "BASE_DIR_PATH = '../Datasets'\n",
    "DATASET_FILE = os.path.join(BASE_DIR_PATH, '2016_2017_sto_nino_and_montalban_lag_12.csv')"
   ]
  },
  {
   "cell_type": "code",
   "execution_count": 139,
   "metadata": {},
   "outputs": [
    {
     "data": {
      "text/html": [
       "<div>\n",
       "<style scoped>\n",
       "    .dataframe tbody tr th:only-of-type {\n",
       "        vertical-align: middle;\n",
       "    }\n",
       "\n",
       "    .dataframe tbody tr th {\n",
       "        vertical-align: top;\n",
       "    }\n",
       "\n",
       "    .dataframe thead th {\n",
       "        text-align: right;\n",
       "    }\n",
       "</style>\n",
       "<table border=\"1\" class=\"dataframe\">\n",
       "  <thead>\n",
       "    <tr style=\"text-align: right;\">\n",
       "      <th></th>\n",
       "      <th>Unnamed: 0</th>\n",
       "      <th>month</th>\n",
       "      <th>day</th>\n",
       "      <th>hour</th>\n",
       "      <th>Station</th>\n",
       "      <th>Rainfall_Aries</th>\n",
       "      <th>Rainfall_Boso</th>\n",
       "      <th>Rainfall_Campana</th>\n",
       "      <th>Rainfall_Nangka</th>\n",
       "      <th>Rainfall_Oro</th>\n",
       "      <th>...</th>\n",
       "      <th>Waterlevel_t-3</th>\n",
       "      <th>Waterlevel_t-4</th>\n",
       "      <th>Waterlevel_t-5</th>\n",
       "      <th>Waterlevel_t-6</th>\n",
       "      <th>Waterlevel_t-7</th>\n",
       "      <th>Waterlevel_t-8</th>\n",
       "      <th>Waterlevel_t-9</th>\n",
       "      <th>Waterlevel_t-10</th>\n",
       "      <th>Waterlevel_t-11</th>\n",
       "      <th>Waterlevel_t-12</th>\n",
       "    </tr>\n",
       "  </thead>\n",
       "  <tbody>\n",
       "    <tr>\n",
       "      <th>0</th>\n",
       "      <td>0</td>\n",
       "      <td>1</td>\n",
       "      <td>1</td>\n",
       "      <td>0</td>\n",
       "      <td>Montalban</td>\n",
       "      <td>0</td>\n",
       "      <td>1</td>\n",
       "      <td>2</td>\n",
       "      <td>0</td>\n",
       "      <td>0</td>\n",
       "      <td>...</td>\n",
       "      <td>NaN</td>\n",
       "      <td>NaN</td>\n",
       "      <td>NaN</td>\n",
       "      <td>NaN</td>\n",
       "      <td>NaN</td>\n",
       "      <td>NaN</td>\n",
       "      <td>NaN</td>\n",
       "      <td>NaN</td>\n",
       "      <td>NaN</td>\n",
       "      <td>NaN</td>\n",
       "    </tr>\n",
       "    <tr>\n",
       "      <th>1</th>\n",
       "      <td>1</td>\n",
       "      <td>1</td>\n",
       "      <td>1</td>\n",
       "      <td>0</td>\n",
       "      <td>Sto_Nino</td>\n",
       "      <td>0</td>\n",
       "      <td>1</td>\n",
       "      <td>2</td>\n",
       "      <td>0</td>\n",
       "      <td>0</td>\n",
       "      <td>...</td>\n",
       "      <td>NaN</td>\n",
       "      <td>NaN</td>\n",
       "      <td>NaN</td>\n",
       "      <td>NaN</td>\n",
       "      <td>NaN</td>\n",
       "      <td>NaN</td>\n",
       "      <td>NaN</td>\n",
       "      <td>NaN</td>\n",
       "      <td>NaN</td>\n",
       "      <td>NaN</td>\n",
       "    </tr>\n",
       "    <tr>\n",
       "      <th>2</th>\n",
       "      <td>2</td>\n",
       "      <td>1</td>\n",
       "      <td>1</td>\n",
       "      <td>1</td>\n",
       "      <td>Montalban</td>\n",
       "      <td>0</td>\n",
       "      <td>1</td>\n",
       "      <td>1</td>\n",
       "      <td>1</td>\n",
       "      <td>0</td>\n",
       "      <td>...</td>\n",
       "      <td>NaN</td>\n",
       "      <td>NaN</td>\n",
       "      <td>NaN</td>\n",
       "      <td>NaN</td>\n",
       "      <td>NaN</td>\n",
       "      <td>NaN</td>\n",
       "      <td>NaN</td>\n",
       "      <td>NaN</td>\n",
       "      <td>NaN</td>\n",
       "      <td>NaN</td>\n",
       "    </tr>\n",
       "    <tr>\n",
       "      <th>3</th>\n",
       "      <td>3</td>\n",
       "      <td>1</td>\n",
       "      <td>1</td>\n",
       "      <td>1</td>\n",
       "      <td>Sto_Nino</td>\n",
       "      <td>0</td>\n",
       "      <td>1</td>\n",
       "      <td>1</td>\n",
       "      <td>1</td>\n",
       "      <td>0</td>\n",
       "      <td>...</td>\n",
       "      <td>NaN</td>\n",
       "      <td>NaN</td>\n",
       "      <td>NaN</td>\n",
       "      <td>NaN</td>\n",
       "      <td>NaN</td>\n",
       "      <td>NaN</td>\n",
       "      <td>NaN</td>\n",
       "      <td>NaN</td>\n",
       "      <td>NaN</td>\n",
       "      <td>NaN</td>\n",
       "    </tr>\n",
       "    <tr>\n",
       "      <th>4</th>\n",
       "      <td>4</td>\n",
       "      <td>1</td>\n",
       "      <td>1</td>\n",
       "      <td>2</td>\n",
       "      <td>Montalban</td>\n",
       "      <td>1</td>\n",
       "      <td>1</td>\n",
       "      <td>1</td>\n",
       "      <td>0</td>\n",
       "      <td>1</td>\n",
       "      <td>...</td>\n",
       "      <td>NaN</td>\n",
       "      <td>NaN</td>\n",
       "      <td>NaN</td>\n",
       "      <td>NaN</td>\n",
       "      <td>NaN</td>\n",
       "      <td>NaN</td>\n",
       "      <td>NaN</td>\n",
       "      <td>NaN</td>\n",
       "      <td>NaN</td>\n",
       "      <td>NaN</td>\n",
       "    </tr>\n",
       "    <tr>\n",
       "      <th>...</th>\n",
       "      <td>...</td>\n",
       "      <td>...</td>\n",
       "      <td>...</td>\n",
       "      <td>...</td>\n",
       "      <td>...</td>\n",
       "      <td>...</td>\n",
       "      <td>...</td>\n",
       "      <td>...</td>\n",
       "      <td>...</td>\n",
       "      <td>...</td>\n",
       "      <td>...</td>\n",
       "      <td>...</td>\n",
       "      <td>...</td>\n",
       "      <td>...</td>\n",
       "      <td>...</td>\n",
       "      <td>...</td>\n",
       "      <td>...</td>\n",
       "      <td>...</td>\n",
       "      <td>...</td>\n",
       "      <td>...</td>\n",
       "      <td>...</td>\n",
       "    </tr>\n",
       "    <tr>\n",
       "      <th>35035</th>\n",
       "      <td>35035</td>\n",
       "      <td>12</td>\n",
       "      <td>31</td>\n",
       "      <td>21</td>\n",
       "      <td>Sto_Nino</td>\n",
       "      <td>0</td>\n",
       "      <td>0</td>\n",
       "      <td>0</td>\n",
       "      <td>0</td>\n",
       "      <td>0</td>\n",
       "      <td>...</td>\n",
       "      <td>12.44</td>\n",
       "      <td>12.44</td>\n",
       "      <td>12.44</td>\n",
       "      <td>12.44</td>\n",
       "      <td>12.44</td>\n",
       "      <td>12.44</td>\n",
       "      <td>12.44</td>\n",
       "      <td>12.45</td>\n",
       "      <td>12.45</td>\n",
       "      <td>12.45</td>\n",
       "    </tr>\n",
       "    <tr>\n",
       "      <th>35036</th>\n",
       "      <td>35036</td>\n",
       "      <td>12</td>\n",
       "      <td>31</td>\n",
       "      <td>22</td>\n",
       "      <td>Montalban</td>\n",
       "      <td>0</td>\n",
       "      <td>0</td>\n",
       "      <td>0</td>\n",
       "      <td>0</td>\n",
       "      <td>0</td>\n",
       "      <td>...</td>\n",
       "      <td>21.18</td>\n",
       "      <td>21.18</td>\n",
       "      <td>21.18</td>\n",
       "      <td>21.18</td>\n",
       "      <td>21.18</td>\n",
       "      <td>21.18</td>\n",
       "      <td>21.18</td>\n",
       "      <td>21.18</td>\n",
       "      <td>21.18</td>\n",
       "      <td>21.18</td>\n",
       "    </tr>\n",
       "    <tr>\n",
       "      <th>35037</th>\n",
       "      <td>35037</td>\n",
       "      <td>12</td>\n",
       "      <td>31</td>\n",
       "      <td>22</td>\n",
       "      <td>Sto_Nino</td>\n",
       "      <td>0</td>\n",
       "      <td>0</td>\n",
       "      <td>0</td>\n",
       "      <td>0</td>\n",
       "      <td>0</td>\n",
       "      <td>...</td>\n",
       "      <td>12.44</td>\n",
       "      <td>12.44</td>\n",
       "      <td>12.44</td>\n",
       "      <td>12.44</td>\n",
       "      <td>12.44</td>\n",
       "      <td>12.44</td>\n",
       "      <td>12.44</td>\n",
       "      <td>12.44</td>\n",
       "      <td>12.45</td>\n",
       "      <td>12.45</td>\n",
       "    </tr>\n",
       "    <tr>\n",
       "      <th>35038</th>\n",
       "      <td>35038</td>\n",
       "      <td>12</td>\n",
       "      <td>31</td>\n",
       "      <td>23</td>\n",
       "      <td>Montalban</td>\n",
       "      <td>0</td>\n",
       "      <td>0</td>\n",
       "      <td>0</td>\n",
       "      <td>0</td>\n",
       "      <td>0</td>\n",
       "      <td>...</td>\n",
       "      <td>21.18</td>\n",
       "      <td>21.18</td>\n",
       "      <td>21.18</td>\n",
       "      <td>21.18</td>\n",
       "      <td>21.18</td>\n",
       "      <td>21.18</td>\n",
       "      <td>21.18</td>\n",
       "      <td>21.18</td>\n",
       "      <td>21.18</td>\n",
       "      <td>21.18</td>\n",
       "    </tr>\n",
       "    <tr>\n",
       "      <th>35039</th>\n",
       "      <td>35039</td>\n",
       "      <td>12</td>\n",
       "      <td>31</td>\n",
       "      <td>23</td>\n",
       "      <td>Sto_Nino</td>\n",
       "      <td>0</td>\n",
       "      <td>0</td>\n",
       "      <td>0</td>\n",
       "      <td>0</td>\n",
       "      <td>0</td>\n",
       "      <td>...</td>\n",
       "      <td>12.44</td>\n",
       "      <td>12.44</td>\n",
       "      <td>12.44</td>\n",
       "      <td>12.44</td>\n",
       "      <td>12.44</td>\n",
       "      <td>12.44</td>\n",
       "      <td>12.44</td>\n",
       "      <td>12.44</td>\n",
       "      <td>12.44</td>\n",
       "      <td>12.45</td>\n",
       "    </tr>\n",
       "  </tbody>\n",
       "</table>\n",
       "<p>35040 rows × 23 columns</p>\n",
       "</div>"
      ],
      "text/plain": [
       "       Unnamed: 0  month  day  hour    Station  Rainfall_Aries  Rainfall_Boso  \\\n",
       "0               0      1    1     0  Montalban               0              1   \n",
       "1               1      1    1     0   Sto_Nino               0              1   \n",
       "2               2      1    1     1  Montalban               0              1   \n",
       "3               3      1    1     1   Sto_Nino               0              1   \n",
       "4               4      1    1     2  Montalban               1              1   \n",
       "...           ...    ...  ...   ...        ...             ...            ...   \n",
       "35035       35035     12   31    21   Sto_Nino               0              0   \n",
       "35036       35036     12   31    22  Montalban               0              0   \n",
       "35037       35037     12   31    22   Sto_Nino               0              0   \n",
       "35038       35038     12   31    23  Montalban               0              0   \n",
       "35039       35039     12   31    23   Sto_Nino               0              0   \n",
       "\n",
       "       Rainfall_Campana  Rainfall_Nangka  Rainfall_Oro  ...  Waterlevel_t-3  \\\n",
       "0                     2                0             0  ...             NaN   \n",
       "1                     2                0             0  ...             NaN   \n",
       "2                     1                1             0  ...             NaN   \n",
       "3                     1                1             0  ...             NaN   \n",
       "4                     1                0             1  ...             NaN   \n",
       "...                 ...              ...           ...  ...             ...   \n",
       "35035                 0                0             0  ...           12.44   \n",
       "35036                 0                0             0  ...           21.18   \n",
       "35037                 0                0             0  ...           12.44   \n",
       "35038                 0                0             0  ...           21.18   \n",
       "35039                 0                0             0  ...           12.44   \n",
       "\n",
       "       Waterlevel_t-4  Waterlevel_t-5  Waterlevel_t-6  Waterlevel_t-7  \\\n",
       "0                 NaN             NaN             NaN             NaN   \n",
       "1                 NaN             NaN             NaN             NaN   \n",
       "2                 NaN             NaN             NaN             NaN   \n",
       "3                 NaN             NaN             NaN             NaN   \n",
       "4                 NaN             NaN             NaN             NaN   \n",
       "...               ...             ...             ...             ...   \n",
       "35035           12.44           12.44           12.44           12.44   \n",
       "35036           21.18           21.18           21.18           21.18   \n",
       "35037           12.44           12.44           12.44           12.44   \n",
       "35038           21.18           21.18           21.18           21.18   \n",
       "35039           12.44           12.44           12.44           12.44   \n",
       "\n",
       "       Waterlevel_t-8  Waterlevel_t-9  Waterlevel_t-10  Waterlevel_t-11  \\\n",
       "0                 NaN             NaN              NaN              NaN   \n",
       "1                 NaN             NaN              NaN              NaN   \n",
       "2                 NaN             NaN              NaN              NaN   \n",
       "3                 NaN             NaN              NaN              NaN   \n",
       "4                 NaN             NaN              NaN              NaN   \n",
       "...               ...             ...              ...              ...   \n",
       "35035           12.44           12.44            12.45            12.45   \n",
       "35036           21.18           21.18            21.18            21.18   \n",
       "35037           12.44           12.44            12.44            12.45   \n",
       "35038           21.18           21.18            21.18            21.18   \n",
       "35039           12.44           12.44            12.44            12.44   \n",
       "\n",
       "       Waterlevel_t-12  \n",
       "0                  NaN  \n",
       "1                  NaN  \n",
       "2                  NaN  \n",
       "3                  NaN  \n",
       "4                  NaN  \n",
       "...                ...  \n",
       "35035            12.45  \n",
       "35036            21.18  \n",
       "35037            12.45  \n",
       "35038            21.18  \n",
       "35039            12.45  \n",
       "\n",
       "[35040 rows x 23 columns]"
      ]
     },
     "execution_count": 139,
     "metadata": {},
     "output_type": "execute_result"
    }
   ],
   "source": [
    "df = pd.read_csv(DATASET_FILE)\n",
    "df"
   ]
  },
  {
   "cell_type": "code",
   "execution_count": 140,
   "metadata": {},
   "outputs": [
    {
     "data": {
      "text/html": [
       "<div>\n",
       "<style scoped>\n",
       "    .dataframe tbody tr th:only-of-type {\n",
       "        vertical-align: middle;\n",
       "    }\n",
       "\n",
       "    .dataframe tbody tr th {\n",
       "        vertical-align: top;\n",
       "    }\n",
       "\n",
       "    .dataframe thead th {\n",
       "        text-align: right;\n",
       "    }\n",
       "</style>\n",
       "<table border=\"1\" class=\"dataframe\">\n",
       "  <thead>\n",
       "    <tr style=\"text-align: right;\">\n",
       "      <th></th>\n",
       "      <th>Unnamed: 0</th>\n",
       "      <th>month</th>\n",
       "      <th>day</th>\n",
       "      <th>hour</th>\n",
       "      <th>Station</th>\n",
       "      <th>Rainfall_Aries</th>\n",
       "      <th>Rainfall_Boso</th>\n",
       "      <th>Rainfall_Campana</th>\n",
       "      <th>Rainfall_Nangka</th>\n",
       "      <th>Rainfall_Oro</th>\n",
       "      <th>...</th>\n",
       "      <th>Waterlevel_t-3</th>\n",
       "      <th>Waterlevel_t-4</th>\n",
       "      <th>Waterlevel_t-5</th>\n",
       "      <th>Waterlevel_t-6</th>\n",
       "      <th>Waterlevel_t-7</th>\n",
       "      <th>Waterlevel_t-8</th>\n",
       "      <th>Waterlevel_t-9</th>\n",
       "      <th>Waterlevel_t-10</th>\n",
       "      <th>Waterlevel_t-11</th>\n",
       "      <th>Waterlevel_t-12</th>\n",
       "    </tr>\n",
       "  </thead>\n",
       "  <tbody>\n",
       "    <tr>\n",
       "      <th>0</th>\n",
       "      <td>0</td>\n",
       "      <td>1</td>\n",
       "      <td>1</td>\n",
       "      <td>0</td>\n",
       "      <td>0</td>\n",
       "      <td>0</td>\n",
       "      <td>1</td>\n",
       "      <td>2</td>\n",
       "      <td>0</td>\n",
       "      <td>0</td>\n",
       "      <td>...</td>\n",
       "      <td>NaN</td>\n",
       "      <td>NaN</td>\n",
       "      <td>NaN</td>\n",
       "      <td>NaN</td>\n",
       "      <td>NaN</td>\n",
       "      <td>NaN</td>\n",
       "      <td>NaN</td>\n",
       "      <td>NaN</td>\n",
       "      <td>NaN</td>\n",
       "      <td>NaN</td>\n",
       "    </tr>\n",
       "    <tr>\n",
       "      <th>1</th>\n",
       "      <td>1</td>\n",
       "      <td>1</td>\n",
       "      <td>1</td>\n",
       "      <td>0</td>\n",
       "      <td>1</td>\n",
       "      <td>0</td>\n",
       "      <td>1</td>\n",
       "      <td>2</td>\n",
       "      <td>0</td>\n",
       "      <td>0</td>\n",
       "      <td>...</td>\n",
       "      <td>NaN</td>\n",
       "      <td>NaN</td>\n",
       "      <td>NaN</td>\n",
       "      <td>NaN</td>\n",
       "      <td>NaN</td>\n",
       "      <td>NaN</td>\n",
       "      <td>NaN</td>\n",
       "      <td>NaN</td>\n",
       "      <td>NaN</td>\n",
       "      <td>NaN</td>\n",
       "    </tr>\n",
       "    <tr>\n",
       "      <th>2</th>\n",
       "      <td>2</td>\n",
       "      <td>1</td>\n",
       "      <td>1</td>\n",
       "      <td>1</td>\n",
       "      <td>0</td>\n",
       "      <td>0</td>\n",
       "      <td>1</td>\n",
       "      <td>1</td>\n",
       "      <td>1</td>\n",
       "      <td>0</td>\n",
       "      <td>...</td>\n",
       "      <td>NaN</td>\n",
       "      <td>NaN</td>\n",
       "      <td>NaN</td>\n",
       "      <td>NaN</td>\n",
       "      <td>NaN</td>\n",
       "      <td>NaN</td>\n",
       "      <td>NaN</td>\n",
       "      <td>NaN</td>\n",
       "      <td>NaN</td>\n",
       "      <td>NaN</td>\n",
       "    </tr>\n",
       "    <tr>\n",
       "      <th>3</th>\n",
       "      <td>3</td>\n",
       "      <td>1</td>\n",
       "      <td>1</td>\n",
       "      <td>1</td>\n",
       "      <td>1</td>\n",
       "      <td>0</td>\n",
       "      <td>1</td>\n",
       "      <td>1</td>\n",
       "      <td>1</td>\n",
       "      <td>0</td>\n",
       "      <td>...</td>\n",
       "      <td>NaN</td>\n",
       "      <td>NaN</td>\n",
       "      <td>NaN</td>\n",
       "      <td>NaN</td>\n",
       "      <td>NaN</td>\n",
       "      <td>NaN</td>\n",
       "      <td>NaN</td>\n",
       "      <td>NaN</td>\n",
       "      <td>NaN</td>\n",
       "      <td>NaN</td>\n",
       "    </tr>\n",
       "    <tr>\n",
       "      <th>4</th>\n",
       "      <td>4</td>\n",
       "      <td>1</td>\n",
       "      <td>1</td>\n",
       "      <td>2</td>\n",
       "      <td>0</td>\n",
       "      <td>1</td>\n",
       "      <td>1</td>\n",
       "      <td>1</td>\n",
       "      <td>0</td>\n",
       "      <td>1</td>\n",
       "      <td>...</td>\n",
       "      <td>NaN</td>\n",
       "      <td>NaN</td>\n",
       "      <td>NaN</td>\n",
       "      <td>NaN</td>\n",
       "      <td>NaN</td>\n",
       "      <td>NaN</td>\n",
       "      <td>NaN</td>\n",
       "      <td>NaN</td>\n",
       "      <td>NaN</td>\n",
       "      <td>NaN</td>\n",
       "    </tr>\n",
       "    <tr>\n",
       "      <th>...</th>\n",
       "      <td>...</td>\n",
       "      <td>...</td>\n",
       "      <td>...</td>\n",
       "      <td>...</td>\n",
       "      <td>...</td>\n",
       "      <td>...</td>\n",
       "      <td>...</td>\n",
       "      <td>...</td>\n",
       "      <td>...</td>\n",
       "      <td>...</td>\n",
       "      <td>...</td>\n",
       "      <td>...</td>\n",
       "      <td>...</td>\n",
       "      <td>...</td>\n",
       "      <td>...</td>\n",
       "      <td>...</td>\n",
       "      <td>...</td>\n",
       "      <td>...</td>\n",
       "      <td>...</td>\n",
       "      <td>...</td>\n",
       "      <td>...</td>\n",
       "    </tr>\n",
       "    <tr>\n",
       "      <th>35035</th>\n",
       "      <td>35035</td>\n",
       "      <td>12</td>\n",
       "      <td>31</td>\n",
       "      <td>21</td>\n",
       "      <td>1</td>\n",
       "      <td>0</td>\n",
       "      <td>0</td>\n",
       "      <td>0</td>\n",
       "      <td>0</td>\n",
       "      <td>0</td>\n",
       "      <td>...</td>\n",
       "      <td>12.44</td>\n",
       "      <td>12.44</td>\n",
       "      <td>12.44</td>\n",
       "      <td>12.44</td>\n",
       "      <td>12.44</td>\n",
       "      <td>12.44</td>\n",
       "      <td>12.44</td>\n",
       "      <td>12.45</td>\n",
       "      <td>12.45</td>\n",
       "      <td>12.45</td>\n",
       "    </tr>\n",
       "    <tr>\n",
       "      <th>35036</th>\n",
       "      <td>35036</td>\n",
       "      <td>12</td>\n",
       "      <td>31</td>\n",
       "      <td>22</td>\n",
       "      <td>0</td>\n",
       "      <td>0</td>\n",
       "      <td>0</td>\n",
       "      <td>0</td>\n",
       "      <td>0</td>\n",
       "      <td>0</td>\n",
       "      <td>...</td>\n",
       "      <td>21.18</td>\n",
       "      <td>21.18</td>\n",
       "      <td>21.18</td>\n",
       "      <td>21.18</td>\n",
       "      <td>21.18</td>\n",
       "      <td>21.18</td>\n",
       "      <td>21.18</td>\n",
       "      <td>21.18</td>\n",
       "      <td>21.18</td>\n",
       "      <td>21.18</td>\n",
       "    </tr>\n",
       "    <tr>\n",
       "      <th>35037</th>\n",
       "      <td>35037</td>\n",
       "      <td>12</td>\n",
       "      <td>31</td>\n",
       "      <td>22</td>\n",
       "      <td>1</td>\n",
       "      <td>0</td>\n",
       "      <td>0</td>\n",
       "      <td>0</td>\n",
       "      <td>0</td>\n",
       "      <td>0</td>\n",
       "      <td>...</td>\n",
       "      <td>12.44</td>\n",
       "      <td>12.44</td>\n",
       "      <td>12.44</td>\n",
       "      <td>12.44</td>\n",
       "      <td>12.44</td>\n",
       "      <td>12.44</td>\n",
       "      <td>12.44</td>\n",
       "      <td>12.44</td>\n",
       "      <td>12.45</td>\n",
       "      <td>12.45</td>\n",
       "    </tr>\n",
       "    <tr>\n",
       "      <th>35038</th>\n",
       "      <td>35038</td>\n",
       "      <td>12</td>\n",
       "      <td>31</td>\n",
       "      <td>23</td>\n",
       "      <td>0</td>\n",
       "      <td>0</td>\n",
       "      <td>0</td>\n",
       "      <td>0</td>\n",
       "      <td>0</td>\n",
       "      <td>0</td>\n",
       "      <td>...</td>\n",
       "      <td>21.18</td>\n",
       "      <td>21.18</td>\n",
       "      <td>21.18</td>\n",
       "      <td>21.18</td>\n",
       "      <td>21.18</td>\n",
       "      <td>21.18</td>\n",
       "      <td>21.18</td>\n",
       "      <td>21.18</td>\n",
       "      <td>21.18</td>\n",
       "      <td>21.18</td>\n",
       "    </tr>\n",
       "    <tr>\n",
       "      <th>35039</th>\n",
       "      <td>35039</td>\n",
       "      <td>12</td>\n",
       "      <td>31</td>\n",
       "      <td>23</td>\n",
       "      <td>1</td>\n",
       "      <td>0</td>\n",
       "      <td>0</td>\n",
       "      <td>0</td>\n",
       "      <td>0</td>\n",
       "      <td>0</td>\n",
       "      <td>...</td>\n",
       "      <td>12.44</td>\n",
       "      <td>12.44</td>\n",
       "      <td>12.44</td>\n",
       "      <td>12.44</td>\n",
       "      <td>12.44</td>\n",
       "      <td>12.44</td>\n",
       "      <td>12.44</td>\n",
       "      <td>12.44</td>\n",
       "      <td>12.44</td>\n",
       "      <td>12.45</td>\n",
       "    </tr>\n",
       "  </tbody>\n",
       "</table>\n",
       "<p>35040 rows × 23 columns</p>\n",
       "</div>"
      ],
      "text/plain": [
       "       Unnamed: 0  month  day  hour  Station  Rainfall_Aries  Rainfall_Boso  \\\n",
       "0               0      1    1     0        0               0              1   \n",
       "1               1      1    1     0        1               0              1   \n",
       "2               2      1    1     1        0               0              1   \n",
       "3               3      1    1     1        1               0              1   \n",
       "4               4      1    1     2        0               1              1   \n",
       "...           ...    ...  ...   ...      ...             ...            ...   \n",
       "35035       35035     12   31    21        1               0              0   \n",
       "35036       35036     12   31    22        0               0              0   \n",
       "35037       35037     12   31    22        1               0              0   \n",
       "35038       35038     12   31    23        0               0              0   \n",
       "35039       35039     12   31    23        1               0              0   \n",
       "\n",
       "       Rainfall_Campana  Rainfall_Nangka  Rainfall_Oro  ...  Waterlevel_t-3  \\\n",
       "0                     2                0             0  ...             NaN   \n",
       "1                     2                0             0  ...             NaN   \n",
       "2                     1                1             0  ...             NaN   \n",
       "3                     1                1             0  ...             NaN   \n",
       "4                     1                0             1  ...             NaN   \n",
       "...                 ...              ...           ...  ...             ...   \n",
       "35035                 0                0             0  ...           12.44   \n",
       "35036                 0                0             0  ...           21.18   \n",
       "35037                 0                0             0  ...           12.44   \n",
       "35038                 0                0             0  ...           21.18   \n",
       "35039                 0                0             0  ...           12.44   \n",
       "\n",
       "       Waterlevel_t-4  Waterlevel_t-5  Waterlevel_t-6  Waterlevel_t-7  \\\n",
       "0                 NaN             NaN             NaN             NaN   \n",
       "1                 NaN             NaN             NaN             NaN   \n",
       "2                 NaN             NaN             NaN             NaN   \n",
       "3                 NaN             NaN             NaN             NaN   \n",
       "4                 NaN             NaN             NaN             NaN   \n",
       "...               ...             ...             ...             ...   \n",
       "35035           12.44           12.44           12.44           12.44   \n",
       "35036           21.18           21.18           21.18           21.18   \n",
       "35037           12.44           12.44           12.44           12.44   \n",
       "35038           21.18           21.18           21.18           21.18   \n",
       "35039           12.44           12.44           12.44           12.44   \n",
       "\n",
       "       Waterlevel_t-8  Waterlevel_t-9  Waterlevel_t-10  Waterlevel_t-11  \\\n",
       "0                 NaN             NaN              NaN              NaN   \n",
       "1                 NaN             NaN              NaN              NaN   \n",
       "2                 NaN             NaN              NaN              NaN   \n",
       "3                 NaN             NaN              NaN              NaN   \n",
       "4                 NaN             NaN              NaN              NaN   \n",
       "...               ...             ...              ...              ...   \n",
       "35035           12.44           12.44            12.45            12.45   \n",
       "35036           21.18           21.18            21.18            21.18   \n",
       "35037           12.44           12.44            12.44            12.45   \n",
       "35038           21.18           21.18            21.18            21.18   \n",
       "35039           12.44           12.44            12.44            12.44   \n",
       "\n",
       "       Waterlevel_t-12  \n",
       "0                  NaN  \n",
       "1                  NaN  \n",
       "2                  NaN  \n",
       "3                  NaN  \n",
       "4                  NaN  \n",
       "...                ...  \n",
       "35035            12.45  \n",
       "35036            21.18  \n",
       "35037            12.45  \n",
       "35038            21.18  \n",
       "35039            12.45  \n",
       "\n",
       "[35040 rows x 23 columns]"
      ]
     },
     "execution_count": 140,
     "metadata": {},
     "output_type": "execute_result"
    }
   ],
   "source": [
    "df['Station'] = [1 if x == 'Sto_Nino' else 0 for x in df['Station']]\n",
    "df"
   ]
  },
  {
   "cell_type": "code",
   "execution_count": 141,
   "metadata": {},
   "outputs": [],
   "source": [
    "X_data = df.drop(columns=['Unnamed: 0', 'Waterlevel'])\n",
    "X_data = X_data.values\n",
    "y_data = df['Waterlevel']\n",
    "y_data = y_data.values"
   ]
  },
  {
   "cell_type": "code",
   "execution_count": 142,
   "metadata": {},
   "outputs": [],
   "source": [
    "np.set_printoptions(suppress=True)"
   ]
  },
  {
   "cell_type": "code",
   "execution_count": 143,
   "metadata": {},
   "outputs": [
    {
     "data": {
      "text/plain": [
       "array([[ 1.  ,  1.  ,  0.  , ...,   nan,   nan,   nan],\n",
       "       [ 1.  ,  1.  ,  0.  , ...,   nan,   nan,   nan],\n",
       "       [ 1.  ,  1.  ,  1.  , ...,   nan,   nan,   nan],\n",
       "       ...,\n",
       "       [12.  , 31.  , 22.  , ..., 12.44, 12.45, 12.45],\n",
       "       [12.  , 31.  , 23.  , ..., 21.18, 21.18, 21.18],\n",
       "       [12.  , 31.  , 23.  , ..., 12.44, 12.44, 12.45]])"
      ]
     },
     "execution_count": 143,
     "metadata": {},
     "output_type": "execute_result"
    }
   ],
   "source": [
    "X_data"
   ]
  },
  {
   "cell_type": "code",
   "execution_count": 144,
   "metadata": {},
   "outputs": [
    {
     "data": {
      "text/plain": [
       "array([21.03, 12.18, 21.03, ..., 12.44, 21.18, 12.44])"
      ]
     },
     "execution_count": 144,
     "metadata": {},
     "output_type": "execute_result"
    }
   ],
   "source": [
    "y_data"
   ]
  },
  {
   "cell_type": "code",
   "execution_count": 145,
   "metadata": {},
   "outputs": [],
   "source": [
    "n = len(df)"
   ]
  },
  {
   "cell_type": "code",
   "execution_count": 146,
   "metadata": {},
   "outputs": [],
   "source": [
    "X_train, y_train = X_data[:int(0.5*n)], y_data[:int(0.5*n)]\n",
    "X_val, y_val = X_data[int(0.5*n):int(0.75*n)], y_data[int(0.5*n):int(0.75*n)]\n",
    "X_test, y_test = X_data[int(0.75*n):], y_data[int(0.75*n):]"
   ]
  },
  {
   "cell_type": "code",
   "execution_count": 147,
   "metadata": {},
   "outputs": [
    {
     "data": {
      "text/plain": [
       "(17520, 21)"
      ]
     },
     "execution_count": 147,
     "metadata": {},
     "output_type": "execute_result"
    }
   ],
   "source": [
    "X_train.shape"
   ]
  },
  {
   "cell_type": "code",
   "execution_count": 148,
   "metadata": {},
   "outputs": [
    {
     "data": {
      "text/plain": [
       "array([[ 1.  ,  1.  , 12.  , ..., 21.03, 21.03, 21.03],\n",
       "       [ 1.  ,  1.  , 12.  , ..., 12.19, 12.19, 12.18],\n",
       "       [ 1.  ,  1.  , 13.  , ..., 21.03, 21.03, 21.03],\n",
       "       ...,\n",
       "       [12.  , 31.  , 22.  , ..., 12.53, 12.53, 12.53],\n",
       "       [12.  , 31.  , 23.  , ..., 21.2 , 21.2 , 21.2 ],\n",
       "       [12.  , 31.  , 23.  , ..., 12.53, 12.53, 12.53]])"
      ]
     },
     "execution_count": 148,
     "metadata": {},
     "output_type": "execute_result"
    }
   ],
   "source": [
    "X_train = X_train[~np.isnan(X_train).any(axis=1)]\n",
    "X_train"
   ]
  },
  {
   "cell_type": "code",
   "execution_count": 149,
   "metadata": {},
   "outputs": [
    {
     "data": {
      "text/plain": [
       "(17496, 21)"
      ]
     },
     "execution_count": 149,
     "metadata": {},
     "output_type": "execute_result"
    }
   ],
   "source": [
    "X_train.shape"
   ]
  },
  {
   "cell_type": "code",
   "execution_count": 150,
   "metadata": {},
   "outputs": [
    {
     "data": {
      "text/plain": [
       "(17496,)"
      ]
     },
     "execution_count": 150,
     "metadata": {},
     "output_type": "execute_result"
    }
   ],
   "source": [
    "y_train = y_train[24:]\n",
    "y_train.shape"
   ]
  },
  {
   "cell_type": "code",
   "execution_count": 151,
   "metadata": {},
   "outputs": [
    {
     "data": {
      "text/plain": [
       "(8760, 21)"
      ]
     },
     "execution_count": 151,
     "metadata": {},
     "output_type": "execute_result"
    }
   ],
   "source": [
    "X_val.shape"
   ]
  },
  {
   "cell_type": "code",
   "execution_count": 152,
   "metadata": {},
   "outputs": [
    {
     "data": {
      "text/plain": [
       "(8760, 21)"
      ]
     },
     "execution_count": 152,
     "metadata": {},
     "output_type": "execute_result"
    }
   ],
   "source": [
    "X_test.shape"
   ]
  },
  {
   "cell_type": "markdown",
   "metadata": {},
   "source": [
    "## Evaluation Metrics"
   ]
  },
  {
   "cell_type": "code",
   "execution_count": 153,
   "metadata": {},
   "outputs": [],
   "source": [
    "def r_square(y_true, y_pred):\n",
    "    x = y_true\n",
    "    y = y_pred\n",
    "    mx = K.mean(x, axis=0)\n",
    "    my = K.mean(y, axis=0)\n",
    "    xm, ym = x - mx, y - my\n",
    "    r_num = K.square(K.sum(xm * ym))\n",
    "    x_square_sum = K.sum(xm * xm)\n",
    "    y_square_sum = K.sum(ym * ym)\n",
    "    r_den = (x_square_sum * y_square_sum) + K.epsilon()\n",
    "    \n",
    "    r = r_num / r_den\n",
    "    return r"
   ]
  },
  {
   "cell_type": "code",
   "execution_count": 154,
   "metadata": {},
   "outputs": [],
   "source": [
    "def NSE(y_true, y_pred):\n",
    "    '''\n",
    "    This is the Nash-Sutcliffe Efficiency Coefficient\n",
    "    '''\n",
    "    y_pred = K.flatten(y_pred)\n",
    "    y_true = K.flatten(y_true)\n",
    "\n",
    "    SS_res =  K.sum(K.square(y_true - y_pred)) \n",
    "    SS_tot = K.sum(K.square(y_true - K.mean(y_true))) \n",
    "    \n",
    "    return ( 1 - SS_res/(SS_tot + K.epsilon()) )"
   ]
  },
  {
   "cell_type": "markdown",
   "metadata": {},
   "source": [
    "## Models and Training Loops"
   ]
  },
  {
   "cell_type": "code",
   "execution_count": 155,
   "metadata": {},
   "outputs": [],
   "source": [
    "def create_train_dnn_model(X_train, y_train, X_val, y_val, max_epochs=20, patience=2):\n",
    "    # Create the model\n",
    "    model = models.Sequential([\n",
    "        layers.Dense(64, activation='relu', input_shape=(X_train.shape[1],)),\n",
    "        layers.Dense(64, activation='relu'),\n",
    "        layers.Dense(64, activation='relu'),\n",
    "        layers.Dense(1, activation='linear')\n",
    "    ])\n",
    "    \n",
    "    # Define early stopping callback\n",
    "    early_stopping = tf.keras.callbacks.EarlyStopping(\n",
    "        monitor='val_loss',\n",
    "        patience=patience,\n",
    "        mode='min',\n",
    "        restore_best_weights=True\n",
    "    )\n",
    "    \n",
    "    # Compile the model\n",
    "    model.compile(\n",
    "        optimizer='adam',\n",
    "        loss=tf.keras.losses.MeanSquaredError(),\n",
    "        metrics=[tf.keras.metrics.MeanSquaredError(), NSE, r_square]\n",
    "    )\n",
    "    \n",
    "    # Train the model\n",
    "    history = model.fit(\n",
    "        X_train, y_train,\n",
    "        validation_data=(X_val, y_val),\n",
    "        epochs=max_epochs,\n",
    "        callbacks=[early_stopping]\n",
    "    )\n",
    "    \n",
    "    return model, history"
   ]
  },
  {
   "cell_type": "code",
   "execution_count": 156,
   "metadata": {},
   "outputs": [],
   "source": [
    "def create_train_cnn_model(X_train, y_train, X_val, y_val, max_epochs=20, patience=2):\n",
    "    # Reshape input for 1D CNN\n",
    "    X_train = X_train.reshape(X_train.shape[0], X_train.shape[1], 1)\n",
    "    X_val = X_val.reshape(X_val.shape[0], X_val.shape[1], 1)\n",
    "    \n",
    "    conv_model = tf.keras.Sequential([\n",
    "        tf.keras.layers.Input(shape=(X_train.shape[1], 1)),\n",
    "        tf.keras.layers.Conv1D(filters=64, kernel_size=6, activation='relu'),\n",
    "        tf.keras.layers.MaxPooling1D(pool_size=2),\n",
    "        tf.keras.layers.Flatten(),\n",
    "        tf.keras.layers.Dense(units=64, activation='relu'),\n",
    "        tf.keras.layers.Dense(units=64, activation='relu'),\n",
    "        tf.keras.layers.Dense(units=1)\n",
    "    ])\n",
    "    \n",
    "    early_stopping = tf.keras.callbacks.EarlyStopping(\n",
    "        monitor='val_loss',\n",
    "        patience=patience,\n",
    "        mode='min',\n",
    "        restore_best_weights=True\n",
    "    )\n",
    "    \n",
    "    conv_model.compile(\n",
    "        optimizer='adam',\n",
    "        loss=tf.keras.losses.MeanSquaredError(),\n",
    "        metrics=[tf.keras.metrics.MeanSquaredError(), NSE, r_square]\n",
    "    )\n",
    "    \n",
    "    conv_history = conv_model.fit(\n",
    "        X_train, y_train,\n",
    "        validation_data=(X_val, y_val),\n",
    "        epochs=max_epochs,\n",
    "        callbacks=[early_stopping]\n",
    "    )\n",
    "    \n",
    "    return conv_model, conv_history"
   ]
  },
  {
   "cell_type": "code",
   "execution_count": 157,
   "metadata": {},
   "outputs": [],
   "source": [
    "def create_train_lstm_model(X_train, y_train, X_val, y_val, max_epochs=20, patience=2):\n",
    "    if len(X_train.shape) == 2:\n",
    "        X_train = X_train.reshape((X_train.shape[0], 1, X_train.shape[1]))\n",
    "    if len(X_val.shape) == 2:\n",
    "        X_val = X_val.reshape((X_val.shape[0], 1, X_val.shape[1]))\n",
    "            \n",
    "    lstm_model = tf.keras.models.Sequential([\n",
    "        tf.keras.layers.LSTM(64, input_shape=(X_train.shape[1], X_train.shape[2]), return_sequences=False),\n",
    "        tf.keras.layers.Flatten(),  # Add Flatten layer to handle dimension mismatch\n",
    "        tf.keras.layers.Dense(units=64, activation='relu'),\n",
    "        tf.keras.layers.Dense(units=64, activation='relu'),\n",
    "        tf.keras.layers.Dense(units=1)\n",
    "    ])\n",
    "    \n",
    "    # Define early stopping callback\n",
    "    early_stopping = tf.keras.callbacks.EarlyStopping(\n",
    "        monitor='val_loss',\n",
    "        patience=patience,\n",
    "        mode='min',\n",
    "        restore_best_weights=True\n",
    "    )\n",
    "    \n",
    "    # Compile the model\n",
    "    lstm_model.compile(\n",
    "        optimizer='adam',\n",
    "        loss=tf.keras.losses.MeanSquaredError(),\n",
    "        metrics=[tf.keras.metrics.MeanSquaredError(), NSE, r_square]\n",
    "    )\n",
    "    \n",
    "    # Train the model\n",
    "    lstm_history = lstm_model.fit(\n",
    "        X_train, y_train,\n",
    "        validation_data=(X_val, y_val),\n",
    "        epochs=max_epochs,\n",
    "        callbacks=[early_stopping]\n",
    "    )\n",
    "    \n",
    "    return lstm_model, lstm_history"
   ]
  },
  {
   "cell_type": "markdown",
   "metadata": {},
   "source": [
    "## Training"
   ]
  },
  {
   "cell_type": "code",
   "execution_count": 158,
   "metadata": {},
   "outputs": [
    {
     "name": "stdout",
     "output_type": "stream",
     "text": [
      "Epoch 1/20\n",
      "547/547 [==============================] - 2s 2ms/step - loss: 2.0913 - mean_squared_error: 2.0913 - NSE: 0.8949 - r_square: 0.9840 - val_loss: 0.0214 - val_mean_squared_error: 0.0214 - val_NSE: 0.9989 - val_r_square: 0.9991\n",
      "Epoch 2/20\n",
      "547/547 [==============================] - 1s 2ms/step - loss: 0.0761 - mean_squared_error: 0.0761 - NSE: 0.9959 - r_square: 0.9966 - val_loss: 0.0110 - val_mean_squared_error: 0.0110 - val_NSE: 0.9995 - val_r_square: 0.9996\n",
      "Epoch 3/20\n",
      "547/547 [==============================] - 1s 2ms/step - loss: 0.0709 - mean_squared_error: 0.0709 - NSE: 0.9962 - r_square: 0.9970 - val_loss: 0.0148 - val_mean_squared_error: 0.0148 - val_NSE: 0.9993 - val_r_square: 0.9997\n",
      "Epoch 4/20\n",
      "547/547 [==============================] - 1s 2ms/step - loss: 0.0717 - mean_squared_error: 0.0717 - NSE: 0.9962 - r_square: 0.9971 - val_loss: 0.0124 - val_mean_squared_error: 0.0124 - val_NSE: 0.9994 - val_r_square: 0.9996\n"
     ]
    }
   ],
   "source": [
    "dnn_model, dnn_history = create_train_dnn_model(\n",
    "    X_train=X_train,\n",
    "    y_train=y_train,\n",
    "    X_val=X_val,\n",
    "    y_val=y_val\n",
    ")"
   ]
  },
  {
   "cell_type": "code",
   "execution_count": 159,
   "metadata": {},
   "outputs": [
    {
     "name": "stdout",
     "output_type": "stream",
     "text": [
      "Epoch 1/20\n",
      "547/547 [==============================] - 3s 3ms/step - loss: 3.2872 - mean_squared_error: 3.2872 - NSE: 0.8327 - r_square: 0.9913 - val_loss: 0.0144 - val_mean_squared_error: 0.0144 - val_NSE: 0.9993 - val_r_square: 0.9995\n",
      "Epoch 2/20\n",
      "547/547 [==============================] - 2s 3ms/step - loss: 0.0618 - mean_squared_error: 0.0618 - NSE: 0.9967 - r_square: 0.9974 - val_loss: 0.0077 - val_mean_squared_error: 0.0077 - val_NSE: 0.9996 - val_r_square: 0.9997\n",
      "Epoch 3/20\n",
      "547/547 [==============================] - 2s 3ms/step - loss: 0.0581 - mean_squared_error: 0.0581 - NSE: 0.9969 - r_square: 0.9975 - val_loss: 0.0059 - val_mean_squared_error: 0.0059 - val_NSE: 0.9997 - val_r_square: 0.9998\n",
      "Epoch 4/20\n",
      "547/547 [==============================] - 2s 3ms/step - loss: 0.0618 - mean_squared_error: 0.0618 - NSE: 0.9967 - r_square: 0.9976 - val_loss: 0.0123 - val_mean_squared_error: 0.0123 - val_NSE: 0.9994 - val_r_square: 0.9997\n",
      "Epoch 5/20\n",
      "547/547 [==============================] - 2s 3ms/step - loss: 0.0614 - mean_squared_error: 0.0614 - NSE: 0.9967 - r_square: 0.9977 - val_loss: 0.1199 - val_mean_squared_error: 0.1199 - val_NSE: 0.9941 - val_r_square: 0.9995\n"
     ]
    }
   ],
   "source": [
    "cnn_model, cnn_history = create_train_cnn_model(\n",
    "    X_train=X_train,\n",
    "    y_train=y_train,\n",
    "    X_val=X_val,\n",
    "    y_val=y_val\n",
    ")"
   ]
  },
  {
   "cell_type": "code",
   "execution_count": 160,
   "metadata": {},
   "outputs": [
    {
     "name": "stdout",
     "output_type": "stream",
     "text": [
      "Epoch 1/20\n",
      "547/547 [==============================] - 5s 5ms/step - loss: 14.4829 - mean_squared_error: 14.4829 - NSE: 0.2389 - r_square: 0.8861 - val_loss: 0.1175 - val_mean_squared_error: 0.1175 - val_NSE: 0.9941 - val_r_square: 0.9975\n",
      "Epoch 2/20\n",
      "547/547 [==============================] - 2s 3ms/step - loss: 0.1929 - mean_squared_error: 0.1929 - NSE: 0.9898 - r_square: 0.9922 - val_loss: 0.0788 - val_mean_squared_error: 0.0788 - val_NSE: 0.9960 - val_r_square: 0.9988\n",
      "Epoch 3/20\n",
      "547/547 [==============================] - 2s 3ms/step - loss: 0.1500 - mean_squared_error: 0.1500 - NSE: 0.9921 - r_square: 0.9941 - val_loss: 0.0505 - val_mean_squared_error: 0.0505 - val_NSE: 0.9975 - val_r_square: 0.9990\n",
      "Epoch 4/20\n",
      "547/547 [==============================] - 2s 3ms/step - loss: 0.1459 - mean_squared_error: 0.1459 - NSE: 0.9923 - r_square: 0.9944 - val_loss: 0.0390 - val_mean_squared_error: 0.0390 - val_NSE: 0.9981 - val_r_square: 0.9990\n",
      "Epoch 5/20\n",
      "547/547 [==============================] - 2s 3ms/step - loss: 0.1284 - mean_squared_error: 0.1284 - NSE: 0.9932 - r_square: 0.9950 - val_loss: 0.2201 - val_mean_squared_error: 0.2201 - val_NSE: 0.9892 - val_r_square: 0.9990\n",
      "Epoch 6/20\n",
      "547/547 [==============================] - 2s 4ms/step - loss: 0.1320 - mean_squared_error: 0.1320 - NSE: 0.9930 - r_square: 0.9950 - val_loss: 0.0825 - val_mean_squared_error: 0.0825 - val_NSE: 0.9959 - val_r_square: 0.9988\n"
     ]
    }
   ],
   "source": [
    "# Train the model\n",
    "lstm_model, lstm_history = create_train_lstm_model(\n",
    "    X_train=X_train,\n",
    "    y_train=y_train,\n",
    "    X_val=X_val,\n",
    "    y_val=y_val\n",
    ")"
   ]
  },
  {
   "cell_type": "markdown",
   "metadata": {},
   "source": [
    "## Predictions"
   ]
  },
  {
   "cell_type": "code",
   "execution_count": 161,
   "metadata": {},
   "outputs": [
    {
     "data": {
      "text/plain": [
       "array([[ 7.  ,  2.  , 12.  , ..., 21.09, 21.07, 21.06],\n",
       "       [ 7.  ,  2.  , 12.  , ..., 12.01, 12.07, 12.16],\n",
       "       [ 7.  ,  2.  , 13.  , ..., 21.18, 21.09, 21.07],\n",
       "       ...,\n",
       "       [12.  , 31.  , 22.  , ..., 12.44, 12.45, 12.45],\n",
       "       [12.  , 31.  , 23.  , ..., 21.18, 21.18, 21.18],\n",
       "       [12.  , 31.  , 23.  , ..., 12.44, 12.44, 12.45]])"
      ]
     },
     "execution_count": 161,
     "metadata": {},
     "output_type": "execute_result"
    }
   ],
   "source": [
    "X_test"
   ]
  },
  {
   "cell_type": "code",
   "execution_count": 162,
   "metadata": {},
   "outputs": [
    {
     "data": {
      "text/plain": [
       "(8760, 21)"
      ]
     },
     "execution_count": 162,
     "metadata": {},
     "output_type": "execute_result"
    }
   ],
   "source": [
    "X_test.shape"
   ]
  },
  {
   "cell_type": "code",
   "execution_count": 163,
   "metadata": {},
   "outputs": [
    {
     "data": {
      "text/plain": [
       "array([[[ 7.  ,  2.  , 12.  , ..., 21.09, 21.07, 21.06]],\n",
       "\n",
       "       [[ 7.  ,  2.  , 12.  , ..., 12.01, 12.07, 12.16]],\n",
       "\n",
       "       [[ 7.  ,  2.  , 13.  , ..., 21.18, 21.09, 21.07]],\n",
       "\n",
       "       ...,\n",
       "\n",
       "       [[12.  , 31.  , 22.  , ..., 12.44, 12.45, 12.45]],\n",
       "\n",
       "       [[12.  , 31.  , 23.  , ..., 21.18, 21.18, 21.18]],\n",
       "\n",
       "       [[12.  , 31.  , 23.  , ..., 12.44, 12.44, 12.45]]])"
      ]
     },
     "execution_count": 163,
     "metadata": {},
     "output_type": "execute_result"
    }
   ],
   "source": [
    "X_test_lstm = X_test.reshape((X_test.shape[0], 1, X_test.shape[1]))\n",
    "X_test_lstm"
   ]
  },
  {
   "cell_type": "code",
   "execution_count": 164,
   "metadata": {},
   "outputs": [
    {
     "data": {
      "text/plain": [
       "(8760, 1, 21)"
      ]
     },
     "execution_count": 164,
     "metadata": {},
     "output_type": "execute_result"
    }
   ],
   "source": [
    "X_test_lstm.shape"
   ]
  },
  {
   "cell_type": "code",
   "execution_count": 165,
   "metadata": {},
   "outputs": [
    {
     "data": {
      "text/plain": [
       "<tf.Tensor: shape=(8760, 1), dtype=float32, numpy=\n",
       "array([[21.326155],\n",
       "       [12.057767],\n",
       "       [21.315481],\n",
       "       ...,\n",
       "       [12.434953],\n",
       "       [21.060148],\n",
       "       [12.435071]], dtype=float32)>"
      ]
     },
     "execution_count": 165,
     "metadata": {},
     "output_type": "execute_result"
    }
   ],
   "source": [
    "predictions = lstm_model(X_test_lstm)\n",
    "predictions"
   ]
  },
  {
   "cell_type": "code",
   "execution_count": 166,
   "metadata": {},
   "outputs": [
    {
     "data": {
      "text/plain": [
       "(8760,)"
      ]
     },
     "execution_count": 166,
     "metadata": {},
     "output_type": "execute_result"
    }
   ],
   "source": [
    "predictions = np.array(predictions).reshape(-1)\n",
    "predictions.shape"
   ]
  },
  {
   "cell_type": "code",
   "execution_count": 167,
   "metadata": {},
   "outputs": [
    {
     "data": {
      "text/plain": [
       "(array([21.26, 11.89, 21.26, ..., 12.44, 21.18, 12.44]), (8760,))"
      ]
     },
     "execution_count": 167,
     "metadata": {},
     "output_type": "execute_result"
    }
   ],
   "source": [
    "y_test, y_test.shape"
   ]
  },
  {
   "cell_type": "code",
   "execution_count": 168,
   "metadata": {},
   "outputs": [
    {
     "data": {
      "text/plain": [
       "array([11.89, 11.87, 11.85, ..., 12.44, 12.44, 12.44])"
      ]
     },
     "execution_count": 168,
     "metadata": {},
     "output_type": "execute_result"
    }
   ],
   "source": [
    "sto_nino_test = y_test[1::2]\n",
    "sto_nino_test"
   ]
  },
  {
   "cell_type": "code",
   "execution_count": 169,
   "metadata": {},
   "outputs": [
    {
     "data": {
      "text/plain": [
       "array([12.057767, 12.024833, 11.996243, ..., 12.431411, 12.434953,\n",
       "       12.435071], dtype=float32)"
      ]
     },
     "execution_count": 169,
     "metadata": {},
     "output_type": "execute_result"
    }
   ],
   "source": [
    "sto_nino_pred = predictions[1::2]\n",
    "sto_nino_pred"
   ]
  },
  {
   "cell_type": "code",
   "execution_count": 170,
   "metadata": {},
   "outputs": [
    {
     "data": {
      "text/plain": [
       "0.8467048125484895"
      ]
     },
     "execution_count": 170,
     "metadata": {},
     "output_type": "execute_result"
    }
   ],
   "source": [
    "SS_res = np.sum(np.square(sto_nino_test - sto_nino_pred)) \n",
    "SS_tot = np.sum(np.square(sto_nino_test - np.mean(sto_nino_test))) \n",
    "\n",
    "sto_nino_nse =  1 - SS_res/SS_tot\n",
    "sto_nino_nse"
   ]
  },
  {
   "cell_type": "code",
   "execution_count": 171,
   "metadata": {},
   "outputs": [
    {
     "data": {
      "text/plain": [
       "0.04759494840351299"
      ]
     },
     "execution_count": 171,
     "metadata": {},
     "output_type": "execute_result"
    }
   ],
   "source": [
    "sto_nino_mse = np.mean(np.square(sto_nino_test-sto_nino_pred))\n",
    "sto_nino_mse"
   ]
  },
  {
   "cell_type": "code",
   "execution_count": 172,
   "metadata": {},
   "outputs": [
    {
     "data": {
      "image/png": "[encoded data removed]",
      "text/plain": [
       "<Figure size 432x288 with 1 Axes>"
      ]
     },
     "metadata": {
      "needs_background": "light"
     },
     "output_type": "display_data"
    }
   ],
   "source": [
    "plt.plot(sto_nino_test, label='Observed Values')\n",
    "plt.plot(sto_nino_pred, label='Predicted Values', alpha=0.5, linewidth=0.5)\n",
    "plt.legend()\n",
    "plt.show()"
   ]
  },
  {
   "cell_type": "code",
   "execution_count": 173,
   "metadata": {},
   "outputs": [
    {
     "data": {
      "text/plain": [
       "array([21.26, 21.26, 21.25, ..., 21.18, 21.18, 21.18])"
      ]
     },
     "execution_count": 173,
     "metadata": {},
     "output_type": "execute_result"
    }
   ],
   "source": [
    "montalban_test = y_test[::2]\n",
    "montalban_test"
   ]
  },
  {
   "cell_type": "code",
   "execution_count": 174,
   "metadata": {},
   "outputs": [
    {
     "data": {
      "text/plain": [
       "array([21.326155, 21.315481, 21.296005, ..., 21.128265, 21.095337,\n",
       "       21.060148], dtype=float32)"
      ]
     },
     "execution_count": 174,
     "metadata": {},
     "output_type": "execute_result"
    }
   ],
   "source": [
    "montalban_pred = predictions[::2]\n",
    "montalban_pred"
   ]
  },
  {
   "cell_type": "code",
   "execution_count": 175,
   "metadata": {},
   "outputs": [
    {
     "data": {
      "text/plain": [
       "0.3514776203580856"
      ]
     },
     "execution_count": 175,
     "metadata": {},
     "output_type": "execute_result"
    }
   ],
   "source": [
    "SS_res = np.sum(np.square(montalban_test - montalban_pred)) \n",
    "SS_tot = np.sum(np.square(montalban_test - np.mean(montalban_test))) \n",
    "\n",
    "montalban_nse =  1 - SS_res/SS_tot\n",
    "montalban_nse"
   ]
  },
  {
   "cell_type": "code",
   "execution_count": 176,
   "metadata": {},
   "outputs": [
    {
     "data": {
      "text/plain": [
       "0.19720486747070057"
      ]
     },
     "execution_count": 176,
     "metadata": {},
     "output_type": "execute_result"
    }
   ],
   "source": [
    "montalban_mse = np.mean(np.square(montalban_test-montalban_pred))\n",
    "montalban_mse"
   ]
  },
  {
   "cell_type": "code",
   "execution_count": 177,
   "metadata": {},
   "outputs": [
    {
     "data": {
      "image/png": "[encoded data removed]",
      "text/plain": [
       "<Figure size 432x288 with 1 Axes>"
      ]
     },
     "metadata": {
      "needs_background": "light"
     },
     "output_type": "display_data"
    }
   ],
   "source": [
    "plt.plot(montalban_test, label='Observed Values')\n",
    "plt.plot(montalban_pred, label='Predicted Values', alpha=0.5, linewidth=0.5)\n",
    "plt.legend()\n",
    "plt.show()"
   ]
  },
  {
   "cell_type": "code",
   "execution_count": 178,
   "metadata": {},
   "outputs": [
    {
     "data": {
      "text/plain": [
       "(0.12239990793710678, 0.5990912164532876)"
      ]
     },
     "execution_count": 178,
     "metadata": {},
     "output_type": "execute_result"
    }
   ],
   "source": [
    "mse = (sto_nino_mse + montalban_mse)/2\n",
    "nse = (sto_nino_nse + montalban_nse)/2\n",
    "\n",
    "mse, nse"
   ]
  },
  {
   "cell_type": "code",
   "execution_count": 179,
   "metadata": {},
   "outputs": [],
   "source": [
    "np.savetxt('results/no_window_lag12_sto_nino.csv', sto_nino_pred, delimiter=',', fmt='%.4f')"
   ]
  },
  {
   "cell_type": "code",
   "execution_count": 180,
   "metadata": {},
   "outputs": [],
   "source": [
    "np.savetxt('results/no_window_lag12_montalban.csv', montalban_pred, delimiter=',', fmt='%.4f')"
   ]
  },
  {
   "cell_type": "code",
   "execution_count": null,
   "metadata": {},
   "outputs": [],
   "source": []
  }
 ],
 "metadata": {
  "kernelspec": {
   "display_name": "Python 3",
   "language": "python",
   "name": "python3"
  },
  "language_info": {
   "codemirror_mode": {
    "name": "ipython",
    "version": 3
   },
   "file_extension": ".py",
   "mimetype": "text/x-python",
   "name": "python",
   "nbconvert_exporter": "python",
   "pygments_lexer": "ipython3",
   "version": "3.8.3"
  }
 },
 "nbformat": 4,
 "nbformat_minor": 5
}
