{
 "cells": [
  {
   "cell_type": "code",
   "execution_count": 1,
   "id": "6894a731",
   "metadata": {},
   "outputs": [],
   "source": [
    "import pandas as pd\n",
    "import numpy as np\n",
    "import matplotlib.pyplot as plt\n",
    "import seaborn as sns\n",
    "import os"
   ]
  },
  {
   "cell_type": "markdown",
   "id": "c9b509f8",
   "metadata": {},
   "source": [
    "## Dataset"
   ]
  },
  {
   "cell_type": "code",
   "execution_count": null,
   "id": "aa086970",
   "metadata": {},
   "outputs": [],
   "source": [
    "BASE_DIR_PATH = '/Users/neilb/Documents/dsci_thesis/Datasets'\n",
    "DATASET_FILE = os.path.join(BASE_DIR_PATH, 'compiled_data_2016_2017.csv')"
   ]
  },
  {
   "cell_type": "code",
   "execution_count": 41,
   "id": "a6b4d82b",
   "metadata": {},
   "outputs": [
    {
     "data": {
      "text/html": [
       "<div>\n",
       "<style scoped>\n",
       "    .dataframe tbody tr th:only-of-type {\n",
       "        vertical-align: middle;\n",
       "    }\n",
       "\n",
       "    .dataframe tbody tr th {\n",
       "        vertical-align: top;\n",
       "    }\n",
       "\n",
       "    .dataframe thead th {\n",
       "        text-align: right;\n",
       "    }\n",
       "</style>\n",
       "<table border=\"1\" class=\"dataframe\">\n",
       "  <thead>\n",
       "    <tr style=\"text-align: right;\">\n",
       "      <th></th>\n",
       "      <th>Unnamed: 0</th>\n",
       "      <th>index</th>\n",
       "      <th>Rainfall_Aries</th>\n",
       "      <th>Rainfall_Boso</th>\n",
       "      <th>Rainfall_Campana</th>\n",
       "      <th>Rainfall_Nangka</th>\n",
       "      <th>Rainfall_Oro</th>\n",
       "      <th>Waterlevel_Sto_Nino</th>\n",
       "      <th>Waterlevel_Montalban</th>\n",
       "      <th>Discharge_Sto_Nino</th>\n",
       "      <th>Discharge_San_Jose</th>\n",
       "      <th>Cross_Section_Sto_Nino</th>\n",
       "      <th>Cross_Section_Montalban</th>\n",
       "      <th>Velocity_Sto_Nino</th>\n",
       "      <th>Velocity_Montalban</th>\n",
       "      <th>datetime</th>\n",
       "      <th>t</th>\n",
       "      <th>x</th>\n",
       "    </tr>\n",
       "  </thead>\n",
       "  <tbody>\n",
       "    <tr>\n",
       "      <th>0</th>\n",
       "      <td>0</td>\n",
       "      <td>0</td>\n",
       "      <td>0</td>\n",
       "      <td>1</td>\n",
       "      <td>2</td>\n",
       "      <td>0</td>\n",
       "      <td>0</td>\n",
       "      <td>12.18</td>\n",
       "      <td>21.03</td>\n",
       "      <td>21.033407</td>\n",
       "      <td>14.842428</td>\n",
       "      <td>803.88</td>\n",
       "      <td>630.9</td>\n",
       "      <td>0.026165</td>\n",
       "      <td>0.023526</td>\n",
       "      <td>2016-01-01 00:00:00</td>\n",
       "      <td>0.0</td>\n",
       "      <td>14420</td>\n",
       "    </tr>\n",
       "    <tr>\n",
       "      <th>1</th>\n",
       "      <td>1</td>\n",
       "      <td>1</td>\n",
       "      <td>0</td>\n",
       "      <td>1</td>\n",
       "      <td>1</td>\n",
       "      <td>1</td>\n",
       "      <td>0</td>\n",
       "      <td>12.19</td>\n",
       "      <td>21.03</td>\n",
       "      <td>21.280072</td>\n",
       "      <td>14.842428</td>\n",
       "      <td>804.54</td>\n",
       "      <td>630.9</td>\n",
       "      <td>0.026450</td>\n",
       "      <td>0.023526</td>\n",
       "      <td>2016-01-01 01:00:00</td>\n",
       "      <td>3600.0</td>\n",
       "      <td>14420</td>\n",
       "    </tr>\n",
       "    <tr>\n",
       "      <th>2</th>\n",
       "      <td>2</td>\n",
       "      <td>2</td>\n",
       "      <td>1</td>\n",
       "      <td>1</td>\n",
       "      <td>1</td>\n",
       "      <td>0</td>\n",
       "      <td>1</td>\n",
       "      <td>12.19</td>\n",
       "      <td>21.03</td>\n",
       "      <td>21.280072</td>\n",
       "      <td>14.842428</td>\n",
       "      <td>804.54</td>\n",
       "      <td>630.9</td>\n",
       "      <td>0.026450</td>\n",
       "      <td>0.023526</td>\n",
       "      <td>2016-01-01 02:00:00</td>\n",
       "      <td>7200.0</td>\n",
       "      <td>14420</td>\n",
       "    </tr>\n",
       "    <tr>\n",
       "      <th>3</th>\n",
       "      <td>3</td>\n",
       "      <td>3</td>\n",
       "      <td>0</td>\n",
       "      <td>0</td>\n",
       "      <td>0</td>\n",
       "      <td>1</td>\n",
       "      <td>0</td>\n",
       "      <td>12.20</td>\n",
       "      <td>21.03</td>\n",
       "      <td>21.529056</td>\n",
       "      <td>14.842428</td>\n",
       "      <td>805.20</td>\n",
       "      <td>630.9</td>\n",
       "      <td>0.026738</td>\n",
       "      <td>0.023526</td>\n",
       "      <td>2016-01-01 03:00:00</td>\n",
       "      <td>10800.0</td>\n",
       "      <td>14420</td>\n",
       "    </tr>\n",
       "    <tr>\n",
       "      <th>4</th>\n",
       "      <td>4</td>\n",
       "      <td>4</td>\n",
       "      <td>1</td>\n",
       "      <td>1</td>\n",
       "      <td>1</td>\n",
       "      <td>0</td>\n",
       "      <td>0</td>\n",
       "      <td>12.20</td>\n",
       "      <td>21.03</td>\n",
       "      <td>21.529056</td>\n",
       "      <td>14.842428</td>\n",
       "      <td>805.20</td>\n",
       "      <td>630.9</td>\n",
       "      <td>0.026738</td>\n",
       "      <td>0.023526</td>\n",
       "      <td>2016-01-01 04:00:00</td>\n",
       "      <td>14400.0</td>\n",
       "      <td>14420</td>\n",
       "    </tr>\n",
       "    <tr>\n",
       "      <th>...</th>\n",
       "      <td>...</td>\n",
       "      <td>...</td>\n",
       "      <td>...</td>\n",
       "      <td>...</td>\n",
       "      <td>...</td>\n",
       "      <td>...</td>\n",
       "      <td>...</td>\n",
       "      <td>...</td>\n",
       "      <td>...</td>\n",
       "      <td>...</td>\n",
       "      <td>...</td>\n",
       "      <td>...</td>\n",
       "      <td>...</td>\n",
       "      <td>...</td>\n",
       "      <td>...</td>\n",
       "      <td>...</td>\n",
       "      <td>...</td>\n",
       "      <td>...</td>\n",
       "    </tr>\n",
       "    <tr>\n",
       "      <th>17515</th>\n",
       "      <td>17515</td>\n",
       "      <td>16059</td>\n",
       "      <td>0</td>\n",
       "      <td>0</td>\n",
       "      <td>0</td>\n",
       "      <td>0</td>\n",
       "      <td>0</td>\n",
       "      <td>12.44</td>\n",
       "      <td>21.18</td>\n",
       "      <td>28.244204</td>\n",
       "      <td>17.224575</td>\n",
       "      <td>821.04</td>\n",
       "      <td>635.4</td>\n",
       "      <td>0.034401</td>\n",
       "      <td>0.027108</td>\n",
       "      <td>2017-12-31 19:00:00</td>\n",
       "      <td>63140400.0</td>\n",
       "      <td>14420</td>\n",
       "    </tr>\n",
       "    <tr>\n",
       "      <th>17516</th>\n",
       "      <td>17516</td>\n",
       "      <td>16424</td>\n",
       "      <td>0</td>\n",
       "      <td>0</td>\n",
       "      <td>0</td>\n",
       "      <td>0</td>\n",
       "      <td>0</td>\n",
       "      <td>12.44</td>\n",
       "      <td>21.18</td>\n",
       "      <td>28.244204</td>\n",
       "      <td>17.224575</td>\n",
       "      <td>821.04</td>\n",
       "      <td>635.4</td>\n",
       "      <td>0.034401</td>\n",
       "      <td>0.027108</td>\n",
       "      <td>2017-12-31 20:00:00</td>\n",
       "      <td>63144000.0</td>\n",
       "      <td>14420</td>\n",
       "    </tr>\n",
       "    <tr>\n",
       "      <th>17517</th>\n",
       "      <td>17517</td>\n",
       "      <td>16789</td>\n",
       "      <td>0</td>\n",
       "      <td>0</td>\n",
       "      <td>0</td>\n",
       "      <td>0</td>\n",
       "      <td>0</td>\n",
       "      <td>12.44</td>\n",
       "      <td>21.18</td>\n",
       "      <td>28.244204</td>\n",
       "      <td>17.224575</td>\n",
       "      <td>821.04</td>\n",
       "      <td>635.4</td>\n",
       "      <td>0.034401</td>\n",
       "      <td>0.027108</td>\n",
       "      <td>2017-12-31 21:00:00</td>\n",
       "      <td>63147600.0</td>\n",
       "      <td>14420</td>\n",
       "    </tr>\n",
       "    <tr>\n",
       "      <th>17518</th>\n",
       "      <td>17518</td>\n",
       "      <td>17154</td>\n",
       "      <td>0</td>\n",
       "      <td>0</td>\n",
       "      <td>0</td>\n",
       "      <td>0</td>\n",
       "      <td>0</td>\n",
       "      <td>12.44</td>\n",
       "      <td>21.18</td>\n",
       "      <td>28.244204</td>\n",
       "      <td>17.224575</td>\n",
       "      <td>821.04</td>\n",
       "      <td>635.4</td>\n",
       "      <td>0.034401</td>\n",
       "      <td>0.027108</td>\n",
       "      <td>2017-12-31 22:00:00</td>\n",
       "      <td>63151200.0</td>\n",
       "      <td>14420</td>\n",
       "    </tr>\n",
       "    <tr>\n",
       "      <th>17519</th>\n",
       "      <td>17519</td>\n",
       "      <td>17519</td>\n",
       "      <td>0</td>\n",
       "      <td>0</td>\n",
       "      <td>0</td>\n",
       "      <td>0</td>\n",
       "      <td>0</td>\n",
       "      <td>12.44</td>\n",
       "      <td>21.18</td>\n",
       "      <td>28.244204</td>\n",
       "      <td>17.224575</td>\n",
       "      <td>821.04</td>\n",
       "      <td>635.4</td>\n",
       "      <td>0.034401</td>\n",
       "      <td>0.027108</td>\n",
       "      <td>2017-12-31 23:00:00</td>\n",
       "      <td>63154800.0</td>\n",
       "      <td>14420</td>\n",
       "    </tr>\n",
       "  </tbody>\n",
       "</table>\n",
       "<p>17520 rows × 18 columns</p>\n",
       "</div>"
      ],
      "text/plain": [
       "       Unnamed: 0  index  Rainfall_Aries  Rainfall_Boso  Rainfall_Campana  \\\n",
       "0               0      0               0              1                 2   \n",
       "1               1      1               0              1                 1   \n",
       "2               2      2               1              1                 1   \n",
       "3               3      3               0              0                 0   \n",
       "4               4      4               1              1                 1   \n",
       "...           ...    ...             ...            ...               ...   \n",
       "17515       17515  16059               0              0                 0   \n",
       "17516       17516  16424               0              0                 0   \n",
       "17517       17517  16789               0              0                 0   \n",
       "17518       17518  17154               0              0                 0   \n",
       "17519       17519  17519               0              0                 0   \n",
       "\n",
       "       Rainfall_Nangka  Rainfall_Oro  Waterlevel_Sto_Nino  \\\n",
       "0                    0             0                12.18   \n",
       "1                    1             0                12.19   \n",
       "2                    0             1                12.19   \n",
       "3                    1             0                12.20   \n",
       "4                    0             0                12.20   \n",
       "...                ...           ...                  ...   \n",
       "17515                0             0                12.44   \n",
       "17516                0             0                12.44   \n",
       "17517                0             0                12.44   \n",
       "17518                0             0                12.44   \n",
       "17519                0             0                12.44   \n",
       "\n",
       "       Waterlevel_Montalban  Discharge_Sto_Nino  Discharge_San_Jose  \\\n",
       "0                     21.03           21.033407           14.842428   \n",
       "1                     21.03           21.280072           14.842428   \n",
       "2                     21.03           21.280072           14.842428   \n",
       "3                     21.03           21.529056           14.842428   \n",
       "4                     21.03           21.529056           14.842428   \n",
       "...                     ...                 ...                 ...   \n",
       "17515                 21.18           28.244204           17.224575   \n",
       "17516                 21.18           28.244204           17.224575   \n",
       "17517                 21.18           28.244204           17.224575   \n",
       "17518                 21.18           28.244204           17.224575   \n",
       "17519                 21.18           28.244204           17.224575   \n",
       "\n",
       "       Cross_Section_Sto_Nino  Cross_Section_Montalban  Velocity_Sto_Nino  \\\n",
       "0                      803.88                    630.9           0.026165   \n",
       "1                      804.54                    630.9           0.026450   \n",
       "2                      804.54                    630.9           0.026450   \n",
       "3                      805.20                    630.9           0.026738   \n",
       "4                      805.20                    630.9           0.026738   \n",
       "...                       ...                      ...                ...   \n",
       "17515                  821.04                    635.4           0.034401   \n",
       "17516                  821.04                    635.4           0.034401   \n",
       "17517                  821.04                    635.4           0.034401   \n",
       "17518                  821.04                    635.4           0.034401   \n",
       "17519                  821.04                    635.4           0.034401   \n",
       "\n",
       "       Velocity_Montalban             datetime           t      x  \n",
       "0                0.023526  2016-01-01 00:00:00         0.0  14420  \n",
       "1                0.023526  2016-01-01 01:00:00      3600.0  14420  \n",
       "2                0.023526  2016-01-01 02:00:00      7200.0  14420  \n",
       "3                0.023526  2016-01-01 03:00:00     10800.0  14420  \n",
       "4                0.023526  2016-01-01 04:00:00     14400.0  14420  \n",
       "...                   ...                  ...         ...    ...  \n",
       "17515            0.027108  2017-12-31 19:00:00  63140400.0  14420  \n",
       "17516            0.027108  2017-12-31 20:00:00  63144000.0  14420  \n",
       "17517            0.027108  2017-12-31 21:00:00  63147600.0  14420  \n",
       "17518            0.027108  2017-12-31 22:00:00  63151200.0  14420  \n",
       "17519            0.027108  2017-12-31 23:00:00  63154800.0  14420  \n",
       "\n",
       "[17520 rows x 18 columns]"
      ]
     },
     "execution_count": 41,
     "metadata": {},
     "output_type": "execute_result"
    }
   ],
   "source": [
    "df = pd.read_csv(DATASET_FILE)\n",
    "df"
   ]
  },
  {
   "cell_type": "code",
   "execution_count": 42,
   "id": "351abe6c",
   "metadata": {},
   "outputs": [
    {
     "data": {
      "text/html": [
       "<div>\n",
       "<style scoped>\n",
       "    .dataframe tbody tr th:only-of-type {\n",
       "        vertical-align: middle;\n",
       "    }\n",
       "\n",
       "    .dataframe tbody tr th {\n",
       "        vertical-align: top;\n",
       "    }\n",
       "\n",
       "    .dataframe thead th {\n",
       "        text-align: right;\n",
       "    }\n",
       "</style>\n",
       "<table border=\"1\" class=\"dataframe\">\n",
       "  <thead>\n",
       "    <tr style=\"text-align: right;\">\n",
       "      <th></th>\n",
       "      <th>Rainfall_Aries</th>\n",
       "      <th>Rainfall_Boso</th>\n",
       "      <th>Rainfall_Campana</th>\n",
       "      <th>Rainfall_Nangka</th>\n",
       "      <th>Rainfall_Oro</th>\n",
       "      <th>Waterlevel_Sto_Nino</th>\n",
       "      <th>Waterlevel_Montalban</th>\n",
       "      <th>Discharge_Sto_Nino</th>\n",
       "      <th>Discharge_San_Jose</th>\n",
       "      <th>Cross_Section_Sto_Nino</th>\n",
       "      <th>Cross_Section_Montalban</th>\n",
       "      <th>Velocity_Sto_Nino</th>\n",
       "      <th>Velocity_Montalban</th>\n",
       "      <th>datetime</th>\n",
       "      <th>t</th>\n",
       "      <th>x</th>\n",
       "    </tr>\n",
       "  </thead>\n",
       "  <tbody>\n",
       "    <tr>\n",
       "      <th>0</th>\n",
       "      <td>0</td>\n",
       "      <td>1</td>\n",
       "      <td>2</td>\n",
       "      <td>0</td>\n",
       "      <td>0</td>\n",
       "      <td>12.18</td>\n",
       "      <td>21.03</td>\n",
       "      <td>21.033407</td>\n",
       "      <td>14.842428</td>\n",
       "      <td>803.88</td>\n",
       "      <td>630.9</td>\n",
       "      <td>0.026165</td>\n",
       "      <td>0.023526</td>\n",
       "      <td>2016-01-01 00:00:00</td>\n",
       "      <td>0.0</td>\n",
       "      <td>14420</td>\n",
       "    </tr>\n",
       "    <tr>\n",
       "      <th>1</th>\n",
       "      <td>0</td>\n",
       "      <td>1</td>\n",
       "      <td>1</td>\n",
       "      <td>1</td>\n",
       "      <td>0</td>\n",
       "      <td>12.19</td>\n",
       "      <td>21.03</td>\n",
       "      <td>21.280072</td>\n",
       "      <td>14.842428</td>\n",
       "      <td>804.54</td>\n",
       "      <td>630.9</td>\n",
       "      <td>0.026450</td>\n",
       "      <td>0.023526</td>\n",
       "      <td>2016-01-01 01:00:00</td>\n",
       "      <td>3600.0</td>\n",
       "      <td>14420</td>\n",
       "    </tr>\n",
       "    <tr>\n",
       "      <th>2</th>\n",
       "      <td>1</td>\n",
       "      <td>1</td>\n",
       "      <td>1</td>\n",
       "      <td>0</td>\n",
       "      <td>1</td>\n",
       "      <td>12.19</td>\n",
       "      <td>21.03</td>\n",
       "      <td>21.280072</td>\n",
       "      <td>14.842428</td>\n",
       "      <td>804.54</td>\n",
       "      <td>630.9</td>\n",
       "      <td>0.026450</td>\n",
       "      <td>0.023526</td>\n",
       "      <td>2016-01-01 02:00:00</td>\n",
       "      <td>7200.0</td>\n",
       "      <td>14420</td>\n",
       "    </tr>\n",
       "    <tr>\n",
       "      <th>3</th>\n",
       "      <td>0</td>\n",
       "      <td>0</td>\n",
       "      <td>0</td>\n",
       "      <td>1</td>\n",
       "      <td>0</td>\n",
       "      <td>12.20</td>\n",
       "      <td>21.03</td>\n",
       "      <td>21.529056</td>\n",
       "      <td>14.842428</td>\n",
       "      <td>805.20</td>\n",
       "      <td>630.9</td>\n",
       "      <td>0.026738</td>\n",
       "      <td>0.023526</td>\n",
       "      <td>2016-01-01 03:00:00</td>\n",
       "      <td>10800.0</td>\n",
       "      <td>14420</td>\n",
       "    </tr>\n",
       "    <tr>\n",
       "      <th>4</th>\n",
       "      <td>1</td>\n",
       "      <td>1</td>\n",
       "      <td>1</td>\n",
       "      <td>0</td>\n",
       "      <td>0</td>\n",
       "      <td>12.20</td>\n",
       "      <td>21.03</td>\n",
       "      <td>21.529056</td>\n",
       "      <td>14.842428</td>\n",
       "      <td>805.20</td>\n",
       "      <td>630.9</td>\n",
       "      <td>0.026738</td>\n",
       "      <td>0.023526</td>\n",
       "      <td>2016-01-01 04:00:00</td>\n",
       "      <td>14400.0</td>\n",
       "      <td>14420</td>\n",
       "    </tr>\n",
       "  </tbody>\n",
       "</table>\n",
       "</div>"
      ],
      "text/plain": [
       "   Rainfall_Aries  Rainfall_Boso  Rainfall_Campana  Rainfall_Nangka  \\\n",
       "0               0              1                 2                0   \n",
       "1               0              1                 1                1   \n",
       "2               1              1                 1                0   \n",
       "3               0              0                 0                1   \n",
       "4               1              1                 1                0   \n",
       "\n",
       "   Rainfall_Oro  Waterlevel_Sto_Nino  Waterlevel_Montalban  \\\n",
       "0             0                12.18                 21.03   \n",
       "1             0                12.19                 21.03   \n",
       "2             1                12.19                 21.03   \n",
       "3             0                12.20                 21.03   \n",
       "4             0                12.20                 21.03   \n",
       "\n",
       "   Discharge_Sto_Nino  Discharge_San_Jose  Cross_Section_Sto_Nino  \\\n",
       "0           21.033407           14.842428                  803.88   \n",
       "1           21.280072           14.842428                  804.54   \n",
       "2           21.280072           14.842428                  804.54   \n",
       "3           21.529056           14.842428                  805.20   \n",
       "4           21.529056           14.842428                  805.20   \n",
       "\n",
       "   Cross_Section_Montalban  Velocity_Sto_Nino  Velocity_Montalban  \\\n",
       "0                    630.9           0.026165            0.023526   \n",
       "1                    630.9           0.026450            0.023526   \n",
       "2                    630.9           0.026450            0.023526   \n",
       "3                    630.9           0.026738            0.023526   \n",
       "4                    630.9           0.026738            0.023526   \n",
       "\n",
       "              datetime        t      x  \n",
       "0  2016-01-01 00:00:00      0.0  14420  \n",
       "1  2016-01-01 01:00:00   3600.0  14420  \n",
       "2  2016-01-01 02:00:00   7200.0  14420  \n",
       "3  2016-01-01 03:00:00  10800.0  14420  \n",
       "4  2016-01-01 04:00:00  14400.0  14420  "
      ]
     },
     "execution_count": 42,
     "metadata": {},
     "output_type": "execute_result"
    }
   ],
   "source": [
    "df = df.iloc[:,2:]\n",
    "df.head()"
   ]
  },
  {
   "cell_type": "code",
   "execution_count": 43,
   "id": "27a52afc",
   "metadata": {},
   "outputs": [
    {
     "data": {
      "text/html": [
       "<div>\n",
       "<style scoped>\n",
       "    .dataframe tbody tr th:only-of-type {\n",
       "        vertical-align: middle;\n",
       "    }\n",
       "\n",
       "    .dataframe tbody tr th {\n",
       "        vertical-align: top;\n",
       "    }\n",
       "\n",
       "    .dataframe thead th {\n",
       "        text-align: right;\n",
       "    }\n",
       "</style>\n",
       "<table border=\"1\" class=\"dataframe\">\n",
       "  <thead>\n",
       "    <tr style=\"text-align: right;\">\n",
       "      <th></th>\n",
       "      <th>Rainfall_Aries</th>\n",
       "      <th>Rainfall_Boso</th>\n",
       "      <th>Rainfall_Campana</th>\n",
       "      <th>Rainfall_Nangka</th>\n",
       "      <th>Rainfall_Oro</th>\n",
       "      <th>Waterlevel_Sto_Nino</th>\n",
       "      <th>Waterlevel_Montalban</th>\n",
       "      <th>Discharge_Sto_Nino</th>\n",
       "      <th>Discharge_San_Jose</th>\n",
       "      <th>Cross_Section_Sto_Nino</th>\n",
       "      <th>Cross_Section_Montalban</th>\n",
       "      <th>Velocity_Sto_Nino</th>\n",
       "      <th>Velocity_Montalban</th>\n",
       "      <th>datetime</th>\n",
       "      <th>t</th>\n",
       "      <th>x</th>\n",
       "      <th>friction_coeff</th>\n",
       "      <th>slope</th>\n",
       "    </tr>\n",
       "  </thead>\n",
       "  <tbody>\n",
       "    <tr>\n",
       "      <th>0</th>\n",
       "      <td>0</td>\n",
       "      <td>1</td>\n",
       "      <td>2</td>\n",
       "      <td>0</td>\n",
       "      <td>0</td>\n",
       "      <td>12.18</td>\n",
       "      <td>21.03</td>\n",
       "      <td>21.033407</td>\n",
       "      <td>14.842428</td>\n",
       "      <td>803.88</td>\n",
       "      <td>630.9</td>\n",
       "      <td>0.026165</td>\n",
       "      <td>0.023526</td>\n",
       "      <td>2016-01-01 00:00:00</td>\n",
       "      <td>0.0</td>\n",
       "      <td>14420</td>\n",
       "      <td>0.033</td>\n",
       "      <td>0.000667</td>\n",
       "    </tr>\n",
       "    <tr>\n",
       "      <th>1</th>\n",
       "      <td>0</td>\n",
       "      <td>1</td>\n",
       "      <td>1</td>\n",
       "      <td>1</td>\n",
       "      <td>0</td>\n",
       "      <td>12.19</td>\n",
       "      <td>21.03</td>\n",
       "      <td>21.280072</td>\n",
       "      <td>14.842428</td>\n",
       "      <td>804.54</td>\n",
       "      <td>630.9</td>\n",
       "      <td>0.026450</td>\n",
       "      <td>0.023526</td>\n",
       "      <td>2016-01-01 01:00:00</td>\n",
       "      <td>3600.0</td>\n",
       "      <td>14420</td>\n",
       "      <td>0.033</td>\n",
       "      <td>0.000667</td>\n",
       "    </tr>\n",
       "    <tr>\n",
       "      <th>2</th>\n",
       "      <td>1</td>\n",
       "      <td>1</td>\n",
       "      <td>1</td>\n",
       "      <td>0</td>\n",
       "      <td>1</td>\n",
       "      <td>12.19</td>\n",
       "      <td>21.03</td>\n",
       "      <td>21.280072</td>\n",
       "      <td>14.842428</td>\n",
       "      <td>804.54</td>\n",
       "      <td>630.9</td>\n",
       "      <td>0.026450</td>\n",
       "      <td>0.023526</td>\n",
       "      <td>2016-01-01 02:00:00</td>\n",
       "      <td>7200.0</td>\n",
       "      <td>14420</td>\n",
       "      <td>0.033</td>\n",
       "      <td>0.000667</td>\n",
       "    </tr>\n",
       "    <tr>\n",
       "      <th>3</th>\n",
       "      <td>0</td>\n",
       "      <td>0</td>\n",
       "      <td>0</td>\n",
       "      <td>1</td>\n",
       "      <td>0</td>\n",
       "      <td>12.20</td>\n",
       "      <td>21.03</td>\n",
       "      <td>21.529056</td>\n",
       "      <td>14.842428</td>\n",
       "      <td>805.20</td>\n",
       "      <td>630.9</td>\n",
       "      <td>0.026738</td>\n",
       "      <td>0.023526</td>\n",
       "      <td>2016-01-01 03:00:00</td>\n",
       "      <td>10800.0</td>\n",
       "      <td>14420</td>\n",
       "      <td>0.033</td>\n",
       "      <td>0.000667</td>\n",
       "    </tr>\n",
       "    <tr>\n",
       "      <th>4</th>\n",
       "      <td>1</td>\n",
       "      <td>1</td>\n",
       "      <td>1</td>\n",
       "      <td>0</td>\n",
       "      <td>0</td>\n",
       "      <td>12.20</td>\n",
       "      <td>21.03</td>\n",
       "      <td>21.529056</td>\n",
       "      <td>14.842428</td>\n",
       "      <td>805.20</td>\n",
       "      <td>630.9</td>\n",
       "      <td>0.026738</td>\n",
       "      <td>0.023526</td>\n",
       "      <td>2016-01-01 04:00:00</td>\n",
       "      <td>14400.0</td>\n",
       "      <td>14420</td>\n",
       "      <td>0.033</td>\n",
       "      <td>0.000667</td>\n",
       "    </tr>\n",
       "  </tbody>\n",
       "</table>\n",
       "</div>"
      ],
      "text/plain": [
       "   Rainfall_Aries  Rainfall_Boso  Rainfall_Campana  Rainfall_Nangka  \\\n",
       "0               0              1                 2                0   \n",
       "1               0              1                 1                1   \n",
       "2               1              1                 1                0   \n",
       "3               0              0                 0                1   \n",
       "4               1              1                 1                0   \n",
       "\n",
       "   Rainfall_Oro  Waterlevel_Sto_Nino  Waterlevel_Montalban  \\\n",
       "0             0                12.18                 21.03   \n",
       "1             0                12.19                 21.03   \n",
       "2             1                12.19                 21.03   \n",
       "3             0                12.20                 21.03   \n",
       "4             0                12.20                 21.03   \n",
       "\n",
       "   Discharge_Sto_Nino  Discharge_San_Jose  Cross_Section_Sto_Nino  \\\n",
       "0           21.033407           14.842428                  803.88   \n",
       "1           21.280072           14.842428                  804.54   \n",
       "2           21.280072           14.842428                  804.54   \n",
       "3           21.529056           14.842428                  805.20   \n",
       "4           21.529056           14.842428                  805.20   \n",
       "\n",
       "   Cross_Section_Montalban  Velocity_Sto_Nino  Velocity_Montalban  \\\n",
       "0                    630.9           0.026165            0.023526   \n",
       "1                    630.9           0.026450            0.023526   \n",
       "2                    630.9           0.026450            0.023526   \n",
       "3                    630.9           0.026738            0.023526   \n",
       "4                    630.9           0.026738            0.023526   \n",
       "\n",
       "              datetime        t      x  friction_coeff     slope  \n",
       "0  2016-01-01 00:00:00      0.0  14420           0.033  0.000667  \n",
       "1  2016-01-01 01:00:00   3600.0  14420           0.033  0.000667  \n",
       "2  2016-01-01 02:00:00   7200.0  14420           0.033  0.000667  \n",
       "3  2016-01-01 03:00:00  10800.0  14420           0.033  0.000667  \n",
       "4  2016-01-01 04:00:00  14400.0  14420           0.033  0.000667  "
      ]
     },
     "execution_count": 43,
     "metadata": {},
     "output_type": "execute_result"
    }
   ],
   "source": [
    "n = len(df)\n",
    "\n",
    "df['friction_coeff'] = [0.033 for i in range(n)]\n",
    "df['slope'] = [1/1500 for i in range(n)]\n",
    "df.head()"
   ]
  },
  {
   "cell_type": "code",
   "execution_count": 44,
   "id": "cf142caa",
   "metadata": {},
   "outputs": [
    {
     "data": {
      "text/html": [
       "<div>\n",
       "<style scoped>\n",
       "    .dataframe tbody tr th:only-of-type {\n",
       "        vertical-align: middle;\n",
       "    }\n",
       "\n",
       "    .dataframe tbody tr th {\n",
       "        vertical-align: top;\n",
       "    }\n",
       "\n",
       "    .dataframe thead th {\n",
       "        text-align: right;\n",
       "    }\n",
       "</style>\n",
       "<table border=\"1\" class=\"dataframe\">\n",
       "  <thead>\n",
       "    <tr style=\"text-align: right;\">\n",
       "      <th></th>\n",
       "      <th>Rainfall_Aries</th>\n",
       "      <th>Rainfall_Boso</th>\n",
       "      <th>Rainfall_Campana</th>\n",
       "      <th>Rainfall_Nangka</th>\n",
       "      <th>Rainfall_Oro</th>\n",
       "      <th>Waterlevel_Sto_Nino</th>\n",
       "      <th>Waterlevel_Montalban</th>\n",
       "      <th>Discharge_Sto_Nino</th>\n",
       "      <th>Discharge_San_Jose</th>\n",
       "      <th>Cross_Section_Sto_Nino</th>\n",
       "      <th>Cross_Section_Montalban</th>\n",
       "      <th>Velocity_Sto_Nino</th>\n",
       "      <th>Velocity_Montalban</th>\n",
       "      <th>t</th>\n",
       "      <th>x</th>\n",
       "      <th>friction_coeff</th>\n",
       "      <th>slope</th>\n",
       "    </tr>\n",
       "  </thead>\n",
       "  <tbody>\n",
       "    <tr>\n",
       "      <th>count</th>\n",
       "      <td>17520.000000</td>\n",
       "      <td>17520.000000</td>\n",
       "      <td>17520.000000</td>\n",
       "      <td>17520.000000</td>\n",
       "      <td>17520.000000</td>\n",
       "      <td>17520.000000</td>\n",
       "      <td>17520.000000</td>\n",
       "      <td>17520.000000</td>\n",
       "      <td>17520.000000</td>\n",
       "      <td>17520.000000</td>\n",
       "      <td>17520.000000</td>\n",
       "      <td>17520.000000</td>\n",
       "      <td>1.752000e+04</td>\n",
       "      <td>1.752000e+04</td>\n",
       "      <td>17520.0</td>\n",
       "      <td>1.752000e+04</td>\n",
       "      <td>17520.000000</td>\n",
       "    </tr>\n",
       "    <tr>\n",
       "      <th>mean</th>\n",
       "      <td>0.285959</td>\n",
       "      <td>0.278938</td>\n",
       "      <td>0.279281</td>\n",
       "      <td>0.293493</td>\n",
       "      <td>0.271404</td>\n",
       "      <td>12.345012</td>\n",
       "      <td>21.169086</td>\n",
       "      <td>32.110082</td>\n",
       "      <td>23.162453</td>\n",
       "      <td>814.770799</td>\n",
       "      <td>635.072567</td>\n",
       "      <td>0.037592</td>\n",
       "      <td>3.508409e-02</td>\n",
       "      <td>3.161362e+07</td>\n",
       "      <td>14420.0</td>\n",
       "      <td>3.300000e-02</td>\n",
       "      <td>0.000667</td>\n",
       "    </tr>\n",
       "    <tr>\n",
       "      <th>std</th>\n",
       "      <td>2.068182</td>\n",
       "      <td>2.052007</td>\n",
       "      <td>1.926654</td>\n",
       "      <td>2.139718</td>\n",
       "      <td>2.181560</td>\n",
       "      <td>0.617530</td>\n",
       "      <td>0.607601</td>\n",
       "      <td>44.858760</td>\n",
       "      <td>72.735356</td>\n",
       "      <td>40.756974</td>\n",
       "      <td>18.228042</td>\n",
       "      <td>0.043011</td>\n",
       "      <td>9.202094e-02</td>\n",
       "      <td>1.821897e+07</td>\n",
       "      <td>0.0</td>\n",
       "      <td>1.387818e-17</td>\n",
       "      <td>0.000000</td>\n",
       "    </tr>\n",
       "    <tr>\n",
       "      <th>min</th>\n",
       "      <td>0.000000</td>\n",
       "      <td>0.000000</td>\n",
       "      <td>0.000000</td>\n",
       "      <td>0.000000</td>\n",
       "      <td>0.000000</td>\n",
       "      <td>11.100000</td>\n",
       "      <td>10.780000</td>\n",
       "      <td>4.940753</td>\n",
       "      <td>0.000174</td>\n",
       "      <td>732.600000</td>\n",
       "      <td>323.400000</td>\n",
       "      <td>0.006744</td>\n",
       "      <td>5.378524e-07</td>\n",
       "      <td>0.000000e+00</td>\n",
       "      <td>14420.0</td>\n",
       "      <td>3.300000e-02</td>\n",
       "      <td>0.000667</td>\n",
       "    </tr>\n",
       "    <tr>\n",
       "      <th>25%</th>\n",
       "      <td>0.000000</td>\n",
       "      <td>0.000000</td>\n",
       "      <td>0.000000</td>\n",
       "      <td>0.000000</td>\n",
       "      <td>0.000000</td>\n",
       "      <td>11.870000</td>\n",
       "      <td>20.910000</td>\n",
       "      <td>14.450867</td>\n",
       "      <td>13.172093</td>\n",
       "      <td>783.420000</td>\n",
       "      <td>627.300000</td>\n",
       "      <td>0.018446</td>\n",
       "      <td>2.099808e-02</td>\n",
       "      <td>1.585350e+07</td>\n",
       "      <td>14420.0</td>\n",
       "      <td>3.300000e-02</td>\n",
       "      <td>0.000667</td>\n",
       "    </tr>\n",
       "    <tr>\n",
       "      <th>50%</th>\n",
       "      <td>0.000000</td>\n",
       "      <td>0.000000</td>\n",
       "      <td>0.000000</td>\n",
       "      <td>0.000000</td>\n",
       "      <td>0.000000</td>\n",
       "      <td>12.270000</td>\n",
       "      <td>21.070000</td>\n",
       "      <td>23.338258</td>\n",
       "      <td>15.444064</td>\n",
       "      <td>809.820000</td>\n",
       "      <td>632.100000</td>\n",
       "      <td>0.028819</td>\n",
       "      <td>2.443294e-02</td>\n",
       "      <td>3.162060e+07</td>\n",
       "      <td>14420.0</td>\n",
       "      <td>3.300000e-02</td>\n",
       "      <td>0.000667</td>\n",
       "    </tr>\n",
       "    <tr>\n",
       "      <th>75%</th>\n",
       "      <td>0.000000</td>\n",
       "      <td>0.000000</td>\n",
       "      <td>0.000000</td>\n",
       "      <td>0.000000</td>\n",
       "      <td>0.000000</td>\n",
       "      <td>12.590000</td>\n",
       "      <td>21.420000</td>\n",
       "      <td>33.231301</td>\n",
       "      <td>21.836840</td>\n",
       "      <td>830.940000</td>\n",
       "      <td>642.600000</td>\n",
       "      <td>0.039992</td>\n",
       "      <td>3.398201e-02</td>\n",
       "      <td>4.738770e+07</td>\n",
       "      <td>14420.0</td>\n",
       "      <td>3.300000e-02</td>\n",
       "      <td>0.000667</td>\n",
       "    </tr>\n",
       "    <tr>\n",
       "      <th>max</th>\n",
       "      <td>67.000000</td>\n",
       "      <td>74.000000</td>\n",
       "      <td>58.000000</td>\n",
       "      <td>62.000000</td>\n",
       "      <td>129.000000</td>\n",
       "      <td>17.390000</td>\n",
       "      <td>27.480000</td>\n",
       "      <td>1149.013599</td>\n",
       "      <td>6231.876523</td>\n",
       "      <td>1147.740000</td>\n",
       "      <td>824.400000</td>\n",
       "      <td>1.001110</td>\n",
       "      <td>7.559287e+00</td>\n",
       "      <td>6.315480e+07</td>\n",
       "      <td>14420.0</td>\n",
       "      <td>3.300000e-02</td>\n",
       "      <td>0.000667</td>\n",
       "    </tr>\n",
       "  </tbody>\n",
       "</table>\n",
       "</div>"
      ],
      "text/plain": [
       "       Rainfall_Aries  Rainfall_Boso  Rainfall_Campana  Rainfall_Nangka  \\\n",
       "count    17520.000000   17520.000000      17520.000000     17520.000000   \n",
       "mean         0.285959       0.278938          0.279281         0.293493   \n",
       "std          2.068182       2.052007          1.926654         2.139718   \n",
       "min          0.000000       0.000000          0.000000         0.000000   \n",
       "25%          0.000000       0.000000          0.000000         0.000000   \n",
       "50%          0.000000       0.000000          0.000000         0.000000   \n",
       "75%          0.000000       0.000000          0.000000         0.000000   \n",
       "max         67.000000      74.000000         58.000000        62.000000   \n",
       "\n",
       "       Rainfall_Oro  Waterlevel_Sto_Nino  Waterlevel_Montalban  \\\n",
       "count  17520.000000         17520.000000          17520.000000   \n",
       "mean       0.271404            12.345012             21.169086   \n",
       "std        2.181560             0.617530              0.607601   \n",
       "min        0.000000            11.100000             10.780000   \n",
       "25%        0.000000            11.870000             20.910000   \n",
       "50%        0.000000            12.270000             21.070000   \n",
       "75%        0.000000            12.590000             21.420000   \n",
       "max      129.000000            17.390000             27.480000   \n",
       "\n",
       "       Discharge_Sto_Nino  Discharge_San_Jose  Cross_Section_Sto_Nino  \\\n",
       "count        17520.000000        17520.000000            17520.000000   \n",
       "mean            32.110082           23.162453              814.770799   \n",
       "std             44.858760           72.735356               40.756974   \n",
       "min              4.940753            0.000174              732.600000   \n",
       "25%             14.450867           13.172093              783.420000   \n",
       "50%             23.338258           15.444064              809.820000   \n",
       "75%             33.231301           21.836840              830.940000   \n",
       "max           1149.013599         6231.876523             1147.740000   \n",
       "\n",
       "       Cross_Section_Montalban  Velocity_Sto_Nino  Velocity_Montalban  \\\n",
       "count             17520.000000       17520.000000        1.752000e+04   \n",
       "mean                635.072567           0.037592        3.508409e-02   \n",
       "std                  18.228042           0.043011        9.202094e-02   \n",
       "min                 323.400000           0.006744        5.378524e-07   \n",
       "25%                 627.300000           0.018446        2.099808e-02   \n",
       "50%                 632.100000           0.028819        2.443294e-02   \n",
       "75%                 642.600000           0.039992        3.398201e-02   \n",
       "max                 824.400000           1.001110        7.559287e+00   \n",
       "\n",
       "                  t        x  friction_coeff         slope  \n",
       "count  1.752000e+04  17520.0    1.752000e+04  17520.000000  \n",
       "mean   3.161362e+07  14420.0    3.300000e-02      0.000667  \n",
       "std    1.821897e+07      0.0    1.387818e-17      0.000000  \n",
       "min    0.000000e+00  14420.0    3.300000e-02      0.000667  \n",
       "25%    1.585350e+07  14420.0    3.300000e-02      0.000667  \n",
       "50%    3.162060e+07  14420.0    3.300000e-02      0.000667  \n",
       "75%    4.738770e+07  14420.0    3.300000e-02      0.000667  \n",
       "max    6.315480e+07  14420.0    3.300000e-02      0.000667  "
      ]
     },
     "execution_count": 44,
     "metadata": {},
     "output_type": "execute_result"
    }
   ],
   "source": [
    "# summary statistics\n",
    "df.describe()"
   ]
  },
  {
   "cell_type": "code",
   "execution_count": 45,
   "id": "dc427245",
   "metadata": {},
   "outputs": [
    {
     "data": {
      "text/plain": [
       "array([[<matplotlib.axes._subplots.AxesSubplot object at 0x00000170F10E6DC0>,\n",
       "        <matplotlib.axes._subplots.AxesSubplot object at 0x00000170F109A160>],\n",
       "       [<matplotlib.axes._subplots.AxesSubplot object at 0x00000170F1259AF0>,\n",
       "        <matplotlib.axes._subplots.AxesSubplot object at 0x00000170F1498310>],\n",
       "       [<matplotlib.axes._subplots.AxesSubplot object at 0x00000170F11FD220>,\n",
       "        <matplotlib.axes._subplots.AxesSubplot object at 0x00000170F54BFAF0>]],\n",
       "      dtype=object)"
      ]
     },
     "execution_count": 45,
     "metadata": {},
     "output_type": "execute_result"
    },
    {
     "data": {
      "image/png": "[encoded data removed]",
      "text/plain": [
       "<Figure size 864x720 with 6 Axes>"
      ]
     },
     "metadata": {
      "needs_background": "light"
     },
     "output_type": "display_data"
    }
   ],
   "source": [
    "df.iloc[:,:5].hist(figsize=(12,10))"
   ]
  },
  {
   "cell_type": "code",
   "execution_count": 46,
   "id": "6dfd2a4a",
   "metadata": {},
   "outputs": [
    {
     "data": {
      "text/plain": [
       "<matplotlib.axes._subplots.AxesSubplot at 0x170f531eb80>"
      ]
     },
     "execution_count": 46,
     "metadata": {},
     "output_type": "execute_result"
    },
    {
     "data": {
      "image/png": "[encoded data removed]",
      "text/plain": [
       "<Figure size 864x288 with 1 Axes>"
      ]
     },
     "metadata": {
      "needs_background": "light"
     },
     "output_type": "display_data"
    }
   ],
   "source": [
    "df.iloc[:,:5].boxplot(figsize=(12,4))"
   ]
  },
  {
   "cell_type": "code",
   "execution_count": 47,
   "id": "da5ceef8",
   "metadata": {},
   "outputs": [
    {
     "data": {
      "text/plain": [
       "<matplotlib.axes._subplots.AxesSubplot at 0x170f53e82e0>"
      ]
     },
     "execution_count": 47,
     "metadata": {},
     "output_type": "execute_result"
    },
    {
     "data": {
      "image/png": "[encoded data removed]",
      "text/plain": [
       "<Figure size 432x288 with 1 Axes>"
      ]
     },
     "metadata": {
      "needs_background": "light"
     },
     "output_type": "display_data"
    }
   ],
   "source": [
    "df['Rainfall_Aries'].hist()"
   ]
  },
  {
   "cell_type": "code",
   "execution_count": 48,
   "id": "cc4e3078",
   "metadata": {},
   "outputs": [
    {
     "data": {
      "image/png": "[encoded data removed]",
      "text/plain": [
       "<Figure size 720x432 with 1 Axes>"
      ]
     },
     "metadata": {
      "needs_background": "light"
     },
     "output_type": "display_data"
    }
   ],
   "source": [
    "plt.figure(figsize=(10, 6))\n",
    "df.loc[df['Rainfall_Aries'] > 0].loc[df['Rainfall_Aries'] <= 20]['Rainfall_Aries'].hist()\n",
    "plt.title('Distribution of Rainfall at Mt. Aries')\n",
    "plt.show()"
   ]
  },
  {
   "cell_type": "code",
   "execution_count": 49,
   "id": "8d6deafa",
   "metadata": {},
   "outputs": [
    {
     "data": {
      "image/png": "[encoded data removed]",
      "text/plain": [
       "<Figure size 720x432 with 1 Axes>"
      ]
     },
     "metadata": {
      "needs_background": "light"
     },
     "output_type": "display_data"
    }
   ],
   "source": [
    "plt.figure(figsize=(10, 6))\n",
    "df.loc[df['Rainfall_Boso'] > 0].loc[df['Rainfall_Boso'] <= 20]['Rainfall_Boso'].hist()\n",
    "plt.title('Distribution of Rainfall at Boso-Boso')\n",
    "plt.show()"
   ]
  },
  {
   "cell_type": "code",
   "execution_count": 50,
   "id": "76f28d9c",
   "metadata": {},
   "outputs": [
    {
     "data": {
      "text/plain": [
       "array([[<matplotlib.axes._subplots.AxesSubplot object at 0x00000170F5D515E0>,\n",
       "        <matplotlib.axes._subplots.AxesSubplot object at 0x00000170F5D6BD90>]],\n",
       "      dtype=object)"
      ]
     },
     "execution_count": 50,
     "metadata": {},
     "output_type": "execute_result"
    },
    {
     "data": {
      "image/png": "[encoded data removed]",
      "text/plain": [
       "<Figure size 864x288 with 2 Axes>"
      ]
     },
     "metadata": {
      "needs_background": "light"
     },
     "output_type": "display_data"
    }
   ],
   "source": [
    "df[['Waterlevel_Sto_Nino', 'Waterlevel_Montalban']].hist(figsize=(12,4))"
   ]
  },
  {
   "cell_type": "code",
   "execution_count": 51,
   "id": "b60b34ea",
   "metadata": {},
   "outputs": [
    {
     "data": {
      "text/plain": [
       "<matplotlib.axes._subplots.AxesSubplot at 0x170f5dfb3a0>"
      ]
     },
     "execution_count": 51,
     "metadata": {},
     "output_type": "execute_result"
    },
    {
     "data": {
      "image/png": "[encoded data removed]",
      "text/plain": [
       "<Figure size 864x288 with 1 Axes>"
      ]
     },
     "metadata": {
      "needs_background": "light"
     },
     "output_type": "display_data"
    }
   ],
   "source": [
    "df[['Waterlevel_Sto_Nino', 'Waterlevel_Montalban']].boxplot(figsize=(12,4))"
   ]
  },
  {
   "cell_type": "code",
   "execution_count": 52,
   "id": "81a997af",
   "metadata": {},
   "outputs": [
    {
     "data": {
      "text/html": [
       "<div>\n",
       "<style scoped>\n",
       "    .dataframe tbody tr th:only-of-type {\n",
       "        vertical-align: middle;\n",
       "    }\n",
       "\n",
       "    .dataframe tbody tr th {\n",
       "        vertical-align: top;\n",
       "    }\n",
       "\n",
       "    .dataframe thead th {\n",
       "        text-align: right;\n",
       "    }\n",
       "</style>\n",
       "<table border=\"1\" class=\"dataframe\">\n",
       "  <thead>\n",
       "    <tr style=\"text-align: right;\">\n",
       "      <th></th>\n",
       "      <th>Waterlevel_Sto_Nino</th>\n",
       "      <th>Waterlevel_Montalban</th>\n",
       "    </tr>\n",
       "  </thead>\n",
       "  <tbody>\n",
       "    <tr>\n",
       "      <th>min</th>\n",
       "      <td>11.10</td>\n",
       "      <td>10.78</td>\n",
       "    </tr>\n",
       "    <tr>\n",
       "      <th>0.25</th>\n",
       "      <td>11.87</td>\n",
       "      <td>20.91</td>\n",
       "    </tr>\n",
       "    <tr>\n",
       "      <th>0.5</th>\n",
       "      <td>12.27</td>\n",
       "      <td>21.07</td>\n",
       "    </tr>\n",
       "    <tr>\n",
       "      <th>0.75</th>\n",
       "      <td>12.59</td>\n",
       "      <td>21.42</td>\n",
       "    </tr>\n",
       "    <tr>\n",
       "      <th>max</th>\n",
       "      <td>17.39</td>\n",
       "      <td>27.48</td>\n",
       "    </tr>\n",
       "  </tbody>\n",
       "</table>\n",
       "</div>"
      ],
      "text/plain": [
       "      Waterlevel_Sto_Nino  Waterlevel_Montalban\n",
       "min                 11.10                 10.78\n",
       "0.25                11.87                 20.91\n",
       "0.5                 12.27                 21.07\n",
       "0.75                12.59                 21.42\n",
       "max                 17.39                 27.48"
      ]
     },
     "execution_count": 52,
     "metadata": {},
     "output_type": "execute_result"
    }
   ],
   "source": [
    "result = pd.concat([\n",
    "    df[['Waterlevel_Sto_Nino', 'Waterlevel_Montalban']].agg(['min']),\n",
    "    df[['Waterlevel_Sto_Nino', 'Waterlevel_Montalban']].quantile([0.25, 0.5, 0.75]),\n",
    "    df[['Waterlevel_Sto_Nino', 'Waterlevel_Montalban']].agg(['max'])\n",
    "])\n",
    "result"
   ]
  },
  {
   "cell_type": "code",
   "execution_count": 53,
   "id": "0e6ccc26",
   "metadata": {},
   "outputs": [
    {
     "data": {
      "text/plain": [
       "<matplotlib.axes._subplots.AxesSubplot at 0x170f53374f0>"
      ]
     },
     "execution_count": 53,
     "metadata": {},
     "output_type": "execute_result"
    },
    {
     "data": {
      "image/png": "[encoded data removed]",
      "text/plain": [
       "<Figure size 432x288 with 1 Axes>"
      ]
     },
     "metadata": {
      "needs_background": "light"
     },
     "output_type": "display_data"
    }
   ],
   "source": [
    "df.loc[df['Waterlevel_Sto_Nino'] <= 13]['Waterlevel_Sto_Nino'].hist()"
   ]
  },
  {
   "cell_type": "code",
   "execution_count": 24,
   "id": "d1be43d6",
   "metadata": {},
   "outputs": [
    {
     "data": {
      "text/plain": [
       "<AxesSubplot:>"
      ]
     },
     "execution_count": 24,
     "metadata": {},
     "output_type": "execute_result"
    },
    {
     "data": {
      "image/png": "[encoded data removed]",
      "text/plain": [
       "<Figure size 640x480 with 1 Axes>"
      ]
     },
     "metadata": {},
     "output_type": "display_data"
    }
   ],
   "source": [
    "df.loc[df['Waterlevel_Montalban'] <= 22.5].loc[df['Waterlevel_Montalban'] > 15]['Waterlevel_Montalban'].hist()"
   ]
  },
  {
   "cell_type": "code",
   "execution_count": 27,
   "id": "a1430d12",
   "metadata": {},
   "outputs": [
    {
     "data": {
      "text/plain": [
       "array([[<AxesSubplot:title={'center':'Discharge_Sto_Nino'}>,\n",
       "        <AxesSubplot:title={'center':'Discharge_San_Jose'}>]],\n",
       "      dtype=object)"
      ]
     },
     "execution_count": 27,
     "metadata": {},
     "output_type": "execute_result"
    },
    {
     "data": {
      "image/png": "[encoded data removed]",
      "text/plain": [
       "<Figure size 1200x400 with 2 Axes>"
      ]
     },
     "metadata": {},
     "output_type": "display_data"
    }
   ],
   "source": [
    "df[['Discharge_Sto_Nino', 'Discharge_San_Jose']].hist(figsize=(12,4))"
   ]
  },
  {
   "cell_type": "code",
   "execution_count": 34,
   "id": "4bd9811d",
   "metadata": {},
   "outputs": [
    {
     "data": {
      "text/plain": [
       "<AxesSubplot:>"
      ]
     },
     "execution_count": 34,
     "metadata": {},
     "output_type": "execute_result"
    },
    {
     "data": {
      "image/png": "[encoded data removed]",
      "text/plain": [
       "<Figure size 1200x400 with 1 Axes>"
      ]
     },
     "metadata": {},
     "output_type": "display_data"
    }
   ],
   "source": [
    "df[['Discharge_Sto_Nino', 'Discharge_San_Jose']].boxplot(figsize=(12,4))"
   ]
  },
  {
   "cell_type": "code",
   "execution_count": 27,
   "id": "718a5e07",
   "metadata": {},
   "outputs": [
    {
     "data": {
      "text/plain": [
       "<AxesSubplot:>"
      ]
     },
     "execution_count": 27,
     "metadata": {},
     "output_type": "execute_result"
    },
    {
     "data": {
      "image/png": "[encoded data removed]",
      "text/plain": [
       "<Figure size 640x480 with 1 Axes>"
      ]
     },
     "metadata": {},
     "output_type": "display_data"
    }
   ],
   "source": [
    "df.loc[df['Discharge_Sto_Nino'] <= 60]['Discharge_Sto_Nino'].hist()"
   ]
  },
  {
   "cell_type": "code",
   "execution_count": 33,
   "id": "66b5294f",
   "metadata": {},
   "outputs": [
    {
     "data": {
      "text/plain": [
       "<AxesSubplot:>"
      ]
     },
     "execution_count": 33,
     "metadata": {},
     "output_type": "execute_result"
    },
    {
     "data": {
      "image/png": "[encoded data removed]",
      "text/plain": [
       "<Figure size 640x480 with 1 Axes>"
      ]
     },
     "metadata": {},
     "output_type": "display_data"
    }
   ],
   "source": [
    "df.loc[df['Discharge_San_Jose'] <= 60]['Discharge_San_Jose'].hist()"
   ]
  },
  {
   "cell_type": "code",
   "execution_count": 29,
   "id": "853b456d",
   "metadata": {},
   "outputs": [
    {
     "data": {
      "text/plain": [
       "array([[<AxesSubplot:title={'center':'Velocity_Sto_Nino'}>,\n",
       "        <AxesSubplot:title={'center':'Velocity_Montalban'}>]],\n",
       "      dtype=object)"
      ]
     },
     "execution_count": 29,
     "metadata": {},
     "output_type": "execute_result"
    },
    {
     "data": {
      "image/png": "[encoded data removed]",
      "text/plain": [
       "<Figure size 1200x400 with 2 Axes>"
      ]
     },
     "metadata": {},
     "output_type": "display_data"
    }
   ],
   "source": [
    "df[['Velocity_Sto_Nino', 'Velocity_Montalban']].hist(figsize=(12,4))"
   ]
  },
  {
   "cell_type": "code",
   "execution_count": 35,
   "id": "6c8f318b",
   "metadata": {},
   "outputs": [
    {
     "data": {
      "text/plain": [
       "<AxesSubplot:>"
      ]
     },
     "execution_count": 35,
     "metadata": {},
     "output_type": "execute_result"
    },
    {
     "data": {
      "image/png": "[encoded data removed]",
      "text/plain": [
       "<Figure size 1200x400 with 1 Axes>"
      ]
     },
     "metadata": {},
     "output_type": "display_data"
    }
   ],
   "source": [
    "df[['Velocity_Sto_Nino', 'Velocity_Montalban']].boxplot(figsize=(12,4))"
   ]
  },
  {
   "cell_type": "code",
   "execution_count": 39,
   "id": "313769bf",
   "metadata": {},
   "outputs": [
    {
     "data": {
      "text/plain": [
       "<AxesSubplot:>"
      ]
     },
     "execution_count": 39,
     "metadata": {},
     "output_type": "execute_result"
    },
    {
     "data": {
      "image/png": "[encoded data removed]",
      "text/plain": [
       "<Figure size 640x480 with 1 Axes>"
      ]
     },
     "metadata": {},
     "output_type": "display_data"
    }
   ],
   "source": [
    "df.loc[df['Velocity_Sto_Nino'] <= 0.08]['Velocity_Sto_Nino'].hist()"
   ]
  },
  {
   "cell_type": "code",
   "execution_count": 40,
   "id": "58748819",
   "metadata": {},
   "outputs": [
    {
     "data": {
      "text/plain": [
       "<AxesSubplot:>"
      ]
     },
     "execution_count": 40,
     "metadata": {},
     "output_type": "execute_result"
    },
    {
     "data": {
      "image/png": "[encoded data removed]",
      "text/plain": [
       "<Figure size 640x480 with 1 Axes>"
      ]
     },
     "metadata": {},
     "output_type": "display_data"
    }
   ],
   "source": [
    "df.loc[df['Velocity_Montalban'] <= 0.06]['Velocity_Montalban'].hist()"
   ]
  },
  {
   "cell_type": "markdown",
   "id": "f65fa8a0",
   "metadata": {},
   "source": [
    "## Functions"
   ]
  },
  {
   "cell_type": "code",
   "execution_count": 37,
   "id": "6ae1c461",
   "metadata": {},
   "outputs": [],
   "source": [
    "def make_corr_heatmap(dataframe):\n",
    "    '''\n",
    "    Making a correlation heatmap for dataframe with auto-adjusted size\n",
    "    '''\n",
    "    corr_matrix = dataframe.corr()\n",
    "    plt.figure(figsize=(len(corr_matrix.columns), len(corr_matrix.columns)))\n",
    "    corr_heatmap = sns.heatmap(corr_matrix, annot=True)\n",
    "    plt.tight_layout()\n",
    "    plt.show()"
   ]
  },
  {
   "cell_type": "markdown",
   "id": "a8982953",
   "metadata": {},
   "source": [
    "## Correlation"
   ]
  },
  {
   "cell_type": "code",
   "execution_count": 38,
   "id": "5c0bc148",
   "metadata": {},
   "outputs": [
    {
     "data": {
      "text/html": [
       "<div>\n",
       "<style scoped>\n",
       "    .dataframe tbody tr th:only-of-type {\n",
       "        vertical-align: middle;\n",
       "    }\n",
       "\n",
       "    .dataframe tbody tr th {\n",
       "        vertical-align: top;\n",
       "    }\n",
       "\n",
       "    .dataframe thead th {\n",
       "        text-align: right;\n",
       "    }\n",
       "</style>\n",
       "<table border=\"1\" class=\"dataframe\">\n",
       "  <thead>\n",
       "    <tr style=\"text-align: right;\">\n",
       "      <th></th>\n",
       "      <th>x</th>\n",
       "      <th>t</th>\n",
       "      <th>Discharge_Sto_Nino</th>\n",
       "      <th>Rainfall_Aries</th>\n",
       "      <th>Rainfall_Boso</th>\n",
       "      <th>Rainfall_Campana</th>\n",
       "      <th>Rainfall_Nangka</th>\n",
       "      <th>Rainfall_Oro</th>\n",
       "      <th>Waterlevel_Sto_Nino</th>\n",
       "      <th>Velocity_Sto_Nino</th>\n",
       "      <th>friction_coeff</th>\n",
       "      <th>slope</th>\n",
       "    </tr>\n",
       "  </thead>\n",
       "  <tbody>\n",
       "    <tr>\n",
       "      <th>0</th>\n",
       "      <td>14420</td>\n",
       "      <td>0.0</td>\n",
       "      <td>21.033407</td>\n",
       "      <td>0</td>\n",
       "      <td>1</td>\n",
       "      <td>2</td>\n",
       "      <td>0</td>\n",
       "      <td>0</td>\n",
       "      <td>12.18</td>\n",
       "      <td>0.026165</td>\n",
       "      <td>0.033</td>\n",
       "      <td>0.000667</td>\n",
       "    </tr>\n",
       "    <tr>\n",
       "      <th>1</th>\n",
       "      <td>14420</td>\n",
       "      <td>3600.0</td>\n",
       "      <td>21.280072</td>\n",
       "      <td>0</td>\n",
       "      <td>1</td>\n",
       "      <td>1</td>\n",
       "      <td>1</td>\n",
       "      <td>0</td>\n",
       "      <td>12.19</td>\n",
       "      <td>0.026450</td>\n",
       "      <td>0.033</td>\n",
       "      <td>0.000667</td>\n",
       "    </tr>\n",
       "    <tr>\n",
       "      <th>2</th>\n",
       "      <td>14420</td>\n",
       "      <td>7200.0</td>\n",
       "      <td>21.280072</td>\n",
       "      <td>1</td>\n",
       "      <td>1</td>\n",
       "      <td>1</td>\n",
       "      <td>0</td>\n",
       "      <td>1</td>\n",
       "      <td>12.19</td>\n",
       "      <td>0.026450</td>\n",
       "      <td>0.033</td>\n",
       "      <td>0.000667</td>\n",
       "    </tr>\n",
       "    <tr>\n",
       "      <th>3</th>\n",
       "      <td>14420</td>\n",
       "      <td>10800.0</td>\n",
       "      <td>21.529056</td>\n",
       "      <td>0</td>\n",
       "      <td>0</td>\n",
       "      <td>0</td>\n",
       "      <td>1</td>\n",
       "      <td>0</td>\n",
       "      <td>12.20</td>\n",
       "      <td>0.026738</td>\n",
       "      <td>0.033</td>\n",
       "      <td>0.000667</td>\n",
       "    </tr>\n",
       "    <tr>\n",
       "      <th>4</th>\n",
       "      <td>14420</td>\n",
       "      <td>14400.0</td>\n",
       "      <td>21.529056</td>\n",
       "      <td>1</td>\n",
       "      <td>1</td>\n",
       "      <td>1</td>\n",
       "      <td>0</td>\n",
       "      <td>0</td>\n",
       "      <td>12.20</td>\n",
       "      <td>0.026738</td>\n",
       "      <td>0.033</td>\n",
       "      <td>0.000667</td>\n",
       "    </tr>\n",
       "  </tbody>\n",
       "</table>\n",
       "</div>"
      ],
      "text/plain": [
       "       x        t  Discharge_Sto_Nino  Rainfall_Aries  Rainfall_Boso  \\\n",
       "0  14420      0.0           21.033407               0              1   \n",
       "1  14420   3600.0           21.280072               0              1   \n",
       "2  14420   7200.0           21.280072               1              1   \n",
       "3  14420  10800.0           21.529056               0              0   \n",
       "4  14420  14400.0           21.529056               1              1   \n",
       "\n",
       "   Rainfall_Campana  Rainfall_Nangka  Rainfall_Oro  Waterlevel_Sto_Nino  \\\n",
       "0                 2                0             0                12.18   \n",
       "1                 1                1             0                12.19   \n",
       "2                 1                0             1                12.19   \n",
       "3                 0                1             0                12.20   \n",
       "4                 1                0             0                12.20   \n",
       "\n",
       "   Velocity_Sto_Nino  friction_coeff     slope  \n",
       "0           0.026165           0.033  0.000667  \n",
       "1           0.026450           0.033  0.000667  \n",
       "2           0.026450           0.033  0.000667  \n",
       "3           0.026738           0.033  0.000667  \n",
       "4           0.026738           0.033  0.000667  "
      ]
     },
     "execution_count": 38,
     "metadata": {},
     "output_type": "execute_result"
    }
   ],
   "source": [
    "df = df[['x', 't', 'Discharge_Sto_Nino', 'Rainfall_Aries', 'Rainfall_Boso', 'Rainfall_Campana', 'Rainfall_Nangka', 'Rainfall_Oro', 'Waterlevel_Sto_Nino', 'Velocity_Sto_Nino', 'friction_coeff', 'slope']]\n",
    "df.head()"
   ]
  },
  {
   "cell_type": "code",
   "execution_count": 39,
   "id": "e374b426",
   "metadata": {},
   "outputs": [
    {
     "data": {
      "image/png": "[encoded data removed]",
      "text/plain": [
       "<Figure size 864x864 with 2 Axes>"
      ]
     },
     "metadata": {
      "needs_background": "light"
     },
     "output_type": "display_data"
    }
   ],
   "source": [
    "make_corr_heatmap(df)"
   ]
  },
  {
   "cell_type": "code",
   "execution_count": 28,
   "id": "7670162b",
   "metadata": {},
   "outputs": [
    {
     "data": {
      "text/html": [
       "<div>\n",
       "<style scoped>\n",
       "    .dataframe tbody tr th:only-of-type {\n",
       "        vertical-align: middle;\n",
       "    }\n",
       "\n",
       "    .dataframe tbody tr th {\n",
       "        vertical-align: top;\n",
       "    }\n",
       "\n",
       "    .dataframe thead th {\n",
       "        text-align: right;\n",
       "    }\n",
       "</style>\n",
       "<table border=\"1\" class=\"dataframe\">\n",
       "  <thead>\n",
       "    <tr style=\"text-align: right;\">\n",
       "      <th></th>\n",
       "      <th>x</th>\n",
       "      <th>t</th>\n",
       "      <th>Discharge_Sto_Nino</th>\n",
       "      <th>Rainfall_Aries</th>\n",
       "      <th>Rainfall_Boso</th>\n",
       "      <th>Rainfall_Campana</th>\n",
       "      <th>Rainfall_Nangka</th>\n",
       "      <th>Rainfall_Oro</th>\n",
       "      <th>Waterlevel_Sto_Nino</th>\n",
       "      <th>Velocity_Sto_Nino</th>\n",
       "      <th>friction_coeff</th>\n",
       "      <th>slope</th>\n",
       "    </tr>\n",
       "  </thead>\n",
       "  <tbody>\n",
       "    <tr>\n",
       "      <th>x</th>\n",
       "      <td>NaN</td>\n",
       "      <td>NaN</td>\n",
       "      <td>NaN</td>\n",
       "      <td>NaN</td>\n",
       "      <td>NaN</td>\n",
       "      <td>NaN</td>\n",
       "      <td>NaN</td>\n",
       "      <td>NaN</td>\n",
       "      <td>NaN</td>\n",
       "      <td>NaN</td>\n",
       "      <td>NaN</td>\n",
       "      <td>NaN</td>\n",
       "    </tr>\n",
       "    <tr>\n",
       "      <th>t</th>\n",
       "      <td>NaN</td>\n",
       "      <td>1.000000</td>\n",
       "      <td>0.070032</td>\n",
       "      <td>0.018782</td>\n",
       "      <td>0.019951</td>\n",
       "      <td>0.022026</td>\n",
       "      <td>0.035632</td>\n",
       "      <td>0.044564</td>\n",
       "      <td>0.198083</td>\n",
       "      <td>0.084897</td>\n",
       "      <td>NaN</td>\n",
       "      <td>NaN</td>\n",
       "    </tr>\n",
       "    <tr>\n",
       "      <th>Discharge_Sto_Nino</th>\n",
       "      <td>NaN</td>\n",
       "      <td>0.070032</td>\n",
       "      <td>1.000000</td>\n",
       "      <td>0.164771</td>\n",
       "      <td>0.135611</td>\n",
       "      <td>0.144100</td>\n",
       "      <td>0.178539</td>\n",
       "      <td>0.158425</td>\n",
       "      <td>0.800133</td>\n",
       "      <td>0.996385</td>\n",
       "      <td>NaN</td>\n",
       "      <td>NaN</td>\n",
       "    </tr>\n",
       "    <tr>\n",
       "      <th>Rainfall_Aries</th>\n",
       "      <td>NaN</td>\n",
       "      <td>0.018782</td>\n",
       "      <td>0.164771</td>\n",
       "      <td>1.000000</td>\n",
       "      <td>0.646415</td>\n",
       "      <td>0.448230</td>\n",
       "      <td>0.522804</td>\n",
       "      <td>0.241820</td>\n",
       "      <td>0.164625</td>\n",
       "      <td>0.170628</td>\n",
       "      <td>NaN</td>\n",
       "      <td>NaN</td>\n",
       "    </tr>\n",
       "    <tr>\n",
       "      <th>Rainfall_Boso</th>\n",
       "      <td>NaN</td>\n",
       "      <td>0.019951</td>\n",
       "      <td>0.135611</td>\n",
       "      <td>0.646415</td>\n",
       "      <td>1.000000</td>\n",
       "      <td>0.542930</td>\n",
       "      <td>0.326981</td>\n",
       "      <td>0.216151</td>\n",
       "      <td>0.141357</td>\n",
       "      <td>0.140913</td>\n",
       "      <td>NaN</td>\n",
       "      <td>NaN</td>\n",
       "    </tr>\n",
       "    <tr>\n",
       "      <th>Rainfall_Campana</th>\n",
       "      <td>NaN</td>\n",
       "      <td>0.022026</td>\n",
       "      <td>0.144100</td>\n",
       "      <td>0.448230</td>\n",
       "      <td>0.542930</td>\n",
       "      <td>1.000000</td>\n",
       "      <td>0.281672</td>\n",
       "      <td>0.204171</td>\n",
       "      <td>0.152035</td>\n",
       "      <td>0.149749</td>\n",
       "      <td>NaN</td>\n",
       "      <td>NaN</td>\n",
       "    </tr>\n",
       "    <tr>\n",
       "      <th>Rainfall_Nangka</th>\n",
       "      <td>NaN</td>\n",
       "      <td>0.035632</td>\n",
       "      <td>0.178539</td>\n",
       "      <td>0.522804</td>\n",
       "      <td>0.326981</td>\n",
       "      <td>0.281672</td>\n",
       "      <td>1.000000</td>\n",
       "      <td>0.304613</td>\n",
       "      <td>0.177892</td>\n",
       "      <td>0.185073</td>\n",
       "      <td>NaN</td>\n",
       "      <td>NaN</td>\n",
       "    </tr>\n",
       "    <tr>\n",
       "      <th>Rainfall_Oro</th>\n",
       "      <td>NaN</td>\n",
       "      <td>0.044564</td>\n",
       "      <td>0.158425</td>\n",
       "      <td>0.241820</td>\n",
       "      <td>0.216151</td>\n",
       "      <td>0.204171</td>\n",
       "      <td>0.304613</td>\n",
       "      <td>1.000000</td>\n",
       "      <td>0.156784</td>\n",
       "      <td>0.164336</td>\n",
       "      <td>NaN</td>\n",
       "      <td>NaN</td>\n",
       "    </tr>\n",
       "    <tr>\n",
       "      <th>Waterlevel_Sto_Nino</th>\n",
       "      <td>NaN</td>\n",
       "      <td>0.198083</td>\n",
       "      <td>0.800133</td>\n",
       "      <td>0.164625</td>\n",
       "      <td>0.141357</td>\n",
       "      <td>0.152035</td>\n",
       "      <td>0.177892</td>\n",
       "      <td>0.156784</td>\n",
       "      <td>1.000000</td>\n",
       "      <td>0.845022</td>\n",
       "      <td>NaN</td>\n",
       "      <td>NaN</td>\n",
       "    </tr>\n",
       "    <tr>\n",
       "      <th>Velocity_Sto_Nino</th>\n",
       "      <td>NaN</td>\n",
       "      <td>0.084897</td>\n",
       "      <td>0.996385</td>\n",
       "      <td>0.170628</td>\n",
       "      <td>0.140913</td>\n",
       "      <td>0.149749</td>\n",
       "      <td>0.185073</td>\n",
       "      <td>0.164336</td>\n",
       "      <td>0.845022</td>\n",
       "      <td>1.000000</td>\n",
       "      <td>NaN</td>\n",
       "      <td>NaN</td>\n",
       "    </tr>\n",
       "    <tr>\n",
       "      <th>friction_coeff</th>\n",
       "      <td>NaN</td>\n",
       "      <td>NaN</td>\n",
       "      <td>NaN</td>\n",
       "      <td>NaN</td>\n",
       "      <td>NaN</td>\n",
       "      <td>NaN</td>\n",
       "      <td>NaN</td>\n",
       "      <td>NaN</td>\n",
       "      <td>NaN</td>\n",
       "      <td>NaN</td>\n",
       "      <td>NaN</td>\n",
       "      <td>NaN</td>\n",
       "    </tr>\n",
       "    <tr>\n",
       "      <th>slope</th>\n",
       "      <td>NaN</td>\n",
       "      <td>NaN</td>\n",
       "      <td>NaN</td>\n",
       "      <td>NaN</td>\n",
       "      <td>NaN</td>\n",
       "      <td>NaN</td>\n",
       "      <td>NaN</td>\n",
       "      <td>NaN</td>\n",
       "      <td>NaN</td>\n",
       "      <td>NaN</td>\n",
       "      <td>NaN</td>\n",
       "      <td>NaN</td>\n",
       "    </tr>\n",
       "  </tbody>\n",
       "</table>\n",
       "</div>"
      ],
      "text/plain": [
       "                      x         t  Discharge_Sto_Nino  Rainfall_Aries  \\\n",
       "x                   NaN       NaN                 NaN             NaN   \n",
       "t                   NaN  1.000000            0.070032        0.018782   \n",
       "Discharge_Sto_Nino  NaN  0.070032            1.000000        0.164771   \n",
       "Rainfall_Aries      NaN  0.018782            0.164771        1.000000   \n",
       "Rainfall_Boso       NaN  0.019951            0.135611        0.646415   \n",
       "Rainfall_Campana    NaN  0.022026            0.144100        0.448230   \n",
       "Rainfall_Nangka     NaN  0.035632            0.178539        0.522804   \n",
       "Rainfall_Oro        NaN  0.044564            0.158425        0.241820   \n",
       "Waterlevel_Sto_Nino NaN  0.198083            0.800133        0.164625   \n",
       "Velocity_Sto_Nino   NaN  0.084897            0.996385        0.170628   \n",
       "friction_coeff      NaN       NaN                 NaN             NaN   \n",
       "slope               NaN       NaN                 NaN             NaN   \n",
       "\n",
       "                     Rainfall_Boso  Rainfall_Campana  Rainfall_Nangka  \\\n",
       "x                              NaN               NaN              NaN   \n",
       "t                         0.019951          0.022026         0.035632   \n",
       "Discharge_Sto_Nino        0.135611          0.144100         0.178539   \n",
       "Rainfall_Aries            0.646415          0.448230         0.522804   \n",
       "Rainfall_Boso             1.000000          0.542930         0.326981   \n",
       "Rainfall_Campana          0.542930          1.000000         0.281672   \n",
       "Rainfall_Nangka           0.326981          0.281672         1.000000   \n",
       "Rainfall_Oro              0.216151          0.204171         0.304613   \n",
       "Waterlevel_Sto_Nino       0.141357          0.152035         0.177892   \n",
       "Velocity_Sto_Nino         0.140913          0.149749         0.185073   \n",
       "friction_coeff                 NaN               NaN              NaN   \n",
       "slope                          NaN               NaN              NaN   \n",
       "\n",
       "                     Rainfall_Oro  Waterlevel_Sto_Nino  Velocity_Sto_Nino  \\\n",
       "x                             NaN                  NaN                NaN   \n",
       "t                        0.044564             0.198083           0.084897   \n",
       "Discharge_Sto_Nino       0.158425             0.800133           0.996385   \n",
       "Rainfall_Aries           0.241820             0.164625           0.170628   \n",
       "Rainfall_Boso            0.216151             0.141357           0.140913   \n",
       "Rainfall_Campana         0.204171             0.152035           0.149749   \n",
       "Rainfall_Nangka          0.304613             0.177892           0.185073   \n",
       "Rainfall_Oro             1.000000             0.156784           0.164336   \n",
       "Waterlevel_Sto_Nino      0.156784             1.000000           0.845022   \n",
       "Velocity_Sto_Nino        0.164336             0.845022           1.000000   \n",
       "friction_coeff                NaN                  NaN                NaN   \n",
       "slope                         NaN                  NaN                NaN   \n",
       "\n",
       "                     friction_coeff  slope  \n",
       "x                               NaN    NaN  \n",
       "t                               NaN    NaN  \n",
       "Discharge_Sto_Nino              NaN    NaN  \n",
       "Rainfall_Aries                  NaN    NaN  \n",
       "Rainfall_Boso                   NaN    NaN  \n",
       "Rainfall_Campana                NaN    NaN  \n",
       "Rainfall_Nangka                 NaN    NaN  \n",
       "Rainfall_Oro                    NaN    NaN  \n",
       "Waterlevel_Sto_Nino             NaN    NaN  \n",
       "Velocity_Sto_Nino               NaN    NaN  \n",
       "friction_coeff                  NaN    NaN  \n",
       "slope                           NaN    NaN  "
      ]
     },
     "execution_count": 28,
     "metadata": {},
     "output_type": "execute_result"
    }
   ],
   "source": [
    "df.corr()"
   ]
  },
  {
   "cell_type": "markdown",
   "id": "ae75e8dd",
   "metadata": {},
   "source": [
    "#### Findings\n",
    "Feature to Feature\n",
    "- variables with constant values (x, friction coefficient, slope) have no correlation with other variables\n",
    "- rainfall in mt aries is highly correlated with rainfall in boso boso and nangka, rainfall in mt campana is highly correlated with rainfall in boso boso\n",
    "\n",
    "Feature to Output\n",
    "- discharge is highly correlated with water level and velocity, velocity is highly correlated with water level; problem: discharge is derived from water level and velocity is derived from discharge\n",
    "- rainfall is only weakly correlated with water level and velocity\n",
    "- t has weak correlation with water level and velocity"
   ]
  },
  {
   "cell_type": "code",
   "execution_count": null,
   "id": "707352c7",
   "metadata": {},
   "outputs": [],
   "source": []
  }
 ],
 "metadata": {
  "kernelspec": {
   "display_name": "Python 3 (ipykernel)",
   "language": "python",
   "name": "python3"
  },
  "language_info": {
   "codemirror_mode": {
    "name": "ipython",
    "version": 3
   },
   "file_extension": ".py",
   "mimetype": "text/x-python",
   "name": "python",
   "nbconvert_exporter": "python",
   "pygments_lexer": "ipython3",
   "version": "3.9.13"
  }
 },
 "nbformat": 4,
 "nbformat_minor": 5
}
