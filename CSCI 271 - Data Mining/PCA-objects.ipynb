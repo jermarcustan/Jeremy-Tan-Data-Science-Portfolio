{
 "cells": [
  {
   "cell_type": "code",
   "execution_count": 2,
   "id": "09dc5945",
   "metadata": {},
   "outputs": [],
   "source": [
    "import numpy as np\n",
    "import pandas as pd\n",
    "\n",
    "from sklearn.decomposition import PCA"
   ]
  },
  {
   "cell_type": "code",
   "execution_count": 3,
   "id": "69364fff",
   "metadata": {},
   "outputs": [
    {
     "data": {
      "text/html": [
       "<div>\n",
       "<style scoped>\n",
       "    .dataframe tbody tr th:only-of-type {\n",
       "        vertical-align: middle;\n",
       "    }\n",
       "\n",
       "    .dataframe tbody tr th {\n",
       "        vertical-align: top;\n",
       "    }\n",
       "\n",
       "    .dataframe thead th {\n",
       "        text-align: right;\n",
       "    }\n",
       "</style>\n",
       "<table border=\"1\" class=\"dataframe\">\n",
       "  <thead>\n",
       "    <tr style=\"text-align: right;\">\n",
       "      <th></th>\n",
       "      <th>Size</th>\n",
       "      <th>Weight</th>\n",
       "      <th>Intensity</th>\n",
       "      <th>Value</th>\n",
       "    </tr>\n",
       "    <tr>\n",
       "      <th>Sample</th>\n",
       "      <th></th>\n",
       "      <th></th>\n",
       "      <th></th>\n",
       "      <th></th>\n",
       "    </tr>\n",
       "  </thead>\n",
       "  <tbody>\n",
       "    <tr>\n",
       "      <th>1</th>\n",
       "      <td>25</td>\n",
       "      <td>20</td>\n",
       "      <td>43</td>\n",
       "      <td>80</td>\n",
       "    </tr>\n",
       "    <tr>\n",
       "      <th>2</th>\n",
       "      <td>32</td>\n",
       "      <td>22</td>\n",
       "      <td>82</td>\n",
       "      <td>81</td>\n",
       "    </tr>\n",
       "    <tr>\n",
       "      <th>3</th>\n",
       "      <td>10</td>\n",
       "      <td>12</td>\n",
       "      <td>61</td>\n",
       "      <td>79</td>\n",
       "    </tr>\n",
       "    <tr>\n",
       "      <th>4</th>\n",
       "      <td>64</td>\n",
       "      <td>49</td>\n",
       "      <td>69</td>\n",
       "      <td>80</td>\n",
       "    </tr>\n",
       "    <tr>\n",
       "      <th>5</th>\n",
       "      <td>88</td>\n",
       "      <td>87</td>\n",
       "      <td>73</td>\n",
       "      <td>82</td>\n",
       "    </tr>\n",
       "    <tr>\n",
       "      <th>6</th>\n",
       "      <td>12</td>\n",
       "      <td>32</td>\n",
       "      <td>48</td>\n",
       "      <td>78</td>\n",
       "    </tr>\n",
       "    <tr>\n",
       "      <th>7</th>\n",
       "      <td>66</td>\n",
       "      <td>45</td>\n",
       "      <td>42</td>\n",
       "      <td>79</td>\n",
       "    </tr>\n",
       "    <tr>\n",
       "      <th>8</th>\n",
       "      <td>37</td>\n",
       "      <td>78</td>\n",
       "      <td>27</td>\n",
       "      <td>80</td>\n",
       "    </tr>\n",
       "    <tr>\n",
       "      <th>9</th>\n",
       "      <td>54</td>\n",
       "      <td>49</td>\n",
       "      <td>92</td>\n",
       "      <td>81</td>\n",
       "    </tr>\n",
       "    <tr>\n",
       "      <th>10</th>\n",
       "      <td>77</td>\n",
       "      <td>67</td>\n",
       "      <td>55</td>\n",
       "      <td>79</td>\n",
       "    </tr>\n",
       "  </tbody>\n",
       "</table>\n",
       "</div>"
      ],
      "text/plain": [
       "        Size  Weight  Intensity  Value\n",
       "Sample                                \n",
       "1         25      20         43     80\n",
       "2         32      22         82     81\n",
       "3         10      12         61     79\n",
       "4         64      49         69     80\n",
       "5         88      87         73     82\n",
       "6         12      32         48     78\n",
       "7         66      45         42     79\n",
       "8         37      78         27     80\n",
       "9         54      49         92     81\n",
       "10        77      67         55     79"
      ]
     },
     "execution_count": 3,
     "metadata": {},
     "output_type": "execute_result"
    }
   ],
   "source": [
    "X_df = pd.read_csv('objects.csv', index_col='Sample')\n",
    "X_df.head(10)"
   ]
  },
  {
   "cell_type": "code",
   "execution_count": 4,
   "id": "b6422166",
   "metadata": {},
   "outputs": [],
   "source": [
    "n_comp = 4"
   ]
  },
  {
   "cell_type": "code",
   "execution_count": 5,
   "id": "87339248",
   "metadata": {},
   "outputs": [],
   "source": [
    "pca = PCA(n_components=n_comp).fit(X_df)\n",
    "X_pca = pca.transform(X_df)"
   ]
  },
  {
   "cell_type": "code",
   "execution_count": 6,
   "id": "883601eb",
   "metadata": {},
   "outputs": [
    {
     "data": {
      "text/plain": [
       "array([1.22433813e+03, 4.50946245e+02, 1.11363136e+02, 6.74705717e-01])"
      ]
     },
     "execution_count": 6,
     "metadata": {},
     "output_type": "execute_result"
    }
   ],
   "source": [
    "pca.explained_variance_"
   ]
  },
  {
   "cell_type": "code",
   "execution_count": 7,
   "id": "9fa96139",
   "metadata": {},
   "outputs": [
    {
     "data": {
      "text/plain": [
       "array([0.685, 0.252, 0.062, 0.   ])"
      ]
     },
     "execution_count": 7,
     "metadata": {},
     "output_type": "execute_result"
    }
   ],
   "source": [
    "np.round(pca.explained_variance_ratio_, 3)"
   ]
  },
  {
   "cell_type": "code",
   "execution_count": 8,
   "id": "5194cfa4",
   "metadata": {},
   "outputs": [
    {
     "data": {
      "text/html": [
       "<div>\n",
       "<style scoped>\n",
       "    .dataframe tbody tr th:only-of-type {\n",
       "        vertical-align: middle;\n",
       "    }\n",
       "\n",
       "    .dataframe tbody tr th {\n",
       "        vertical-align: top;\n",
       "    }\n",
       "\n",
       "    .dataframe thead th {\n",
       "        text-align: right;\n",
       "    }\n",
       "</style>\n",
       "<table border=\"1\" class=\"dataframe\">\n",
       "  <thead>\n",
       "    <tr style=\"text-align: right;\">\n",
       "      <th></th>\n",
       "      <th>PC1</th>\n",
       "      <th>PC2</th>\n",
       "      <th>PC3</th>\n",
       "      <th>PC4</th>\n",
       "    </tr>\n",
       "    <tr>\n",
       "      <th>Sample</th>\n",
       "      <th></th>\n",
       "      <th></th>\n",
       "      <th></th>\n",
       "      <th></th>\n",
       "    </tr>\n",
       "  </thead>\n",
       "  <tbody>\n",
       "    <tr>\n",
       "      <th>1</th>\n",
       "      <td>-34.583171</td>\n",
       "      <td>-10.349000</td>\n",
       "      <td>-10.059093</td>\n",
       "      <td>1.275593</td>\n",
       "    </tr>\n",
       "    <tr>\n",
       "      <th>2</th>\n",
       "      <td>-24.959880</td>\n",
       "      <td>26.149394</td>\n",
       "      <td>2.187027</td>\n",
       "      <td>0.735198</td>\n",
       "    </tr>\n",
       "    <tr>\n",
       "      <th>3</th>\n",
       "      <td>-49.647949</td>\n",
       "      <td>5.718359</td>\n",
       "      <td>1.184444</td>\n",
       "      <td>-0.297711</td>\n",
       "    </tr>\n",
       "    <tr>\n",
       "      <th>4</th>\n",
       "      <td>15.717839</td>\n",
       "      <td>11.628366</td>\n",
       "      <td>-5.325937</td>\n",
       "      <td>-0.273932</td>\n",
       "    </tr>\n",
       "    <tr>\n",
       "      <th>5</th>\n",
       "      <td>59.126650</td>\n",
       "      <td>7.300704</td>\n",
       "      <td>6.332185</td>\n",
       "      <td>0.743237</td>\n",
       "    </tr>\n",
       "    <tr>\n",
       "      <th>6</th>\n",
       "      <td>-35.934351</td>\n",
       "      <td>-12.658137</td>\n",
       "      <td>8.061418</td>\n",
       "      <td>-1.271815</td>\n",
       "    </tr>\n",
       "    <tr>\n",
       "      <th>7</th>\n",
       "      <td>12.409693</td>\n",
       "      <td>-11.321348</td>\n",
       "      <td>-19.897843</td>\n",
       "      <td>-0.111596</td>\n",
       "    </tr>\n",
       "    <tr>\n",
       "      <th>8</th>\n",
       "      <td>11.555242</td>\n",
       "      <td>-42.407898</td>\n",
       "      <td>14.576582</td>\n",
       "      <td>0.528970</td>\n",
       "    </tr>\n",
       "    <tr>\n",
       "      <th>9</th>\n",
       "      <td>10.105423</td>\n",
       "      <td>30.621171</td>\n",
       "      <td>10.093890</td>\n",
       "      <td>-0.218364</td>\n",
       "    </tr>\n",
       "    <tr>\n",
       "      <th>10</th>\n",
       "      <td>36.210504</td>\n",
       "      <td>-4.681612</td>\n",
       "      <td>-7.152674</td>\n",
       "      <td>-1.109579</td>\n",
       "    </tr>\n",
       "  </tbody>\n",
       "</table>\n",
       "</div>"
      ],
      "text/plain": [
       "              PC1        PC2        PC3       PC4\n",
       "Sample                                           \n",
       "1      -34.583171 -10.349000 -10.059093  1.275593\n",
       "2      -24.959880  26.149394   2.187027  0.735198\n",
       "3      -49.647949   5.718359   1.184444 -0.297711\n",
       "4       15.717839  11.628366  -5.325937 -0.273932\n",
       "5       59.126650   7.300704   6.332185  0.743237\n",
       "6      -35.934351 -12.658137   8.061418 -1.271815\n",
       "7       12.409693 -11.321348 -19.897843 -0.111596\n",
       "8       11.555242 -42.407898  14.576582  0.528970\n",
       "9       10.105423  30.621171  10.093890 -0.218364\n",
       "10      36.210504  -4.681612  -7.152674 -1.109579"
      ]
     },
     "execution_count": 8,
     "metadata": {},
     "output_type": "execute_result"
    }
   ],
   "source": [
    "X_pca_df = pd.DataFrame(X_pca, index=X_df.index, columns=[f'PC{i}' for i in range(1, n_comp+1)])\n",
    "X_pca_df"
   ]
  },
  {
   "cell_type": "code",
   "execution_count": 9,
   "id": "beb26250",
   "metadata": {},
   "outputs": [
    {
     "data": {
      "text/plain": [
       "array([[ 0.74403784,  0.66328371,  0.07878101,  0.01599915],\n",
       "       [ 0.208642  , -0.34339877,  0.91534205,  0.02635762],\n",
       "       [-0.63470886,  0.66447543,  0.3929621 ,  0.03461002],\n",
       "       [ 0.00456892, -0.02458473, -0.03902905,  0.99892515]])"
      ]
     },
     "execution_count": 9,
     "metadata": {},
     "output_type": "execute_result"
    }
   ],
   "source": [
    "loadings = pca.components_\n",
    "loadings #element (i,j) is the contribution of feature j to PC{i}"
   ]
  },
  {
   "cell_type": "code",
   "execution_count": 10,
   "id": "3a07c229",
   "metadata": {},
   "outputs": [
    {
     "data": {
      "text/html": [
       "<div>\n",
       "<style scoped>\n",
       "    .dataframe tbody tr th:only-of-type {\n",
       "        vertical-align: middle;\n",
       "    }\n",
       "\n",
       "    .dataframe tbody tr th {\n",
       "        vertical-align: top;\n",
       "    }\n",
       "\n",
       "    .dataframe thead th {\n",
       "        text-align: right;\n",
       "    }\n",
       "</style>\n",
       "<table border=\"1\" class=\"dataframe\">\n",
       "  <thead>\n",
       "    <tr style=\"text-align: right;\">\n",
       "      <th></th>\n",
       "      <th>Size</th>\n",
       "      <th>Weight</th>\n",
       "      <th>Intensity</th>\n",
       "      <th>Value</th>\n",
       "    </tr>\n",
       "  </thead>\n",
       "  <tbody>\n",
       "    <tr>\n",
       "      <th>PC1</th>\n",
       "      <td>0.744038</td>\n",
       "      <td>0.663284</td>\n",
       "      <td>0.078781</td>\n",
       "      <td>0.015999</td>\n",
       "    </tr>\n",
       "    <tr>\n",
       "      <th>PC2</th>\n",
       "      <td>0.208642</td>\n",
       "      <td>-0.343399</td>\n",
       "      <td>0.915342</td>\n",
       "      <td>0.026358</td>\n",
       "    </tr>\n",
       "    <tr>\n",
       "      <th>PC3</th>\n",
       "      <td>-0.634709</td>\n",
       "      <td>0.664475</td>\n",
       "      <td>0.392962</td>\n",
       "      <td>0.034610</td>\n",
       "    </tr>\n",
       "    <tr>\n",
       "      <th>PC4</th>\n",
       "      <td>0.004569</td>\n",
       "      <td>-0.024585</td>\n",
       "      <td>-0.039029</td>\n",
       "      <td>0.998925</td>\n",
       "    </tr>\n",
       "  </tbody>\n",
       "</table>\n",
       "</div>"
      ],
      "text/plain": [
       "         Size    Weight  Intensity     Value\n",
       "PC1  0.744038  0.663284   0.078781  0.015999\n",
       "PC2  0.208642 -0.343399   0.915342  0.026358\n",
       "PC3 -0.634709  0.664475   0.392962  0.034610\n",
       "PC4  0.004569 -0.024585  -0.039029  0.998925"
      ]
     },
     "execution_count": 10,
     "metadata": {},
     "output_type": "execute_result"
    }
   ],
   "source": [
    "load_df = pd.DataFrame(loadings, index=[f'PC{i}' for i in range(1, n_comp+1)], columns=X_df.columns)\n",
    "load_df"
   ]
  },
  {
   "cell_type": "code",
   "execution_count": null,
   "id": "49576779",
   "metadata": {},
   "outputs": [],
   "source": []
  }
 ],
 "metadata": {
  "kernelspec": {
   "display_name": "Python 3 (ipykernel)",
   "language": "python",
   "name": "python3"
  },
  "language_info": {
   "codemirror_mode": {
    "name": "ipython",
    "version": 3
   },
   "file_extension": ".py",
   "mimetype": "text/x-python",
   "name": "python",
   "nbconvert_exporter": "python",
   "pygments_lexer": "ipython3",
   "version": "3.10.7"
  }
 },
 "nbformat": 4,
 "nbformat_minor": 5
}
