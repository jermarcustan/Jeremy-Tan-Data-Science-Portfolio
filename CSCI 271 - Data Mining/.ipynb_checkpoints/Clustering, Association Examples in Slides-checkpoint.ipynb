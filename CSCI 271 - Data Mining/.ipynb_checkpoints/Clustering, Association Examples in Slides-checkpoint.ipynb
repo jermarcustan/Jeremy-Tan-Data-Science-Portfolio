{
 "cells": [
  {
   "cell_type": "markdown",
   "id": "aa11305a-cc6c-4ef3-b6fa-58e98b0e9d50",
   "metadata": {},
   "source": [
    "## Clustering in Slides"
   ]
  },
  {
   "cell_type": "code",
   "execution_count": 1,
   "id": "db5f7933-d385-49d2-82d3-9862d48a5db5",
   "metadata": {},
   "outputs": [],
   "source": [
    "import pandas as pd\n",
    "import matplotlib.pyplot as plt\n",
    "from sklearn.cluster import KMeans, MiniBatchKMeans\n",
    "from sklearn.metrics import silhouette_score\n"
   ]
  },
  {
   "cell_type": "code",
   "execution_count": 2,
   "id": "d7dc48e6-f2ae-43a4-a351-958254977556",
   "metadata": {},
   "outputs": [],
   "source": [
    "height = [150,165,140,200,120,110,180,100,140]\n",
    "weight = [120,180,100,200,90,100,200,90,110]"
   ]
  },
  {
   "cell_type": "code",
   "execution_count": 3,
   "id": "85a83351-85df-40c1-934a-5f500f9c9754",
   "metadata": {},
   "outputs": [],
   "source": [
    "df = pd.DataFrame({\"height\": height, \"weight\": weight})"
   ]
  },
  {
   "cell_type": "code",
   "execution_count": 4,
   "id": "c3b96fc8-c0ce-483a-a9b4-4b796bdd946a",
   "metadata": {},
   "outputs": [
    {
     "data": {
      "text/html": [
       "<div>\n",
       "<style scoped>\n",
       "    .dataframe tbody tr th:only-of-type {\n",
       "        vertical-align: middle;\n",
       "    }\n",
       "\n",
       "    .dataframe tbody tr th {\n",
       "        vertical-align: top;\n",
       "    }\n",
       "\n",
       "    .dataframe thead th {\n",
       "        text-align: right;\n",
       "    }\n",
       "</style>\n",
       "<table border=\"1\" class=\"dataframe\">\n",
       "  <thead>\n",
       "    <tr style=\"text-align: right;\">\n",
       "      <th></th>\n",
       "      <th>height</th>\n",
       "      <th>weight</th>\n",
       "    </tr>\n",
       "  </thead>\n",
       "  <tbody>\n",
       "    <tr>\n",
       "      <th>0</th>\n",
       "      <td>150</td>\n",
       "      <td>120</td>\n",
       "    </tr>\n",
       "    <tr>\n",
       "      <th>1</th>\n",
       "      <td>165</td>\n",
       "      <td>180</td>\n",
       "    </tr>\n",
       "    <tr>\n",
       "      <th>2</th>\n",
       "      <td>140</td>\n",
       "      <td>100</td>\n",
       "    </tr>\n",
       "    <tr>\n",
       "      <th>3</th>\n",
       "      <td>200</td>\n",
       "      <td>200</td>\n",
       "    </tr>\n",
       "    <tr>\n",
       "      <th>4</th>\n",
       "      <td>120</td>\n",
       "      <td>90</td>\n",
       "    </tr>\n",
       "    <tr>\n",
       "      <th>5</th>\n",
       "      <td>110</td>\n",
       "      <td>100</td>\n",
       "    </tr>\n",
       "    <tr>\n",
       "      <th>6</th>\n",
       "      <td>180</td>\n",
       "      <td>200</td>\n",
       "    </tr>\n",
       "    <tr>\n",
       "      <th>7</th>\n",
       "      <td>100</td>\n",
       "      <td>90</td>\n",
       "    </tr>\n",
       "    <tr>\n",
       "      <th>8</th>\n",
       "      <td>140</td>\n",
       "      <td>110</td>\n",
       "    </tr>\n",
       "  </tbody>\n",
       "</table>\n",
       "</div>"
      ],
      "text/plain": [
       "   height  weight\n",
       "0     150     120\n",
       "1     165     180\n",
       "2     140     100\n",
       "3     200     200\n",
       "4     120      90\n",
       "5     110     100\n",
       "6     180     200\n",
       "7     100      90\n",
       "8     140     110"
      ]
     },
     "execution_count": 4,
     "metadata": {},
     "output_type": "execute_result"
    }
   ],
   "source": [
    "df"
   ]
  },
  {
   "cell_type": "code",
   "execution_count": 5,
   "id": "71c0c868-f65d-45ab-a91d-d4869e97a4da",
   "metadata": {},
   "outputs": [],
   "source": [
    "k = 2\n",
    "kmeans = KMeans(n_clusters=k, random_state=0)"
   ]
  },
  {
   "cell_type": "code",
   "execution_count": 6,
   "id": "91a23401-627f-48dc-9ef4-961b347b50ae",
   "metadata": {},
   "outputs": [],
   "source": [
    "df[\"Cluster\"] = kmeans.fit_predict(df)"
   ]
  },
  {
   "cell_type": "code",
   "execution_count": 7,
   "id": "2b8e6b2e-cb79-4993-9b8b-b865a947baea",
   "metadata": {},
   "outputs": [
    {
     "data": {
      "text/html": [
       "<div>\n",
       "<style scoped>\n",
       "    .dataframe tbody tr th:only-of-type {\n",
       "        vertical-align: middle;\n",
       "    }\n",
       "\n",
       "    .dataframe tbody tr th {\n",
       "        vertical-align: top;\n",
       "    }\n",
       "\n",
       "    .dataframe thead th {\n",
       "        text-align: right;\n",
       "    }\n",
       "</style>\n",
       "<table border=\"1\" class=\"dataframe\">\n",
       "  <thead>\n",
       "    <tr style=\"text-align: right;\">\n",
       "      <th></th>\n",
       "      <th>height</th>\n",
       "      <th>weight</th>\n",
       "      <th>Cluster</th>\n",
       "    </tr>\n",
       "  </thead>\n",
       "  <tbody>\n",
       "    <tr>\n",
       "      <th>0</th>\n",
       "      <td>150</td>\n",
       "      <td>120</td>\n",
       "      <td>0</td>\n",
       "    </tr>\n",
       "    <tr>\n",
       "      <th>1</th>\n",
       "      <td>165</td>\n",
       "      <td>180</td>\n",
       "      <td>1</td>\n",
       "    </tr>\n",
       "    <tr>\n",
       "      <th>2</th>\n",
       "      <td>140</td>\n",
       "      <td>100</td>\n",
       "      <td>0</td>\n",
       "    </tr>\n",
       "    <tr>\n",
       "      <th>3</th>\n",
       "      <td>200</td>\n",
       "      <td>200</td>\n",
       "      <td>1</td>\n",
       "    </tr>\n",
       "    <tr>\n",
       "      <th>4</th>\n",
       "      <td>120</td>\n",
       "      <td>90</td>\n",
       "      <td>0</td>\n",
       "    </tr>\n",
       "    <tr>\n",
       "      <th>5</th>\n",
       "      <td>110</td>\n",
       "      <td>100</td>\n",
       "      <td>0</td>\n",
       "    </tr>\n",
       "    <tr>\n",
       "      <th>6</th>\n",
       "      <td>180</td>\n",
       "      <td>200</td>\n",
       "      <td>1</td>\n",
       "    </tr>\n",
       "    <tr>\n",
       "      <th>7</th>\n",
       "      <td>100</td>\n",
       "      <td>90</td>\n",
       "      <td>0</td>\n",
       "    </tr>\n",
       "    <tr>\n",
       "      <th>8</th>\n",
       "      <td>140</td>\n",
       "      <td>110</td>\n",
       "      <td>0</td>\n",
       "    </tr>\n",
       "  </tbody>\n",
       "</table>\n",
       "</div>"
      ],
      "text/plain": [
       "   height  weight  Cluster\n",
       "0     150     120        0\n",
       "1     165     180        1\n",
       "2     140     100        0\n",
       "3     200     200        1\n",
       "4     120      90        0\n",
       "5     110     100        0\n",
       "6     180     200        1\n",
       "7     100      90        0\n",
       "8     140     110        0"
      ]
     },
     "execution_count": 7,
     "metadata": {},
     "output_type": "execute_result"
    }
   ],
   "source": [
    "df"
   ]
  },
  {
   "cell_type": "code",
   "execution_count": 8,
   "id": "c832c959-4bc5-4783-9fa1-85537320cf24",
   "metadata": {},
   "outputs": [
    {
     "data": {
      "image/png": "[encoded data removed]",
      "text/plain": [
       "<Figure size 600x400 with 1 Axes>"
      ]
     },
     "metadata": {},
     "output_type": "display_data"
    }
   ],
   "source": [
    "plt.figure(figsize=(6, 4))\n",
    "for cluster in range(k):\n",
    "    cluster_points = df[df[\"Cluster\"] == cluster]\n",
    "    plt.scatter(cluster_points[\"height\"], cluster_points[\"weight\"], label=f\"Cluster {cluster}\")\n",
    "\n",
    "plt.scatter(kmeans.cluster_centers_[:, 0], kmeans.cluster_centers_[:, 1], \n",
    "            c=\"red\", marker=\"x\", s=200, label=\"Centroids\")\n",
    "plt.xlabel(\"height\")\n",
    "plt.ylabel(\"weight\")\n",
    "plt.title(f\"K-Means Clustering (k={k})\")\n",
    "plt.legend()\n",
    "plt.show()"
   ]
  },
  {
   "cell_type": "code",
   "execution_count": 9,
   "id": "0c84594b-524b-42aa-a5e0-f112f2533de5",
   "metadata": {},
   "outputs": [
    {
     "name": "stdout",
     "output_type": "stream",
     "text": [
      "Inertia: 3500.0\n",
      "Silhouette Score: 0.7225010828543394\n"
     ]
    }
   ],
   "source": [
    "# Calculate inertia (within-cluster sum of squares)\n",
    "inertia = kmeans.inertia_\n",
    "\n",
    "# Calculate silhouette score (requires at least 2 clusters)\n",
    "silhouette = silhouette_score(df.drop(\"Cluster\", axis=1), df[\"Cluster\"])\n",
    "\n",
    "print(f\"Inertia: {inertia}\")\n",
    "print(f\"Silhouette Score: {silhouette}\")"
   ]
  },
  {
   "cell_type": "code",
   "execution_count": 10,
   "id": "7d5438a5-60cd-4ca0-9897-fd8771cb355f",
   "metadata": {},
   "outputs": [],
   "source": [
    "X = [9,2,8,3,4]\n",
    "Y = [2,4,8,6,3]\n",
    "\n",
    "df2 = pd.DataFrame({\"X\": X, \"Y\": Y})"
   ]
  },
  {
   "cell_type": "code",
   "execution_count": 11,
   "id": "79b86915-d115-485c-be86-b6fae9276641",
   "metadata": {},
   "outputs": [
    {
     "data": {
      "image/png": "[encoded data removed]",
      "text/plain": [
       "<Figure size 600x400 with 1 Axes>"
      ]
     },
     "metadata": {},
     "output_type": "display_data"
    }
   ],
   "source": [
    "k = 2\n",
    "kmeans = KMeans(n_clusters=k, random_state=0)\n",
    "df2[\"Cluster\"] = kmeans.fit_predict(df2)\n",
    "\n",
    "plt.figure(figsize=(6, 4))\n",
    "for cluster in range(k):\n",
    "    cluster_points = df2[df2[\"Cluster\"] == cluster]\n",
    "    plt.scatter(cluster_points[\"X\"], cluster_points[\"Y\"], label=f\"Cluster {cluster}\")\n",
    "\n",
    "plt.scatter(kmeans.cluster_centers_[:, 0], kmeans.cluster_centers_[:, 1], \n",
    "            c=\"red\", marker=\"x\", s=200, label=\"Centroids\")\n",
    "plt.xlabel(\"X\")\n",
    "plt.ylabel(\"Y\")\n",
    "plt.title(f\"K-Means Clustering (k={k})\")\n",
    "plt.legend()\n",
    "plt.show()"
   ]
  },
  {
   "cell_type": "code",
   "execution_count": 12,
   "id": "d634dad1-3ef1-468e-90c7-d50f61d0d6bd",
   "metadata": {},
   "outputs": [
    {
     "name": "stdout",
     "output_type": "stream",
     "text": [
      "Inertia: 25.166666666666668\n",
      "Silhouette Score: 0.38030451706136387\n"
     ]
    }
   ],
   "source": [
    "# Calculate inertia (within-cluster sum of squares)\n",
    "inertia = kmeans.inertia_\n",
    "\n",
    "# Calculate silhouette score (requires at least 2 clusters)\n",
    "silhouette = silhouette_score(df2.drop(\"Cluster\", axis=1), df2[\"Cluster\"])\n",
    "\n",
    "print(f\"Inertia: {inertia}\")\n",
    "print(f\"Silhouette Score: {silhouette}\")"
   ]
  },
  {
   "cell_type": "markdown",
   "id": "50ef1c59-523a-42a7-93a7-0665ea6fc52d",
   "metadata": {},
   "source": [
    "## Association Rules"
   ]
  },
  {
   "cell_type": "code",
   "execution_count": 15,
   "id": "75bf92a9-6155-4388-b574-bdc773cfcd7e",
   "metadata": {},
   "outputs": [
    {
     "name": "stdout",
     "output_type": "stream",
     "text": [
      "Frequent Itemsets:\n",
      "   support                       itemsets\n",
      "0    0.375                      (in-mall)\n",
      "1    0.750                     (populous)\n",
      "2    0.750                   (profitable)\n",
      "3    0.375                        (urban)\n",
      "4    0.375          (in-mall, profitable)\n",
      "5    0.625         (populous, profitable)\n",
      "6    0.375              (populous, urban)\n",
      "7    0.375            (urban, profitable)\n",
      "8    0.375  (populous, urban, profitable)\n",
      "Rules:\n",
      "               antecedents             consequents  support  confidence   \n",
      "0                (in-mall)            (profitable)    0.375    1.000000  \\\n",
      "1             (profitable)               (in-mall)    0.375    0.500000   \n",
      "2               (populous)            (profitable)    0.625    0.833333   \n",
      "3             (profitable)              (populous)    0.625    0.833333   \n",
      "4               (populous)                 (urban)    0.375    0.500000   \n",
      "5                  (urban)              (populous)    0.375    1.000000   \n",
      "6                  (urban)            (profitable)    0.375    1.000000   \n",
      "7             (profitable)                 (urban)    0.375    0.500000   \n",
      "8        (populous, urban)            (profitable)    0.375    1.000000   \n",
      "9   (populous, profitable)                 (urban)    0.375    0.600000   \n",
      "10     (urban, profitable)              (populous)    0.375    1.000000   \n",
      "11              (populous)     (urban, profitable)    0.375    0.500000   \n",
      "12                 (urban)  (populous, profitable)    0.375    1.000000   \n",
      "13            (profitable)       (populous, urban)    0.375    0.500000   \n",
      "\n",
      "        lift  \n",
      "0   1.333333  \n",
      "1   1.333333  \n",
      "2   1.111111  \n",
      "3   1.111111  \n",
      "4   1.333333  \n",
      "5   1.333333  \n",
      "6   1.333333  \n",
      "7   1.333333  \n",
      "8   1.333333  \n",
      "9   1.600000  \n",
      "10  1.333333  \n",
      "11  1.333333  \n",
      "12  1.600000  \n",
      "13  1.333333  \n",
      "Filtered Association Rules:\n",
      "               antecedents             consequents  support  confidence   \n",
      "0                (in-mall)            (profitable)    0.375         1.0  \\\n",
      "5                  (urban)              (populous)    0.375         1.0   \n",
      "6                  (urban)            (profitable)    0.375         1.0   \n",
      "8        (populous, urban)            (profitable)    0.375         1.0   \n",
      "9   (populous, profitable)                 (urban)    0.375         0.6   \n",
      "10     (urban, profitable)              (populous)    0.375         1.0   \n",
      "12                 (urban)  (populous, profitable)    0.375         1.0   \n",
      "\n",
      "        lift  \n",
      "0   1.333333  \n",
      "5   1.333333  \n",
      "6   1.333333  \n",
      "8   1.333333  \n",
      "9   1.600000  \n",
      "10  1.333333  \n",
      "12  1.600000  \n"
     ]
    }
   ],
   "source": [
    "import pandas as pd\n",
    "from mlxtend.frequent_patterns import apriori, association_rules\n",
    "\n",
    "# Sample transaction data (one-hot encoded format)\n",
    "dataset = [\n",
    "    ['urban', 'populous', 'in-mall', 'profitable'],\n",
    "    ['populous', 'near-school', 'profitable'],\n",
    "    ['near-school'],\n",
    "    ['urban', 'populous', 'profitable'],\n",
    "    ['populous'], \n",
    "    ['urban', 'populous', 'profitable'],\n",
    "    ['populous', 'in-mall', 'profitable'],\n",
    "    ['in-mall', 'profitable']\n",
    "]\n",
    "\n",
    "# Convert to one-hot encoded DataFrame\n",
    "from mlxtend.preprocessing import TransactionEncoder\n",
    "\n",
    "te = TransactionEncoder()\n",
    "te_data = te.fit(dataset).transform(dataset)\n",
    "df = pd.DataFrame(te_data, columns=te.columns_)\n",
    "\n",
    "# Generate frequent itemsets\n",
    "frequent_itemsets = apriori(df, min_support=0.3, use_colnames=True)\n",
    "\n",
    "# Generate all association rules\n",
    "rules = association_rules(frequent_itemsets, metric=\"confidence\", min_threshold=0.0)\n",
    "\n",
    "# Apply dual thresholds: confidence >= 0.6 and lift >= 1.2\n",
    "filtered_rules = rules[(rules['confidence'] >= 0.6) & (rules['lift'] >= 1.2)]\n",
    "\n",
    "# Display the filtered rules\n",
    "print(\"Frequent Itemsets:\")\n",
    "print(frequent_itemsets)\n",
    "print(\"Rules:\")\n",
    "print(rules[['antecedents', 'consequents', 'support', 'confidence', 'lift']])\n",
    "print(\"Filtered Association Rules:\")\n",
    "print(filtered_rules[['antecedents', 'consequents', 'support', 'confidence', 'lift']])"
   ]
  },
  {
   "cell_type": "code",
   "execution_count": null,
   "id": "28d90229-743f-4986-8e95-3ed33a31bf70",
   "metadata": {},
   "outputs": [],
   "source": []
  },
  {
   "cell_type": "code",
   "execution_count": null,
   "id": "b005b5b9-20b3-4d2e-87cb-cc2c1349d6e4",
   "metadata": {},
   "outputs": [],
   "source": []
  }
 ],
 "metadata": {
  "kernelspec": {
   "display_name": "Python 3 (ipykernel)",
   "language": "python",
   "name": "python3"
  },
  "language_info": {
   "codemirror_mode": {
    "name": "ipython",
    "version": 3
   },
   "file_extension": ".py",
   "mimetype": "text/x-python",
   "name": "python",
   "nbconvert_exporter": "python",
   "pygments_lexer": "ipython3",
   "version": "3.10.7"
  }
 },
 "nbformat": 4,
 "nbformat_minor": 5
}
