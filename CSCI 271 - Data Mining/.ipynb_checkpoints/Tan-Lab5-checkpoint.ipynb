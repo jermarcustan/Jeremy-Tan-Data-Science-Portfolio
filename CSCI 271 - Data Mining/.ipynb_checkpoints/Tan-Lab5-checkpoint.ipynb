{
 "cells": [
  {
   "cell_type": "markdown",
   "id": "9a8a397f-1f8b-463f-b006-94d57f17c043",
   "metadata": {},
   "source": [
    "## Jeremy Marcus Tan - Lab 5"
   ]
  },
  {
   "cell_type": "code",
   "execution_count": 1,
   "id": "6d67e94f-65cb-4aeb-8774-f123f7d996e7",
   "metadata": {},
   "outputs": [],
   "source": [
    "import pandas as pd\n",
    "import numpy as np\n",
    "import sklearn"
   ]
  },
  {
   "cell_type": "markdown",
   "id": "e0cd0af2-adda-4841-916f-08d52286f973",
   "metadata": {},
   "source": [
    "## Ordinary Linear Regression"
   ]
  },
  {
   "cell_type": "code",
   "execution_count": 2,
   "id": "cf9231fc-080e-453b-a85b-a4afb87b4638",
   "metadata": {},
   "outputs": [],
   "source": [
    "train = pd.read_csv(\"Regression-Dataset.csv\")"
   ]
  },
  {
   "cell_type": "code",
   "execution_count": 3,
   "id": "abc90b49-c9af-44e9-bedf-d1a339399b94",
   "metadata": {},
   "outputs": [
    {
     "data": {
      "text/html": [
       "<div>\n",
       "<style scoped>\n",
       "    .dataframe tbody tr th:only-of-type {\n",
       "        vertical-align: middle;\n",
       "    }\n",
       "\n",
       "    .dataframe tbody tr th {\n",
       "        vertical-align: top;\n",
       "    }\n",
       "\n",
       "    .dataframe thead th {\n",
       "        text-align: right;\n",
       "    }\n",
       "</style>\n",
       "<table border=\"1\" class=\"dataframe\">\n",
       "  <thead>\n",
       "    <tr style=\"text-align: right;\">\n",
       "      <th></th>\n",
       "      <th>X1</th>\n",
       "      <th>X2</th>\n",
       "      <th>Y</th>\n",
       "    </tr>\n",
       "  </thead>\n",
       "  <tbody>\n",
       "    <tr>\n",
       "      <th>0</th>\n",
       "      <td>10</td>\n",
       "      <td>21.0</td>\n",
       "      <td>12.5</td>\n",
       "    </tr>\n",
       "    <tr>\n",
       "      <th>1</th>\n",
       "      <td>10</td>\n",
       "      <td>20.0</td>\n",
       "      <td>11.0</td>\n",
       "    </tr>\n",
       "    <tr>\n",
       "      <th>2</th>\n",
       "      <td>12</td>\n",
       "      <td>18.0</td>\n",
       "      <td>10.0</td>\n",
       "    </tr>\n",
       "    <tr>\n",
       "      <th>3</th>\n",
       "      <td>11</td>\n",
       "      <td>22.0</td>\n",
       "      <td>13.0</td>\n",
       "    </tr>\n",
       "    <tr>\n",
       "      <th>4</th>\n",
       "      <td>10</td>\n",
       "      <td>11.5</td>\n",
       "      <td>6.0</td>\n",
       "    </tr>\n",
       "    <tr>\n",
       "      <th>5</th>\n",
       "      <td>12</td>\n",
       "      <td>7.0</td>\n",
       "      <td>10.0</td>\n",
       "    </tr>\n",
       "    <tr>\n",
       "      <th>6</th>\n",
       "      <td>10</td>\n",
       "      <td>9.0</td>\n",
       "      <td>7.5</td>\n",
       "    </tr>\n",
       "    <tr>\n",
       "      <th>7</th>\n",
       "      <td>11</td>\n",
       "      <td>10.0</td>\n",
       "      <td>7.0</td>\n",
       "    </tr>\n",
       "    <tr>\n",
       "      <th>8</th>\n",
       "      <td>10</td>\n",
       "      <td>2.0</td>\n",
       "      <td>2.0</td>\n",
       "    </tr>\n",
       "    <tr>\n",
       "      <th>9</th>\n",
       "      <td>12</td>\n",
       "      <td>3.0</td>\n",
       "      <td>2.0</td>\n",
       "    </tr>\n",
       "    <tr>\n",
       "      <th>10</th>\n",
       "      <td>10</td>\n",
       "      <td>3.0</td>\n",
       "      <td>2.5</td>\n",
       "    </tr>\n",
       "    <tr>\n",
       "      <th>11</th>\n",
       "      <td>11</td>\n",
       "      <td>4.0</td>\n",
       "      <td>2.5</td>\n",
       "    </tr>\n",
       "  </tbody>\n",
       "</table>\n",
       "</div>"
      ],
      "text/plain": [
       "    X1    X2     Y\n",
       "0   10  21.0  12.5\n",
       "1   10  20.0  11.0\n",
       "2   12  18.0  10.0\n",
       "3   11  22.0  13.0\n",
       "4   10  11.5   6.0\n",
       "5   12   7.0  10.0\n",
       "6   10   9.0   7.5\n",
       "7   11  10.0   7.0\n",
       "8   10   2.0   2.0\n",
       "9   12   3.0   2.0\n",
       "10  10   3.0   2.5\n",
       "11  11   4.0   2.5"
      ]
     },
     "execution_count": 3,
     "metadata": {},
     "output_type": "execute_result"
    }
   ],
   "source": [
    "train"
   ]
  },
  {
   "cell_type": "code",
   "execution_count": 4,
   "id": "ba007aa8-dae4-42f1-816a-601444858809",
   "metadata": {},
   "outputs": [],
   "source": [
    "X_train = train[[\"X1\", \"X2\"]]\n",
    "Y_train = train[\"Y\"]"
   ]
  },
  {
   "cell_type": "code",
   "execution_count": 5,
   "id": "a5293aec-61c4-4fd5-8e56-b289ca5f5c16",
   "metadata": {},
   "outputs": [],
   "source": [
    "test = pd.DataFrame([[10,19,9.5],[11,8,7],[12,2.5,2]], columns=['X1','X2','Y'])"
   ]
  },
  {
   "cell_type": "code",
   "execution_count": 6,
   "id": "b50d0575-6aec-4b2b-bd0f-c9446b989de6",
   "metadata": {},
   "outputs": [
    {
     "data": {
      "text/html": [
       "<div>\n",
       "<style scoped>\n",
       "    .dataframe tbody tr th:only-of-type {\n",
       "        vertical-align: middle;\n",
       "    }\n",
       "\n",
       "    .dataframe tbody tr th {\n",
       "        vertical-align: top;\n",
       "    }\n",
       "\n",
       "    .dataframe thead th {\n",
       "        text-align: right;\n",
       "    }\n",
       "</style>\n",
       "<table border=\"1\" class=\"dataframe\">\n",
       "  <thead>\n",
       "    <tr style=\"text-align: right;\">\n",
       "      <th></th>\n",
       "      <th>X1</th>\n",
       "      <th>X2</th>\n",
       "      <th>Y</th>\n",
       "    </tr>\n",
       "  </thead>\n",
       "  <tbody>\n",
       "    <tr>\n",
       "      <th>0</th>\n",
       "      <td>10</td>\n",
       "      <td>19.0</td>\n",
       "      <td>9.5</td>\n",
       "    </tr>\n",
       "    <tr>\n",
       "      <th>1</th>\n",
       "      <td>11</td>\n",
       "      <td>8.0</td>\n",
       "      <td>7.0</td>\n",
       "    </tr>\n",
       "    <tr>\n",
       "      <th>2</th>\n",
       "      <td>12</td>\n",
       "      <td>2.5</td>\n",
       "      <td>2.0</td>\n",
       "    </tr>\n",
       "  </tbody>\n",
       "</table>\n",
       "</div>"
      ],
      "text/plain": [
       "   X1    X2    Y\n",
       "0  10  19.0  9.5\n",
       "1  11   8.0  7.0\n",
       "2  12   2.5  2.0"
      ]
     },
     "execution_count": 6,
     "metadata": {},
     "output_type": "execute_result"
    }
   ],
   "source": [
    "test"
   ]
  },
  {
   "cell_type": "code",
   "execution_count": 7,
   "id": "527560a1-f9b8-4c07-a154-005928f0b1d8",
   "metadata": {},
   "outputs": [],
   "source": [
    "X_test = test[[\"X1\", \"X2\"]]\n",
    "Y_test = test[\"Y\"]"
   ]
  },
  {
   "cell_type": "code",
   "execution_count": 8,
   "id": "21a36e81-2011-4132-a4e6-7f2650c59037",
   "metadata": {},
   "outputs": [],
   "source": [
    "from sklearn.linear_model import LinearRegression\n",
    "reg = LinearRegression().fit(X_train, Y_train)"
   ]
  },
  {
   "cell_type": "code",
   "execution_count": 9,
   "id": "eb471ef5-4d79-4c4c-a275-285206f08d2a",
   "metadata": {},
   "outputs": [
    {
     "data": {
      "text/plain": [
       "0.8490883911317314"
      ]
     },
     "execution_count": 9,
     "metadata": {},
     "output_type": "execute_result"
    }
   ],
   "source": [
    "# Model Score r^2\n",
    "reg.score(X_train,Y_train)"
   ]
  },
  {
   "cell_type": "code",
   "execution_count": 10,
   "id": "db1bf64e-ba46-4e6a-be7d-83d017d1ff96",
   "metadata": {},
   "outputs": [
    {
     "data": {
      "text/plain": [
       "array([0.60500993, 0.50916287])"
      ]
     },
     "execution_count": 10,
     "metadata": {},
     "output_type": "execute_result"
    }
   ],
   "source": [
    "reg.coef_"
   ]
  },
  {
   "cell_type": "code",
   "execution_count": 11,
   "id": "a21f3990-3e66-4a25-b385-dac0dbfd0226",
   "metadata": {},
   "outputs": [
    {
     "data": {
      "text/plain": [
       "-4.87433628675639"
      ]
     },
     "execution_count": 11,
     "metadata": {},
     "output_type": "execute_result"
    }
   ],
   "source": [
    "reg.intercept_"
   ]
  },
  {
   "cell_type": "code",
   "execution_count": 12,
   "id": "0c53b3b9-356f-4eb2-bf07-e17514f095b0",
   "metadata": {},
   "outputs": [
    {
     "name": "stdout",
     "output_type": "stream",
     "text": [
      "Sum of Squared Errors (SSE) in train set: 28.924725033084805\n"
     ]
    }
   ],
   "source": [
    "# SSE (Sum of Squared Errors)\n",
    "\n",
    "Y_pred = reg.predict(X_train)\n",
    "\n",
    "residuals = Y_train - Y_pred\n",
    "\n",
    "sse = np.sum(residuals**2)\n",
    "\n",
    "print(f\"Sum of Squared Errors (SSE) in train set: {sse}\")"
   ]
  },
  {
   "cell_type": "code",
   "execution_count": 13,
   "id": "27bcbbea-fd11-4a08-ae54-fe3a317bd41a",
   "metadata": {},
   "outputs": [
    {
     "data": {
      "text/plain": [
       "0.7981767974357739"
      ]
     },
     "execution_count": 13,
     "metadata": {},
     "output_type": "execute_result"
    }
   ],
   "source": [
    "reg.score(X_test, Y_test)"
   ]
  },
  {
   "cell_type": "code",
   "execution_count": 14,
   "id": "047a8e6f-f714-4686-aa1e-3cc40dae1049",
   "metadata": {},
   "outputs": [
    {
     "name": "stdout",
     "output_type": "stream",
     "text": [
      "Sum of Squared Errors (SSE) in test set: 5.886510074789931\n"
     ]
    }
   ],
   "source": [
    "# SSE (Sum of Squared Errors)\n",
    "\n",
    "Y_pred = reg.predict(X_test)\n",
    "\n",
    "residuals = Y_test - Y_pred\n",
    "\n",
    "sse = np.sum(residuals**2)\n",
    "\n",
    "print(f\"Sum of Squared Errors (SSE) in test set: {sse}\")"
   ]
  },
  {
   "cell_type": "markdown",
   "id": "07f85053-d0b7-48c0-8840-2835a9f40640",
   "metadata": {},
   "source": [
    "## Lasso Regression"
   ]
  },
  {
   "cell_type": "code",
   "execution_count": 15,
   "id": "07b7edb7-35f0-49db-a669-641c77cdb3d6",
   "metadata": {},
   "outputs": [],
   "source": [
    "from sklearn import linear_model\n",
    "\n",
    "lasso = linear_model.Lasso().fit(X_train, Y_train)\n"
   ]
  },
  {
   "cell_type": "code",
   "execution_count": 16,
   "id": "fd033ae9-24fb-4392-b628-8bae56b6c813",
   "metadata": {},
   "outputs": [
    {
     "data": {
      "text/plain": [
       "0.832245075755942"
      ]
     },
     "execution_count": 16,
     "metadata": {},
     "output_type": "execute_result"
    }
   ],
   "source": [
    "lasso.score(X_train, Y_train)"
   ]
  },
  {
   "cell_type": "code",
   "execution_count": 17,
   "id": "cb01fb32-8b2f-44a8-8954-c7bf14f282cc",
   "metadata": {},
   "outputs": [
    {
     "data": {
      "text/plain": [
       "array([0.        , 0.48447575])"
      ]
     },
     "execution_count": 17,
     "metadata": {},
     "output_type": "execute_result"
    }
   ],
   "source": [
    "lasso.coef_\n"
   ]
  },
  {
   "cell_type": "markdown",
   "id": "ee70dac1-d5a6-4f1a-a84a-5f17cf1c4676",
   "metadata": {},
   "source": [
    "Because lasso regression penalizes the absolute value of the coefficients, the first coefficient in the regression equation was set to zero."
   ]
  },
  {
   "cell_type": "code",
   "execution_count": 18,
   "id": "d5a5cd02-e405-4f17-baea-88b35aeec9d9",
   "metadata": {},
   "outputs": [
    {
     "data": {
      "text/plain": [
       "1.8979929239824092"
      ]
     },
     "execution_count": 18,
     "metadata": {},
     "output_type": "execute_result"
    }
   ],
   "source": [
    "lasso.intercept_"
   ]
  },
  {
   "cell_type": "code",
   "execution_count": 19,
   "id": "03a8a773-b46f-49ff-a99d-f99c177a66d4",
   "metadata": {},
   "outputs": [
    {
     "name": "stdout",
     "output_type": "stream",
     "text": [
      "Sum of Squared Errors (SSE) in train set: 32.153027146777774\n"
     ]
    }
   ],
   "source": [
    "# SSE (Sum of Squared Errors)\n",
    "\n",
    "Y_pred = lasso.predict(X_train)\n",
    "\n",
    "residuals = Y_train - Y_pred\n",
    "\n",
    "sse = np.sum(residuals**2)\n",
    "\n",
    "print(f\"Sum of Squared Errors (SSE) in train set: {sse}\")"
   ]
  },
  {
   "cell_type": "code",
   "execution_count": 20,
   "id": "99daf018-f7ea-4485-ada2-d6d2a958093a",
   "metadata": {},
   "outputs": [
    {
     "data": {
      "text/plain": [
       "0.8181634364830499"
      ]
     },
     "execution_count": 20,
     "metadata": {},
     "output_type": "execute_result"
    }
   ],
   "source": [
    "lasso.score(X_test, Y_test)"
   ]
  },
  {
   "cell_type": "code",
   "execution_count": 21,
   "id": "35e25e30-3e4f-4970-b54c-ff5e38c6ca2f",
   "metadata": {},
   "outputs": [
    {
     "name": "stdout",
     "output_type": "stream",
     "text": [
      "Sum of Squared Errors (SSE) in test set: 5.303566435911046\n"
     ]
    }
   ],
   "source": [
    "# SSE (Sum of Squared Errors)\n",
    "\n",
    "Y_pred = lasso.predict(X_test)\n",
    "\n",
    "residuals = Y_test - Y_pred\n",
    "\n",
    "sse = np.sum(residuals**2)\n",
    "\n",
    "print(f\"Sum of Squared Errors (SSE) in test set: {sse}\")"
   ]
  },
  {
   "cell_type": "markdown",
   "id": "c3aa8951-c25b-498d-96c5-205d3d1d6409",
   "metadata": {},
   "source": [
    "## Ridge Regression"
   ]
  },
  {
   "cell_type": "code",
   "execution_count": 22,
   "id": "7de9cb6b-50b6-4a60-853f-8792e4504cd8",
   "metadata": {},
   "outputs": [],
   "source": [
    "ridge = linear_model.Ridge().fit(X_train, Y_train)\n"
   ]
  },
  {
   "cell_type": "code",
   "execution_count": 23,
   "id": "10fda198-0d65-4bdf-a8e7-4d1fe40a4356",
   "metadata": {},
   "outputs": [
    {
     "data": {
      "text/plain": [
       "0.8488982444568584"
      ]
     },
     "execution_count": 23,
     "metadata": {},
     "output_type": "execute_result"
    }
   ],
   "source": [
    "ridge.score(X_train, Y_train)"
   ]
  },
  {
   "cell_type": "code",
   "execution_count": 24,
   "id": "8882aa93-dd15-44d4-8c2c-a1a34777b379",
   "metadata": {},
   "outputs": [
    {
     "data": {
      "text/plain": [
       "array([0.53869891, 0.5077387 ])"
      ]
     },
     "execution_count": 24,
     "metadata": {},
     "output_type": "execute_result"
    }
   ],
   "source": [
    "ridge.coef_"
   ]
  },
  {
   "cell_type": "markdown",
   "id": "92ebf824-8c22-4000-af6d-2c5384f5ead2",
   "metadata": {},
   "source": [
    "Because ridge regression penalizes the sum of squared coefficients, both coefficients in the regression equation are nonzero."
   ]
  },
  {
   "cell_type": "code",
   "execution_count": 25,
   "id": "8cfce9de-eb8f-42d5-b79b-99dcf4c985f4",
   "metadata": {},
   "outputs": [
    {
     "data": {
      "text/plain": [
       "-4.146004990396176"
      ]
     },
     "execution_count": 25,
     "metadata": {},
     "output_type": "execute_result"
    }
   ],
   "source": [
    "ridge.intercept_"
   ]
  },
  {
   "cell_type": "code",
   "execution_count": 26,
   "id": "65d94e80-6bf8-458a-8ed0-dafdb48bb552",
   "metadata": {},
   "outputs": [
    {
     "name": "stdout",
     "output_type": "stream",
     "text": [
      "Sum of Squared Errors (SSE) in train set: 28.961169812435482\n"
     ]
    }
   ],
   "source": [
    "# SSE (Sum of Squared Errors)\n",
    "\n",
    "Y_pred = ridge.predict(X_train)\n",
    "\n",
    "residuals = Y_train - Y_pred\n",
    "\n",
    "sse = np.sum(residuals**2)\n",
    "\n",
    "print(f\"Sum of Squared Errors (SSE) in train set: {sse}\")"
   ]
  },
  {
   "cell_type": "code",
   "execution_count": 27,
   "id": "ee9c2b70-96b9-41a9-b74e-94e89573c7a4",
   "metadata": {},
   "outputs": [
    {
     "data": {
      "text/plain": [
       "0.8015066988120539"
      ]
     },
     "execution_count": 27,
     "metadata": {},
     "output_type": "execute_result"
    }
   ],
   "source": [
    "ridge.score(X_test, Y_test)"
   ]
  },
  {
   "cell_type": "code",
   "execution_count": 29,
   "id": "bbb7f054-56d8-4b79-94c9-815914743411",
   "metadata": {},
   "outputs": [
    {
     "name": "stdout",
     "output_type": "stream",
     "text": [
      "Sum of Squared Errors (SSE) in test set: 5.789387951315094\n"
     ]
    }
   ],
   "source": [
    "# SSE (Sum of Squared Errors)\n",
    "\n",
    "Y_pred = ridge.predict(X_test)\n",
    "\n",
    "residuals = Y_test - Y_pred\n",
    "\n",
    "sse = np.sum(residuals**2)\n",
    "\n",
    "print(f\"Sum of Squared Errors (SSE) in test set: {sse}\")"
   ]
  },
  {
   "cell_type": "markdown",
   "id": "e084897f-1b92-470f-bb5d-f2c9b6183e88",
   "metadata": {},
   "source": [
    "## Decision Tree Regression"
   ]
  },
  {
   "cell_type": "code",
   "execution_count": 30,
   "id": "8a3e0c16-916d-48c1-ac5c-11a50682040d",
   "metadata": {},
   "outputs": [],
   "source": [
    "from sklearn.tree import DecisionTreeRegressor\n",
    "from sklearn import tree"
   ]
  },
  {
   "cell_type": "code",
   "execution_count": 31,
   "id": "ce7f5f11-56ba-49e9-82df-0e38dcaff3b7",
   "metadata": {},
   "outputs": [
    {
     "data": {
      "text/plain": [
       "0.7567391304347826"
      ]
     },
     "execution_count": 31,
     "metadata": {},
     "output_type": "execute_result"
    }
   ],
   "source": [
    "tree_1 = DecisionTreeRegressor(max_depth = 1).fit(X_train, Y_train)\n",
    "\n",
    "tree_1.score(X_train, Y_train)"
   ]
  },
  {
   "cell_type": "code",
   "execution_count": 32,
   "id": "8d2ffa63-4f5a-453c-852d-714ddd5360fa",
   "metadata": {},
   "outputs": [
    {
     "data": {
      "text/plain": [
       "0.7610714285714286"
      ]
     },
     "execution_count": 32,
     "metadata": {},
     "output_type": "execute_result"
    }
   ],
   "source": [
    "tree_1.score(X_test, Y_test)"
   ]
  },
  {
   "cell_type": "code",
   "execution_count": 33,
   "id": "bbde7cb1-f997-4599-bf92-2c0093130276",
   "metadata": {},
   "outputs": [
    {
     "name": "stdout",
     "output_type": "stream",
     "text": [
      "|--- feature_1 <= 5.50\n",
      "|   |--- value: [2.25]\n",
      "|--- feature_1 >  5.50\n",
      "|   |--- value: [9.62]\n",
      "\n"
     ]
    }
   ],
   "source": [
    "print(tree.export_text(tree_1))"
   ]
  },
  {
   "cell_type": "code",
   "execution_count": 34,
   "id": "458fd169-f710-4502-92e2-605247462928",
   "metadata": {},
   "outputs": [],
   "source": [
    "tree_2 = DecisionTreeRegressor(max_depth = 2).fit(X_train, Y_train)"
   ]
  },
  {
   "cell_type": "code",
   "execution_count": 35,
   "id": "2bae2648-79f4-4fcd-afb4-6d3ecac572c1",
   "metadata": {},
   "outputs": [
    {
     "data": {
      "text/plain": [
       "0.9241304347826087"
      ]
     },
     "execution_count": 35,
     "metadata": {},
     "output_type": "execute_result"
    }
   ],
   "source": [
    "tree_2.score(X_train, Y_train)"
   ]
  },
  {
   "cell_type": "code",
   "execution_count": 36,
   "id": "ecd7d54e-6ecb-4070-a252-717ec9012fa2",
   "metadata": {},
   "outputs": [
    {
     "data": {
      "text/plain": [
       "0.8308333333333333"
      ]
     },
     "execution_count": 36,
     "metadata": {},
     "output_type": "execute_result"
    }
   ],
   "source": [
    "tree_2.score(X_test, Y_test)"
   ]
  },
  {
   "cell_type": "code",
   "execution_count": 37,
   "id": "d5e0ed5a-3e7e-47b5-884d-554bc8fd9848",
   "metadata": {},
   "outputs": [
    {
     "name": "stdout",
     "output_type": "stream",
     "text": [
      "|--- feature_1 <= 5.50\n",
      "|   |--- feature_1 <= 3.50\n",
      "|   |   |--- value: [2.17]\n",
      "|   |--- feature_1 >  3.50\n",
      "|   |   |--- value: [2.50]\n",
      "|--- feature_1 >  5.50\n",
      "|   |--- feature_1 <= 14.75\n",
      "|   |   |--- value: [7.62]\n",
      "|   |--- feature_1 >  14.75\n",
      "|   |   |--- value: [11.62]\n",
      "\n"
     ]
    }
   ],
   "source": [
    "print(tree.export_text(tree_2))"
   ]
  },
  {
   "cell_type": "code",
   "execution_count": null,
   "id": "22fc9676-00e2-4114-96df-91130a1ca9c3",
   "metadata": {},
   "outputs": [],
   "source": []
  },
  {
   "cell_type": "code",
   "execution_count": null,
   "id": "8ff5e572-44f9-4dcf-b025-55a45b293a78",
   "metadata": {},
   "outputs": [],
   "source": []
  }
 ],
 "metadata": {
  "kernelspec": {
   "display_name": "Python 3 (ipykernel)",
   "language": "python",
   "name": "python3"
  },
  "language_info": {
   "codemirror_mode": {
    "name": "ipython",
    "version": 3
   },
   "file_extension": ".py",
   "mimetype": "text/x-python",
   "name": "python",
   "nbconvert_exporter": "python",
   "pygments_lexer": "ipython3",
   "version": "3.10.7"
  }
 },
 "nbformat": 4,
 "nbformat_minor": 5
}
