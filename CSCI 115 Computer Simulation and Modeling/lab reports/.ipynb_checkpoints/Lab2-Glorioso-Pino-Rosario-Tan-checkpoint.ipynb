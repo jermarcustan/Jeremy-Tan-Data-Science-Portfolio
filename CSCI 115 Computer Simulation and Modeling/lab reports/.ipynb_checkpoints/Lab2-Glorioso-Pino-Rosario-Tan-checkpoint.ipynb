{
 "cells": [
  {
   "cell_type": "code",
   "execution_count": 9,
   "id": "9980813b",
   "metadata": {},
   "outputs": [],
   "source": [
    "import numpy as np\n",
    "\n",
    "class MarkovChainLab:\n",
    "  # Class constructor\n",
    "  def __init__(self, transitionMatrix, stateLabels):\n",
    "\n",
    "    # Define transition matrix attribute\n",
    "    self.transitionMatrix = transitionMatrix\n",
    "\n",
    "    # Calculating absorption probabilities requires a transition matrix with column sums != 1.\n",
    "\n",
    "    # Exception for non-column stochastic transition matrix\n",
    "    # for col_sum in np.sum(numpy_array, axis=0):\n",
    "    #  raise ValueError if col_sum != 1\n",
    "\n",
    "    # Define state labels attribute\n",
    "    self.stateLabels = stateLabels\n",
    "\n",
    "    # Define index mapping attribute\n",
    "    dimension = len(transitionMatrix)\n",
    "    self.indexMap = {}\n",
    "    for i in range(dimension):\n",
    "      self.indexMap[str(self.stateLabels[i])]=i\n",
    "\n",
    "    # Define S attribute (inverse matrix of I - A)\n",
    "    self.S = np.linalg.inv(np.subtract(np.identity(dimension), self.transitionMatrix))\n",
    "\n",
    "  def get(self,state):\n",
    "      return self.transitionMatrix[self.indexMap[state]]\n",
    "\n",
    "  def getS(self,state):\n",
    "      return self.S[self.indexMap[state]]\n",
    "    \n",
    "\n",
    "reopeningMarkov = MarkovChainLab(\n",
    "    transitionMatrix = np.array([\n",
    "      [0.00,0.00,0.00,0.00,0.00,0.00,0.00],\n",
    "      [0.05,0.70,0.00,0.00,0.00,0.50,0.00],\n",
    "      [0.35,0.20,0.80,0.00,0.10,0.00,0.00],\n",
    "      [0.60,0.00,0.00,0.80,0.10,0.00,0.00],\n",
    "      [0.00,0.05,0.00,0.00,0.70,0.00,0.70],\n",
    "      [0.00,0.00,0.05,0.05,0.00,0.30,0.10],\n",
    "      [0.00,0.00,0.05,0.05,0.00,0.00,0.00]\n",
    "    ]),\n",
    "    stateLabels = np.array([\n",
    "      'arrival', \n",
    "      'isolation',\n",
    "      'face_to_face',\n",
    "      'online_course',\n",
    "      'suspension',\n",
    "      'undetected_infection',\n",
    "      'undetected_violation'\n",
    "    ])\n",
    "    )"
   ]
  },
  {
   "cell_type": "code",
   "execution_count": 10,
   "id": "0c7ee138",
   "metadata": {},
   "outputs": [
    {
     "data": {
      "text/plain": [
       "array([0.35, 0.2 , 0.8 , 0.  , 0.1 , 0.  , 0.  ])"
      ]
     },
     "execution_count": 10,
     "metadata": {},
     "output_type": "execute_result"
    }
   ],
   "source": [
    "reopeningMarkov.get(\"face_to_face\")"
   ]
  },
  {
   "cell_type": "code",
   "execution_count": 11,
   "id": "eab0fb0f",
   "metadata": {},
   "outputs": [
    {
     "data": {
      "text/plain": [
       "array([[1.        , 0.        , 0.        , 0.        , 0.        ,\n",
       "        0.        , 0.        ],\n",
       "       [1.05296035, 4.03041825, 0.89625204, 0.89625204, 0.59750136,\n",
       "        2.87887018, 0.70613797],\n",
       "       [3.28551059, 4.67680608, 6.37017925, 1.37017925, 2.5801195 ,\n",
       "        3.34057577, 2.14014123],\n",
       "       [3.48255024, 0.64638783, 0.47392721, 5.47392721, 1.98261814,\n",
       "        0.46170559, 1.43400326],\n",
       "       [0.96510049, 1.29277567, 0.94785443, 0.94785443, 3.96523628,\n",
       "        0.92341119, 2.86800652],\n",
       "       [0.53177621, 0.41825095, 0.53775122, 0.53775122, 0.35850081,\n",
       "        1.72732211, 0.42368278],\n",
       "       [0.33840304, 0.2661597 , 0.34220532, 0.34220532, 0.22813688,\n",
       "        0.19011407, 1.17870722]])"
      ]
     },
     "execution_count": 11,
     "metadata": {},
     "output_type": "execute_result"
    }
   ],
   "source": [
    "reopeningMarkov.S"
   ]
  },
  {
   "cell_type": "code",
   "execution_count": 13,
   "id": "31ef0e77",
   "metadata": {},
   "outputs": [
    {
     "data": {
      "text/plain": [
       "array([0.35, 0.2 , 0.8 , 0.  , 0.1 , 0.  , 0.  ])"
      ]
     },
     "execution_count": 13,
     "metadata": {},
     "output_type": "execute_result"
    }
   ],
   "source": [
    "reopeningMarkov.transitionMatrix[2]"
   ]
  },
  {
   "cell_type": "code",
   "execution_count": 14,
   "id": "3790db7f",
   "metadata": {},
   "outputs": [],
   "source": [
    "# Define matrix B\n",
    "B = np.array([\n",
    "    [0.00,0.05,0.00,0.00,0.10,0.00,0.20],\n",
    "    [0.00,0.00,0.10,0.10,0.00,0.20,0.00]\n",
    "])\n",
    "\n",
    "# Pre-multiply B to S to generate G\n",
    "G = np.round(np.matmul(B, reopeningMarkov.S),3)"
   ]
  },
  {
   "cell_type": "code",
   "execution_count": 15,
   "id": "da0adaac",
   "metadata": {},
   "outputs": [
    {
     "data": {
      "text/plain": [
       "array([[0.217, 0.384, 0.208, 0.208, 0.472, 0.274, 0.558],\n",
       "       [0.783, 0.616, 0.792, 0.792, 0.528, 0.726, 0.442]])"
      ]
     },
     "execution_count": 15,
     "metadata": {},
     "output_type": "execute_result"
    }
   ],
   "source": [
    "G\n",
    "# first row corresponds to the probability of getting expelled\n",
    "# second row corresponds to the probability of completing the sem"
   ]
  },
  {
   "cell_type": "code",
   "execution_count": null,
   "id": "91be3939",
   "metadata": {},
   "outputs": [],
   "source": []
  }
 ],
 "metadata": {
  "kernelspec": {
   "display_name": "Python 3 (ipykernel)",
   "language": "python",
   "name": "python3"
  },
  "language_info": {
   "codemirror_mode": {
    "name": "ipython",
    "version": 3
   },
   "file_extension": ".py",
   "mimetype": "text/x-python",
   "name": "python",
   "nbconvert_exporter": "python",
   "pygments_lexer": "ipython3",
   "version": "3.9.7"
  }
 },
 "nbformat": 4,
 "nbformat_minor": 5
}
