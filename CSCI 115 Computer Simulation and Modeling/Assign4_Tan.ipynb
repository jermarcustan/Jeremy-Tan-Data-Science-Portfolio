{
 "cells": [
  {
   "cell_type": "markdown",
   "id": "a37c305a",
   "metadata": {},
   "source": [
    "Name: Jeremy Tan <br>\n",
    "ID: 204947 <br>\n",
    "Date Accomplished: March 8, 2022"
   ]
  },
  {
   "cell_type": "code",
   "execution_count": 2,
   "id": "5ec7742a",
   "metadata": {},
   "outputs": [],
   "source": [
    "import numpy as np"
   ]
  },
  {
   "cell_type": "markdown",
   "id": "5f34fd76",
   "metadata": {},
   "source": [
    "### Problem A"
   ]
  },
  {
   "cell_type": "markdown",
   "id": "4e38468e",
   "metadata": {},
   "source": [
    "Let  denote the quality of the n-th item produced by a production system with X<sub>n</sub> = 0  meaning \"good\" and  X<sub>n</sub> = 1 meaning \"defective\".  Suppose that  evolves as a Markov chain whose transition probability matrix is given by the following:\n",
    "\n",
    "\n"
   ]
  },
  {
   "cell_type": "code",
   "execution_count": 3,
   "id": "e1f9f0b0",
   "metadata": {},
   "outputs": [
    {
     "data": {
      "text/plain": [
       "array([[0.99, 0.12],\n",
       "       [0.01, 0.88]])"
      ]
     },
     "execution_count": 3,
     "metadata": {},
     "output_type": "execute_result"
    }
   ],
   "source": [
    "A = [[0.99, 0.12], [0.01, 0.88]]\n",
    "A = np.array(A)\n",
    "A"
   ]
  },
  {
   "cell_type": "markdown",
   "id": "6241ecc7",
   "metadata": {},
   "source": [
    "What is the probability that the 20th item is defective given that the first item is defective? Simulate."
   ]
  },
  {
   "cell_type": "code",
   "execution_count": 4,
   "id": "7813fb3a",
   "metadata": {
    "scrolled": false
   },
   "outputs": [
    {
     "name": "stdout",
     "output_type": "stream",
     "text": [
      "[[0.85759767]\n",
      " [0.14240233]]\n"
     ]
    }
   ],
   "source": [
    "def production(number):\n",
    "    x = np.array([[0], [1]]) # state distribution vector: the first item is defective\n",
    "    for i in range(1,number):\n",
    "        x = np.matmul(A,x) # Matrix Multiplication\n",
    "    return x\n",
    "print(production(20)) # until the 20th item"
   ]
  },
  {
   "cell_type": "code",
   "execution_count": 5,
   "id": "4ceaa4ac",
   "metadata": {},
   "outputs": [
    {
     "name": "stdout",
     "output_type": "stream",
     "text": [
      "14.240232649180864\n"
     ]
    }
   ],
   "source": [
    "print(production(20)[1,0]*100)"
   ]
  },
  {
   "cell_type": "markdown",
   "id": "76755e8a",
   "metadata": {},
   "source": [
    "<p style=\"font-size:16px\">There is a <b>14.24%</b> chance the 20th item is defective.</p> \n",
    "<p style=\"font-size:16px\">Note: The first item out of twenty was the initial defective item.</p>"
   ]
  },
  {
   "cell_type": "markdown",
   "id": "8db59b1a",
   "metadata": {},
   "source": [
    "### Problem B"
   ]
  },
  {
   "cell_type": "markdown",
   "id": "cdd88314",
   "metadata": {},
   "source": [
    "A bus in a mass transit system is operating on a continuous route with intermediate stops.  The arrival of the bus at a stop is classified into one of three states, namely early arrival, on-time arrival, and late arrival. \n",
    "\n",
    "Suppose that the successive states form a Markov chain with transition probability matrix"
   ]
  },
  {
   "cell_type": "code",
   "execution_count": 6,
   "id": "6f3578a5",
   "metadata": {},
   "outputs": [
    {
     "data": {
      "text/plain": [
       "array([[0.5, 0.2, 0.1],\n",
       "       [0.4, 0.5, 0.2],\n",
       "       [0.1, 0.3, 0.7]])"
      ]
     },
     "execution_count": 6,
     "metadata": {},
     "output_type": "execute_result"
    }
   ],
   "source": [
    "A = [[0.5,0.2,0.1], [0.4,0.5,0.2], [0.1,0.3,0.7]]\n",
    "A = np.array(A)\n",
    "A"
   ]
  },
  {
   "cell_type": "markdown",
   "id": "5ff8bcb3",
   "metadata": {},
   "source": [
    "Over a long period of time, what fraction of stops can be expected to be late? Simulate."
   ]
  },
  {
   "cell_type": "markdown",
   "id": "af82ba7c",
   "metadata": {},
   "source": [
    "I'm looking for the convergent transition matrix of A. As the number of iterations, <b>k</b>, approaches infinity, A<sup>k</sup> converges to a value."
   ]
  },
  {
   "cell_type": "markdown",
   "id": "e86243b1",
   "metadata": {},
   "source": [
    "Each step in the markov chain is defined by the matrix A multiplied by itself."
   ]
  },
  {
   "cell_type": "code",
   "execution_count": 20,
   "id": "313fc288",
   "metadata": {},
   "outputs": [
    {
     "name": "stdout",
     "output_type": "stream",
     "text": [
      "[[0.225 0.225 0.225]\n",
      " [0.35  0.35  0.35 ]\n",
      " [0.425 0.425 0.425]]\n"
     ]
    }
   ],
   "source": [
    "def bus(k):\n",
    "    x = np.matmul(A,A) # state distribution vector\n",
    "    for i in range(1,k): \n",
    "        x = np.matmul(A,x)\n",
    "    return x\n",
    "print(bus(100)) # we take 100 iterations to simulate a long period of time"
   ]
  },
  {
   "cell_type": "code",
   "execution_count": 32,
   "id": "4e2ce4ba",
   "metadata": {},
   "outputs": [
    {
     "data": {
      "text/plain": [
       "array([[0.225],\n",
       "       [0.35 ],\n",
       "       [0.425]])"
      ]
     },
     "execution_count": 32,
     "metadata": {},
     "output_type": "execute_result"
    }
   ],
   "source": [
    "bus(100)[:,[0]] # the third row corresponds to the probability of being late"
   ]
  },
  {
   "cell_type": "markdown",
   "id": "c8cd3573",
   "metadata": {},
   "source": [
    "<p style=\"font-size:16px\">Over a long period of time, around 42.5% or <b>17 out of every 40</b> of the bus's stops will be late.</p>"
   ]
  }
 ],
 "metadata": {
  "kernelspec": {
   "display_name": "Python 3 (ipykernel)",
   "language": "python",
   "name": "python3"
  },
  "language_info": {
   "codemirror_mode": {
    "name": "ipython",
    "version": 3
   },
   "file_extension": ".py",
   "mimetype": "text/x-python",
   "name": "python",
   "nbconvert_exporter": "python",
   "pygments_lexer": "ipython3",
   "version": "3.9.7"
  }
 },
 "nbformat": 4,
 "nbformat_minor": 5
}
