{
 "cells": [
  {
   "cell_type": "code",
   "execution_count": 1,
   "metadata": {},
   "outputs": [],
   "source": [
    "%%capture\n",
    "%run Algorithms_LinearSystems_MatrixFactorizations.ipynb"
   ]
  },
  {
   "cell_type": "code",
   "execution_count": 2,
   "metadata": {},
   "outputs": [],
   "source": [
    "%%capture\n",
    "import import_ipynb\n",
    "from Algorithms_LinearSystems_MatrixFactorizations import *"
   ]
  },
  {
   "cell_type": "markdown",
   "metadata": {},
   "source": [
    "## Test Data"
   ]
  },
  {
   "cell_type": "code",
   "execution_count": 3,
   "metadata": {},
   "outputs": [
    {
     "name": "stdout",
     "output_type": "stream",
     "text": [
      "\n",
      "\n",
      " det(H) =  3.7492951325081676e-12 \n",
      "\n",
      " b =  [1.18809594 0.6877048  0.49665704 0.3921148  0.32519145] \n",
      "\n",
      " True x = [0.79075338 0.36958336 0.17132411 0.38796912 0.29225283] \n",
      "\n",
      " Solved x = [0.79075338 0.36958336 0.17132411 0.38796912 0.29225283]\n",
      "\n",
      "\n",
      " |true x - solved x| = [0, 0, 0, 0, 0]\n"
     ]
    }
   ],
   "source": [
    "# Computations with Hilbert Matrices\n",
    "\n",
    "def HilbertMatrix(n):    \n",
    "    H = np.zeros((n, n))\n",
    "    for i in range(n):\n",
    "        for j in range(n):\n",
    "            H[i, j] = 1/(i + j + 1)\n",
    "    return H   \n",
    "\n",
    "n = 5\n",
    "H = HilbertMatrix(n)\n",
    "detH = np.linalg.det(H)\n",
    "truex = np.random.rand(n, 1)\n",
    "b = H@truex\n",
    "solvedx = solveLinearSystemGaussian(H, b)\n",
    "\n",
    "print(\"\\n\\n det(H) = \", detH, \"\\n\\n b = \", b.flatten(), \"\\n\\n True x =\", truex.flatten(), \"\\n\\n Solved x =\", solvedx)\n",
    "print(\"\\n\\n |true x - solved x| =\", [0 if diff < 0.0001 else diff for diff in abs(truex.flatten() - solvedx).round(3)])"
   ]
  },
  {
   "cell_type": "code",
   "execution_count": 4,
   "metadata": {},
   "outputs": [
    {
     "name": "stdout",
     "output_type": "stream",
     "text": [
      "\n",
      "\n",
      " |true x - solved x| = [0, 0, 0, 0, 0]\n"
     ]
    }
   ],
   "source": [
    "# Using numpy's built-in linalg.solve function\n",
    "\n",
    "solvedx = np.linalg.solve(H, b).flatten()\n",
    "print(\"\\n\\n |true x - solved x| =\", [0 if diff < 0.0001 else diff for diff in abs(truex.flatten() - solvedx).round(3)])"
   ]
  },
  {
   "cell_type": "code",
   "execution_count": null,
   "metadata": {},
   "outputs": [],
   "source": []
  }
 ],
 "metadata": {
  "kernelspec": {
   "display_name": "Python 3 (ipykernel)",
   "language": "python",
   "name": "python3"
  },
  "language_info": {
   "codemirror_mode": {
    "name": "ipython",
    "version": 3
   },
   "file_extension": ".py",
   "mimetype": "text/x-python",
   "name": "python",
   "nbconvert_exporter": "python",
   "pygments_lexer": "ipython3",
   "version": "3.10.7"
  }
 },
 "nbformat": 4,
 "nbformat_minor": 4
}
