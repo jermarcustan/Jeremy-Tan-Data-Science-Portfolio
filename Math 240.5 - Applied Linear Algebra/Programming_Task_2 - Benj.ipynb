{
 "cells": [
  {
   "cell_type": "markdown",
   "metadata": {},
   "source": [
    "# Programming Task No. 2\n",
    "- **Benjamin Louis L. Ang**\n",
    "- **200302**"
   ]
  },
  {
   "cell_type": "markdown",
   "metadata": {},
   "source": [
    "## Utility Function"
   ]
  },
  {
   "cell_type": "code",
   "execution_count": null,
   "metadata": {},
   "outputs": [],
   "source": [
    "import numpy as np\n",
    "\n",
    "def basis_columns(M, tol=1e-10):\n",
    "    \"\"\"\n",
    "    Determine which columns of M form a basis for im(M).\n",
    "    We do a simple greedy Gram–Schmidt on columns of M,\n",
    "    and whenever the new vector has norm > tol after removing\n",
    "    projections onto previous, we keep it.\n",
    "    Returns the list of column indices.\n",
    "    \"\"\"\n",
    "    m, n = M.shape\n",
    "    Q_temp = []         # will hold the orthonormal vectors\n",
    "    basis_idxs = []     # will hold the indices of original columns\n",
    "    for j in range(n):\n",
    "        v = M[:, j].copy()\n",
    "        # remove projections onto each previously accepted direction\n",
    "        for q in Q_temp:\n",
    "            v -= np.dot(q, v) * q\n",
    "        if np.linalg.norm(v) > tol:\n",
    "            q_new = v / np.linalg.norm(v)\n",
    "            Q_temp.append(q_new)\n",
    "            basis_idxs.append(j)\n",
    "    return basis_idxs"
   ]
  },
  {
   "cell_type": "markdown",
   "metadata": {},
   "source": [
    "## Main Function"
   ]
  },
  {
   "cell_type": "code",
   "execution_count": null,
   "metadata": {},
   "outputs": [],
   "source": [
    "def ModifiedGramSchmidt(M, tol=1e-10):\n",
    "    \"\"\"\n",
    "    Implements the Modified Gram–Schmidt orthonormalization.\n",
    "    Input:  M (m×n)\n",
    "    Output: Q (m×r), where r = rank(M), and columns of Q are orthonormal\n",
    "    \"\"\"\n",
    "    m, n = M.shape\n",
    "    # first pick the independent columns\n",
    "    pivots = basis_columns(M, tol)\n",
    "    Q_list = []\n",
    "    for j in pivots:\n",
    "        v = M[:, j].copy()\n",
    "        # remove projections onto already-built Q_list\n",
    "        for q in Q_list:\n",
    "            v -= np.dot(q, v) * q\n",
    "        norm_v = np.linalg.norm(v)\n",
    "        if norm_v > tol:\n",
    "            Q_list.append(v / norm_v)\n",
    "        # if norm_v <= tol, that column was essentially dependent, skip\n",
    "    # stack into a matrix\n",
    "    if len(Q_list) > 0:\n",
    "        Q = np.column_stack(Q_list)\n",
    "    else:\n",
    "        Q = np.zeros((m, 0))\n",
    "    return Q\n"
   ]
  },
  {
   "cell_type": "code",
   "execution_count": 2,
   "metadata": {},
   "outputs": [
    {
     "name": "stdout",
     "output_type": "stream",
     "text": [
      "--- Test 1 ---\n",
      "M shape: (5, 8) → Q shape: (5, 5)\n",
      "QᵀQ =\n",
      " [[ 1.  0. -0.  0.  0.]\n",
      " [ 0.  1.  0. -0.  0.]\n",
      " [-0.  0.  1. -0.  0.]\n",
      " [ 0. -0. -0.  1. -0.]\n",
      " [ 0.  0.  0. -0.  1.]]\n",
      "\n",
      "--- Test 2 ---\n",
      "M shape: (5, 8) → Q shape: (5, 5)\n",
      "QᵀQ =\n",
      " [[ 1.  0.  0. -0. -0.]\n",
      " [ 0.  1. -0.  0.  0.]\n",
      " [ 0. -0.  1. -0.  0.]\n",
      " [-0.  0. -0.  1. -0.]\n",
      " [-0.  0.  0. -0.  1.]]\n",
      "\n",
      "--- Test 3 ---\n",
      "M shape: (5, 8) → Q shape: (5, 5)\n",
      "QᵀQ =\n",
      " [[ 1.  0. -0. -0.  0.]\n",
      " [ 0.  1.  0. -0. -0.]\n",
      " [-0.  0.  1.  0.  0.]\n",
      " [-0. -0.  0.  1. -0.]\n",
      " [ 0. -0.  0. -0.  1.]]\n",
      "\n",
      "--- Test 4 ---\n",
      "M shape: (5, 8) → Q shape: (5, 5)\n",
      "QᵀQ =\n",
      " [[ 1. -0.  0. -0.  0.]\n",
      " [-0.  1. -0.  0. -0.]\n",
      " [ 0. -0.  1. -0.  0.]\n",
      " [-0.  0. -0.  1.  0.]\n",
      " [ 0. -0.  0.  0.  1.]]\n",
      "\n",
      "--- Test 5 ---\n",
      "M shape: (5, 8) → Q shape: (5, 5)\n",
      "QᵀQ =\n",
      " [[ 1.  0. -0.  0.  0.]\n",
      " [ 0.  1.  0.  0. -0.]\n",
      " [-0.  0.  1. -0.  0.]\n",
      " [ 0.  0. -0.  1. -0.]\n",
      " [ 0. -0.  0. -0.  1.]]\n",
      "\n"
     ]
    }
   ],
   "source": [
    "np.random.seed(0)\n",
    "for test_id in range(1, 6):\n",
    "    M = np.random.randn(5, 8)\n",
    "    Q = ModifiedGramSchmidt(M)\n",
    "    print(f\"--- Test {test_id} ---\")\n",
    "    print(\"M shape:\", M.shape, \"→ Q shape:\", Q.shape)\n",
    "    # Check orthonormality: QᵀQ should be identity of size rank\n",
    "    QTQ = Q.T @ Q\n",
    "    print(\"QᵀQ =\\n\", np.round(QTQ, 6))\n",
    "    print()"
   ]
  }
 ],
 "metadata": {
  "kernelspec": {
   "display_name": "Python 3 (ipykernel)",
   "language": "python",
   "name": "python3"
  },
  "language_info": {
   "codemirror_mode": {
    "name": "ipython",
    "version": 3
   },
   "file_extension": ".py",
   "mimetype": "text/x-python",
   "name": "python",
   "nbconvert_exporter": "python",
   "pygments_lexer": "ipython3",
   "version": "3.10.7"
  }
 },
 "nbformat": 4,
 "nbformat_minor": 4
}
