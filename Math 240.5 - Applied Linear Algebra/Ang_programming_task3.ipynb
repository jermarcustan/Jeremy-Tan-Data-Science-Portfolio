{
 "cells": [
  {
   "cell_type": "code",
   "execution_count": 7,
   "metadata": {},
   "outputs": [],
   "source": [
    "import numpy as np"
   ]
  },
  {
   "cell_type": "code",
   "execution_count": 8,
   "metadata": {},
   "outputs": [],
   "source": [
    "def _num_vars(m: int) -> int:\n",
    "    \"\"\"\n",
    "    Infer the number n of variables from the length m of the\n",
    "    coefficient list.  For a quadratic in n variables the number\n",
    "    of distinct terms is  (n+1)(n+2)/2.\n",
    "    \"\"\"\n",
    "    n = 0\n",
    "    while (n + 1) * (n + 2) // 2 < m:\n",
    "        n += 1\n",
    "    if (n + 1) * (n + 2) // 2 != m:\n",
    "        raise ValueError(\"Input length is not compatible with any n.\")\n",
    "    return n\n",
    "\n",
    "\n",
    "def _build_ABC(coeffs: list[float]):\n",
    "    \"\"\"\n",
    "    From the ordered coefficient list build\n",
    "        • A  (n×n symmetric)\n",
    "        • b  (n×1 column vector)\n",
    "        • c  (scalar)\n",
    "    Ordering assumed (example for x,y,z):\n",
    "        x², y², z²,\n",
    "        xy, xz, yz,\n",
    "        x , y , z ,  constant\n",
    "    \"\"\"\n",
    "    coeffs = list(coeffs)             # allow iterables\n",
    "    m = len(coeffs)\n",
    "    n = _num_vars(m)\n",
    "\n",
    "    A = np.zeros((n, n), dtype=float)\n",
    "    idx = 0\n",
    "\n",
    "    # — squares (diagonal) —\n",
    "    for i in range(n):\n",
    "        A[i, i] = 2 * coeffs[idx]     # because ½·A_ii·x_i² = coeff·x_i²\n",
    "        idx += 1\n",
    "\n",
    "    # — mixed terms (upper‑triangle) —\n",
    "    for i in range(n - 1):\n",
    "        for j in range(i + 1, n):\n",
    "            A[i, j] = A[j, i] = coeffs[idx]\n",
    "            idx += 1\n",
    "\n",
    "    # — linear part —\n",
    "    b = np.array(coeffs[idx : idx + n], dtype=float)\n",
    "    idx += n\n",
    "\n",
    "    # — constant —\n",
    "    c = float(coeffs[idx])\n",
    "\n",
    "    return A, b, c\n",
    "\n",
    "\n",
    "def _is_pos_def(A: np.ndarray, tol: float = 1e-12) -> bool:\n",
    "    \"\"\"\n",
    "    Sylvester test for positive definiteness.\n",
    "    A must be symmetric.  We compute det(A_k) for each leading\n",
    "    principal sub‑matrix A_k (upper‑left k×k).  All must be > 0.\n",
    "    \"\"\"\n",
    "    # optional symmetry check (cheap and catches user errors)\n",
    "    if not np.allclose(A, A.T, atol=tol):\n",
    "        return False\n",
    "\n",
    "    n = A.shape[0]\n",
    "    for k in range(1, n + 1):\n",
    "        leading_minor = np.linalg.det(A[:k, :k])\n",
    "        if leading_minor <= tol:      # ≤ 0 (or numerically zero) → not PD\n",
    "            return False\n",
    "    return True\n",
    "\n",
    "\n",
    "\n",
    "\n"
   ]
  },
  {
   "cell_type": "code",
   "execution_count": 9,
   "metadata": {},
   "outputs": [],
   "source": [
    "def QuadPolyMin(coeffs: list[float]):\n",
    "    \"\"\"\n",
    "    Given an ordered coefficient list for a real quadratic\n",
    "    polynomial f(x) = ½ xᵀAx + bᵀx + c,\n",
    "    return  [ x*, f(x*) ]  if A ≻ 0 (positive definite);\n",
    "    otherwise return False.\n",
    "    \"\"\"\n",
    "    A, b, c = _build_ABC(coeffs)\n",
    "\n",
    "    if not _is_pos_def(A):\n",
    "        return False\n",
    "\n",
    "    # unique minimiser  x* = –A⁻¹ b\n",
    "    x_star = np.linalg.solve(A, -b)\n",
    "\n",
    "    # minimum value f(x*)\n",
    "    f_star = 0.5 * x_star @ A @ x_star + b @ x_star + c\n",
    "\n",
    "    return [x_star, f_star]"
   ]
  },
  {
   "cell_type": "code",
   "execution_count": 10,
   "metadata": {},
   "outputs": [
    {
     "name": "stdout",
     "output_type": "stream",
     "text": [
      "Positive‑definite case → [array([-0.48863636,  0.30681818, -0.35227273]), -0.17045454545454541]\n"
     ]
    }
   ],
   "source": [
    "# (a) Positive definite A\n",
    "#     f(x,y,z) = 2x² + 3y² + 4z² + xy + xz + yz + 2x – y + 3z + 1\n",
    "coeffs_pos_def = [\n",
    "    2, 3, 4,          # x², y², z²\n",
    "    1, 1, 1,          # xy, xz, yz\n",
    "    2, -1, 3,         # x,  y,  z\n",
    "    1                 # constant\n",
    "]\n",
    "print(\"Positive‑definite case →\", QuadPolyMin(coeffs_pos_def))\n"
   ]
  },
  {
   "cell_type": "code",
   "execution_count": 11,
   "metadata": {},
   "outputs": [
    {
     "name": "stdout",
     "output_type": "stream",
     "text": [
      "Non‑PD case           → False\n"
     ]
    }
   ],
   "source": [
    "# (b) NOT positive definite A\n",
    "#     f(x,y,z) = x² – y² + 2z² – 3xy + 4xz – 5yz + 2x – 4y + 3z + 1\n",
    "coeffs_not_pd = [\n",
    "     1, -1,  2,\n",
    "    -3,  4, -5,\n",
    "     2, -4,  3,\n",
    "     1\n",
    "]\n",
    "print(\"Non‑PD case           →\", QuadPolyMin(coeffs_not_pd))"
   ]
  }
 ],
 "metadata": {
  "kernelspec": {
   "display_name": "Python 3 (ipykernel)",
   "language": "python",
   "name": "python3"
  },
  "language_info": {
   "codemirror_mode": {
    "name": "ipython",
    "version": 3
   },
   "file_extension": ".py",
   "mimetype": "text/x-python",
   "name": "python",
   "nbconvert_exporter": "python",
   "pygments_lexer": "ipython3",
   "version": "3.10.7"
  }
 },
 "nbformat": 4,
 "nbformat_minor": 4
}
