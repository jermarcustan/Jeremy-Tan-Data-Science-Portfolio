{
 "cells": [
  {
   "cell_type": "markdown",
   "metadata": {},
   "source": [
    "# Algorithms for Linear Systems and Matrix Factorizations"
   ]
  },
  {
   "cell_type": "code",
   "execution_count": 2,
   "metadata": {},
   "outputs": [],
   "source": [
    "# Needed Modules/Packages\n",
    "\n",
    "import numpy as np"
   ]
  },
  {
   "cell_type": "markdown",
   "metadata": {},
   "source": [
    "## Back Substitution"
   ]
  },
  {
   "cell_type": "code",
   "execution_count": 2,
   "metadata": {},
   "outputs": [
    {
     "name": "stdout",
     "output_type": "stream",
     "text": [
      "U = \n",
      "\n",
      " [[1 2 3 1]\n",
      " [0 2 4 2]\n",
      " [0 0 3 1]\n",
      " [0 0 0 1]] \n",
      "\n",
      " b = [0 1 2 3] \n",
      "\n",
      " x = [ 1.66666667 -1.83333333 -0.33333333  3.        ]\n"
     ]
    }
   ],
   "source": [
    "# Back Substitution\n",
    "\n",
    "def backSubstitution(U, b):\n",
    "    \"\"\"\n",
    "    U = n x n upper triangular matrix with non-zero diagonal entries\n",
    "    b = n x 1 vector\n",
    "    \"\"\"\n",
    "    n = len(b)\n",
    "    x = np.zeros(n)\n",
    "    x[n - 1] = b[n - 1]/U[n - 1, n - 1]\n",
    "\n",
    "    for i in range(n - 2, -1, -1):\n",
    "        SUM = sum([U[i, j]*x[j] for j in range(i, n)])\n",
    "        x[i] = (b[i] - SUM)/U[i, i]\n",
    "    \n",
    "    return x\n",
    "\n",
    "# Test Data\n",
    "\n",
    "U = np.array([[1, 2, 3, 1], [0, 2, 4, 2], [0, 0, 3, 1], [0, 0, 0, 1]])\n",
    "b = np.array(range(4))\n",
    "\n",
    "print(\"U = \\n\\n\", U, \"\\n\\n b =\",  b, \"\\n\\n x =\", backSubstitution(U, b))"
   ]
  },
  {
   "cell_type": "markdown",
   "metadata": {},
   "source": [
    "## Forward Substitution"
   ]
  },
  {
   "cell_type": "code",
   "execution_count": 3,
   "metadata": {},
   "outputs": [
    {
     "name": "stdout",
     "output_type": "stream",
     "text": [
      "L = \n",
      "\n",
      " [[1 0 0 0]\n",
      " [1 2 0 0]\n",
      " [3 4 5 0]\n",
      " [2 1 2 1]] \n",
      "\n",
      " c = [1 2 3 4] \n",
      "\n",
      " x = [ 1.   0.5 -0.4  2.3]\n"
     ]
    }
   ],
   "source": [
    "# Forward Substitution\n",
    "\n",
    "def forwardSubstitution(L, b):\n",
    "    \"\"\"\n",
    "    L = n x n lower triangular matrix with non-zero diagonal entries\n",
    "    b = n x 1 vector\n",
    "    \"\"\"\n",
    "    n = len(b)\n",
    "    x = np.zeros(n)\n",
    "    x[0] = b[0]/L[0, 0]\n",
    "\n",
    "    for i in range(1, n, 1):\n",
    "        SUM = sum([L[i, j]*x[j] for j in range(0, i)])\n",
    "        x[i] = (b[i] - SUM)/L[i, i]\n",
    "    return x\n",
    "\n",
    "# Test Data\n",
    "\n",
    "L = np.array([[1, 0, 0, 0], [1, 2, 0, 0], [3, 4, 5, 0], [2, 1, 2, 1]])\n",
    "b = np.array([1, 2, 3, 4])\n",
    "\n",
    "print(\"L = \\n\\n\", L, \"\\n\\n c =\",  b, \"\\n\\n x =\", forwardSubstitution(L, b))"
   ]
  },
  {
   "cell_type": "markdown",
   "metadata": {},
   "source": [
    "## Row Echelon Form without Type 1 Operation"
   ]
  },
  {
   "cell_type": "code",
   "execution_count": 4,
   "metadata": {},
   "outputs": [
    {
     "name": "stdout",
     "output_type": "stream",
     "text": [
      "\n",
      "\n",
      " M = \n",
      "\n",
      " [[1 0 3]\n",
      " [4 5 6]\n",
      " [7 8 9]] \n",
      "\n",
      " Mref = \n",
      "\n",
      " [[ 1  0  3]\n",
      " [ 0  5 -6]\n",
      " [ 0  0 -2]]\n",
      "\n",
      "\n",
      " M = \n",
      "\n",
      " [[1. 0. 3.]\n",
      " [4. 5. 6.]\n",
      " [7. 8. 9.]] \n",
      "\n",
      " Mref = \n",
      "\n",
      " [[ 1.   0.   3. ]\n",
      " [ 0.   5.  -6. ]\n",
      " [ 0.   0.  -2.4]]\n",
      "\n",
      "\n",
      " M = \n",
      "\n",
      " [[1. 0. 3.]\n",
      " [4. 5. 6.]\n",
      " [7. 8. 9.]] \n",
      "\n",
      " Mref = \n",
      "\n",
      " [[ 1.   0.   3. ]\n",
      " [ 0.   5.  -6. ]\n",
      " [ 0.   0.  -2.4]]\n",
      "\n",
      "\n",
      " M = \n",
      "\n",
      " [[0. 2. 1.]\n",
      " [2. 6. 1.]\n",
      " [1. 1. 4.]] \n",
      "\n",
      " Mref = \n",
      "\n",
      " [[  0.   2.   1.]\n",
      " [ nan -inf -inf]\n",
      " [ nan  nan  nan]]\n"
     ]
    },
    {
     "name": "stderr",
     "output_type": "stream",
     "text": [
      "C:\\Users\\jerem\\AppData\\Local\\Temp\\ipykernel_9828\\2568685686.py:13: RuntimeWarning: divide by zero encountered in scalar divide\n",
      "  M[j] = (-M[j, i]/M[i, i])*M[i] + M[j]\n",
      "C:\\Users\\jerem\\AppData\\Local\\Temp\\ipykernel_9828\\2568685686.py:13: RuntimeWarning: invalid value encountered in multiply\n",
      "  M[j] = (-M[j, i]/M[i, i])*M[i] + M[j]\n",
      "C:\\Users\\jerem\\AppData\\Local\\Temp\\ipykernel_9828\\2568685686.py:13: RuntimeWarning: invalid value encountered in scalar divide\n",
      "  M[j] = (-M[j, i]/M[i, i])*M[i] + M[j]\n"
     ]
    }
   ],
   "source": [
    "# Row Echelon Form without Type 1 Operation\n",
    "\n",
    "def rowEchelonForm_NoType1(M):\n",
    "    \"\"\"\n",
    "    M = m x n matrix with non-zero pivots\n",
    "    \"\"\"\n",
    "    m, n = np.shape(M)\n",
    "    minmn = min(m, n)\n",
    "    M = M.copy() # To avoid changing the original matrix\n",
    "    \n",
    "    for i in range(minmn):\n",
    "        for j in range(i + 1, m):\n",
    "            M[j] = (-M[j, i]/M[i, i])*M[i] + M[j]\n",
    "    \n",
    "    return M\n",
    "\n",
    "# Test Data\n",
    "\n",
    "# Dealing with Integers\n",
    "M = np.array([[1, 0, 3], [4, 5, 6], [7, 8, 9]])\n",
    "print(\"\\n\\n M = \\n\\n\", M, \"\\n\\n Mref = \\n\\n\", rowEchelonForm_NoType1(M))\n",
    "\n",
    "# Dealing with Decimals\n",
    "M = np.array([[1.0, 0, 3], [4, 5, 6], [7, 8, 9]])\n",
    "print(\"\\n\\n M = \\n\\n\", M, \"\\n\\n Mref = \\n\\n\", rowEchelonForm_NoType1(M))\n",
    "\n",
    "# Dealing with Decimals (Alternative)\n",
    "M = np.array([[1, 0, 3], [4, 5, 6], [7, 8, 9]], dtype = 'float64')\n",
    "print(\"\\n\\n M = \\n\\n\", M, \"\\n\\n Mref = \\n\\n\", rowEchelonForm_NoType1(M))\n"
   ]
  },
  {
   "cell_type": "markdown",
   "metadata": {},
   "source": [
    "## LU Factorization"
   ]
  },
  {
   "cell_type": "code",
   "execution_count": 5,
   "metadata": {},
   "outputs": [
    {
     "name": "stdout",
     "output_type": "stream",
     "text": [
      "M = [[1. 0. 3.]\n",
      " [4. 5. 6.]\n",
      " [7. 8. 9.]] \n",
      "\n",
      " L = [[1.  0.  0. ]\n",
      " [4.  1.  0. ]\n",
      " [7.  1.6 1. ]] \n",
      "\n",
      " U = [[ 1.   0.   3. ]\n",
      " [ 0.   5.  -6. ]\n",
      " [ 0.   0.  -2.4]]\n",
      "\n",
      " M =?= LU:  True\n"
     ]
    }
   ],
   "source": [
    "# LU-Factorization\n",
    "\n",
    "def LUFactorization(M):\n",
    "    \"\"\"\n",
    "    M = n x n matrix with non-zero diagonal entries\n",
    "    \"\"\"\n",
    "    n = np.shape(M)[0]\n",
    "    U = M.copy() # To avoid changing the original matrix\n",
    "    I = np.identity(n)\n",
    "    L = np.identity(n)\n",
    "    \n",
    "    for i in range(n - 1):\n",
    "        for j in range(i + 1, n):\n",
    "            E = np.identity(n)\n",
    "            E[j] = (U[j, i]/U[i, i])*I[i] + I[j] # Elementary matrix inverse of the previous operation  \n",
    "            L = L@E\n",
    "            U[j] = (-U[j, i]/U[i, i])*U[i] + U[j]\n",
    "    \n",
    "    return [L, U]\n",
    "\n",
    "# Test Data\n",
    "\n",
    "M = np.array([[1.0, 0, 3], [4, 5, 6], [7, 8, 9]])\n",
    "L, U = LUFactorization(M)\n",
    "print(\"M =\", M, \"\\n\\n L =\", L, \"\\n\\n U =\", U) \n",
    "print(\"\\n M =?= LU: \", np.array_equal(M, L@U))"
   ]
  },
  {
   "cell_type": "code",
   "execution_count": null,
   "metadata": {},
   "outputs": [
    {
     "name": "stdout",
     "output_type": "stream",
     "text": [
      "\n",
      " M = \n",
      "\n",
      " [[ 1.  2. -1.  0.]\n",
      " [ 2.  4. -2. -1.]\n",
      " [-3. -5.  6.  1.]\n",
      " [-1.  2.  8. -2.]] \n",
      "\n",
      " P = \n",
      "\n",
      " [[1. 0. 0. 0.]\n",
      " [0. 0. 1. 0.]\n",
      " [0. 0. 0. 1.]\n",
      " [0. 1. 0. 0.]] \n",
      "\n",
      " L = \n",
      "\n",
      " [[ 1.  0.  0.  0.]\n",
      " [-3.  1.  0.  0.]\n",
      " [-1.  4.  1.  0.]\n",
      " [ 2.  0. -0.  1.]] \n",
      "\n",
      " U = \n",
      "\n",
      " [[ 1.  2. -1.  0.]\n",
      " [ 0.  1.  3.  1.]\n",
      " [ 0.  0. -5. -6.]\n",
      " [ 0.  0.  0. -1.]]\n",
      "\n",
      " PM =?= LU:  True\n"
     ]
    }
   ],
   "source": [
    "# Permuted LU Factorization\n",
    "\n",
    "def permutedLUFactorization(M):\n",
    "    \"\"\"\n",
    "    M = n x n matrix non-singular matrix\n",
    "    \"\"\"\n",
    "    n = np.shape(M)[0]\n",
    "    I = np.identity(n)\n",
    "    P = np.identity(n)\n",
    "    U = M.copy() # To avoid changing the original matrix\n",
    "    L = np.identity(n)\n",
    "\n",
    "    for i in range(n - 1):\n",
    "        if U[i, i] == 0:\n",
    "            for j in range(i + 1, n):\n",
    "                if U[j, i] != 0:\n",
    "                    Pci = np.copy(P[i])\n",
    "                    Pcj = np.copy(P[j])\n",
    "                    P[i] = Pcj\n",
    "                    P[j] = Pci\n",
    "                    Uci = np.copy(U[i])\n",
    "                    Ucj = np.copy(U[j])\n",
    "                    U[i] = Ucj                   \n",
    "                    U[j] = Uci\n",
    "                    Lci = np.copy(L[i])\n",
    "                    Lcj = np.copy(L[j])\n",
    "                    for k in range(i): \n",
    "                        #interchange values before the ith column as well\n",
    "                        L[i, k] = Lcj[k]\n",
    "                        L[j, k] = Lci[k]\n",
    "                    break\n",
    "        for j in range(i + 1, n):\n",
    "            cij = U[j, i]/U[i, i]\n",
    "            U[j] = -cij*U[i] + U[j]\n",
    "            L[j, i] = cij      \n",
    "    \n",
    "    return [P, L, U]\n",
    "\n",
    "# Test Data\n",
    "\n",
    "M = np.array([[1, 2, -1, 0], [2, 4, -2, -1], [-3, -5, 6, 1], [-1, 2, 8, -2]], dtype=float)    \n",
    "P, L, U = permutedLUFactorization(M)\n",
    "\n",
    "print(\"\\n M = \\n\\n\", M, \"\\n\\n P = \\n\\n\", P, \"\\n\\n L = \\n\\n\", L, \"\\n\\n U = \\n\\n\", U)\n",
    "print(\"\\n PM =?= LU: \", np.allclose(P@M, L@U))"
   ]
  },
  {
   "cell_type": "markdown",
   "metadata": {},
   "source": [
    "## Solutions to Systems of Linear Equations"
   ]
  },
  {
   "cell_type": "code",
   "execution_count": 7,
   "metadata": {},
   "outputs": [],
   "source": [
    "# Solving a System of Linear Equations using Gaussian Elimination \n",
    "# with Back Substitution\n",
    "\n",
    "def solveLinearSystemGaussian(M, b):\n",
    "    \"\"\"\n",
    "    M = n x n regular matrix\n",
    "    b = n x 1 vector of constant terms\n",
    "    \"\"\"\n",
    "    n = np.shape(M)[0]\n",
    "    Mb = np.hstack((M, b))\n",
    "    Uc = rowEchelonForm_NoType1(Mb)\n",
    "\n",
    "    return backSubstitution(Uc[:, : n], Uc[:, -1])"
   ]
  },
  {
   "cell_type": "code",
   "execution_count": 8,
   "metadata": {},
   "outputs": [
    {
     "name": "stdout",
     "output_type": "stream",
     "text": [
      "A = \n",
      "\n",
      " [[-1.  0.  3.]\n",
      " [ 4.  5.  6.]\n",
      " [ 7.  8.  9.]] \n",
      "\n",
      " det(A) =  -6.0 \n",
      " \n",
      " x = [ 1.00000089 -1.00000107  0.33333363]\n"
     ]
    }
   ],
   "source": [
    "# Solving a System of Linear Equations via LU-Factorization\n",
    "\n",
    "def solveLinearSystemLU(L, U, b):\n",
    "    \"\"\"\n",
    "    L = n x n lower triangular matrix with non-zero diagonal entries\n",
    "    U = n x n upper triangular matrix with non-zero diagonal entries\n",
    "    b = n x 1 vector of constant terms\n",
    "    \"\"\"\n",
    "    y = forwardSubstitution(L, b)\n",
    "    x = backSubstitution(U, y)\n",
    "\n",
    "    return x\n",
    "\n",
    "# Test Data\n",
    "\n",
    "A = np.array([[-1, 0, 3], [4, 5, 6], [7, 8, 9]], dtype = 'float32')\n",
    "L, U = LUFactorization(A)\n",
    "b = np.array(range(3))\n",
    "\n",
    "print(\"A = \\n\\n\", A, \"\\n\\n det(A) = \", np.linalg.det(A).round(2), \"\\n \\n x =\", solveLinearSystemLU(L, U, b))"
   ]
  },
  {
   "cell_type": "code",
   "execution_count": 9,
   "metadata": {},
   "outputs": [
    {
     "name": "stdout",
     "output_type": "stream",
     "text": [
      "\n",
      " L = \n",
      "\n",
      " [[ 1.   0.   0. ]\n",
      " [ 2.   1.   0. ]\n",
      " [ 1.  -0.5  1. ]] \n",
      "\n",
      " D = \n",
      "\n",
      " [[1.  0.  0. ]\n",
      " [0.  2.  0. ]\n",
      " [0.  0.  2.5]] \n",
      "\n",
      " L^T = \n",
      "\n",
      " [[ 1.   2.   1. ]\n",
      " [ 0.   1.  -0.5]\n",
      " [ 0.   0.   1. ]]\n",
      "\n",
      " M =?= LDL^T:  True\n"
     ]
    },
    {
     "data": {
      "text/plain": [
       "'M = '"
      ]
     },
     "metadata": {},
     "output_type": "display_data"
    },
    {
     "data": {
      "text/latex": [
       "$\\displaystyle \\left[\\begin{matrix}a & b\\\\b & c\\end{matrix}\\right]$"
      ],
      "text/plain": [
       "Matrix([\n",
       "[a, b],\n",
       "[b, c]])"
      ]
     },
     "metadata": {},
     "output_type": "display_data"
    },
    {
     "data": {
      "text/plain": [
       "'L = '"
      ]
     },
     "metadata": {},
     "output_type": "display_data"
    },
    {
     "data": {
      "text/latex": [
       "$\\displaystyle \\left[\\begin{matrix}1 & 0\\\\\\frac{b}{a} & 1\\end{matrix}\\right]$"
      ],
      "text/plain": [
       "Matrix([\n",
       "[  1, 0],\n",
       "[b/a, 1]])"
      ]
     },
     "metadata": {},
     "output_type": "display_data"
    },
    {
     "data": {
      "text/plain": [
       "'U = '"
      ]
     },
     "metadata": {},
     "output_type": "display_data"
    },
    {
     "data": {
      "text/latex": [
       "$\\displaystyle \\left[\\begin{matrix}a & b\\\\0 & \\frac{a c - b^{2}}{a}\\end{matrix}\\right]$"
      ],
      "text/plain": [
       "Matrix([\n",
       "[a,              b],\n",
       "[0, (a*c - b**2)/a]])"
      ]
     },
     "metadata": {},
     "output_type": "display_data"
    },
    {
     "data": {
      "text/plain": [
       "'D = '"
      ]
     },
     "metadata": {},
     "output_type": "display_data"
    },
    {
     "data": {
      "text/latex": [
       "$\\displaystyle \\left[\\begin{matrix}a & 0\\\\0 & \\frac{a c - b^{2}}{a}\\end{matrix}\\right]$"
      ],
      "text/plain": [
       "Matrix([\n",
       "[a,              0],\n",
       "[0, (a*c - b**2)/a]])"
      ]
     },
     "metadata": {},
     "output_type": "display_data"
    },
    {
     "data": {
      "text/plain": [
       "'V = '"
      ]
     },
     "metadata": {},
     "output_type": "display_data"
    },
    {
     "data": {
      "text/latex": [
       "$\\displaystyle \\left[\\begin{matrix}1 & \\frac{b}{a}\\\\0 & 1\\end{matrix}\\right]$"
      ],
      "text/plain": [
       "Matrix([\n",
       "[1, b/a],\n",
       "[0,   1]])"
      ]
     },
     "metadata": {},
     "output_type": "display_data"
    },
    {
     "name": "stdout",
     "output_type": "stream",
     "text": [
      "True\n",
      "True\n",
      "True\n"
     ]
    }
   ],
   "source": [
    "# LDL^T Factorization\n",
    "\n",
    "# Test Data 1 (Numerical)\n",
    "M = np.array([[1, 2, 1], [2, 6, 1], [1, 1, 4]], dtype = \"float32\")\n",
    "L, U = LUFactorization(M)\n",
    "Lt = np.transpose(L)\n",
    "D = np.diag(np.diag(U))\n",
    "\n",
    "print(\"\\n L = \\n\\n\", L, \"\\n\\n D = \\n\\n\", D, \"\\n\\n L^T = \\n\\n\", Lt)\n",
    "print(\"\\n M =?= LDL^T: \", np.array_equal(M, L@D@Lt))\n",
    "\n",
    "# Test Data 2 (Symbolic)\n",
    "\n",
    "import sympy as sp\n",
    "from sympy.abc import a, b, c\n",
    "\n",
    "M = sp.Matrix([[a, b], [b, c]])\n",
    "L = sp.Matrix([[1, 0], [b/a, 1]])\n",
    "U = sp.Matrix([[a, b], [0, (a*c - b**2)/a]])\n",
    "D = sp.Matrix([[a, 0], [0, (a*c - b**2)/a]])\n",
    "V = sp.Matrix([[1, b/a], [0, 1]])\n",
    "\n",
    "display(\"M = \", M, \"L = \", L, \"U = \", U, \"D = \", D, \"V = \", V)\n",
    "\n",
    "LU = sp.expand(L*U)\n",
    "LDV = sp.expand(L*D*V)\n",
    "LDLt = sp.expand(L*D*sp.transpose(L))\n",
    "\n",
    "print(M == LU)\n",
    "print(M == LDV)\n",
    "print(M == LDLt)"
   ]
  },
  {
   "cell_type": "code",
   "execution_count": null,
   "metadata": {},
   "outputs": [],
   "source": []
  }
 ],
 "metadata": {
  "kernelspec": {
   "display_name": "Python 3 (ipykernel)",
   "language": "python",
   "name": "python3"
  },
  "language_info": {
   "codemirror_mode": {
    "name": "ipython",
    "version": 3
   },
   "file_extension": ".py",
   "mimetype": "text/x-python",
   "name": "python",
   "nbconvert_exporter": "python",
   "pygments_lexer": "ipython3",
   "version": "3.10.7"
  }
 },
 "nbformat": 4,
 "nbformat_minor": 4
}
