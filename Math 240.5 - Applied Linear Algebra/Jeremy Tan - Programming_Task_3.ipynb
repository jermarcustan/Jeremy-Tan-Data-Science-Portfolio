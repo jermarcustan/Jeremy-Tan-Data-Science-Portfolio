{
 "cells": [
  {
   "cell_type": "markdown",
   "metadata": {},
   "source": [
    "### Programming Task No. 3\n",
    "### Name: Jeremy Marcus Tan\n",
    "### ID No: 204947\n",
    "\n"
   ]
  },
  {
   "cell_type": "code",
   "execution_count": 1,
   "metadata": {},
   "outputs": [],
   "source": [
    "import numpy as np"
   ]
  },
  {
   "cell_type": "code",
   "execution_count": 2,
   "metadata": {},
   "outputs": [],
   "source": [
    "def positivedefinite(M):\n",
    "\n",
    "    '''\n",
    "    We use the test for positive definiteness theorem 1 in the slides.\n",
    "    Given a symmetric matrix M, it is positive definite if and only if \n",
    "    it is regular and has all positive pivots.\n",
    "\n",
    "    This function performs a simplified version of Gaussian elimination \n",
    "    without row swaps, and checks that all pivot elements are positive.\n",
    "    '''\n",
    "    ispositivedefinite = True\n",
    "\n",
    "    # Matrix dimension, we are only dealing with square matrices\n",
    "    n = M.shape[0]\n",
    "    \n",
    "    M = M.copy() \n",
    "    \n",
    "    # Perform Gaussian elimination using only type three row operations\n",
    "    for i in range(n):\n",
    "        for j in range(i + 1, n):\n",
    "             # A zero pivot indicates that a row swap is needed; thus the matrix is not regular.\n",
    "            if M[i, i] == 0:\n",
    "                ispositivedefinite = False\n",
    "                # Stop the function if pivot is zero\n",
    "                return ispositivedefinite  \n",
    "            M[j] = (-M[j, i]/M[i, i])*M[i] + M[j]\n",
    "    \n",
    "    # After elimination, identify pivot elements (first nonzero entry in each row)\n",
    "    pivot_col = -1\n",
    "    pivot_values = []\n",
    "\n",
    "    for row in M:\n",
    "        found = False\n",
    "        for col_idx, val in enumerate(row):\n",
    "            # We look at the first non-zero value in the column to the right of previous pivot\n",
    "            if val != 0 and col_idx > pivot_col:\n",
    "                pivot_values.append(val)\n",
    "                pivot_col = col_idx\n",
    "                found = True\n",
    "                break  # Only take the first valid pivot in this row\n",
    "        if not found:\n",
    "            # If no pivot found in this row, then the matrix is not regular.\n",
    "            ispositivedefinite = False\n",
    "            return ispositivedefinite\n",
    "\n",
    "    # Last, we check if all pivot are positive. \n",
    "    \n",
    "    if all(val > 0 for val in pivot_values):\n",
    "        ispositivedefinite = True\n",
    "    else:\n",
    "        ispositivedefinite = False\n",
    "        \n",
    "    return ispositivedefinite"
   ]
  },
  {
   "cell_type": "code",
   "execution_count": 3,
   "metadata": {},
   "outputs": [],
   "source": [
    "def quadratic_coeffs_to_matrix(coeffs):\n",
    "\n",
    "    # First, we solve for n so that we set the dimensions of the matrix.\n",
    "\n",
    "    '''\n",
    "    First let L = length of the coeffs array.\n",
    "    Quadratic/Cross Product Terms: n(n+1)/2 terms\n",
    "    Linear Terms: n terms\n",
    "    Constant Term: 1 term\n",
    "\n",
    "    Thus, L = n(n+1)/2 + n + 1\n",
    "    So, we have to find the roots of n^2 + 3n + 2 - 2L = 0\n",
    "    '''\n",
    "\n",
    "    a = 1\n",
    "    b = 3\n",
    "    c = 2 - 2*len(coeffs)\n",
    "\n",
    "    # We use the quadratic formula to solve.\n",
    "    # Since n can't be negative, choose only the positive root.\n",
    "    n = ((-b) + np.sqrt(b**2 - 4*a*c))/2*a\n",
    "    \n",
    "    # set n as an integer\n",
    "    n = int(n)\n",
    "    A = np.zeros((n, n))\n",
    "\n",
    "    # Keeps track of cross term coefficients in the coeffs list\n",
    "    counter = 0 \n",
    "\n",
    "    # Fill the matrix, row by row\n",
    "    for i in range(n):\n",
    "        # Since A is symmetric, A_ji = A_ij\n",
    "        # Thus, we can just fill the upper triangle of A (including diagonal),\n",
    "        # and copy to the lower triangle\n",
    "        for j in range(i,n):\n",
    "            if i == j:\n",
    "                # The diagonal entries are two times the coefficient of the \n",
    "                # quadratic terms x^2, y^2, ...\n",
    "                A[i,i] = 2* coeffs[i]\n",
    "            else:\n",
    "                # \n",
    "                A[i,j] = coeffs[n+counter]\n",
    "                A[j,i] = coeffs[n+counter]\n",
    "                counter += 1\n",
    "\n",
    "    # Linear terms\n",
    "    b = np.zeros((n, 1))\n",
    "\n",
    "    # Coefficients of linear terms are stored at the end before the constant\n",
    "    # We fill b from bottom to top to match variable ordering\n",
    "    for idx, i in enumerate(range(-2, -2 - n, -1)):\n",
    "        b[n-1-idx, 0] = coeffs[i] \n",
    "    \n",
    "\n",
    "    # Constant term is the last element of coeffs\n",
    "    c = coeffs[-1]\n",
    "\n",
    "    return A, b, c"
   ]
  },
  {
   "cell_type": "code",
   "execution_count": 4,
   "metadata": {},
   "outputs": [],
   "source": [
    "def backSubstitution(U, b):\n",
    "    \"\"\"\n",
    "    U = n x n upper triangular matrix with non-zero diagonal entries\n",
    "    b = n x 1 vector\n",
    "    \"\"\"\n",
    "    n = len(b)\n",
    "    x = np.zeros(n)\n",
    "    x[n - 1] = b[n - 1]/U[n - 1, n - 1]\n",
    "\n",
    "    for i in range(n - 2, -1, -1):\n",
    "        SUM = sum([U[i, j]*x[j] for j in range(i, n)])\n",
    "        x[i] = (b[i] - SUM)/U[i, i]\n",
    "    \n",
    "    return x\n",
    "def rowEchelonForm_NoType1(M):\n",
    "    \"\"\"\n",
    "    M = m x n matrix with non-zero pivots\n",
    "    \"\"\"\n",
    "    m, n = np.shape(M)\n",
    "    minmn = min(m, n)\n",
    "    M = M.copy() # To avoid changing the original matrix\n",
    "    \n",
    "    for i in range(minmn):\n",
    "        for j in range(i + 1, m):\n",
    "            M[j] = (-M[j, i]/M[i, i])*M[i] + M[j]\n",
    "    \n",
    "    return M\n",
    "    \n",
    "def solveLinearSystemGaussian(M, b):\n",
    "    \"\"\"\n",
    "    M = n x n regular matrix\n",
    "    b = n x 1 vector of constant terms\n",
    "    \"\"\"\n",
    "    n = np.shape(M)[0]\n",
    "    Mb = np.hstack((M, b))\n",
    "    Uc = rowEchelonForm_NoType1(Mb)\n",
    "\n",
    "    return backSubstitution(Uc[:, : n], Uc[:, -1])"
   ]
  },
  {
   "cell_type": "code",
   "execution_count": 5,
   "metadata": {},
   "outputs": [],
   "source": [
    "def quadratic_minimization(coefficients):\n",
    "    A,b,c = quadratic_coeffs_to_matrix(coefficients)\n",
    "\n",
    "    # Check if A is positive definite\n",
    "    if positivedefinite(A) == False:\n",
    "        return False\n",
    "\n",
    "    else:\n",
    "        # We solve for A^(-1)b using Gaussian Elimination followed by back substitution\n",
    "        # The output of the function is reshaped into a column vector\n",
    "        A_inverse_b = solveLinearSystemGaussian(A, b).reshape(-1,1)\n",
    "\n",
    "        # Solve for the unique minimizer\n",
    "        min_point = - A_inverse_b\n",
    "\n",
    "        # Solve for the minimum value of the function\n",
    "        min_value = (-1/2) * (b.T @ A_inverse_b) + c\n",
    "\n",
    "        return min_point, min_value\n",
    "        "
   ]
  },
  {
   "cell_type": "code",
   "execution_count": 6,
   "metadata": {},
   "outputs": [
    {
     "data": {
      "text/plain": [
       "False"
      ]
     },
     "execution_count": 6,
     "metadata": {},
     "output_type": "execute_result"
    }
   ],
   "source": [
    "# Test: Not Positive Definite\n",
    "'''\n",
    " For this example, \n",
    "\n",
    " A = [[1,2,3],\n",
    "      [2,3,7],\n",
    "      [3,7,8]]\n",
    "\n",
    "When doing Gaussian elimination, one of the pivots is negative, \n",
    "which means that A is not positive definite.\n",
    "'''\n",
    "quadratic_minimization(np.array([0.5,1.5,4,2,3,7,2,4,3,4], dtype = 'float64'))\n",
    "\n",
    "\n"
   ]
  },
  {
   "cell_type": "code",
   "execution_count": 7,
   "metadata": {},
   "outputs": [
    {
     "data": {
      "text/plain": [
       "array([[ 1.,  2.,  3.],\n",
       "       [ 0., -1.,  1.],\n",
       "       [ 0.,  0.,  0.]])"
      ]
     },
     "execution_count": 7,
     "metadata": {},
     "output_type": "execute_result"
    }
   ],
   "source": [
    "rowEchelonForm_NoType1(np.array([[1,2,3], [2,3,7], [3,7,8]], dtype = 'float64'))"
   ]
  },
  {
   "cell_type": "code",
   "execution_count": 8,
   "metadata": {},
   "outputs": [
    {
     "data": {
      "text/plain": [
       "(array([[ 2.33333333],\n",
       "        [-5.33333333],\n",
       "        [ 0.66666667]]),\n",
       " array([[1.66666667]]))"
      ]
     },
     "execution_count": 8,
     "metadata": {},
     "output_type": "execute_result"
    }
   ],
   "source": [
    "# Test: Positive Definite\n",
    "'''\n",
    " For this example, \n",
    "\n",
    " A = [[10,5,2],\n",
    "      [5,3,2],\n",
    "      [2,2,3]]\n",
    "\n",
    "When doing Gaussian elimination with only type three row operations, \n",
    "we get an upper triangular matrix with only positive pivots. This means that\n",
    "A is a positive definite matrix. \n",
    "'''\n",
    "quadratic_minimization(np.array([5,1.5,1.5,5,2,2,2,3,4,6], dtype = 'float64'))\n",
    "\n",
    "\n"
   ]
  },
  {
   "cell_type": "code",
   "execution_count": 9,
   "metadata": {},
   "outputs": [
    {
     "data": {
      "text/plain": [
       "array([[10. ,  5. ,  2. ],\n",
       "       [ 0. ,  0.5,  1. ],\n",
       "       [ 0. ,  0. ,  0.6]])"
      ]
     },
     "execution_count": 9,
     "metadata": {},
     "output_type": "execute_result"
    }
   ],
   "source": [
    "rowEchelonForm_NoType1(np.array([[10,5,2], [5,3,2], [2,2,3]], dtype = 'float64'))"
   ]
  },
  {
   "cell_type": "code",
   "execution_count": 10,
   "metadata": {},
   "outputs": [
    {
     "data": {
      "text/plain": [
       "(array([[ 2.],\n",
       "        [-3.],\n",
       "        [ 2.]]),\n",
       " array([[-11.]]))"
      ]
     },
     "execution_count": 10,
     "metadata": {},
     "output_type": "execute_result"
    }
   ],
   "source": [
    "# Class Example\n",
    "quadratic_minimization(np.array([1,2,2,2,1,1,0,6,-7,5], dtype = 'float64'))\n"
   ]
  },
  {
   "cell_type": "code",
   "execution_count": 11,
   "metadata": {},
   "outputs": [
    {
     "data": {
      "text/plain": [
       "(array([[-0.31818182],\n",
       "        [ 0.22727273]]),\n",
       " array([[0.29545455]]))"
      ]
     },
     "execution_count": 11,
     "metadata": {},
     "output_type": "execute_result"
    }
   ],
   "source": [
    "# Class Example\n",
    "quadratic_minimization(np.array([4,3,-2,3,-2,1], dtype = 'float64'))\n",
    "\n"
   ]
  },
  {
   "cell_type": "code",
   "execution_count": null,
   "metadata": {},
   "outputs": [],
   "source": []
  },
  {
   "cell_type": "code",
   "execution_count": null,
   "metadata": {},
   "outputs": [],
   "source": []
  }
 ],
 "metadata": {
  "kernelspec": {
   "display_name": "Python 3 (ipykernel)",
   "language": "python",
   "name": "python3"
  },
  "language_info": {
   "codemirror_mode": {
    "name": "ipython",
    "version": 3
   },
   "file_extension": ".py",
   "mimetype": "text/x-python",
   "name": "python",
   "nbconvert_exporter": "python",
   "pygments_lexer": "ipython3",
   "version": "3.10.7"
  }
 },
 "nbformat": 4,
 "nbformat_minor": 4
}
