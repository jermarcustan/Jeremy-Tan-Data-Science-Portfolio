{
 "cells": [
  {
   "cell_type": "markdown",
   "metadata": {},
   "source": [
    "### Programming Task No. 1\n",
    "### Name: Jeremy Marcus Tan\n",
    "### ID No: 204947"
   ]
  },
  {
   "cell_type": "code",
   "execution_count": 3,
   "metadata": {},
   "outputs": [],
   "source": [
    "import numpy as np"
   ]
  },
  {
   "cell_type": "code",
   "execution_count": 9,
   "metadata": {},
   "outputs": [
    {
     "data": {
      "text/plain": [
       "3"
      ]
     },
     "execution_count": 9,
     "metadata": {},
     "output_type": "execute_result"
    }
   ],
   "source": [
    "M = np.matrix([[1,2,3], [2,3,4], [5,3,2]])\n",
    "M.shape[0]\n"
   ]
  },
  {
   "cell_type": "code",
   "execution_count": 115,
   "metadata": {},
   "outputs": [],
   "source": [
    "def permutedLUFactorizationWithPartialPivoting(M):\n",
    "    # M is a n x n nonsingular matrix\n",
    "    n = M.shape[0]\n",
    "    I = np.identity(n)\n",
    "    P = np.identity(n)\n",
    "    U = M.copy()\n",
    "    L = np.identity(n)\n",
    "    for j in range(n-1): # Column Index\n",
    "        # Find the row z >= j with the largest absolute value in column j\n",
    "        z = np.argmax(np.abs(U[j:, j])) + j\n",
    "        if j != z:\n",
    "            Pcj = np.copy(P[j])\n",
    "            Pcz = np.copy(P[z])\n",
    "            P[j] = Pcz\n",
    "            P[z] = Pcj\n",
    "            Ucj = np.copy(U[j])\n",
    "            Ucz = np.copy(U[z])\n",
    "            U[j] = Ucz                   \n",
    "            U[z] = Ucj\n",
    "            Lcj = np.copy(L[j])\n",
    "            Lcz = np.copy(L[z])\n",
    "            for i in range(j): \n",
    "                #interchange values before the jth column \n",
    "                L[j, i] = Lcz[i]\n",
    "                L[z, i] = Lcj[i]\n",
    "            z = j\n",
    "        if j == z:\n",
    "            for i in range(j + 1, n): # i is row index\n",
    "                cji = U[i, j]/U[j, j]\n",
    "                U[i] = -cji*U[j] + U[i]\n",
    "                L[i, j] = cji\n",
    "    return [P, L, U]\n",
    "            \n",
    "        \n",
    "    "
   ]
  },
  {
   "cell_type": "code",
   "execution_count": 116,
   "metadata": {
    "scrolled": true
   },
   "outputs": [
    {
     "name": "stdout",
     "output_type": "stream",
     "text": [
      "[[0. 1. 0. 0. 0. 0. 0. 0. 0. 0.]\n",
      " [1. 0. 0. 0. 0. 0. 0. 0. 0. 0.]\n",
      " [0. 0. 0. 0. 0. 0. 0. 0. 1. 0.]\n",
      " [0. 0. 1. 0. 0. 0. 0. 0. 0. 0.]\n",
      " [0. 0. 0. 0. 0. 0. 0. 0. 0. 1.]\n",
      " [0. 0. 0. 1. 0. 0. 0. 0. 0. 0.]\n",
      " [0. 0. 0. 0. 0. 0. 1. 0. 0. 0.]\n",
      " [0. 0. 0. 0. 1. 0. 0. 0. 0. 0.]\n",
      " [0. 0. 0. 0. 0. 1. 0. 0. 0. 0.]\n",
      " [0. 0. 0. 0. 0. 0. 0. 1. 0. 0.]]\n",
      "[[ 1.          0.          0.          0.          0.          0.\n",
      "   0.          0.          0.          0.        ]\n",
      " [ 0.98246647  1.          0.          0.          0.          0.\n",
      "   0.          0.          0.          0.        ]\n",
      " [ 0.88746036 -0.20217308  1.          0.          0.          0.\n",
      "   0.          0.          0.          0.        ]\n",
      " [ 0.63420692 -0.23842375  0.53811903  1.          0.          0.\n",
      "   0.          0.          0.          0.        ]\n",
      " [ 0.1240461  -0.8447243   0.70981594 -0.22652804  1.          0.\n",
      "   0.          0.          0.          0.        ]\n",
      " [ 0.74517522  0.21047281 -0.1321937  -0.13768818  0.89399122  1.\n",
      "   0.          0.          0.          0.        ]\n",
      " [ 0.84465191  0.51630778  0.44674993 -0.96980381  0.29328072  0.47589767\n",
      "   1.          0.          0.          0.        ]\n",
      " [ 0.82166677 -0.0825193   0.2877534   0.45177051 -0.43941722 -0.80439767\n",
      "   0.14723968  1.          0.          0.        ]\n",
      " [ 0.39214459  0.22912982 -0.155566    0.90988196 -0.09889794  0.28292508\n",
      "   0.28083404  0.37821543  1.          0.        ]\n",
      " [ 0.99903111  0.46231256  0.10681417 -0.67394779 -0.19286427 -0.6658449\n",
      "   0.58980159  0.96155224  0.22639301  1.        ]]\n",
      "[[ 8.18014766e-01  8.60730583e-01  6.95213053e-03  5.10747303e-01\n",
      "   4.17411003e-01  2.22107810e-01  1.19865367e-01  3.37615171e-01\n",
      "   9.42909704e-01  3.23202932e-01]\n",
      " [ 0.00000000e+00 -6.59068876e-01  8.85728763e-01  3.75501441e-02\n",
      "   3.97347842e-01  6.77877824e-01  2.00239771e-01 -2.21643660e-01\n",
      "  -6.98442003e-01  1.09571746e-01]\n",
      " [ 0.00000000e+00  0.00000000e+00  1.05998720e+00  3.34199189e-01\n",
      "   3.51928965e-01  2.40767369e-02  9.57360438e-02  5.54123725e-01\n",
      "  -3.71572099e-01 -2.55480281e-01]\n",
      " [ 0.00000000e+00  0.00000000e+00  0.00000000e+00  4.76976514e-01\n",
      "   6.03079838e-01  2.59586006e-01  4.17453590e-01 -2.64269200e-01\n",
      "  -2.79734502e-01 -4.48728013e-03]\n",
      " [ 0.00000000e+00  0.00000000e+00  0.00000000e+00  0.00000000e+00\n",
      "   7.19414661e-01  1.27867692e+00  8.32849800e-01 -4.58028557e-01\n",
      "   2.05604107e-01  4.70042421e-01]\n",
      " [ 0.00000000e+00  0.00000000e+00  0.00000000e+00  0.00000000e+00\n",
      "   0.00000000e+00 -1.17282341e+00 -6.60997137e-01  7.30858691e-01\n",
      "   1.58576670e-01 -4.76453943e-01]\n",
      " [ 0.00000000e+00 -5.55111512e-17  0.00000000e+00  0.00000000e+00\n",
      "   0.00000000e+00  0.00000000e+00  1.15244997e+00 -1.07186154e-02\n",
      "  -4.18931582e-01  5.29090284e-01]\n",
      " [ 0.00000000e+00  8.17344408e-18  0.00000000e+00  0.00000000e+00\n",
      "   0.00000000e+00  1.11022302e-16  0.00000000e+00  5.88229279e-01\n",
      "  -2.29217765e-01  3.99704923e-01]\n",
      " [ 0.00000000e+00  1.24980982e-17  0.00000000e+00  0.00000000e+00\n",
      "   0.00000000e+00 -4.19903476e-17  0.00000000e+00  0.00000000e+00\n",
      "   8.11983580e-01 -1.31617289e-01]\n",
      " [ 0.00000000e+00  2.20518895e-17  0.00000000e+00  0.00000000e+00\n",
      "   0.00000000e+00 -9.72474222e-17  0.00000000e+00  0.00000000e+00\n",
      "   0.00000000e+00 -8.93260137e-01]]\n",
      "3.136380044566067e-17\n"
     ]
    }
   ],
   "source": [
    "M = np.random.rand(10, 10)\n",
    "P,L,U = permutedLUFactorizationWithPartialPivoting(M)\n",
    "print(P)\n",
    "print(L)\n",
    "print(U)\n",
    "print(np.mean(np.abs(P@M - L@U)))\n"
   ]
  },
  {
   "cell_type": "code",
   "execution_count": 110,
   "metadata": {},
   "outputs": [
    {
     "name": "stdout",
     "output_type": "stream",
     "text": [
      "[1 2 0]\n",
      "[[-0.33333333 -0.          0.        ]\n",
      " [ 0.          1.          0.        ]\n",
      " [ 0.5         0.          1.        ]]\n",
      "[[-2  0  1]\n",
      " [ 6 -6  7]\n",
      " [ 3 -5  0]]\n"
     ]
    }
   ],
   "source": [
    "M = np.matrix([[-2,2,-1], [6,-6,7], [3,-8, 4]])\n",
    "r,L,U = permutedLUFactorizationWithPartialPivoting(M)\n",
    "print(r)\n",
    "print(L)\n",
    "print(U)\n"
   ]
  },
  {
   "cell_type": "code",
   "execution_count": 111,
   "metadata": {
    "scrolled": true
   },
   "outputs": [
    {
     "data": {
      "text/plain": [
       "matrix([[ 0.66666667,  0.        , -0.33333333],\n",
       "        [ 6.        , -6.        ,  7.        ],\n",
       "        [ 2.        , -5.        ,  0.5       ]])"
      ]
     },
     "execution_count": 111,
     "metadata": {},
     "output_type": "execute_result"
    }
   ],
   "source": [
    "L@U"
   ]
  },
  {
   "cell_type": "code",
   "execution_count": 336,
   "metadata": {},
   "outputs": [],
   "source": [
    "def permutedLUFactorizationWithPartialPivoting(M):\n",
    "    # M is a n x n nonsingular matrix\n",
    "    n = M.shape[0]\n",
    "    L = np.zeros([n,n])\n",
    "    r = np.arange(n)\n",
    "    U = M.copy()\n",
    "\n",
    "    \n",
    "    for j in range(n): # Column Index\n",
    "        max_val = 0\n",
    "        previous_val = r[j]\n",
    "        for i in range(j, n):\n",
    "            current_val = abs(U[r[i],j])\n",
    "            if current_val >= max_val:\n",
    "                max_val = current_val\n",
    "                z = i\n",
    "        r[j] = z\n",
    "        r[z] = previous_val\n",
    "        print(f'Z: {z}')\n",
    "        print(f'j: {j}')\n",
    "        print(r)\n",
    "\n",
    "        # Set diagonal element as 1\n",
    "        L[r[j],j] = 1\n",
    "\n",
    "        \n",
    "        # Elimination step\n",
    "        for i in range(j + 1, n):\n",
    "            # Compute multiplier\n",
    "            l_ij = U[r[i],j] / U[r[j],j]\n",
    "            \n",
    "            # Store multiplier in L matrix\n",
    "            L[r[i], j] = l_ij\n",
    "            \n",
    "            # Perform row operations\n",
    "            U[r[i]] -= l_ij * U[r[j]]\n",
    "\n",
    "\n",
    "\n",
    "    print(U)\n",
    "    U_final = np.identity(n)\n",
    "    for i in range(n):\n",
    "        U_final[i] = U[r[i]]\n",
    "\n",
    "    L_final = np.identity(n)\n",
    "    for i in range(n):\n",
    "        L_final[i] = L[r[i]]\n",
    "\n",
    "    P = np.identity(n)\n",
    "    P_final = np.identity(n)\n",
    "    for i in range(n):\n",
    "        P_final[i] = P[r[i]]\n",
    "\n",
    "    \n",
    "\n",
    "    return P_final, L_final, U_final, r\n",
    "    \n",
    "        \n",
    "        \n",
    "    "
   ]
  },
  {
   "cell_type": "code",
   "execution_count": 17,
   "metadata": {},
   "outputs": [],
   "source": [
    "def permutedLUFactorizationWithPartialPivoting(M):\n",
    "    \"\"\"\n",
    "    This function performes permuted LU factorization with partial pivoting on a square nonsingular matrix.\n",
    "    This algorithm computes P, L, and U matrices such that P*M = L*U.\n",
    "    \n",
    "    Input:\n",
    "        M: n x n nonsingular matrix\n",
    "        \n",
    "    Outputs:\n",
    "        P_final: n x n permutation matrix\n",
    "        L_final: n x n unit lower triangular matrix\n",
    "        U_final: n x n upper triangular matrix\n",
    "        Po: Final pointer array/permutation vector for the row indices\n",
    "    \"\"\"\n",
    "    # Get the dimension of the input matrix M\n",
    "    n = M.shape[0]\n",
    "    \n",
    "    # Initialize L matrix as a matrix of zeros\n",
    "    L = np.zeros([n, n])\n",
    "    \n",
    "    # Initialize pointer array for the row indices [0, 1, 2, ..., n-1]\n",
    "    Po = np.arange(n)\n",
    "    \n",
    "    # Create a copy of M to avoid editing M directly\n",
    "    U = M.copy()\n",
    "    \n",
    "    # Main Loop through all the columns j in M\n",
    "    for j in range(n):\n",
    "        # Partial Pivoting Step \n",
    "        # Find the row with largest absolute value in column j (from rows j to n-1)\n",
    "        z = np.argmax(np.abs(U[Po[j:], j])) + j\n",
    "\n",
    "        # Swap the indices in the pointer array\n",
    "        index_1 = Po[j]  \n",
    "        index_2 = Po[z]\n",
    "\n",
    "        Po[z] = index_1\n",
    "        Po[j] = index_2\n",
    "         \n",
    "        # Set diagonal element of L to 1 since L is a unit lower triangular matrix\n",
    "        L[Po[j], j] = 1\n",
    "        \n",
    "        # Gaussian Elimination through all rows below the current pivot\n",
    "        for i in range(j + 1, n):\n",
    "            # Compute the multiplier \n",
    "            l_ij = U[Po[i], j] / U[Po[j], j]\n",
    "            \n",
    "            # Store the multiplier in the L matrix \n",
    "            L[Po[i], j] = l_ij\n",
    "            \n",
    "            # Perform type III elementary row operation to zero out the rows below the pivot\n",
    "            U[Po[i]] -= l_ij * U[Po[j]]\n",
    "    \n",
    "    # Final Matrix Construction: we use the pointer array Po to rearrange the rows \n",
    "    U_final = U[Po]\n",
    "    L_final = L[Po]\n",
    "    P = np.identity(n)\n",
    "    P_final = P[Po]\n",
    "    \n",
    "    return P_final, L_final, U_final, Po"
   ]
  },
  {
   "cell_type": "code",
   "execution_count": 18,
   "metadata": {
    "scrolled": true
   },
   "outputs": [
    {
     "name": "stdout",
     "output_type": "stream",
     "text": [
      "[[0. 1. 0.]\n",
      " [0. 0. 1.]\n",
      " [1. 0. 0.]]\n",
      "[[ 1.          0.          0.        ]\n",
      " [ 0.5         1.          0.        ]\n",
      " [-0.33333333 -0.          1.        ]]\n",
      "[[ 6.         -6.          7.        ]\n",
      " [ 0.         -5.          0.5       ]\n",
      " [ 0.          0.          1.33333333]]\n",
      "[1 2 0]\n",
      "\n",
      " PM =?= LU:  True\n"
     ]
    }
   ],
   "source": [
    "M = np.matrix([[-2,2,-1], [6,-6,7], [3,-8,4]], dtype = float)\n",
    "P,L,U,R = permutedLUFactorizationWithPartialPivoting(M)\n",
    "\n",
    "print(P)\n",
    "print(L)\n",
    "print(U)\n",
    "print(R)\n",
    "print(\"\\n PM =?= LU: \", np.allclose(P@M, L@U))"
   ]
  },
  {
   "cell_type": "code",
   "execution_count": 11,
   "metadata": {
    "scrolled": true
   },
   "outputs": [
    {
     "name": "stdout",
     "output_type": "stream",
     "text": [
      "[[0. 1. 0. 0. 0.]\n",
      " [0. 0. 1. 0. 0.]\n",
      " [0. 0. 0. 1. 0.]\n",
      " [1. 0. 0. 0. 0.]\n",
      " [0. 0. 0. 0. 1.]]\n",
      "[[ 1.          0.          0.          0.          0.        ]\n",
      " [ 0.5         1.          0.          0.          0.        ]\n",
      " [ 0.83333333 -0.4         1.          0.          0.        ]\n",
      " [-0.33333333 -0.         -0.36697248  1.          0.        ]\n",
      " [ 0.33333333  0.6        -0.10091743  0.04206242  1.        ]]\n",
      "[[ 6.         -6.          7.          8.          9.        ]\n",
      " [ 0.         -5.          0.5        -2.          0.5       ]\n",
      " [ 0.          0.         -3.63333333 -2.46666667 -4.3       ]\n",
      " [ 0.          0.          0.          6.76146789  4.42201835]\n",
      " [ 0.          0.          0.          0.         -2.91994573]]\n",
      "[1 2 3 0 4]\n",
      "\n",
      " PM =?= LU:  True\n"
     ]
    }
   ],
   "source": [
    "M = np.matrix([[-2,2,-1,5,3], [6,-6,7,8,9], [3,-8,4,2,5], [5,-3,2,5,3], [2,-5,3,2,1]], dtype = float)\n",
    "P,L,U,R = permutedLUFactorizationWithPartialPivoting(M)\n",
    "\n",
    "print(P)\n",
    "print(L)\n",
    "print(U)\n",
    "print(R)\n",
    "print(\"\\n PM =?= LU: \", np.allclose(P@M, L@U))"
   ]
  },
  {
   "cell_type": "code",
   "execution_count": 14,
   "metadata": {},
   "outputs": [
    {
     "name": "stdout",
     "output_type": "stream",
     "text": [
      "\n",
      " PM =?= LU:  True\n"
     ]
    }
   ],
   "source": [
    "\n",
    "M = np.random.rand(10, 10)\n",
    "M\n",
    "P,L,U,R = permutedLUFactorizationWithPartialPivoting(M)\n",
    "\n",
    "print(\"\\n PM =?= LU: \", np.allclose(P@M, L@U))"
   ]
  },
  {
   "cell_type": "code",
   "execution_count": 45,
   "metadata": {},
   "outputs": [
    {
     "name": "stdout",
     "output_type": "stream",
     "text": [
      "\n",
      " M = \n",
      "\n",
      " [[ 1.  2. -1.  0.]\n",
      " [ 2.  4. -2. -1.]\n",
      " [-3. -5.  6.  1.]\n",
      " [-1.  2.  8. -2.]] \n",
      "\n",
      " P = \n",
      "\n",
      " [[1. 0. 0. 0.]\n",
      " [0. 0. 1. 0.]\n",
      " [0. 0. 0. 1.]\n",
      " [0. 1. 0. 0.]] \n",
      "\n",
      " L = \n",
      "\n",
      " [[ 1.  0.  0.  0.]\n",
      " [-3.  1.  0.  0.]\n",
      " [-1.  4.  1.  0.]\n",
      " [ 2.  0. -0.  1.]] \n",
      "\n",
      " U = \n",
      "\n",
      " [[ 1.  2. -1.  0.]\n",
      " [ 0.  1.  3.  1.]\n",
      " [ 0.  0. -5. -6.]\n",
      " [ 0.  0.  0. -1.]]\n",
      "\n",
      " PM =?= LU:  True\n"
     ]
    }
   ],
   "source": [
    "# Permuted LU Factorization\n",
    "\n",
    "def permutedLUFactorization(M):\n",
    "    \"\"\"\n",
    "    M = n x n matrix non-singular matrix\n",
    "    \"\"\"\n",
    "    n = np.shape(M)[0]\n",
    "    I = np.identity(n)\n",
    "    P = np.identity(n)\n",
    "    U = M.copy() # To avoid changing the original matrix\n",
    "    L = np.identity(n)\n",
    "\n",
    "    for i in range(n - 1): # column index\n",
    "        if U[i, i] == 0: # Check if the pivot is zero\n",
    "            for j in range(i + 1, n): # find the row index that is nonzero\n",
    "                if U[j, i] != 0:\n",
    "                    Pci = np.copy(P[i])\n",
    "                    Pcj = np.copy(P[j])\n",
    "                    P[i] = Pcj\n",
    "                    P[j] = Pci\n",
    "                    Uci = np.copy(U[i])\n",
    "                    Ucj = np.copy(U[j])\n",
    "                    U[i] = Ucj                   \n",
    "                    U[j] = Uci\n",
    "                    Lci = np.copy(L[i])\n",
    "                    Lcj = np.copy(L[j])\n",
    "                    for k in range(i): \n",
    "                        #interchange values before the ith column as well\n",
    "                        L[i, k] = Lcj[k]\n",
    "                        L[j, k] = Lci[k]\n",
    "                    break\n",
    "        for j in range(i + 1, n): # Same as converting to upper triangular matrix\n",
    "            cij = U[j, i]/U[i, i]\n",
    "            U[j] = -cij*U[i] + U[j]\n",
    "            L[j, i] = cij      \n",
    "    \n",
    "    return [P, L, U]\n",
    "\n",
    "# Test Data\n",
    "\n",
    "M = np.array([[1, 2, -1, 0], [2, 4, -2, -1], [-3, -5, 6, 1], [-1, 2, 8, -2]], dtype=float)    \n",
    "P, L, U = permutedLUFactorization(M)\n",
    "\n",
    "print(\"\\n M = \\n\\n\", M, \"\\n\\n P = \\n\\n\", P, \"\\n\\n L = \\n\\n\", L, \"\\n\\n U = \\n\\n\", U)\n",
    "print(\"\\n PM =?= LU: \", np.allclose(P@M, L@U))"
   ]
  },
  {
   "cell_type": "code",
   "execution_count": null,
   "metadata": {},
   "outputs": [],
   "source": []
  },
  {
   "cell_type": "code",
   "execution_count": null,
   "metadata": {},
   "outputs": [],
   "source": []
  },
  {
   "cell_type": "code",
   "execution_count": null,
   "metadata": {},
   "outputs": [],
   "source": []
  },
  {
   "cell_type": "code",
   "execution_count": null,
   "metadata": {},
   "outputs": [],
   "source": []
  },
  {
   "cell_type": "code",
   "execution_count": null,
   "metadata": {},
   "outputs": [],
   "source": []
  }
 ],
 "metadata": {
  "kernelspec": {
   "display_name": "Python 3 (ipykernel)",
   "language": "python",
   "name": "python3"
  },
  "language_info": {
   "codemirror_mode": {
    "name": "ipython",
    "version": 3
   },
   "file_extension": ".py",
   "mimetype": "text/x-python",
   "name": "python",
   "nbconvert_exporter": "python",
   "pygments_lexer": "ipython3",
   "version": "3.10.7"
  }
 },
 "nbformat": 4,
 "nbformat_minor": 4
}
