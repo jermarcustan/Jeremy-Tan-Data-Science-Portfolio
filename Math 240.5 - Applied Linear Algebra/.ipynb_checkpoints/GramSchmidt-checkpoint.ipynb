{
 "cells": [
  {
   "cell_type": "code",
   "execution_count": 111,
   "metadata": {},
   "outputs": [],
   "source": [
    "# Needed Modules/Packages\n",
    "\n",
    "import numpy as np"
   ]
  },
  {
   "cell_type": "code",
   "execution_count": 118,
   "metadata": {},
   "outputs": [],
   "source": [
    "# Gram-Schmidt Orthonomrlization Process for R^n\n",
    "\n",
    "def GramSchmidt(M):\n",
    "    \"\"\"\n",
    "    M = n x n non-singular matrix\n",
    "    \"\"\"\n",
    "    n = M.shape[0]\n",
    "    W = M.copy()\n",
    "    Q = M.copy()\n",
    "    for j in range(n): \n",
    "        wj = M[:, j] - sum([(np.dot(M[:, j], W[:, k]) / np.dot(W[:, k], W[:, k]))*W[:, k] for k in range(j)])\n",
    "        uj = wj / np.linalg.norm(wj)\n",
    "        W[:, j] = wj\n",
    "        Q[:, j] = uj\n",
    "    return Q"
   ]
  },
  {
   "cell_type": "code",
   "execution_count": 119,
   "metadata": {},
   "outputs": [
    {
     "data": {
      "text/plain": [
       "array([[ 0.81649658, -0.21821789,  0.53452248],\n",
       "       [ 0.40824829,  0.87287156, -0.26726124],\n",
       "       [-0.40824829,  0.43643578,  0.80178373]])"
      ]
     },
     "execution_count": 119,
     "metadata": {},
     "output_type": "execute_result"
    }
   ],
   "source": [
    "# Test Data\n",
    "\n",
    "M = np.array([[2, 2, -1], [1, 4, 0], [-1, 0, 2]], dtype = \"float64\") \n",
    "\n",
    "GramSchmidt(M)"
   ]
  },
  {
   "cell_type": "code",
   "execution_count": null,
   "metadata": {},
   "outputs": [],
   "source": []
  }
 ],
 "metadata": {
  "kernelspec": {
   "display_name": "Python 3",
   "language": "python",
   "name": "python3"
  },
  "language_info": {
   "codemirror_mode": {
    "name": "ipython",
    "version": 3
   },
   "file_extension": ".py",
   "mimetype": "text/x-python",
   "name": "python",
   "nbconvert_exporter": "python",
   "pygments_lexer": "ipython3",
   "version": "3.11.9"
  }
 },
 "nbformat": 4,
 "nbformat_minor": 2
}
